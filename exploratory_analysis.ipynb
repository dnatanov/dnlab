{
 "cells": [
  {
   "cell_type": "markdown",
   "metadata": {},
   "source": [
    "### Things to do\n",
    "\n",
    "- Load data into npz files\n",
    "- Filter nonresponding electrodes\n",
    "- Analyze blocked and shuffled data in NCM and Field L\n",
    "- Analyze contrast data"
   ]
  },
  {
   "cell_type": "code",
   "execution_count": 1,
   "metadata": {},
   "outputs": [],
   "source": [
    "#imports\n",
    "import numpy as np\n",
    "import matplotlib.pylab as plt\n",
    "import pdb\n",
    "import mdlab as mdl\n",
    "import dnlab as dnl\n",
    "import pandas as pd\n",
    "import scipy\n",
    "import scipy.spatial as ssp\n",
    "import scipy.stats as sst\n",
    "import seaborn as sns\n",
    "from sklearn.neighbors import KNeighborsClassifier as knn\n",
    "from sklearn.neighbors import NearestNeighbors\n",
    "from sklearn.model_selection import train_test_split as split\n",
    "import matplotlib.patches as mpatches\n",
    "import statsmodels.api as sm\n",
    "from statsmodels.formula.api import ols"
   ]
  },
  {
   "cell_type": "code",
   "execution_count": 2,
   "metadata": {},
   "outputs": [],
   "source": [
    "header, spikes = mdl.load_npz_data(\"D:\\\\2019_Human_Speech\\\\ncm\\\\blocked\\\\hv_blocked.npz\", False)\n",
    "block = mdl.SpikeData(header, spikes)\n",
    "mua_block=block.mua_or_sua(\"mua\")\n",
    "sep_mua_block = dnl.separate_npz_data(mua_block)"
   ]
  },
  {
   "cell_type": "code",
   "execution_count": 3,
   "metadata": {},
   "outputs": [],
   "source": [
    "split_block = dnl.separate_npz_data(block)"
   ]
  },
  {
   "cell_type": "code",
   "execution_count": 46,
   "metadata": {},
   "outputs": [],
   "source": [
    "uno = sep_mua_block[0]"
   ]
  },
  {
   "cell_type": "code",
   "execution_count": 84,
   "metadata": {},
   "outputs": [
    {
     "data": {
      "text/plain": [
       "(320L, 12000L)"
      ]
     },
     "execution_count": 84,
     "metadata": {},
     "output_type": "execute_result"
    }
   ],
   "source": [
    "test.spikes.shape"
   ]
  },
  {
   "cell_type": "code",
   "execution_count": 66,
   "metadata": {},
   "outputs": [],
   "source": [
    "test = sep_mua_block[0].get_kw_SpikeData(electrode = 1100)\n",
    "test2 = sep_mua_block[0].get_kw_SpikeData(electrode = 1200)"
   ]
  },
  {
   "cell_type": "code",
   "execution_count": 49,
   "metadata": {},
   "outputs": [],
   "source": [
    "abso, logi = uno.get_index(electrode = 1100)"
   ]
  },
  {
   "cell_type": "code",
   "execution_count": 50,
   "metadata": {},
   "outputs": [],
   "source": [
    "a = uno.get_idx_SpikeData(abso, logi)"
   ]
  },
  {
   "cell_type": "code",
   "execution_count": 53,
   "metadata": {},
   "outputs": [
    {
     "ename": "NameError",
     "evalue": "name 'electrode' is not defined",
     "output_type": "error",
     "traceback": [
      "\u001b[1;31m\u001b[0m",
      "\u001b[1;31mNameError\u001b[0mTraceback (most recent call last)",
      "\u001b[1;32m<ipython-input-53-f63dc9889c14>\u001b[0m in \u001b[0;36m<module>\u001b[1;34m()\u001b[0m\n\u001b[1;32m----> 1\u001b[1;33m \u001b[0mtest\u001b[0m\u001b[1;33m.\u001b[0m\u001b[0mget_kw_SpikeData\u001b[0m\u001b[1;33m(\u001b[0m\u001b[1;33m{\u001b[0m\u001b[0melectrode\u001b[0m\u001b[1;33m:\u001b[0m\u001b[1;36m1100\u001b[0m\u001b[1;33m}\u001b[0m\u001b[1;33m)\u001b[0m\u001b[1;33m\u001b[0m\u001b[0m\n\u001b[0m",
      "\u001b[1;31mNameError\u001b[0m: name 'electrode' is not defined"
     ]
    }
   ],
   "source": [
    "test.get_kw_SpikeData({electrode:1100})"
   ]
  },
  {
   "cell_type": "code",
   "execution_count": 112,
   "metadata": {},
   "outputs": [
    {
     "data": {
      "text/plain": [
       "(640L, 12000L)"
      ]
     },
     "execution_count": 112,
     "metadata": {},
     "output_type": "execute_result"
    }
   ],
   "source": [
    "spikes = []\n",
    "header = pd.DataFrame()\n",
    "spikes.append(test.spikes)\n",
    "spikes.append(test2.spikes)\n",
    "header=header.append(test.header)\n",
    "header=header.append(test2.header)\n",
    "a=mdl.SpikeData(header, spikes)\n",
    "np.vstack(spikes).shape"
   ]
  },
  {
   "cell_type": "code",
   "execution_count": 26,
   "metadata": {},
   "outputs": [],
   "source": [
    "# loop through spike data\n",
    "# loop through electrodes\n",
    "# check if electrode is responding\n",
    "# if responding, add header and spike\n",
    "# combine at the end\n",
    "def res_filter(split_data, p_value= 0.05):\n",
    "    res_header = pd.DataFrame()\n",
    "    res_spikes = []\n",
    "    res_split_data = []\n",
    "    for spike_data in split_data:\n",
    "        for ele in spike_data.electrodes:\n",
    "            ele_spike_data = spike_data.get_kw_SpikeData(electrode=ele)\n",
    "            respond = ele_spike_data.res_check()\n",
    "            try:\n",
    "                if respond[\"res\"][0] < 0.05:\n",
    "                    res_spikes.append(ele_spike_data.spikes)\n",
    "                    res_header = res_header.append(ele_spike_data.header)\n",
    "            except:\n",
    "                pdb.set_trace()\n",
    "    \n",
    "                #absidx, logidx = spike_data.get_index(electrode=ele)\n",
    "                \n",
    "                #res_logidx = np.hstack((res_logidx, logidx))\n",
    "                #res_absidx = np.hstack((res_absidx, absidx))\n",
    "                #pdb.set_trace()\n",
    "                #print ele\n",
    "                #print res_logidx.shape\n",
    "        #return res_logidx\n",
    "        res_spikes = np.vstack(res_spikes).tolist()\n",
    "        #return res_header\n",
    "        new_spike_data = mdl.SpikeData(res_header, np.asarray(res_spikes))\n",
    "        res_split_data.append(new_spike_data)\n",
    "    return res_split_data\n",
    "        \n",
    "    \n"
   ]
  },
  {
   "cell_type": "code",
   "execution_count": 9,
   "metadata": {},
   "outputs": [],
   "source": [
    "pls = res_filter(sep_mua_block)"
   ]
  },
  {
   "cell_type": "code",
   "execution_count": 25,
   "metadata": {},
   "outputs": [
    {
     "ename": "AttributeError",
     "evalue": "'list' object has no attribute 'shape'",
     "output_type": "error",
     "traceback": [
      "\u001b[1;31m\u001b[0m",
      "\u001b[1;31mAttributeError\u001b[0mTraceback (most recent call last)",
      "\u001b[1;32m<ipython-input-25-b484ef3fc7e4>\u001b[0m in \u001b[0;36m<module>\u001b[1;34m()\u001b[0m\n\u001b[1;32m----> 1\u001b[1;33m \u001b[0mpls\u001b[0m\u001b[1;33m[\u001b[0m\u001b[1;36m1\u001b[0m\u001b[1;33m]\u001b[0m\u001b[1;33m.\u001b[0m\u001b[0mspikes\u001b[0m\u001b[1;33m.\u001b[0m\u001b[0mshape\u001b[0m\u001b[1;33m\u001b[0m\u001b[0m\n\u001b[0m",
      "\u001b[1;31mAttributeError\u001b[0m: 'list' object has no attribute 'shape'"
     ]
    }
   ],
   "source": [
    "pls[1].spikes.shape"
   ]
  },
  {
   "cell_type": "code",
   "execution_count": null,
   "metadata": {},
   "outputs": [],
   "source": [
    "header, spikes = mdl.load_npz_data(\"D:\\\\2019_Human_Speech\\\\ncm\\\\blocked\\\\hv_blocked.npz\", False)"
   ]
  },
  {
   "cell_type": "code",
   "execution_count": null,
   "metadata": {},
   "outputs": [],
   "source": [
    "block = mdl.SpikeData(header, spikes)"
   ]
  },
  {
   "cell_type": "code",
   "execution_count": 158,
   "metadata": {},
   "outputs": [],
   "source": [
    "mua_block=block.mua_or_sua(\"mua\")"
   ]
  },
  {
   "cell_type": "code",
   "execution_count": 162,
   "metadata": {},
   "outputs": [],
   "source": [
    "sep_mua_block = dnl.separate_npz_data(mua_block)"
   ]
  },
  {
   "cell_type": "code",
   "execution_count": 33,
   "metadata": {},
   "outputs": [
    {
     "ename": "ValueError",
     "evalue": "need more than 2 values to unpack",
     "output_type": "error",
     "traceback": [
      "\u001b[1;31m\u001b[0m",
      "\u001b[1;31mValueError\u001b[0mTraceback (most recent call last)",
      "\u001b[1;32m<ipython-input-33-2fadda84a427>\u001b[0m in \u001b[0;36m<module>\u001b[1;34m()\u001b[0m\n\u001b[1;32m----> 1\u001b[1;33m \u001b[0mmdl\u001b[0m\u001b[1;33m.\u001b[0m\u001b[0mload_NpzData2SpikeData\u001b[0m\u001b[1;33m(\u001b[0m\u001b[1;34m\"D:\\\\2019_Human_Speech\\\\ncm\\\\blocked\\\\hv_blocked.npz\"\u001b[0m\u001b[1;33m,\u001b[0m \u001b[0mconvert_birdid\u001b[0m\u001b[1;33m=\u001b[0m \u001b[0mFalse\u001b[0m\u001b[1;33m)\u001b[0m\u001b[1;33m\u001b[0m\u001b[0m\n\u001b[0m",
      "\u001b[1;32mC:\\Users\\Vicario_lab\\Documents\\dnlab-master\\mdlab.py\u001b[0m in \u001b[0;36mload_NpzData2SpikeData\u001b[1;34m(filename, convert_birdid)\u001b[0m\n\u001b[0;32m   1525\u001b[0m     \u001b[1;33m:\u001b[0m\u001b[1;32mreturn\u001b[0m\u001b[1;33m:\u001b[0m\u001b[1;33m\u001b[0m\u001b[0m\n\u001b[0;32m   1526\u001b[0m     \"\"\"\n\u001b[1;32m-> 1527\u001b[1;33m     \u001b[0mheader\u001b[0m\u001b[1;33m,\u001b[0m \u001b[0mspikes\u001b[0m\u001b[1;33m,\u001b[0m \u001b[0mstim_dict\u001b[0m \u001b[1;33m=\u001b[0m \u001b[0mload_npz_data\u001b[0m\u001b[1;33m(\u001b[0m\u001b[0mfilename\u001b[0m\u001b[1;33m,\u001b[0m \u001b[0mconvert_birdid\u001b[0m\u001b[1;33m=\u001b[0m\u001b[0mconvert_birdid\u001b[0m\u001b[1;33m)\u001b[0m\u001b[1;33m\u001b[0m\u001b[0m\n\u001b[0m\u001b[0;32m   1528\u001b[0m     \u001b[1;32mif\u001b[0m \u001b[0mstim_dict\u001b[0m \u001b[1;32mis\u001b[0m \u001b[1;32mnot\u001b[0m \u001b[0mNone\u001b[0m\u001b[1;33m:\u001b[0m\u001b[1;33m\u001b[0m\u001b[0m\n\u001b[0;32m   1529\u001b[0m         \u001b[1;32mreturn\u001b[0m \u001b[0mSpikeData\u001b[0m\u001b[1;33m(\u001b[0m\u001b[0mheader\u001b[0m\u001b[1;33m,\u001b[0m \u001b[0mspikes\u001b[0m\u001b[1;33m,\u001b[0m \u001b[0mstim_dict\u001b[0m\u001b[1;33m)\u001b[0m\u001b[1;33m\u001b[0m\u001b[0m\n",
      "\u001b[1;31mValueError\u001b[0m: need more than 2 values to unpack"
     ]
    }
   ],
   "source": [
    "block = mdl.load_NpzData2SpikeData(\"D:\\\\2019_Human_Speech\\\\ncm\\\\blocked\\\\hv_blocked.npz\", convert_birdid= False)"
   ]
  },
  {
   "cell_type": "code",
   "execution_count": 38,
   "metadata": {},
   "outputs": [
    {
     "name": "stdout",
     "output_type": "stream",
     "text": [
      "['David', 'is', 'not?', 'cool']\n",
      "Fail\n",
      "['David', 'is', 'not?', 'cool']\n",
      "Fail\n",
      "['David', 'is', 'not?', 'cool']\n",
      "(           birdid  electrode  trial  stim  starting_time  ending_time  \\\n",
      "0       6676008.0        900      1     1       1.252152     1.701653   \n",
      "1       6676008.0        900      2     1       6.252212     6.701713   \n",
      "2       6676008.0        900      3     1      11.252272    11.701773   \n",
      "3       6676008.0        900      4     1      16.252332    16.701833   \n",
      "4       6676008.0        900      5     1      21.252392    21.701894   \n",
      "5       6676008.0        900      6     1      26.252452    26.701953   \n",
      "6       6676008.0        900      7     1      31.252512    31.702013   \n",
      "7       6676008.0        900      8     1      36.252572    36.702073   \n",
      "8       6676008.0        900      9     1      41.252632    41.702133   \n",
      "9       6676008.0        900     10     1      46.252692    46.702193   \n",
      "10      6676008.0        900     11     1      51.252752    51.702253   \n",
      "11      6676008.0        900     12     1      56.252812    56.702313   \n",
      "12      6676008.0        900     13     1      61.252875    61.702376   \n",
      "13      6676008.0        900     14     1      66.252933    66.702433   \n",
      "14      6676008.0        900     15     1      71.252992    71.702493   \n",
      "15      6676008.0        900     16     1      76.253052    76.702553   \n",
      "16      6676008.0        900     17     1      81.253112    81.702613   \n",
      "17      6676008.0        900     18     1      86.253172    86.702673   \n",
      "18      6676008.0        900     19     1      91.253232    91.702733   \n",
      "19      6676008.0        900     20     1      96.253292    96.702793   \n",
      "20      6676008.0        900     21     1     101.253352   101.702853   \n",
      "21      6676008.0        900     22     1     106.253412   106.702913   \n",
      "22      6676008.0        900     23     1     111.253472   111.702973   \n",
      "23      6676008.0        900     24     1     116.253532   116.703033   \n",
      "24      6676008.0        900     25     1     121.253592   121.703093   \n",
      "25      6676008.0        900     26     1     126.253652   126.703153   \n",
      "26      6676008.0        900     27     1     131.253712   131.703213   \n",
      "27      6676008.0        900     28     1     136.253772   136.703273   \n",
      "28      6676008.0        900     29     1     141.253832   141.703333   \n",
      "29      6676008.0        900     30     1     146.253892   146.703393   \n",
      "...           ...        ...    ...   ...            ...          ...   \n",
      "159934  8075121.0       2404    291     5    1453.482495  1453.938187   \n",
      "159935  8075121.0       2404    292     5    1458.482612  1458.938304   \n",
      "159936  8075121.0       2404    293     5    1463.482730  1463.938422   \n",
      "159937  8075121.0       2404    294     5    1468.482847  1468.938539   \n",
      "159938  8075121.0       2404    295     5    1473.482967  1473.938659   \n",
      "159939  8075121.0       2404    296     5    1478.483085  1478.938777   \n",
      "159940  8075121.0       2404    297     5    1483.483202  1483.938894   \n",
      "159941  8075121.0       2404    298     5    1488.483320  1488.939012   \n",
      "159942  8075121.0       2404    299     5    1493.483440  1493.939132   \n",
      "159943  8075121.0       2404    300     5    1498.483557  1498.939249   \n",
      "159944  8075121.0       2404    301     5    1503.483675  1503.939367   \n",
      "159945  8075121.0       2404    302     5    1508.483795  1508.939487   \n",
      "159946  8075121.0       2404    303     5    1513.483912  1513.939604   \n",
      "159947  8075121.0       2404    304     5    1518.484030  1518.939722   \n",
      "159948  8075121.0       2404    305     5    1523.484147  1523.939839   \n",
      "159949  8075121.0       2404    306     5    1528.484267  1528.939959   \n",
      "159950  8075121.0       2404    307     5    1533.484385  1533.940077   \n",
      "159951  8075121.0       2404    308     5    1538.484502  1538.940194   \n",
      "159952  8075121.0       2404    309     5    1543.484622  1543.940314   \n",
      "159953  8075121.0       2404    310     5    1548.484740  1548.940432   \n",
      "159954  8075121.0       2404    311     5    1553.484857  1553.940549   \n",
      "159955  8075121.0       2404    312     5    1558.484975  1558.940667   \n",
      "159956  8075121.0       2404    313     5    1563.485095  1563.940787   \n",
      "159957  8075121.0       2404    314     5    1568.485212  1568.940904   \n",
      "159958  8075121.0       2404    315     5    1573.485330  1573.941022   \n",
      "159959  8075121.0       2404    316     5    1578.485450  1578.941142   \n",
      "159960  8075121.0       2404    317     5    1583.485567  1583.941259   \n",
      "159961  8075121.0       2404    318     5    1588.485685  1588.941377   \n",
      "159962  8075121.0       2404    319     5    1593.485802  1593.941494   \n",
      "159963  8075121.0       2404    320     5    1598.485922  1598.941614   \n",
      "\n",
      "        pre_stim  after_stim  resolution                         filename  \n",
      "0            2.0    4.000060      0.0005  matrix_BL008__blocked_bird_.mat  \n",
      "1            2.0    4.000060      0.0005  matrix_BL008__blocked_bird_.mat  \n",
      "2            2.0    4.000060      0.0005  matrix_BL008__blocked_bird_.mat  \n",
      "3            2.0    4.000060      0.0005  matrix_BL008__blocked_bird_.mat  \n",
      "4            2.0    4.000060      0.0005  matrix_BL008__blocked_bird_.mat  \n",
      "5            2.0    4.000060      0.0005  matrix_BL008__blocked_bird_.mat  \n",
      "6            2.0    4.000060      0.0005  matrix_BL008__blocked_bird_.mat  \n",
      "7            2.0    4.000060      0.0005  matrix_BL008__blocked_bird_.mat  \n",
      "8            2.0    4.000060      0.0005  matrix_BL008__blocked_bird_.mat  \n",
      "9            2.0    4.000060      0.0005  matrix_BL008__blocked_bird_.mat  \n",
      "10           2.0    4.000060      0.0005  matrix_BL008__blocked_bird_.mat  \n",
      "11           2.0    4.000060      0.0005  matrix_BL008__blocked_bird_.mat  \n",
      "12           2.0    4.000060      0.0005  matrix_BL008__blocked_bird_.mat  \n",
      "13           2.0    4.000060      0.0005  matrix_BL008__blocked_bird_.mat  \n",
      "14           2.0    4.000060      0.0005  matrix_BL008__blocked_bird_.mat  \n",
      "15           2.0    4.000060      0.0005  matrix_BL008__blocked_bird_.mat  \n",
      "16           2.0    4.000060      0.0005  matrix_BL008__blocked_bird_.mat  \n",
      "17           2.0    4.000060      0.0005  matrix_BL008__blocked_bird_.mat  \n",
      "18           2.0    4.000060      0.0005  matrix_BL008__blocked_bird_.mat  \n",
      "19           2.0    4.000060      0.0005  matrix_BL008__blocked_bird_.mat  \n",
      "20           2.0    4.000060      0.0005  matrix_BL008__blocked_bird_.mat  \n",
      "21           2.0    4.000060      0.0005  matrix_BL008__blocked_bird_.mat  \n",
      "22           2.0    4.000060      0.0005  matrix_BL008__blocked_bird_.mat  \n",
      "23           2.0    4.000060      0.0005  matrix_BL008__blocked_bird_.mat  \n",
      "24           2.0    4.000060      0.0005  matrix_BL008__blocked_bird_.mat  \n",
      "25           2.0    4.000060      0.0005  matrix_BL008__blocked_bird_.mat  \n",
      "26           2.0    4.000060      0.0005  matrix_BL008__blocked_bird_.mat  \n",
      "27           2.0    4.000060      0.0005  matrix_BL008__blocked_bird_.mat  \n",
      "28           2.0    4.000060      0.0005  matrix_BL008__blocked_bird_.mat  \n",
      "29           2.0    4.000060      0.0005  matrix_BL008__blocked_bird_.mat  \n",
      "...          ...         ...         ...                              ...  \n",
      "159934       2.0    4.000118      0.0005   matrix_PK121__blocked_yes_.mat  \n",
      "159935       2.0    4.000118      0.0005   matrix_PK121__blocked_yes_.mat  \n",
      "159936       2.0    4.000118      0.0005   matrix_PK121__blocked_yes_.mat  \n",
      "159937       2.0    4.000118      0.0005   matrix_PK121__blocked_yes_.mat  \n",
      "159938       2.0    4.000118      0.0005   matrix_PK121__blocked_yes_.mat  \n",
      "159939       2.0    4.000118      0.0005   matrix_PK121__blocked_yes_.mat  \n",
      "159940       2.0    4.000118      0.0005   matrix_PK121__blocked_yes_.mat  \n",
      "159941       2.0    4.000118      0.0005   matrix_PK121__blocked_yes_.mat  \n",
      "159942       2.0    4.000118      0.0005   matrix_PK121__blocked_yes_.mat  \n",
      "159943       2.0    4.000118      0.0005   matrix_PK121__blocked_yes_.mat  \n",
      "159944       2.0    4.000118      0.0005   matrix_PK121__blocked_yes_.mat  \n",
      "159945       2.0    4.000118      0.0005   matrix_PK121__blocked_yes_.mat  \n",
      "159946       2.0    4.000118      0.0005   matrix_PK121__blocked_yes_.mat  \n",
      "159947       2.0    4.000118      0.0005   matrix_PK121__blocked_yes_.mat  \n",
      "159948       2.0    4.000118      0.0005   matrix_PK121__blocked_yes_.mat  \n",
      "159949       2.0    4.000118      0.0005   matrix_PK121__blocked_yes_.mat  \n",
      "159950       2.0    4.000118      0.0005   matrix_PK121__blocked_yes_.mat  \n",
      "159951       2.0    4.000118      0.0005   matrix_PK121__blocked_yes_.mat  \n",
      "159952       2.0    4.000118      0.0005   matrix_PK121__blocked_yes_.mat  \n",
      "159953       2.0    4.000118      0.0005   matrix_PK121__blocked_yes_.mat  \n",
      "159954       2.0    4.000118      0.0005   matrix_PK121__blocked_yes_.mat  \n",
      "159955       2.0    4.000118      0.0005   matrix_PK121__blocked_yes_.mat  \n",
      "159956       2.0    4.000118      0.0005   matrix_PK121__blocked_yes_.mat  \n",
      "159957       2.0    4.000118      0.0005   matrix_PK121__blocked_yes_.mat  \n",
      "159958       2.0    4.000118      0.0005   matrix_PK121__blocked_yes_.mat  \n",
      "159959       2.0    4.000118      0.0005   matrix_PK121__blocked_yes_.mat  \n",
      "159960       2.0    4.000118      0.0005   matrix_PK121__blocked_yes_.mat  \n",
      "159961       2.0    4.000118      0.0005   matrix_PK121__blocked_yes_.mat  \n",
      "159962       2.0    4.000118      0.0005   matrix_PK121__blocked_yes_.mat  \n",
      "159963       2.0    4.000118      0.0005   matrix_PK121__blocked_yes_.mat  \n",
      "\n",
      "[159964 rows x 10 columns], array([[False, False, False, ..., False, False, False],\n",
      "       [False, False, False, ..., False, False, False],\n",
      "       [False, False, False, ..., False, False, False],\n",
      "       ...,\n",
      "       [False, False, False, ..., False, False, False],\n",
      "       [False, False, False, ..., False, False, False],\n",
      "       [False, False, False, ..., False, False, False]]))\n",
      "['David', 'is', 'not?', 'cool']\n",
      "Fail\n"
     ]
    }
   ],
   "source": [
    "theWord = ['David', 'is', 'not?', 'cool']\n",
    "Fail = \"Fail\"\n",
    "\n",
    "for x in theWord:\n",
    "    print(theWord)\n",
    "    if x == 'not?':\n",
    "        block = mdl.load_npz_data(\"D:\\\\2019_Human_Speech\\\\ncm\\\\blocked\\\\hv_blocked.npz\", convert_birdid= False)\n",
    "        print(block)\n",
    "    else:\n",
    "        print(Fail)\n",
    "        \n",
    "        "
   ]
  },
  {
   "cell_type": "code",
   "execution_count": null,
   "metadata": {},
   "outputs": [],
   "source": []
  }
 ],
 "metadata": {
  "kernelspec": {
   "display_name": "Python 2",
   "language": "python",
   "name": "python2"
  },
  "language_info": {
   "codemirror_mode": {
    "name": "ipython",
    "version": 2
   },
   "file_extension": ".py",
   "mimetype": "text/x-python",
   "name": "python",
   "nbconvert_exporter": "python",
   "pygments_lexer": "ipython2",
   "version": "2.7.16"
  }
 },
 "nbformat": 4,
 "nbformat_minor": 2
}
