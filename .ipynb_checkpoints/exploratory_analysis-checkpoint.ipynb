{
 "cells": [
  {
   "cell_type": "markdown",
   "metadata": {},
   "source": [
    "### Things to do\n",
    "\n",
    "- ?\n",
    "    - Official adaptation rate method\n",
    "    - Hemisphere\n",
    "    - Bin length is +.1 or *.1\n",
    "- Analyze blocked and shuffled data in NCM and Field L\n",
    "    - Check if there is a difference between NCM and Field L\n",
    "    - Determine if there is a loss of decoding accuracy accross stimulus repetition\n",
    "    - Hemispheric differences?\n",
    "    - Analyze single unit data in a similar fashion\n",
    "    - Figure out why part of shuffled data appears to be corrupted\n",
    "   \n",
    "- Analyze contrast data\n",
    "    - Compare decoding accuracy between first and second half of presentations"
   ]
  },
  {
   "cell_type": "code",
   "execution_count": 53,
   "metadata": {},
   "outputs": [],
   "source": [
    "import mdlab as mdl\n",
    "import dnlab as dnl\n",
    "import numpy as np\n",
    "import matplotlib.pylab as plt\n",
    "import seaborn as sns\n",
    "import scipy.stats as sst\n",
    "import pandas as pd\n",
    "import pdb"
   ]
  },
  {
   "cell_type": "code",
   "execution_count": 2,
   "metadata": {},
   "outputs": [],
   "source": [
    "frcc=mdl.FRCC()\n",
    "trailing_type = frcc.trailing_type\n",
    "trailing_param = frcc.get_trailing_param(trailing_type)\n",
    "stats_test = frcc.stats_test"
   ]
  },
  {
   "cell_type": "code",
   "execution_count": 47,
   "metadata": {},
   "outputs": [],
   "source": [
    "fn = mdl.get_pathname()"
   ]
  },
  {
   "cell_type": "code",
   "execution_count": null,
   "metadata": {},
   "outputs": [],
   "source": [
    "fn2 = mdl.get_pathname()"
   ]
  },
  {
   "cell_type": "code",
   "execution_count": null,
   "metadata": {},
   "outputs": [],
   "source": [
    "mdl.batch_mat2npz(\"hv_l_blocked.npz\")"
   ]
  },
  {
   "cell_type": "code",
   "execution_count": 4,
   "metadata": {},
   "outputs": [],
   "source": [
    "fn = mdl.get_pathname()\n",
    "header, spikes = mdl.load_npz_data(fn, False)\n",
    "ncm_block = mdl.SpikeData(header, spikes)\n",
    "ncm_mua_block=ncm_block.mua_or_sua(\"mua\")\n",
    "ncm_sep_mua_block = dnl.separate_npz_data(ncm_mua_block)\n",
    "res_ncm_block = dnl.res_filter(ncm_sep_mua_block)"
   ]
  },
  {
   "cell_type": "code",
   "execution_count": 5,
   "metadata": {},
   "outputs": [],
   "source": [
    "contrast = res_ncm_block"
   ]
  },
  {
   "cell_type": "code",
   "execution_count": 5,
   "metadata": {},
   "outputs": [
    {
     "ename": "NameError",
     "evalue": "name 'fn2' is not defined",
     "output_type": "error",
     "traceback": [
      "\u001b[1;31m\u001b[0m",
      "\u001b[1;31mNameError\u001b[0mTraceback (most recent call last)",
      "\u001b[1;32m<ipython-input-5-5d65c8fd70ee>\u001b[0m in \u001b[0;36m<module>\u001b[1;34m()\u001b[0m\n\u001b[1;32m----> 1\u001b[1;33m \u001b[0mheader\u001b[0m\u001b[1;33m,\u001b[0m \u001b[0mspikes\u001b[0m \u001b[1;33m=\u001b[0m \u001b[0mmdl\u001b[0m\u001b[1;33m.\u001b[0m\u001b[0mload_npz_data\u001b[0m\u001b[1;33m(\u001b[0m\u001b[0mfn2\u001b[0m\u001b[1;33m,\u001b[0m \u001b[0mFalse\u001b[0m\u001b[1;33m)\u001b[0m\u001b[1;33m\u001b[0m\u001b[0m\n\u001b[0m\u001b[0;32m      2\u001b[0m \u001b[0ml_block\u001b[0m \u001b[1;33m=\u001b[0m \u001b[0mmdl\u001b[0m\u001b[1;33m.\u001b[0m\u001b[0mSpikeData\u001b[0m\u001b[1;33m(\u001b[0m\u001b[0mheader\u001b[0m\u001b[1;33m,\u001b[0m \u001b[0mspikes\u001b[0m\u001b[1;33m)\u001b[0m\u001b[1;33m\u001b[0m\u001b[0m\n\u001b[0;32m      3\u001b[0m \u001b[0ml_mua_block\u001b[0m\u001b[1;33m=\u001b[0m\u001b[0ml_block\u001b[0m\u001b[1;33m.\u001b[0m\u001b[0mmua_or_sua\u001b[0m\u001b[1;33m(\u001b[0m\u001b[1;34m\"mua\"\u001b[0m\u001b[1;33m)\u001b[0m\u001b[1;33m\u001b[0m\u001b[0m\n\u001b[0;32m      4\u001b[0m \u001b[0ml_sep_mua_block\u001b[0m \u001b[1;33m=\u001b[0m \u001b[0mdnl\u001b[0m\u001b[1;33m.\u001b[0m\u001b[0mseparate_npz_data\u001b[0m\u001b[1;33m(\u001b[0m\u001b[0ml_mua_block\u001b[0m\u001b[1;33m)\u001b[0m\u001b[1;33m\u001b[0m\u001b[0m\n\u001b[0;32m      5\u001b[0m \u001b[0mres_l_block\u001b[0m \u001b[1;33m=\u001b[0m \u001b[0mdnl\u001b[0m\u001b[1;33m.\u001b[0m\u001b[0mres_filter\u001b[0m\u001b[1;33m(\u001b[0m\u001b[0mncm_sep_mua_block\u001b[0m\u001b[1;33m)\u001b[0m\u001b[1;33m\u001b[0m\u001b[0m\n",
      "\u001b[1;31mNameError\u001b[0m: name 'fn2' is not defined"
     ]
    }
   ],
   "source": [
    "header, spikes = mdl.load_npz_data(fn2, False)\n",
    "l_block = mdl.SpikeData(header, spikes)\n",
    "l_mua_block=l_block.mua_or_sua(\"mua\")\n",
    "l_sep_mua_block = dnl.separate_npz_data(l_mua_block)\n",
    "res_l_block = dnl.res_filter(ncm_sep_mua_block)"
   ]
  },
  {
   "cell_type": "code",
   "execution_count": null,
   "metadata": {},
   "outputs": [],
   "source": [
    "ncm_df = dnl.batch_decoding_accuracy(res_ncm_block)"
   ]
  },
  {
   "cell_type": "code",
   "execution_count": null,
   "metadata": {},
   "outputs": [],
   "source": [
    "n =0\n",
    "for ele in ncm_sep_mua_block[n].electrodes:\n",
    "    ele_data = ncm_sep_mua_block[n].get_kw_SpikeData(electrode = ele)\n",
    "    print mdl.birdid2str(ele_data.birdid[0])\n",
    "    print ele\n",
    "    if ele in res_ncm_block[n].electrodes:\n",
    "        print \"Responding\"\n",
    "    else:\n",
    "        print \"Not Responding\"\n",
    "    mdl.raster_plot(ele_data.spikes)\n",
    "    plt.show()"
   ]
  },
  {
   "cell_type": "code",
   "execution_count": null,
   "metadata": {},
   "outputs": [],
   "source": [
    "header, spikes = mdl.load_npz_data('/Users/david/Documents/blocked.npz', False)\n",
    "block = mdl.SpikeData(header, spikes)\n",
    "#mua_block=block.mua_or_sua(\"mua\")\n",
    "sep_mua_block = dnl.separate_npz_data(block)"
   ]
  },
  {
   "cell_type": "code",
   "execution_count": 12,
   "metadata": {},
   "outputs": [
    {
     "ename": "NameError",
     "evalue": "name 'sep_mua_block' is not defined",
     "output_type": "error",
     "traceback": [
      "\u001b[1;31m\u001b[0m",
      "\u001b[1;31mNameError\u001b[0mTraceback (most recent call last)",
      "\u001b[1;32m<ipython-input-12-420747b7a768>\u001b[0m in \u001b[0;36m<module>\u001b[1;34m()\u001b[0m\n\u001b[0;32m      1\u001b[0m \u001b[0mn\u001b[0m \u001b[1;33m=\u001b[0m\u001b[1;36m0\u001b[0m\u001b[1;33m\u001b[0m\u001b[0m\n\u001b[1;32m----> 2\u001b[1;33m \u001b[1;32mfor\u001b[0m \u001b[0mele\u001b[0m \u001b[1;32min\u001b[0m \u001b[0msep_mua_block\u001b[0m\u001b[1;33m[\u001b[0m\u001b[0mn\u001b[0m\u001b[1;33m]\u001b[0m\u001b[1;33m.\u001b[0m\u001b[0melectrodes\u001b[0m\u001b[1;33m:\u001b[0m\u001b[1;33m\u001b[0m\u001b[0m\n\u001b[0m\u001b[0;32m      3\u001b[0m     \u001b[0mele_data\u001b[0m \u001b[1;33m=\u001b[0m \u001b[0msep_mua_block\u001b[0m\u001b[1;33m[\u001b[0m\u001b[0mn\u001b[0m\u001b[1;33m]\u001b[0m\u001b[1;33m.\u001b[0m\u001b[0mget_kw_SpikeData\u001b[0m\u001b[1;33m(\u001b[0m\u001b[0melectrode\u001b[0m \u001b[1;33m=\u001b[0m \u001b[0mele\u001b[0m\u001b[1;33m)\u001b[0m\u001b[1;33m\u001b[0m\u001b[0m\n\u001b[0;32m      4\u001b[0m     \u001b[1;32mprint\u001b[0m \u001b[0mmdl\u001b[0m\u001b[1;33m.\u001b[0m\u001b[0mbirdid2str\u001b[0m\u001b[1;33m(\u001b[0m\u001b[0mele_data\u001b[0m\u001b[1;33m.\u001b[0m\u001b[0mbirdid\u001b[0m\u001b[1;33m[\u001b[0m\u001b[1;36m0\u001b[0m\u001b[1;33m]\u001b[0m\u001b[1;33m)\u001b[0m\u001b[1;33m\u001b[0m\u001b[0m\n\u001b[0;32m      5\u001b[0m     \u001b[1;32mprint\u001b[0m \u001b[0mele\u001b[0m\u001b[1;33m\u001b[0m\u001b[0m\n",
      "\u001b[1;31mNameError\u001b[0m: name 'sep_mua_block' is not defined"
     ]
    }
   ],
   "source": [
    "n =0\n",
    "for ele in sep_mua_block[n].electrodes:\n",
    "    ele_data = sep_mua_block[n].get_kw_SpikeData(electrode = ele)\n",
    "    print mdl.birdid2str(ele_data.birdid[0])\n",
    "    print ele\n",
    "    if ele in res_block[n].electrodes:\n",
    "        print \"Responding\"\n",
    "    else:\n",
    "        print \"Not Responding\"\n",
    "    mdl.raster_plot(ele_data.spikes)\n",
    "    plt.show()"
   ]
  },
  {
   "cell_type": "code",
   "execution_count": 6,
   "metadata": {},
   "outputs": [],
   "source": [
    "from sklearn.neighbors import KNeighborsClassifier as knn\n",
    "from sklearn.neighbors import NearestNeighbors\n",
    "from sklearn.model_selection import train_test_split as split"
   ]
  },
  {
   "cell_type": "code",
   "execution_count": 14,
   "metadata": {},
   "outputs": [],
   "source": [
    "# Need to create wit-wet translation guide\n",
    "def contrast_decoding_accuracy(electrode, k=15):\n",
    "    # Generates parameters for acc and trial_usage\n",
    "    num_stim = len(electrode.stim)\n",
    "    total_trials = electrode.header.shape[0]\n",
    "    trials_per_stim = total_trials/num_stim\n",
    "    acc = np.zeros((num_stim, trials_per_stim))\n",
    "    longest_stim = dnl.get_longest_stim(electrode)\n",
    "    #2D array #2D arra`y, stim id x the trials per stimulus, increments up by one every time given trial used as target\n",
    "    trial_usage = np.zeros((num_stim, trials_per_stim))\n",
    "\n",
    "    training_data = dnl.Spike_to_Binned(electrode.get_kw_SpikeData(trial = range(1, 161)), custom_stim_length = longest_stim)\n",
    "    training_bins = training_data.bins\n",
    "    training_idx = training_data.header.index.values\n",
    "    training_stim_ids=np.array(training_data.header.stim)\n",
    "    \n",
    "    target_data = dnl.Spike_to_Binned(electrode.get_kw_SpikeData(trial = range(161, 321)), custom_stim_length = longest_stim)\n",
    "    target_bins = target_data.bins\n",
    "    target_idx = target_data.header.index.values\n",
    "    target_stim_ids=np.array(target_data.header.stim)\n",
    "\n",
    "    model = knn(n_neighbors=k, metric='euclidean')\n",
    "    model.fit(training_bins, training_stim_ids)\n",
    "    pred = model.predict(target_bins)\n",
    "\n",
    "\n",
    "\n",
    "\n",
    "\n",
    "    #Checks to see if predictions are correct\n",
    "    for j in range(0, pred.shape[0]):\n",
    "        stim_id= target_stim_ids[j]\n",
    "        idx = target_idx[j]\n",
    "        stim_data = electrode.get_kw_SpikeData(stim=stim_id)\n",
    "        net_trial_num = stim_data.header.loc[idx:idx].trial.max()\n",
    "        mod_stim_data_header = stim_data.header.reset_index()\n",
    "        true_trial_num = mod_stim_data_header[(mod_stim_data_header[\"trial\"] == net_trial_num)].index[0]\n",
    "        #increament trial usageb\n",
    "        trial_usage[stim_id-1][true_trial_num]+=1\n",
    "        \n",
    "        trial_stim_category = pred[j] % 2\n",
    "        true_stim_category = stim_id % 2\n",
    "        if trial_stim_category == true_stim_category:\n",
    "            acc[stim_id-1][true_trial_num] += 1\n",
    "       #pdb.set_trace()\n",
    "            \n",
    "    #inal_acc = np.divide(acc, trial_usage)\n",
    "    return acc"
   ]
  },
  {
   "cell_type": "code",
   "execution_count": 15,
   "metadata": {},
   "outputs": [],
   "source": [
    "# does the knn algorithm on an array of experiments\n",
    "def batch_contrast_decoding_accuracy(split_data, region = \"N/A\", n_neighbors=15, training=.5):\n",
    "    # Runs the decoding accuracy KNN algorithm on an array of spike data objects\n",
    "    # split_data is the spike data array, bird_ele_class is a dataframe containing all responding electrodes and the \n",
    "    # region they are from.    \n",
    "    # n neighbors is the amount of neighbors for the knn algorithm\n",
    "    # reps is the amount of repitions of the algorithm to run\n",
    "    # training is the training proportion\n",
    "    \n",
    "    c = ['birdid','electrode', 'region', 'hemisphere', 'average_adaptation_rate','average_decoding_accuracy','decoding_accuracy']\n",
    "    final_df = pd.DataFrame(columns = c)\n",
    "    #loops through split data\n",
    "    n = 1\n",
    "    for spike_data in split_data:\n",
    "        ele_num_arr = spike_data.electrodes\n",
    "        bird_tag = chr(int(str(spike_data.birdid[0])[0:2])) + chr(int(str(spike_data.birdid[0])[2:4]))\n",
    "        bird_id = bird_tag + str(spike_data.birdid[0])[-5:-2]\n",
    "        for x, ele_num in enumerate(ele_num_arr):\n",
    "            try:\n",
    "                ele_spike_data = spike_data.get_kw_SpikeData(electrode = ele_num)\n",
    "                #ele_binned_data = dnl.Spike_to_Binned(ele_spike_data)\n",
    "                decoding_acc = contrast_decoding_accuracy(ele_spike_data, k=n_neighbors)[4:]\n",
    "                avg_decoding_acc = np.mean(decoding_acc)\n",
    "            except:\n",
    "                pdb.set_trace()\n",
    "            if ele_num < 1600:\n",
    "                to_add = [bird_id, ele_num, region, \"Left\", dnl.get_adaptation_rate(ele_spike_data)[ele_num],avg_decoding_acc, decoding_acc]\n",
    "                final_df = final_df.append(pd.DataFrame([to_add], columns=c)) \n",
    "            else:\n",
    "                to_add = [bird_id, ele_num, region, \"Right\", dnl.get_adaptation_rate(ele_spike_data)[ele_num], avg_decoding_acc, decoding_acc]\n",
    "                final_df = final_df.append(pd.DataFrame([to_add], columns=c))\n",
    "        print str(n)+\" Experiments Analyzed\"\n",
    "        n+=1\n",
    "    return final_df.reset_index(drop=True)"
   ]
  },
  {
   "cell_type": "code",
   "execution_count": 25,
   "metadata": {},
   "outputs": [],
   "source": [
    "n_neighbors = 15\n",
    "rep_num = 250\n",
    "bin_size = .01\n",
    "training_prop=.5\n",
    "resolution = .0001"
   ]
  },
  {
   "cell_type": "code",
   "execution_count": 50,
   "metadata": {},
   "outputs": [],
   "source": [
    "def make_bins(SpikeData, step_size=bin_size, custom_stim_length = None):\n",
    "    resolution = SpikeData.header.resolution.max()\n",
    "    ap_matrix=[]\n",
    "    spikes=SpikeData.spikes\n",
    "    pre_stim_dur = SpikeData.header.pre_stim.max()\n",
    "    if custom_stim_length is not None:\n",
    "        longest_stim_dur = custom_stim_length\n",
    "    else:\n",
    "        longest_stim_dur = dnl.get_longest_stim(SpikeData)\n",
    "    bin_start = int(pre_stim_dur/resolution)\n",
    "    bin_end = int(((longest_stim_dur+.1)/resolution)+bin_start)\n",
    "    for trial in spikes:\n",
    "        trial = trial[bin_start:bin_end]\n",
    "        nu=round(trial.shape[0]*resolution/step_size)\n",
    "        split_trial=np.array(np.split(trial, nu))\n",
    "        ap_matrix.append(sst.zscore(np.sum(split_trial, axis=1)))\n",
    "    bins=np.array(ap_matrix)\n",
    "    bins = np.nan_to_num(bins)\n",
    "    return bins"
   ]
  },
  {
   "cell_type": "code",
   "execution_count": 47,
   "metadata": {},
   "outputs": [],
   "source": [
    "bad_boi = contrast[0].get_kw_SpikeData(electrode =1300)"
   ]
  },
  {
   "cell_type": "code",
   "execution_count": 48,
   "metadata": {},
   "outputs": [
    {
     "data": {
      "text/plain": [
       "array([nan])"
      ]
     },
     "execution_count": 48,
     "metadata": {},
     "output_type": "execute_result"
    }
   ],
   "source": [
    "sst.zscore(np.ones(1))"
   ]
  },
  {
   "cell_type": "code",
   "execution_count": 51,
   "metadata": {},
   "outputs": [
    {
     "data": {
      "text/plain": [
       "array([[-0.09648062, -0.09648062, -0.09648062, ...,  0.85454266,\n",
       "        -0.09648062, -0.09648062],\n",
       "       [ 0.17277369,  2.15967106,  0.17277369, ...,  1.16622237,\n",
       "         0.17277369,  1.16622237],\n",
       "       [-0.15770373, -1.97129662, -0.15770373, ..., -1.06450017,\n",
       "        -2.87809306, -0.15770373],\n",
       "       ...,\n",
       "       [-0.12126781, -0.12126781, -0.12126781, ..., -0.12126781,\n",
       "        -0.12126781, -0.12126781],\n",
       "       [-0.12126781, -0.12126781, -0.12126781, ..., -0.12126781,\n",
       "        -0.12126781, -0.12126781],\n",
       "       [ 0.        ,  0.        ,  0.        , ...,  0.        ,\n",
       "         0.        ,  0.        ]])"
      ]
     },
     "execution_count": 51,
     "metadata": {},
     "output_type": "execute_result"
    }
   ],
   "source": [
    "make_bins(bad_boi)"
   ]
  },
  {
   "cell_type": "code",
   "execution_count": 17,
   "metadata": {},
   "outputs": [
    {
     "name": "stdout",
     "output_type": "stream",
     "text": [
      "> <ipython-input-15-ab9c79deb0a7>(26)batch_contrast_decoding_accuracy()\n",
      "-> if ele_num < 1600:\n"
     ]
    },
    {
     "name": "stdin",
     "output_type": "stream",
     "text": [
      "(Pdb)  ele_num\n"
     ]
    },
    {
     "name": "stdout",
     "output_type": "stream",
     "text": [
      "1300\n"
     ]
    },
    {
     "name": "stdin",
     "output_type": "stream",
     "text": [
      "(Pdb)  bird_id\n"
     ]
    },
    {
     "name": "stdout",
     "output_type": "stream",
     "text": [
      "'BL008'\n"
     ]
    },
    {
     "name": "stdin",
     "output_type": "stream",
     "text": [
      "(Pdb)  bird_tag\n"
     ]
    },
    {
     "name": "stdout",
     "output_type": "stream",
     "text": [
      "'BL'\n"
     ]
    },
    {
     "name": "stdin",
     "output_type": "stream",
     "text": [
      "(Pdb)  q\n"
     ]
    },
    {
     "ename": "BdbQuit",
     "evalue": "",
     "output_type": "error",
     "traceback": [
      "\u001b[1;31m\u001b[0m",
      "\u001b[1;31mBdbQuit\u001b[0mTraceback (most recent call last)",
      "\u001b[1;32m<ipython-input-17-14793ff97580>\u001b[0m in \u001b[0;36m<module>\u001b[1;34m()\u001b[0m\n\u001b[1;32m----> 1\u001b[1;33m \u001b[0mtest_contrast\u001b[0m \u001b[1;33m=\u001b[0m \u001b[0mbatch_contrast_decoding_accuracy\u001b[0m\u001b[1;33m(\u001b[0m\u001b[0mcontrast\u001b[0m\u001b[1;33m)\u001b[0m\u001b[1;33m\u001b[0m\u001b[0m\n\u001b[0m",
      "\u001b[1;32m<ipython-input-15-ab9c79deb0a7>\u001b[0m in \u001b[0;36mbatch_contrast_decoding_accuracy\u001b[1;34m(split_data, region, n_neighbors, training)\u001b[0m\n\u001b[0;32m     24\u001b[0m             \u001b[1;32mexcept\u001b[0m\u001b[1;33m:\u001b[0m\u001b[1;33m\u001b[0m\u001b[0m\n\u001b[0;32m     25\u001b[0m                 \u001b[0mpdb\u001b[0m\u001b[1;33m.\u001b[0m\u001b[0mset_trace\u001b[0m\u001b[1;33m(\u001b[0m\u001b[1;33m)\u001b[0m\u001b[1;33m\u001b[0m\u001b[0m\n\u001b[1;32m---> 26\u001b[1;33m             \u001b[1;32mif\u001b[0m \u001b[0mele_num\u001b[0m \u001b[1;33m<\u001b[0m \u001b[1;36m1600\u001b[0m\u001b[1;33m:\u001b[0m\u001b[1;33m\u001b[0m\u001b[0m\n\u001b[0m\u001b[0;32m     27\u001b[0m                 \u001b[0mto_add\u001b[0m \u001b[1;33m=\u001b[0m \u001b[1;33m[\u001b[0m\u001b[0mbird_id\u001b[0m\u001b[1;33m,\u001b[0m \u001b[0mele_num\u001b[0m\u001b[1;33m,\u001b[0m \u001b[0mregion\u001b[0m\u001b[1;33m,\u001b[0m \u001b[1;34m\"Left\"\u001b[0m\u001b[1;33m,\u001b[0m \u001b[0mdnl\u001b[0m\u001b[1;33m.\u001b[0m\u001b[0mget_adaptation_rate\u001b[0m\u001b[1;33m(\u001b[0m\u001b[0mele_spike_data\u001b[0m\u001b[1;33m)\u001b[0m\u001b[1;33m[\u001b[0m\u001b[0mele_num\u001b[0m\u001b[1;33m]\u001b[0m\u001b[1;33m,\u001b[0m\u001b[0mavg_decoding_acc\u001b[0m\u001b[1;33m,\u001b[0m \u001b[0mdecoding_acc\u001b[0m\u001b[1;33m]\u001b[0m\u001b[1;33m\u001b[0m\u001b[0m\n\u001b[0;32m     28\u001b[0m                 \u001b[0mfinal_df\u001b[0m \u001b[1;33m=\u001b[0m \u001b[0mfinal_df\u001b[0m\u001b[1;33m.\u001b[0m\u001b[0mappend\u001b[0m\u001b[1;33m(\u001b[0m\u001b[0mpd\u001b[0m\u001b[1;33m.\u001b[0m\u001b[0mDataFrame\u001b[0m\u001b[1;33m(\u001b[0m\u001b[1;33m[\u001b[0m\u001b[0mto_add\u001b[0m\u001b[1;33m]\u001b[0m\u001b[1;33m,\u001b[0m \u001b[0mcolumns\u001b[0m\u001b[1;33m=\u001b[0m\u001b[0mc\u001b[0m\u001b[1;33m)\u001b[0m\u001b[1;33m)\u001b[0m\u001b[1;33m\u001b[0m\u001b[0m\n",
      "\u001b[1;32m<ipython-input-15-ab9c79deb0a7>\u001b[0m in \u001b[0;36mbatch_contrast_decoding_accuracy\u001b[1;34m(split_data, region, n_neighbors, training)\u001b[0m\n\u001b[0;32m     24\u001b[0m             \u001b[1;32mexcept\u001b[0m\u001b[1;33m:\u001b[0m\u001b[1;33m\u001b[0m\u001b[0m\n\u001b[0;32m     25\u001b[0m                 \u001b[0mpdb\u001b[0m\u001b[1;33m.\u001b[0m\u001b[0mset_trace\u001b[0m\u001b[1;33m(\u001b[0m\u001b[1;33m)\u001b[0m\u001b[1;33m\u001b[0m\u001b[0m\n\u001b[1;32m---> 26\u001b[1;33m             \u001b[1;32mif\u001b[0m \u001b[0mele_num\u001b[0m \u001b[1;33m<\u001b[0m \u001b[1;36m1600\u001b[0m\u001b[1;33m:\u001b[0m\u001b[1;33m\u001b[0m\u001b[0m\n\u001b[0m\u001b[0;32m     27\u001b[0m                 \u001b[0mto_add\u001b[0m \u001b[1;33m=\u001b[0m \u001b[1;33m[\u001b[0m\u001b[0mbird_id\u001b[0m\u001b[1;33m,\u001b[0m \u001b[0mele_num\u001b[0m\u001b[1;33m,\u001b[0m \u001b[0mregion\u001b[0m\u001b[1;33m,\u001b[0m \u001b[1;34m\"Left\"\u001b[0m\u001b[1;33m,\u001b[0m \u001b[0mdnl\u001b[0m\u001b[1;33m.\u001b[0m\u001b[0mget_adaptation_rate\u001b[0m\u001b[1;33m(\u001b[0m\u001b[0mele_spike_data\u001b[0m\u001b[1;33m)\u001b[0m\u001b[1;33m[\u001b[0m\u001b[0mele_num\u001b[0m\u001b[1;33m]\u001b[0m\u001b[1;33m,\u001b[0m\u001b[0mavg_decoding_acc\u001b[0m\u001b[1;33m,\u001b[0m \u001b[0mdecoding_acc\u001b[0m\u001b[1;33m]\u001b[0m\u001b[1;33m\u001b[0m\u001b[0m\n\u001b[0;32m     28\u001b[0m                 \u001b[0mfinal_df\u001b[0m \u001b[1;33m=\u001b[0m \u001b[0mfinal_df\u001b[0m\u001b[1;33m.\u001b[0m\u001b[0mappend\u001b[0m\u001b[1;33m(\u001b[0m\u001b[0mpd\u001b[0m\u001b[1;33m.\u001b[0m\u001b[0mDataFrame\u001b[0m\u001b[1;33m(\u001b[0m\u001b[1;33m[\u001b[0m\u001b[0mto_add\u001b[0m\u001b[1;33m]\u001b[0m\u001b[1;33m,\u001b[0m \u001b[0mcolumns\u001b[0m\u001b[1;33m=\u001b[0m\u001b[0mc\u001b[0m\u001b[1;33m)\u001b[0m\u001b[1;33m)\u001b[0m\u001b[1;33m\u001b[0m\u001b[0m\n",
      "\u001b[1;32mC:\\Users\\Vicario_lab\\Anaconda2\\lib\\bdb.pyc\u001b[0m in \u001b[0;36mtrace_dispatch\u001b[1;34m(self, frame, event, arg)\u001b[0m\n\u001b[0;32m     47\u001b[0m             \u001b[1;32mreturn\u001b[0m \u001b[1;31m# None\u001b[0m\u001b[1;33m\u001b[0m\u001b[0m\n\u001b[0;32m     48\u001b[0m         \u001b[1;32mif\u001b[0m \u001b[0mevent\u001b[0m \u001b[1;33m==\u001b[0m \u001b[1;34m'line'\u001b[0m\u001b[1;33m:\u001b[0m\u001b[1;33m\u001b[0m\u001b[0m\n\u001b[1;32m---> 49\u001b[1;33m             \u001b[1;32mreturn\u001b[0m \u001b[0mself\u001b[0m\u001b[1;33m.\u001b[0m\u001b[0mdispatch_line\u001b[0m\u001b[1;33m(\u001b[0m\u001b[0mframe\u001b[0m\u001b[1;33m)\u001b[0m\u001b[1;33m\u001b[0m\u001b[0m\n\u001b[0m\u001b[0;32m     50\u001b[0m         \u001b[1;32mif\u001b[0m \u001b[0mevent\u001b[0m \u001b[1;33m==\u001b[0m \u001b[1;34m'call'\u001b[0m\u001b[1;33m:\u001b[0m\u001b[1;33m\u001b[0m\u001b[0m\n\u001b[0;32m     51\u001b[0m             \u001b[1;32mreturn\u001b[0m \u001b[0mself\u001b[0m\u001b[1;33m.\u001b[0m\u001b[0mdispatch_call\u001b[0m\u001b[1;33m(\u001b[0m\u001b[0mframe\u001b[0m\u001b[1;33m,\u001b[0m \u001b[0marg\u001b[0m\u001b[1;33m)\u001b[0m\u001b[1;33m\u001b[0m\u001b[0m\n",
      "\u001b[1;32mC:\\Users\\Vicario_lab\\Anaconda2\\lib\\bdb.pyc\u001b[0m in \u001b[0;36mdispatch_line\u001b[1;34m(self, frame)\u001b[0m\n\u001b[0;32m     66\u001b[0m         \u001b[1;32mif\u001b[0m \u001b[0mself\u001b[0m\u001b[1;33m.\u001b[0m\u001b[0mstop_here\u001b[0m\u001b[1;33m(\u001b[0m\u001b[0mframe\u001b[0m\u001b[1;33m)\u001b[0m \u001b[1;32mor\u001b[0m \u001b[0mself\u001b[0m\u001b[1;33m.\u001b[0m\u001b[0mbreak_here\u001b[0m\u001b[1;33m(\u001b[0m\u001b[0mframe\u001b[0m\u001b[1;33m)\u001b[0m\u001b[1;33m:\u001b[0m\u001b[1;33m\u001b[0m\u001b[0m\n\u001b[0;32m     67\u001b[0m             \u001b[0mself\u001b[0m\u001b[1;33m.\u001b[0m\u001b[0muser_line\u001b[0m\u001b[1;33m(\u001b[0m\u001b[0mframe\u001b[0m\u001b[1;33m)\u001b[0m\u001b[1;33m\u001b[0m\u001b[0m\n\u001b[1;32m---> 68\u001b[1;33m             \u001b[1;32mif\u001b[0m \u001b[0mself\u001b[0m\u001b[1;33m.\u001b[0m\u001b[0mquitting\u001b[0m\u001b[1;33m:\u001b[0m \u001b[1;32mraise\u001b[0m \u001b[0mBdbQuit\u001b[0m\u001b[1;33m\u001b[0m\u001b[0m\n\u001b[0m\u001b[0;32m     69\u001b[0m         \u001b[1;32mreturn\u001b[0m \u001b[0mself\u001b[0m\u001b[1;33m.\u001b[0m\u001b[0mtrace_dispatch\u001b[0m\u001b[1;33m\u001b[0m\u001b[0m\n\u001b[0;32m     70\u001b[0m \u001b[1;33m\u001b[0m\u001b[0m\n",
      "\u001b[1;31mBdbQuit\u001b[0m: "
     ]
    }
   ],
   "source": [
    "test_contrast = batch_contrast_decoding_accuracy(contrast)"
   ]
  },
  {
   "cell_type": "code",
   "execution_count": 98,
   "metadata": {},
   "outputs": [],
   "source": [
    "fn = mdl.get_pathname()\n",
    "header, spikes = mdl.load_npz_data(fn, False)\n",
    "ncm_block = mdl.SpikeData(header, spikes)\n",
    "ncm_mua_block=ncm_block.mua_or_sua(\"mua\")\n",
    "ncm_sep_mua_block = dnl.separate_npz_data(ncm_mua_block)\n",
    "l_contrast = dnl.res_filter(ncm_sep_mua_block)"
   ]
  },
  {
   "cell_type": "code",
   "execution_count": 10,
   "metadata": {},
   "outputs": [],
   "source": [
    "fn =  mdl.get_pathname()\n",
    "contrast_df = pd.read_csv(fn)"
   ]
  },
  {
   "cell_type": "code",
   "execution_count": 28,
   "metadata": {},
   "outputs": [
    {
     "name": "stdout",
     "output_type": "stream",
     "text": [
      "333 total sites\n",
      "204 NCM sites\n",
      "129 Field L sites\n"
     ]
    }
   ],
   "source": [
    "print str(len(contrast_df)) + \" total sites\"\n",
    "print str(len(ncm)) + \" NCM sites\"\n",
    "print str(len(fieldl)) + \" Field L sites\""
   ]
  },
  {
   "cell_type": "code",
   "execution_count": null,
   "metadata": {},
   "outputs": [],
   "source": [
    "contrast_df = pd.read_csv(\"contrast_df.csv\")\n",
    "ncm = contrast_df[(contrast_df[\"region\"] == \"NCM\")]\n",
    "fieldl = contrast_df[(contrast_df[\"region\"] == \"Field L\")]"
   ]
  },
  {
   "cell_type": "code",
   "execution_count": 34,
   "metadata": {},
   "outputs": [
    {
     "data": {
      "image/png": "[encoded data removed]",
      "text/plain": [
       "<Figure size 432x288 with 1 Axes>"
      ]
     },
     "metadata": {},
     "output_type": "display_data"
    },
    {
     "name": "stdout",
     "output_type": "stream",
     "text": [
      "P Value = 1.225611472308379e-05\n"
     ]
    }
   ],
   "source": [
    "sns.set(font_scale = 1.3)\n",
    "col_list = [\"medium green\", \"sky blue\"]\n",
    "col_list_palette = sns.xkcd_palette(col_list)\n",
    "sns.set_palette(col_list_palette)\n",
    "sns.barplot(x=\"region\", y='average_decoding_accuracy', data=contrast_df)\n",
    "stat,pval = sst.ttest_ind(ncm.average_decoding_accuracy , fieldl.average_decoding_accuracy)\n",
    "plt.title(\"Average Decoding Accuracy Between NCM and Field L\")\n",
    "plt.show()\n",
    "print \"P Value = \"+str(pval)"
   ]
  },
  {
   "cell_type": "code",
   "execution_count": 43,
   "metadata": {},
   "outputs": [
    {
     "data": {
      "image/png": "[encoded data removed]",
      "text/plain": [
       "<Figure size 432x288 with 1 Axes>"
      ]
     },
     "metadata": {},
     "output_type": "display_data"
    },
    {
     "name": "stdout",
     "output_type": "stream",
     "text": [
      "P Value = 5.495304411644999e-08\n"
     ]
    }
   ],
   "source": [
    "sns.set(font_scale = 1.3)\n",
    "sns.set_palette(\"deep\")\n",
    "sns.barplot(x=\"hemisphere\", y='average_decoding_accuracy', data=ncm)\n",
    "stat,pval = sst.ttest_ind(ncm[(ncm[\"hemisphere\"] == \"Right\")].average_decoding_accuracy , ncm[(ncm[\"hemisphere\"] == \"Left\")].average_decoding_accuracy)\n",
    "plt.title(\"Average Decoding Accuracy Between NCM Left and Right Hemispheres\")\n",
    "plt.show()\n",
    "print \"P Value = \"+str(pval)"
   ]
  },
  {
   "cell_type": "code",
   "execution_count": 41,
   "metadata": {},
   "outputs": [
    {
     "data": {
      "image/png": "[encoded data removed]",
      "text/plain": [
       "<Figure size 432x288 with 1 Axes>"
      ]
     },
     "metadata": {},
     "output_type": "display_data"
    },
    {
     "name": "stdout",
     "output_type": "stream",
     "text": [
      "P Value = 0.012675381675286684\n"
     ]
    }
   ],
   "source": [
    "sns.set(font_scale = 1.3)\n",
    "sns.set_palette(\"deep\")\n",
    "sns.barplot(x=\"hemisphere\", y='average_decoding_accuracy', data= fieldl)\n",
    "stat,pval = sst.ttest_ind(fieldl[(fieldl[\"hemisphere\"] == \"Right\")].average_decoding_accuracy , fieldl[(fieldl[\"hemisphere\"] == \"Left\")].average_decoding_accuracy)\n",
    "plt.title(\"Average Decoding Accuracy Between Field L Left and Right Hemispheres\")\n",
    "plt.show()\n",
    "print \"P Value = \"+str(pval)"
   ]
  },
  {
   "cell_type": "code",
   "execution_count": 46,
   "metadata": {},
   "outputs": [
    {
     "data": {
      "image/png": "[encoded data removed]",
      "text/plain": [
       "<Figure size 444.855x360 with 1 Axes>"
      ]
     },
     "metadata": {},
     "output_type": "display_data"
    },
    {
     "name": "stdout",
     "output_type": "stream",
     "text": [
      "P Value for Average Decoding Accuracy between Left and Right Field L = 0.012675381675286684\n",
      "P Value for Average Decoding Accuracy between Left and Right NCM = 5.495304411644999e-08\n"
     ]
    }
   ],
   "source": [
    "sns.set(font_scale = 1.3)\n",
    "sns.catplot(x='region', y='average_decoding_accuracy', hue='hemisphere', data=contrast_df, kind='bar')\n",
    "plt.title(\"Average Decoding Accuracy and Hempishere for NCM and Field L\")\n",
    "plt.show()\n",
    "stat,pval = sst.ttest_ind(fieldl[(fieldl[\"hemisphere\"] == \"Right\")].average_decoding_accuracy , fieldl[(fieldl[\"hemisphere\"] == \"Left\")].average_decoding_accuracy)\n",
    "print \"P Value for Average Decoding Accuracy between Left and Right Field L = \"+str(pval)\n",
    "stat,pval = sst.ttest_ind(ncm[(ncm[\"hemisphere\"] == \"Right\")].average_decoding_accuracy , ncm[(ncm[\"hemisphere\"] == \"Left\")].average_decoding_accuracy)\n",
    "print \"P Value for Average Decoding Accuracy between Left and Right NCM = \"+str(pval)\n"
   ]
  },
  {
   "cell_type": "code",
   "execution_count": null,
   "metadata": {},
   "outputs": [],
   "source": [
    "da_list = []\n",
    "for da in ncm.decoding_accuracy.values:\n",
    "    print np.mean(da)\n",
    "    #da_list.append(np.mean(da, axis =0))"
   ]
  },
  {
   "cell_type": "code",
   "execution_count": 64,
   "metadata": {},
   "outputs": [
    {
     "name": "stdout",
     "output_type": "stream",
     "text": [
      "[[0.00787402 0.048      0.         0.         0.10833333 0.15037594\n",
      "  0.         0.03053435 0.05755396 0.         0.01680672 0.01769912\n",
      "  0.         0.03968254 0.05785124 0.05       0.57264957 0.28787879\n",
      "  0.032      0.         0.02542373 0.00813008 0.         0.\n",
      "  0.06722689 0.08695652 0.36153846 0.4214876  0.15625    0.05223881\n",
      "  0.14782609 0.03225806 0.01449275 0.06557377 0.10769231 0.21538462\n",
      "  0.         0.         0.02419355 0.32038835]\n",
      " [0.98561151 0.99122807 0.98449612 0.98058252 0.99173554 0.95275591\n",
      "  0.9921875  0.96774194 0.99173554 0.99166667 0.992      0.99224806\n",
      "  0.96825397 0.93442623 0.99275362 0.99159664 0.99056604 0.99259259\n",
      "  0.96396396 0.99137931 0.875      0.98550725 0.76923077 0.\n",
      "  0.99270073 0.96825397 0.97744361 0.98198198 0.99230769 0.99173554\n",
      "  0.96521739 0.89430894 0.99259259 0.97692308 0.31914894 0.94573643\n",
      "  0.96153846 0.75409836 0.64705882 0.79527559]\n",
      " [0.         0.         0.52       0.         0.42975207 0.\n",
      "  0.53174603 0.         0.12195122 0.328125   0.28461538 0.34751773\n",
      "  0.         0.18461538 0.61344538 0.00729927 0.088      0.\n",
      "  0.096      0.39230769 0.54961832 0.43165468 0.19672131 0.06349206\n",
      "  0.18644068 0.         0.00775194 0.         0.44262295 0.07142857\n",
      "  0.43307087 0.00775194 0.         0.02962963 0.3245614  0.5982906\n",
      "  0.14925373 0.01694915 0.         0.17557252]\n",
      " [0.01709402 0.22881356 0.         0.616      0.09090909 0.\n",
      "  0.         0.         0.         0.02173913 0.38405797 0.\n",
      "  0.35114504 0.00862069 0.08       0.3362069  0.         0.\n",
      "  0.01587302 0.5078125  0.08633094 0.10687023 0.29770992 0.02325581\n",
      "  0.0620155  0.05109489 0.15789474 0.08870968 0.11029412 0.75\n",
      "  0.         0.03361345 0.         0.05645161 0.00833333 0.01538462\n",
      "  0.00763359 0.00775194 0.00769231 0.04237288]\n",
      " [0.59440559 0.1037037  0.37037037 0.61417323 0.29365079 0.04132231\n",
      "  0.17985612 0.12403101 0.01538462 0.01754386 0.0173913  0.43609023\n",
      "  0.168      0.09774436 0.         0.04761905 0.024      0.3015873\n",
      "  0.         0.41258741 0.3963964  0.         0.216      0.06349206\n",
      "  0.05084746 0.04964539 0.07462687 0.         0.2109375  0.\n",
      "  0.39130435 0.05833333 0.25225225 0.0703125  0.48818898 0.13114754\n",
      "  0.44444444 0.3984375  0.42753623 0.17355372]\n",
      " [0.776      0.17213115 0.04424779 0.80769231 0.14179104 0.06034483\n",
      "  0.46721311 0.46616541 0.02290076 0.         0.5        0.\n",
      "  0.43333333 0.37606838 0.03333333 0.         0.         0.03361345\n",
      "  0.248      0.02459016 0.02290076 0.1015625  0.21008403 0.09677419\n",
      "  0.04724409 0.         0.21428571 0.12       0.39130435 0.10619469\n",
      "  0.03787879 0.24031008 0.5        0.1754386  0.312      0.05755396\n",
      "  0.33613445 0.296875   0.04166667 0.4047619 ]\n",
      " [0.00847458 0.1557377  0.00847458 0.18897638 0.0703125  0.01754386\n",
      "  0.29411765 0.02542373 0.04       0.         0.01724138 0.04032258\n",
      "  0.02362205 0.34210526 0.         0.34883721 0.06722689 0.\n",
      "  0.208      0.12096774 0.00729927 0.07258065 0.         0.\n",
      "  0.15037594 0.03007519 0.05882353 0.11347518 0.         0.07142857\n",
      "  0.048      0.624      0.14074074 0.05737705 0.024      0.\n",
      "  0.         0.01408451 0.         0.07971014]\n",
      " [0.         0.02631579 0.12598425 0.         0.05882353 0.\n",
      "  0.         0.81746032 0.07913669 0.0070922  0.32478632 0.12096774\n",
      "  0.01626016 0.30088496 0.01652893 0.         0.         0.\n",
      "  0.00806452 0.23770492 0.04166667 0.         0.03875969 0.34482759\n",
      "  0.         0.00819672 0.         0.         0.1        0.0075188\n",
      "  0.1037037  0.016      0.00833333 0.00740741 0.         0.\n",
      "  0.         0.13445378 0.07352941 0.27586207]]\n"
     ]
    }
   ],
   "source": [
    "for n in np.asarray(ncm.index):\n",
    "    row = ncm.loc[n]\n",
    "    da = np.asarray(row.decoding_accuracy)\n",
    "    print np.meanda\n",
    "    break"
   ]
  },
  {
   "cell_type": "code",
   "execution_count": 60,
   "metadata": {},
   "outputs": [
    {
     "ename": "IndexError",
     "evalue": "tuple index out of range",
     "output_type": "error",
     "traceback": [
      "\u001b[1;31m\u001b[0m",
      "\u001b[1;31mIndexError\u001b[0mTraceback (most recent call last)",
      "\u001b[1;32m<ipython-input-60-28625198b6ec>\u001b[0m in \u001b[0;36m<module>\u001b[1;34m()\u001b[0m\n\u001b[0;32m      3\u001b[0m \u001b[1;32mfor\u001b[0m \u001b[0mn\u001b[0m \u001b[1;32min\u001b[0m \u001b[0mnp\u001b[0m\u001b[1;33m.\u001b[0m\u001b[0masarray\u001b[0m\u001b[1;33m(\u001b[0m\u001b[0mncm\u001b[0m\u001b[1;33m.\u001b[0m\u001b[0mindex\u001b[0m\u001b[1;33m)\u001b[0m\u001b[1;33m:\u001b[0m\u001b[1;33m\u001b[0m\u001b[0m\n\u001b[0;32m      4\u001b[0m     \u001b[0mrow\u001b[0m \u001b[1;33m=\u001b[0m \u001b[0mncm\u001b[0m\u001b[1;33m.\u001b[0m\u001b[0mloc\u001b[0m\u001b[1;33m[\u001b[0m\u001b[0mn\u001b[0m\u001b[1;33m]\u001b[0m\u001b[1;33m\u001b[0m\u001b[0m\n\u001b[1;32m----> 5\u001b[1;33m     \u001b[0mto_add\u001b[0m \u001b[1;33m=\u001b[0m \u001b[1;33m[\u001b[0m\u001b[0mrow\u001b[0m\u001b[1;33m.\u001b[0m\u001b[0mbirdid\u001b[0m\u001b[1;33m,\u001b[0m \u001b[0mrow\u001b[0m\u001b[1;33m.\u001b[0m\u001b[0melectrode\u001b[0m\u001b[1;33m,\u001b[0m \u001b[0mrow\u001b[0m\u001b[1;33m.\u001b[0m\u001b[0mregion\u001b[0m\u001b[1;33m,\u001b[0m \u001b[0mrow\u001b[0m\u001b[1;33m.\u001b[0m\u001b[0mhemisphere\u001b[0m\u001b[1;33m,\u001b[0m \u001b[0mrow\u001b[0m\u001b[1;33m.\u001b[0m\u001b[0maverage_adaptation_rate\u001b[0m\u001b[1;33m,\u001b[0m \u001b[0mrow\u001b[0m\u001b[1;33m.\u001b[0m\u001b[0maverage_decoding_accuracy\u001b[0m\u001b[1;33m,\u001b[0m \u001b[0mnp\u001b[0m\u001b[1;33m.\u001b[0m\u001b[0mmean\u001b[0m\u001b[1;33m(\u001b[0m\u001b[0mrow\u001b[0m\u001b[1;33m.\u001b[0m\u001b[0mdecoding_accuracy\u001b[0m\u001b[1;33m,\u001b[0m \u001b[0maxis\u001b[0m\u001b[1;33m=\u001b[0m\u001b[1;36m0\u001b[0m\u001b[1;33m)\u001b[0m\u001b[1;33m]\u001b[0m\u001b[1;33m\u001b[0m\u001b[0m\n\u001b[0m\u001b[0;32m      6\u001b[0m     \u001b[0mncm2\u001b[0m \u001b[1;33m=\u001b[0m \u001b[0mncm2\u001b[0m\u001b[1;33m.\u001b[0m\u001b[0mappend\u001b[0m\u001b[1;33m(\u001b[0m\u001b[0mpd\u001b[0m\u001b[1;33m.\u001b[0m\u001b[0mDataFrame\u001b[0m\u001b[1;33m(\u001b[0m\u001b[1;33m[\u001b[0m\u001b[0mto_add\u001b[0m\u001b[1;33m]\u001b[0m\u001b[1;33m,\u001b[0m \u001b[0mcolumns\u001b[0m\u001b[1;33m=\u001b[0m\u001b[0mc\u001b[0m\u001b[1;33m)\u001b[0m\u001b[1;33m)\u001b[0m\u001b[1;33m\u001b[0m\u001b[0m\n\u001b[0;32m      7\u001b[0m     \u001b[0mncm2\u001b[0m\u001b[1;33m.\u001b[0m\u001b[0mreset_index\u001b[0m\u001b[1;33m(\u001b[0m\u001b[0mdrop\u001b[0m\u001b[1;33m=\u001b[0m\u001b[0mTrue\u001b[0m\u001b[1;33m)\u001b[0m\u001b[1;33m\u001b[0m\u001b[0m\n",
      "\u001b[1;32mC:\\Users\\Vicario_lab\\Anaconda2\\lib\\site-packages\\numpy\\core\\fromnumeric.pyc\u001b[0m in \u001b[0;36mmean\u001b[1;34m(a, axis, dtype, out, keepdims)\u001b[0m\n\u001b[0;32m   3116\u001b[0m \u001b[1;33m\u001b[0m\u001b[0m\n\u001b[0;32m   3117\u001b[0m     return _methods._mean(a, axis=axis, dtype=dtype,\n\u001b[1;32m-> 3118\u001b[1;33m                           out=out, **kwargs)\n\u001b[0m\u001b[0;32m   3119\u001b[0m \u001b[1;33m\u001b[0m\u001b[0m\n\u001b[0;32m   3120\u001b[0m \u001b[1;33m\u001b[0m\u001b[0m\n",
      "\u001b[1;32mC:\\Users\\Vicario_lab\\Anaconda2\\lib\\site-packages\\numpy\\core\\_methods.pyc\u001b[0m in \u001b[0;36m_mean\u001b[1;34m(a, axis, dtype, out, keepdims)\u001b[0m\n\u001b[0;32m     60\u001b[0m \u001b[1;33m\u001b[0m\u001b[0m\n\u001b[0;32m     61\u001b[0m     \u001b[0mis_float16_result\u001b[0m \u001b[1;33m=\u001b[0m \u001b[0mFalse\u001b[0m\u001b[1;33m\u001b[0m\u001b[0m\n\u001b[1;32m---> 62\u001b[1;33m     \u001b[0mrcount\u001b[0m \u001b[1;33m=\u001b[0m \u001b[0m_count_reduce_items\u001b[0m\u001b[1;33m(\u001b[0m\u001b[0marr\u001b[0m\u001b[1;33m,\u001b[0m \u001b[0maxis\u001b[0m\u001b[1;33m)\u001b[0m\u001b[1;33m\u001b[0m\u001b[0m\n\u001b[0m\u001b[0;32m     63\u001b[0m     \u001b[1;31m# Make this warning show up first\u001b[0m\u001b[1;33m\u001b[0m\u001b[1;33m\u001b[0m\u001b[0m\n\u001b[0;32m     64\u001b[0m     \u001b[1;32mif\u001b[0m \u001b[0mrcount\u001b[0m \u001b[1;33m==\u001b[0m \u001b[1;36m0\u001b[0m\u001b[1;33m:\u001b[0m\u001b[1;33m\u001b[0m\u001b[0m\n",
      "\u001b[1;32mC:\\Users\\Vicario_lab\\Anaconda2\\lib\\site-packages\\numpy\\core\\_methods.pyc\u001b[0m in \u001b[0;36m_count_reduce_items\u001b[1;34m(arr, axis)\u001b[0m\n\u001b[0;32m     53\u001b[0m     \u001b[0mitems\u001b[0m \u001b[1;33m=\u001b[0m \u001b[1;36m1\u001b[0m\u001b[1;33m\u001b[0m\u001b[0m\n\u001b[0;32m     54\u001b[0m     \u001b[1;32mfor\u001b[0m \u001b[0max\u001b[0m \u001b[1;32min\u001b[0m \u001b[0maxis\u001b[0m\u001b[1;33m:\u001b[0m\u001b[1;33m\u001b[0m\u001b[0m\n\u001b[1;32m---> 55\u001b[1;33m         \u001b[0mitems\u001b[0m \u001b[1;33m*=\u001b[0m \u001b[0marr\u001b[0m\u001b[1;33m.\u001b[0m\u001b[0mshape\u001b[0m\u001b[1;33m[\u001b[0m\u001b[0max\u001b[0m\u001b[1;33m]\u001b[0m\u001b[1;33m\u001b[0m\u001b[0m\n\u001b[0m\u001b[0;32m     56\u001b[0m     \u001b[1;32mreturn\u001b[0m \u001b[0mitems\u001b[0m\u001b[1;33m\u001b[0m\u001b[0m\n\u001b[0;32m     57\u001b[0m \u001b[1;33m\u001b[0m\u001b[0m\n",
      "\u001b[1;31mIndexError\u001b[0m: tuple index out of range"
     ]
    }
   ],
   "source": [
    "c = [\"birdid\", \"electrode\", \"region\", \"hemisphere\", \"average_adaptation_rate\", \"average_decoding_accuracy\", \"trial_decoding_accuracy\"]\n",
    "ncm2 = pd.DataFrame(columns = c)\n",
    "for n in np.asarray(ncm.index):\n",
    "    row = ncm.loc[n]\n",
    "    to_add = [row.birdid, row.electrode, row.region, row.hemisphere, row.average_adaptation_rate, row.average_decoding_accuracy, np.mean(row.decoding_accuracy, axis=0)]\n",
    "    ncm2 = ncm2.append(pd.DataFrame([to_add], columns=c))\n",
    "    ncm2.reset_index(drop=True)"
   ]
  },
  {
   "cell_type": "code",
   "execution_count": 158,
   "metadata": {},
   "outputs": [],
   "source": [
    "trial_decoding_acc = []\n",
    "for x in range(0, len(contrast_df)):\n",
    "    trial_decoding_acc.append(np.mean(contrast_df.iloc[x].decoding_accuracy, axis=0))\n",
    "contrast_df[\"trial_decoding_acc\"] = trial_decoding_acc"
   ]
  },
  {
   "cell_type": "code",
   "execution_count": 160,
   "metadata": {},
   "outputs": [],
   "source": [
    "contrast_df.to_csv(\"contrast_df.csv\")"
   ]
  },
  {
   "cell_type": "code",
   "execution_count": null,
   "metadata": {},
   "outputs": [],
   "source": []
  }
 ],
 "metadata": {
  "kernelspec": {
   "display_name": "Python 2",
   "language": "python",
   "name": "python2"
  },
  "language_info": {
   "codemirror_mode": {
    "name": "ipython",
    "version": 2
   },
   "file_extension": ".py",
   "mimetype": "text/x-python",
   "name": "python",
   "nbconvert_exporter": "python",
   "pygments_lexer": "ipython2",
   "version": "2.7.16"
  }
 },
 "nbformat": 4,
 "nbformat_minor": 2
}
