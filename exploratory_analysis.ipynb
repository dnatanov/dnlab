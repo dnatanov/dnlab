{
 "cells": [
  {
   "cell_type": "markdown",
   "metadata": {},
   "source": [
    "### Things to do\n",
    "\n",
    "- ?\n",
    "    - Official adaptation rate method\n",
    "    - Hemisphere\n",
    "- Analyze blocked and shuffled data in NCM and Field L\n",
    "    - Check if there is a difference between NCM and Field L\n",
    "    - Determine if there is a loss of decoding accuracy accross stimulus repetition\n",
    "    - Hemispheric differences?\n",
    "    - Analyze single unit data in a similar fashion\n",
    "    - Figure out why part of shuffled data appears to be corrupted\n",
    "   \n",
    "- Analyze contrast data\n",
    "    - Compare decoding accuracy between first and second half of presentations"
   ]
  },
  {
   "cell_type": "code",
   "execution_count": 1,
   "metadata": {},
   "outputs": [],
   "source": [
    "import mdlab as mdl\n",
    "import dnlab as dnl\n",
    "import numpy as np\n",
    "import matplotlib.pylab as plt\n",
    "import seaborn as sns\n",
    "import scipy.stats as sst\n",
    "import pandas as pd\n",
    "import pdb"
   ]
  },
  {
   "cell_type": "code",
   "execution_count": 2,
   "metadata": {},
   "outputs": [],
   "source": [
    "frcc=mdl.FRCC()\n",
    "trailing_type = frcc.trailing_type\n",
    "trailing_param = frcc.get_trailing_param(trailing_type)\n",
    "stats_test = frcc.stats_test"
   ]
  },
  {
   "cell_type": "code",
   "execution_count": 4,
   "metadata": {},
   "outputs": [
    {
     "data": {
      "text/plain": [
       "'/Users/david/Documents/blocked.npz'"
      ]
     },
     "execution_count": 4,
     "metadata": {},
     "output_type": "execute_result"
    }
   ],
   "source": [
    "mdl.get_pathname()"
   ]
  },
  {
   "cell_type": "code",
   "execution_count": 3,
   "metadata": {},
   "outputs": [],
   "source": [
    "header, spikes = mdl.load_npz_data('/Users/david/Documents/blocked.npz', False)\n",
    "block = mdl.SpikeData(header, spikes)\n",
    "#mua_block=block.mua_or_sua(\"mua\")\n",
    "sep_mua_block = dnl.separate_npz_data(block)"
   ]
  },
  {
   "cell_type": "code",
   "execution_count": 4,
   "metadata": {},
   "outputs": [
    {
     "name": "stderr",
     "output_type": "stream",
     "text": [
      "/Users/david/anaconda2/lib/python2.7/site-packages/pandas/core/generic.py:4405: SettingWithCopyWarning: \n",
      "A value is trying to be set on a copy of a slice from a DataFrame.\n",
      "Try using .loc[row_indexer,col_indexer] = value instead\n",
      "\n",
      "See the caveats in the documentation: http://pandas.pydata.org/pandas-docs/stable/indexing.html#indexing-view-versus-copy\n",
      "  self[name] = value\n"
     ]
    }
   ],
   "source": [
    "dnl.convert_electrodes(sep_mua_block, n=100)"
   ]
  },
  {
   "cell_type": "code",
   "execution_count": 5,
   "metadata": {},
   "outputs": [],
   "source": [
    "res_block = dnl.res_filter(sep_mua_block)"
   ]
  },
  {
   "cell_type": "code",
   "execution_count": 18,
   "metadata": {},
   "outputs": [
    {
     "data": {
      "text/plain": [
       "array([ 100,  200,  300,  400,  500,  600,  700,  800,  900, 1000, 1100,\n",
       "       1200, 1300, 1400, 1500, 1700, 1800, 1900, 2000, 2100, 2200, 2300,\n",
       "       2400, 2500, 2600, 2700, 2800, 2900, 3000, 3100])"
      ]
     },
     "execution_count": 18,
     "metadata": {},
     "output_type": "execute_result"
    }
   ],
   "source": [
    "res_block[0].electrodes"
   ]
  },
  {
   "cell_type": "code",
   "execution_count": 6,
   "metadata": {},
   "outputs": [],
   "source": [
    "def site_check(site_data, frcc=frcc):\n",
    "    trailing_type = frcc.trailing_type\n",
    "    trailing_param = frcc.get_trailing_param(trailing_type)\n",
    "    p_values = []\n",
    "    for stim in site_data.stim:\n",
    "        stim_data = site_data.get_kw_SpikeData(stim = stim)\n",
    "        #baseline = stim_data.firing_rates(trailing_type, trailing_param, fr_type = 0)\n",
    "        #stimulus = stim_data.firing_rates(trailing_type, trailing_param, fr_type = 1)\n",
    "        #statistics, p_value = sst.wilcoxon(baseline, stimulus)\n",
    "        fr = stim_data.firing_rates(trailing_type, trailing_param, fr_type = 2)\n",
    "        base = np.zeros(len(fr))\n",
    "        statistics, p_value = sst.ttest_rel(fr, base)\n",
    "        #print baseline.shape\n",
    "        p_values.append(p_value)\n",
    "    return np.asarray(p_values)"
   ]
  },
  {
   "cell_type": "code",
   "execution_count": 7,
   "metadata": {},
   "outputs": [],
   "source": [
    "# loop through spike data\n",
    "# loop through electrodes\n",
    "# check if electrode is responding\n",
    "# if responding, add header and spike\n",
    "# combine at the end\n",
    "def res_filter(split_data, p_value= 0.01):\n",
    "    # to prevent enormous amount of warnings\n",
    "    import warnings; warnings.simplefilter('ignore')\n",
    "    res_split_data = []\n",
    "    for spike_data in split_data:\n",
    "        res_ele = []\n",
    "        for ele in spike_data.electrodes:\n",
    "            ele_spike_data = spike_data.get_kw_SpikeData(electrode=ele)\n",
    "            respond = ele_spike_data.res_check()\n",
    "            if respond[\"res\"][0] < p_value:\n",
    "                res_ele.append(ele)\n",
    "        res_data = spike_data.get_kw_SpikeData(electrode = res_ele)\n",
    "        res_split_data.append(res_data)\n",
    "    return res_split_data"
   ]
  },
  {
   "cell_type": "code",
   "execution_count": 8,
   "metadata": {},
   "outputs": [],
   "source": [
    "# loop through spike data\n",
    "# loop through electrodes\n",
    "# check if electrode is responding\n",
    "# if responding, add header and spike\n",
    "# combine at the end\n",
    "def res_filter2(split_data, p_value= 0.05):\n",
    "    # to prevent enormous amount of warnings\n",
    "    import warnings; warnings.simplefilter('ignore')\n",
    "    res_split_data = []\n",
    "    for spike_data in split_data:\n",
    "        res_ele = []\n",
    "        for ele in spike_data.electrodes:\n",
    "            ele_spike_data = spike_data.get_kw_SpikeData(electrode=ele)\n",
    "            respond = ele_spike_data.site_stats()\n",
    "            if len(respond[respond[\"p\"] < 0.05]) != 0:\n",
    "                res_ele.append(ele)\n",
    "        res_data = spike_data.get_kw_SpikeData(electrode = res_ele)\n",
    "        res_split_data.append(res_data)\n",
    "    return res_split_data"
   ]
  },
  {
   "cell_type": "code",
   "execution_count": 9,
   "metadata": {},
   "outputs": [],
   "source": [
    "# loop through spike data\n",
    "# loop through electrodes\n",
    "# check if electrode is responding\n",
    "# if responding, add header and spike\n",
    "# combine at the end\n",
    "def res_filter(split_data, p_value= 0.05):\n",
    "    # to prevent enormous amount of warnings\n",
    "    import warnings; warnings.simplefilter('ignore')\n",
    "    res_split_data = []\n",
    "    for spike_data in split_data:\n",
    "        res_ele = []\n",
    "        for ele in spike_data.electrodes:\n",
    "            ele_spike_data = spike_data.get_kw_SpikeData(electrode=ele)\n",
    "            respond = site_check(ele_spike_data)\n",
    "            r = respond < p_value\n",
    "            if np.any(r) and not np.any(np.isnan((respond))):\n",
    "                res_ele.append(ele)\n",
    "        res_data = spike_data.get_kw_SpikeData(electrode = res_ele)\n",
    "        res_split_data.append(res_data)\n",
    "    return res_split_data"
   ]
  },
  {
   "cell_type": "code",
   "execution_count": null,
   "metadata": {},
   "outputs": [],
   "source": [
    "n =0\n",
    "for ele in sep_mua_block[n].electrodes:\n",
    "    ele_data = sep_mua_block[n].get_kw_SpikeData(electrode = ele)\n",
    "    print mdl.birdid2str(ele_data.birdid[0])\n",
    "    print ele\n",
    "    if ele in res_block[n].electrodes:\n",
    "        print \"Responding\"\n",
    "    else:\n",
    "        print \"Not Responding\"\n",
    "    mdl.raster_plot(ele_data.spikes)\n",
    "    plt.show()"
   ]
  },
  {
   "cell_type": "code",
   "execution_count": null,
   "metadata": {},
   "outputs": [],
   "source": [
    "# loop through spike data\n",
    "# loop through electrodes\n",
    "# check if electrode is responding\n",
    "# if responding, add header and spike\n",
    "# combine at the end\n",
    "def res_filter(split_data, p_value= 0.05):\n",
    "    #res_test = pd.DataFrame(columns=['birdid', 'electrode', 'Z'])\n",
    "    res_header = pd.DataFrame()\n",
    "    res_spikes = []\n",
    "    res_split_data = []\n",
    "    for spike_data in split_data:\n",
    "        for ele in spike_data.electrodes:\n",
    "            ele_spike_data = spike_data.get_kw_SpikeData(electrode=ele)\n",
    "            respond = ele_spike_data.res_check()\n",
    "            if respond[\"res\"][0] < p_value:\n",
    "                res_spikes.append(ele_spike_data.spikes)\n",
    "                res_header = res_header.append(ele_spike_data.header)\n",
    "        #return res_logidx\n",
    "        res_spikes = np.vstack(res_spikes).tolist()\n",
    "        #return res_header\n",
    "        new_spike_data = mdl.SpikeData(res_header, np.asarray(res_spikes))\n",
    "        res_split_data.append(new_spike_data)\n",
    "    return res_split_data"
   ]
  },
  {
   "cell_type": "code",
   "execution_count": 49,
   "metadata": {},
   "outputs": [],
   "source": [
    "# calculates average adaptation rates for each site from trials 5-25 in a SpikeData (or BinnedData)\n",
    "def get_adaptation_rate(SpikeData):\n",
    "    adaptation_rates={}\n",
    "    ele_arr=np.unique(SpikeData.header.electrode)\n",
    "    stim_arr = np.unique(SpikeData.stim)\n",
    "    for i in ele_arr:\n",
    "        ele_data=SpikeData.get_kw_SpikeData(electrode=i)\n",
    "        ele_rates=[]\n",
    "        for j in stim_arr:\n",
    "            stim_data=ele_data.get_kw_SpikeData(stim=j)\n",
    "            fr=stim_data.firing_rates(trailing_type, trailing_param, fr_type = 1)\n",
    "            ar=mdl.adaptation_rate(fr, robust=True)\n",
    "            ele_rates.append(ar)\n",
    "        adaptation_rates[i]=np.mean(ele_rates)\n",
    "    return adaptation_rates"
   ]
  },
  {
   "cell_type": "code",
   "execution_count": 14,
   "metadata": {},
   "outputs": [],
   "source": [
    "# does the knn algorithm on an array of experiments\n",
    "def batch_decoding_accuracy(split_data, n_neighbors=15, reps=250, training=.5):\n",
    "    # Runs the decoding accuracy KNN algorithm on an array of spike data objects\n",
    "    # split_data is the spike data array, bird_ele_class is a dataframe containing all responding electrodes and the \n",
    "    # region they are from.    \n",
    "    # n neighbors is the amount of neighbors for the knn algorithm\n",
    "    # reps is the amount of repitions of the algorithm to run\n",
    "    # training is the training proportion\n",
    "    \n",
    "    c = ['birdid','electrode', 'hemisphere', 'average_adaptation_rate','average_decoding_accuracy','decoding_accuracy']\n",
    "    final_df = pd.DataFrame(columns = c)\n",
    "    #loops through split data\n",
    "    n = 1\n",
    "    for spike_data in split_data:\n",
    "        ele_num_arr = spike_data.electrodes\n",
    "        bird_tag = chr(int(str(spike_data.birdid[0])[0:2])) + chr(int(str(spike_data.birdid[0])[2:4]))\n",
    "        bird_id = bird_tag + str(spike_data.birdid[0])[-5:-2]\n",
    "        for x, ele_num in enumerate(ele_num_arr):\n",
    "            ele_spike_data = spike_data.get_kw_SpikeData(electrode = ele_num)\n",
    "            ele_binned_data = dnl.Spike_to_Binned(ele_spike_data)\n",
    "            decoding_acc = dnl.decoding_accuracy(ele_binned_data, k=n_neighbors, rep_num=reps, training_prop=training)\n",
    "            avg_decoding_acc = np.mean(decoding_acc)\n",
    "            if ele_num < 1600:\n",
    "                to_add = [bird_id, ele_num, \"Left\", dnl.get_adaptation_rate(ele_spike_data)[ele_num],avg_decoding_acc, decoding_acc]\n",
    "                final_df = final_df.append(pd.DataFrame([to_add], columns=c)) \n",
    "            else:\n",
    "                to_add = [bird_id, ele_num, \"Right\", dnl.get_adaptation_rate(ele_spike_data)[ele_num], avg_decoding_acc, decoding_acc]\n",
    "                final_df = final_df.append(pd.DataFrame([to_add], columns=c))\n",
    "        print str(n)+\" Experiments Analyzed\"\n",
    "        n+=1\n",
    "    return final_df.reset_index(drop=True)"
   ]
  },
  {
   "cell_type": "code",
   "execution_count": 23,
   "metadata": {},
   "outputs": [
    {
     "data": {
      "text/plain": [
       "array([1, 2, 3, 4, 5, 6, 7, 8])"
      ]
     },
     "execution_count": 23,
     "metadata": {},
     "output_type": "execute_result"
    }
   ],
   "source": [
    "np.unique(np.array(res_block[0].header.stim))"
   ]
  },
  {
   "cell_type": "code",
   "execution_count": null,
   "metadata": {},
   "outputs": [],
   "source": [
    "def decoding_accuracy(electrode, k=15, rep_num=250, training_prop=.5, custom_stim_id=True):\n",
    "    # Generates parameters for acc and trial_sage\n",
    "    num_stim = electrode.stim.shape[0] \n",
    "    total_trials = electrode.header.shape[0]\n",
    "    trials_per_stim = total_trials/num_stim\n",
    "    acc = np.zeros((num_stim, trials_per_stim))\n",
    "    \n",
    "    #2D array #2D array, stim id x the trials per stimulus, increments up by one every time given trial used as target\n",
    "    trial_usage = np.ones((num_stim, trials_per_stim))\n",
    "    \n",
    "    indices = range(0, total_trials)\n",
    "    stim_ids = np.array(electrode.header.stim)\n",
    "    \n",
    "    custom_stim_dict = {}\n",
    "    \n",
    "    if custom_stim_id:\n",
    "        t=1\n",
    "        for stim in electrode.stim:\n",
    "            custom_stim_dict[stim] = t\n",
    "            t+=1\n",
    "\n",
    "    # Creates list of dicts of trial num to stimulus trial sxnum \n",
    "    stim_to_trial = []\n",
    "    for stim_num in electrode.stim:\n",
    "            stim_dict = {}\n",
    "            stim_data = electrode.get_kw_BinnedData(keyword='stim', num=stim_num)\n",
    "            for trial_num in range (0,trials_per_stim):\n",
    "                try:\n",
    "                    overall_trial_num = stim_data.header.iloc[[trial_num]].trial.max()\n",
    "                except:\n",
    "                    continue\n",
    "                stim_dict[overall_trial_num] = trial_num\n",
    "            stim_to_trial.append(stim_dict)\n",
    "\n",
    "    # knn algorithm\n",
    "    for i in range(0,rep_num):\n",
    "        try:\n",
    "            #split data in half\n",
    "            training_bins, target_bins, training_idx, target_idx, training_stim_ids, target_stim_ids = split(electrode.bins, indices, stim_ids, train_size=training_prop, test_size=1-training_prop)\n",
    "            model = knn(n_neighbors=k, metric='euclidean')\n",
    "            model.fit(training_bins, training_stim_ids)\n",
    "            pred = model.predict(target_bins)\n",
    "        except:\n",
    "            continue\n",
    "\n",
    "        #Updates acc and trial usage\n",
    "        for j in range(0, pred.shape[0]):\n",
    "            stim_id= target_stim_ids[j]\n",
    "            trial_num = target_idx[j]+1\n",
    "            if custom_stim_id:\n",
    "                try:\n",
    "                    mod_stim_id = custom_stim_dict[stim_id]\n",
    "                    true_trial_num = stim_to_trial[mod_stim_id-1][trial_num]\n",
    "                    trial_usage[mod_stim_id-1][true_trial_num]+=1\n",
    "                except:\n",
    "                    continue\n",
    "            elif not custom_stim_id:\n",
    "                true_trial_num = stim_to_trial[stim_id-1][trial_num]\n",
    "                trial_usage[stim_id-1][true_trial_num]+=1\n",
    "            if pred[j] == stim_id and custom_stim_id:\n",
    "                acc[mod_stim_id-1][true_trial_num] += 1\n",
    "            if pred[j] == stim_id and not custom_stim_id:  \n",
    "                acc[stim_id-1][true_trial_num] += 1\n",
    "            \n",
    "    final_acc = np.divide(acc, trial_usage)\n",
    "    return final_acc  "
   ]
  },
  {
   "cell_type": "code",
   "execution_count": 15,
   "metadata": {},
   "outputs": [
    {
     "name": "stdout",
     "output_type": "stream",
     "text": [
      "1 Experiments Analyzed\n",
      "2 Experiments Analyzed\n",
      "3 Experiments Analyzed\n",
      "4 Experiments Analyzed\n",
      "5 Experiments Analyzed\n",
      "6 Experiments Analyzed\n",
      "7 Experiments Analyzed\n",
      "8 Experiments Analyzed\n"
     ]
    }
   ],
   "source": [
    "block_df = batch_decoding_accuracy(res_block)"
   ]
  },
  {
   "cell_type": "code",
   "execution_count": 18,
   "metadata": {},
   "outputs": [
    {
     "data": {
      "image/png": "[encoded data removed]",
      "text/plain": [
       "<Figure size 432x288 with 1 Axes>"
      ]
     },
     "metadata": {
      "needs_background": "light"
     },
     "output_type": "display_data"
    }
   ],
   "source": []
  },
  {
   "cell_type": "code",
   "execution_count": null,
   "metadata": {},
   "outputs": [],
   "source": []
  }
 ],
 "metadata": {
  "kernelspec": {
   "display_name": "Python 2",
   "language": "python",
   "name": "python2"
  },
  "language_info": {
   "codemirror_mode": {
    "name": "ipython",
    "version": 2
   },
   "file_extension": ".py",
   "mimetype": "text/x-python",
   "name": "python",
   "nbconvert_exporter": "python",
   "pygments_lexer": "ipython2",
   "version": "2.7.15"
  }
 },
 "nbformat": 4,
 "nbformat_minor": 2
}
