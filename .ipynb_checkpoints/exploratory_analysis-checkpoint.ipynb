{
 "cells": [
  {
   "cell_type": "markdown",
   "metadata": {},
   "source": [
    "### Things to do\n",
    "\n",
    "- Update adaptation rate method\n",
    "    - Check with ming that adaptation rate is the same\n",
    "- Analyze blocked and shuffled data in NCM and Field L\n",
    "    - Check if there is a difference between NCM and Field L\n",
    "    - Determine if there is a loss of decoding accuracy accross stimulus repetition\n",
    "    - Hemispheric differences?\n",
    "    - Analyze single unit data in a similar fashion\n",
    "    - Figure out why part of shuffled data appears to be corrupted\n",
    "   \n",
    "- Analyze contrast data\n",
    "    - Compare decoding accuracy between first and second half of presentations"
   ]
  },
  {
   "cell_type": "code",
   "execution_count": 45,
   "metadata": {},
   "outputs": [],
   "source": [
    "import mdlab as mdl\n",
    "import dnlab as dnl\n",
    "import numpy as np\n",
    "import matplotlib.pylab as plt\n",
    "import seaborn as sns\n",
    "import scipy.stats as sst\n",
    "import pdb"
   ]
  },
  {
   "cell_type": "code",
   "execution_count": 3,
   "metadata": {},
   "outputs": [],
   "source": [
    "frcc=mdl.FRCC()\n",
    "trailing_type = frcc.trailing_type\n",
    "trailing_param = frcc.get_trailing_param(trailing_type)\n",
    "stats_test = frcc.stats_test"
   ]
  },
  {
   "cell_type": "code",
   "execution_count": 4,
   "metadata": {},
   "outputs": [
    {
     "data": {
      "text/plain": [
       "'/Users/david/Documents/blocked.npz'"
      ]
     },
     "execution_count": 4,
     "metadata": {},
     "output_type": "execute_result"
    }
   ],
   "source": [
    "mdl.get_pathname()"
   ]
  },
  {
   "cell_type": "code",
   "execution_count": 7,
   "metadata": {},
   "outputs": [],
   "source": [
    "header, spikes = mdl.load_npz_data('/Users/david/Documents/blocked.npz', False)\n",
    "block = mdl.SpikeData(header, spikes)\n",
    "#mua_block=block.mua_or_sua(\"mua\")\n",
    "sep_mua_block = dnl.separate_npz_data(block)"
   ]
  },
  {
   "cell_type": "code",
   "execution_count": 10,
   "metadata": {},
   "outputs": [
    {
     "name": "stderr",
     "output_type": "stream",
     "text": [
      "/Users/david/anaconda2/lib/python2.7/site-packages/pandas/core/generic.py:4405: SettingWithCopyWarning: \n",
      "A value is trying to be set on a copy of a slice from a DataFrame.\n",
      "Try using .loc[row_indexer,col_indexer] = value instead\n",
      "\n",
      "See the caveats in the documentation: http://pandas.pydata.org/pandas-docs/stable/indexing.html#indexing-view-versus-copy\n",
      "  self[name] = value\n"
     ]
    }
   ],
   "source": [
    "dnl.convert_electrodes(sep_mua_block, n=100)"
   ]
  },
  {
   "cell_type": "code",
   "execution_count": 46,
   "metadata": {},
   "outputs": [],
   "source": [
    "res_block = dnl.res_filter(sep_mua_block)"
   ]
  },
  {
   "cell_type": "code",
   "execution_count": 18,
   "metadata": {},
   "outputs": [
    {
     "data": {
      "text/plain": [
       "array([ 100,  200,  300,  400,  500,  600,  700,  800,  900, 1000, 1100,\n",
       "       1200, 1300, 1400, 1500, 1700, 1800, 1900, 2000, 2100, 2200, 2300,\n",
       "       2400, 2500, 2600, 2700, 2800, 2900, 3000, 3100])"
      ]
     },
     "execution_count": 18,
     "metadata": {},
     "output_type": "execute_result"
    }
   ],
   "source": [
    "res_block[0].electrodes"
   ]
  },
  {
   "cell_type": "code",
   "execution_count": 43,
   "metadata": {},
   "outputs": [],
   "source": [
    "def site_check(site_data, frcc=frcc):\n",
    "    trailing_type = frcc.trailing_type\n",
    "    trailing_param = frcc.get_trailing_param(trailing_type)\n",
    "    p_values = []\n",
    "    for stim in site_data.stim:\n",
    "        stim_data = site_data.get_kw_SpikeData(stim = stim)\n",
    "        #baseline = stim_data.firing_rates(trailing_type, trailing_param, fr_type = 0)\n",
    "        #stimulus = stim_data.firing_rates(trailing_type, trailing_param, fr_type = 1)\n",
    "        #statistics, p_value = sst.wilcoxon(baseline, stimulus)\n",
    "        fr = stim_data.firing_rates(trailing_type, trailing_param, fr_type = 2)\n",
    "        base = np.zeros(len(fr))\n",
    "        statistics, p_value = sst.ttest_rel(fr, base)\n",
    "        #print baseline.shape\n",
    "        p_values.append(p_value)\n",
    "    return np.asarray(p_values)"
   ]
  },
  {
   "cell_type": "code",
   "execution_count": 40,
   "metadata": {},
   "outputs": [],
   "source": [
    "# loop through spike data\n",
    "# loop through electrodes\n",
    "# check if electrode is responding\n",
    "# if responding, add header and spike\n",
    "# combine at the end\n",
    "def res_filter(split_data, p_value= 0.01):\n",
    "    # to prevent enormous amount of warnings\n",
    "    import warnings; warnings.simplefilter('ignore')\n",
    "    res_split_data = []\n",
    "    for spike_data in split_data:\n",
    "        res_ele = []\n",
    "        for ele in spike_data.electrodes:\n",
    "            ele_spike_data = spike_data.get_kw_SpikeData(electrode=ele)\n",
    "            respond = ele_spike_data.res_check()\n",
    "            if respond[\"res\"][0] < p_value:\n",
    "                res_ele.append(ele)\n",
    "        res_data = spike_data.get_kw_SpikeData(electrode = res_ele)\n",
    "        res_split_data.append(res_data)\n",
    "    return res_split_data"
   ]
  },
  {
   "cell_type": "code",
   "execution_count": 208,
   "metadata": {},
   "outputs": [],
   "source": [
    "# loop through spike data\n",
    "# loop through electrodes\n",
    "# check if electrode is responding\n",
    "# if responding, add header and spike\n",
    "# combine at the end\n",
    "def res_filter2(split_data, p_value= 0.05):\n",
    "    # to prevent enormous amount of warnings\n",
    "    import warnings; warnings.simplefilter('ignore')\n",
    "    res_split_data = []\n",
    "    for spike_data in split_data:\n",
    "        res_ele = []\n",
    "        for ele in spike_data.electrodes:\n",
    "            ele_spike_data = spike_data.get_kw_SpikeData(electrode=ele)\n",
    "            respond = ele_spike_data.site_stats()\n",
    "            if len(respond[respond[\"p\"] < 0.05]) != 0:\n",
    "                res_ele.append(ele)\n",
    "        res_data = spike_data.get_kw_SpikeData(electrode = res_ele)\n",
    "        res_split_data.append(res_data)\n",
    "    return res_split_data"
   ]
  },
  {
   "cell_type": "code",
   "execution_count": 245,
   "metadata": {},
   "outputs": [],
   "source": [
    "# loop through spike data\n",
    "# loop through electrodes\n",
    "# check if electrode is responding\n",
    "# if responding, add header and spike\n",
    "# combine at the end\n",
    "def res_filter(split_data, p_value= 0.05):\n",
    "    # to prevent enormous amount of warnings\n",
    "    import warnings; warnings.simplefilter('ignore')\n",
    "    res_split_data = []\n",
    "    for spike_data in split_data:\n",
    "        res_ele = []\n",
    "        for ele in spike_data.electrodes:\n",
    "            ele_spike_data = spike_data.get_kw_SpikeData(electrode=ele)\n",
    "            respond = site_check(ele_spike_data)\n",
    "            r = respond < p_value\n",
    "            if np.any(r) and not np.any(np.isnan((respond))):\n",
    "                res_ele.append(ele)\n",
    "        res_data = spike_data.get_kw_SpikeData(electrode = res_ele)\n",
    "        res_split_data.append(res_data)\n",
    "    return res_split_data"
   ]
  },
  {
   "cell_type": "code",
   "execution_count": null,
   "metadata": {},
   "outputs": [],
   "source": [
    "n =0\n",
    "for ele in sep_mua_block[n].electrodes:\n",
    "    ele_data = sep_mua_block[n].get_kw_SpikeData(electrode = ele)\n",
    "    print mdl.birdid2str(ele_data.birdid[0])\n",
    "    print ele\n",
    "    if ele in res_block[n].electrodes:\n",
    "        print \"Responding\"\n",
    "    else:\n",
    "        print \"Not Responding\"\n",
    "    mdl.raster_plot(ele_data.spikes)\n",
    "    plt.show()"
   ]
  },
  {
   "cell_type": "code",
   "execution_count": null,
   "metadata": {},
   "outputs": [],
   "source": [
    "# loop through spike data\n",
    "# loop through electrodes\n",
    "# check if electrode is responding\n",
    "# if responding, add header and spike\n",
    "# combine at the end\n",
    "def res_filter(split_data, p_value= 0.05):\n",
    "    #res_test = pd.DataFrame(columns=['birdid', 'electrode', 'Z'])\n",
    "    res_header = pd.DataFrame()\n",
    "    res_spikes = []\n",
    "    res_split_data = []\n",
    "    for spike_data in split_data:\n",
    "        for ele in spike_data.electrodes:\n",
    "            ele_spike_data = spike_data.get_kw_SpikeData(electrode=ele)\n",
    "            respond = ele_spike_data.res_check()\n",
    "            if respond[\"res\"][0] < p_value:\n",
    "                res_spikes.append(ele_spike_data.spikes)\n",
    "                res_header = res_header.append(ele_spike_data.header)\n",
    "        #return res_logidx\n",
    "        res_spikes = np.vstack(res_spikes).tolist()\n",
    "        #return res_header\n",
    "        new_spike_data = mdl.SpikeData(res_header, np.asarray(res_spikes))\n",
    "        res_split_data.append(new_spike_data)\n",
    "    return res_split_data"
   ]
  },
  {
   "cell_type": "code",
   "execution_count": 49,
   "metadata": {},
   "outputs": [],
   "source": [
    "# calculates average adaptation rates for each site from trials 5-25 in a SpikeData (or BinnedData)\n",
    "def get_adaptation_rate(SpikeData):\n",
    "    adaptation_rates={}\n",
    "    ele_arr=np.unique(SpikeData.header.electrode)\n",
    "    stim_arr = np.unique(SpikeData.stim)\n",
    "    for i in ele_arr:\n",
    "        ele_data=SpikeData.get_kw_SpikeData(electrode=i)\n",
    "        ele_rates=[]\n",
    "        for j in stim_arr:\n",
    "            stim_data=ele_data.get_kw_SpikeData(stim=j)\n",
    "            fr=stim_data.firing_rates(trailing_type, trailing_param, fr_type = 1)\n",
    "            ar=mdl.adaptation_rate(fr, robust=True)\n",
    "            ele_rates.append(ar)\n",
    "        adaptation_rates[i]=np.mean(ele_rates)\n",
    "    return adaptation_rates"
   ]
  },
  {
   "cell_type": "code",
   "execution_count": 23,
   "metadata": {},
   "outputs": [
    {
     "data": {
      "text/plain": [
       "{100: -0.002659341768975959,\n",
       " 200: -0.003293227302920196,\n",
       " 300: -0.002251246693307384,\n",
       " 400: 0.0011690189654604923,\n",
       " 500: -0.002355694574084602,\n",
       " 600: -0.004629205901556244,\n",
       " 700: -0.00028240705388284787,\n",
       " 800: 0.0007657808890611592,\n",
       " 900: -0.003913691780763907,\n",
       " 1000: -0.00018234896694420448,\n",
       " 1100: -0.00045384199645862803,\n",
       " 1200: -0.08235805615744995,\n",
       " 1300: 6.964045429599534e-05,\n",
       " 1400: 0.002372915460676412,\n",
       " 1500: 0.0005240073774480862,\n",
       " 1700: -0.004958701782596167,\n",
       " 1800: -0.007227149801967045,\n",
       " 1900: -0.004702910294295684,\n",
       " 2000: -0.004563768181703065,\n",
       " 2100: -0.0030973429651516005,\n",
       " 2200: -0.005263320167865381,\n",
       " 2300: -0.006584217587172108,\n",
       " 2400: -0.0031755127211027046,\n",
       " 2500: -0.0014511303282764437,\n",
       " 2600: -0.008514738780353363,\n",
       " 2700: -0.010013695257288775,\n",
       " 2800: -0.00014365333707595966,\n",
       " 2900: -0.0013010020690773787,\n",
       " 3000: -0.005984951599644881,\n",
       " 3100: -0.0024305625122176926}"
      ]
     },
     "execution_count": 23,
     "metadata": {},
     "output_type": "execute_result"
    }
   ],
   "source": [
    "get_adaptation_rate(res_block[0])"
   ]
  },
  {
   "cell_type": "code",
   "execution_count": 51,
   "metadata": {},
   "outputs": [
    {
     "data": {
      "text/plain": [
       "{100: -0.0022290496357153153,\n",
       " 200: -0.00289156711268769,\n",
       " 300: -0.0015443216888649134,\n",
       " 400: 0.0009284307106477083,\n",
       " 500: -0.0016937357862923585,\n",
       " 600: -0.0037331890013940585,\n",
       " 700: 0.0002665310168636694,\n",
       " 800: 0.0011042615486142684,\n",
       " 900: -0.0028973390384685674,\n",
       " 1000: 0.00042643646389629386,\n",
       " 1100: 0.0004982893521107705,\n",
       " 1200: -0.004373383385936208,\n",
       " 1300: 0.0002697256964285908,\n",
       " 1400: 0.0006725706226923231,\n",
       " 1500: 0.0002461322946164248,\n",
       " 1700: -0.0036322775846075296,\n",
       " 1800: -0.0026731991225957255,\n",
       " 1900: -0.003296123277044174,\n",
       " 2000: -0.00323427992466227,\n",
       " 2100: -0.002930736351811019,\n",
       " 2200: -0.0038095850662838897,\n",
       " 2300: -0.004386740379379805,\n",
       " 2400: -0.0023684550604252887,\n",
       " 2500: -0.001359753501540772,\n",
       " 2600: -0.006426499518026438,\n",
       " 2700: -0.007852579650605344,\n",
       " 2800: -0.0002407816052039328,\n",
       " 2900: -0.0008975498127257423,\n",
       " 3000: -0.004331829364470987,\n",
       " 3100: -0.0016271654770848888}"
      ]
     },
     "execution_count": 51,
     "metadata": {},
     "output_type": "execute_result"
    }
   ],
   "source": [
    "get_adaptation_rate(res_block[0])"
   ]
  },
  {
   "cell_type": "code",
   "execution_count": null,
   "metadata": {},
   "outputs": [],
   "source": []
  }
 ],
 "metadata": {
  "kernelspec": {
   "display_name": "Python 2",
   "language": "python",
   "name": "python2"
  },
  "language_info": {
   "codemirror_mode": {
    "name": "ipython",
    "version": 2
   },
   "file_extension": ".py",
   "mimetype": "text/x-python",
   "name": "python",
   "nbconvert_exporter": "python",
   "pygments_lexer": "ipython2",
   "version": "2.7.15"
  }
 },
 "nbformat": 4,
 "nbformat_minor": 2
}
