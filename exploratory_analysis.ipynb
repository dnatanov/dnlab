{
 "cells": [
  {
   "cell_type": "markdown",
   "metadata": {},
   "source": [
    "### Things to do\n",
    "\n",
    "- ?\n",
    "    - Official adaptation rate method\n",
    "    - Hemisphere\n",
    "    - Bin length is +.1 or *.1\n",
    "- Analyze blocked and shuffled data in NCM and Field L\n",
    "    - Check if there is a difference between NCM and Field L\n",
    "    - Determine if there is a loss of decoding accuracy accross stimulus repetition\n",
    "    - Hemispheric differences?\n",
    "    - Analyze single unit data in a similar fashion\n",
    "    - Figure out why part of shuffled data appears to be corrupted\n",
    "   \n",
    "- Analyze contrast data\n",
    "    - Compare decoding accuracy between first and second half of presentations"
   ]
  },
  {
   "cell_type": "code",
   "execution_count": 1,
   "metadata": {},
   "outputs": [],
   "source": [
    "import mdlab as mdl\n",
    "import dnlab as dnl\n",
    "import numpy as np\n",
    "import matplotlib.pylab as plt\n",
    "import seaborn as sns\n",
    "import scipy.stats as sst\n",
    "import pandas as pd\n",
    "import pdb"
   ]
  },
  {
   "cell_type": "code",
   "execution_count": 2,
   "metadata": {},
   "outputs": [],
   "source": [
    "frcc=mdl.FRCC()\n",
    "trailing_type = frcc.trailing_type\n",
    "trailing_param = frcc.get_trailing_param(trailing_type)\n",
    "stats_test = frcc.stats_test"
   ]
  },
  {
   "cell_type": "code",
   "execution_count": 4,
   "metadata": {},
   "outputs": [],
   "source": [
    "fn = mdl.get_pathname()"
   ]
  },
  {
   "cell_type": "code",
   "execution_count": null,
   "metadata": {},
   "outputs": [],
   "source": [
    "fn2 = mdl.get_pathname()"
   ]
  },
  {
   "cell_type": "code",
   "execution_count": null,
   "metadata": {},
   "outputs": [],
   "source": [
    "mdl.batch_mat2npz(\"hv_l_blocked.npz\")"
   ]
  },
  {
   "cell_type": "code",
   "execution_count": 3,
   "metadata": {},
   "outputs": [],
   "source": [
    "fn = mdl.get_pathname()\n",
    "header, spikes = mdl.load_npz_data(fn, False)\n",
    "ncm_block = mdl.SpikeData(header, spikes)\n",
    "ncm_mua_block=ncm_block.mua_or_sua(\"mua\")\n",
    "ncm_sep_mua_block = dnl.separate_npz_data(ncm_mua_block)\n",
    "res_ncm_block = dnl.res_filter(ncm_sep_mua_block)"
   ]
  },
  {
   "cell_type": "code",
   "execution_count": 5,
   "metadata": {},
   "outputs": [
    {
     "ename": "NameError",
     "evalue": "name 'fn2' is not defined",
     "output_type": "error",
     "traceback": [
      "\u001b[1;31m\u001b[0m",
      "\u001b[1;31mNameError\u001b[0mTraceback (most recent call last)",
      "\u001b[1;32m<ipython-input-5-5d65c8fd70ee>\u001b[0m in \u001b[0;36m<module>\u001b[1;34m()\u001b[0m\n\u001b[1;32m----> 1\u001b[1;33m \u001b[0mheader\u001b[0m\u001b[1;33m,\u001b[0m \u001b[0mspikes\u001b[0m \u001b[1;33m=\u001b[0m \u001b[0mmdl\u001b[0m\u001b[1;33m.\u001b[0m\u001b[0mload_npz_data\u001b[0m\u001b[1;33m(\u001b[0m\u001b[0mfn2\u001b[0m\u001b[1;33m,\u001b[0m \u001b[0mFalse\u001b[0m\u001b[1;33m)\u001b[0m\u001b[1;33m\u001b[0m\u001b[0m\n\u001b[0m\u001b[0;32m      2\u001b[0m \u001b[0ml_block\u001b[0m \u001b[1;33m=\u001b[0m \u001b[0mmdl\u001b[0m\u001b[1;33m.\u001b[0m\u001b[0mSpikeData\u001b[0m\u001b[1;33m(\u001b[0m\u001b[0mheader\u001b[0m\u001b[1;33m,\u001b[0m \u001b[0mspikes\u001b[0m\u001b[1;33m)\u001b[0m\u001b[1;33m\u001b[0m\u001b[0m\n\u001b[0;32m      3\u001b[0m \u001b[0ml_mua_block\u001b[0m\u001b[1;33m=\u001b[0m\u001b[0ml_block\u001b[0m\u001b[1;33m.\u001b[0m\u001b[0mmua_or_sua\u001b[0m\u001b[1;33m(\u001b[0m\u001b[1;34m\"mua\"\u001b[0m\u001b[1;33m)\u001b[0m\u001b[1;33m\u001b[0m\u001b[0m\n\u001b[0;32m      4\u001b[0m \u001b[0ml_sep_mua_block\u001b[0m \u001b[1;33m=\u001b[0m \u001b[0mdnl\u001b[0m\u001b[1;33m.\u001b[0m\u001b[0mseparate_npz_data\u001b[0m\u001b[1;33m(\u001b[0m\u001b[0ml_mua_block\u001b[0m\u001b[1;33m)\u001b[0m\u001b[1;33m\u001b[0m\u001b[0m\n\u001b[0;32m      5\u001b[0m \u001b[0mres_l_block\u001b[0m \u001b[1;33m=\u001b[0m \u001b[0mdnl\u001b[0m\u001b[1;33m.\u001b[0m\u001b[0mres_filter\u001b[0m\u001b[1;33m(\u001b[0m\u001b[0mncm_sep_mua_block\u001b[0m\u001b[1;33m)\u001b[0m\u001b[1;33m\u001b[0m\u001b[0m\n",
      "\u001b[1;31mNameError\u001b[0m: name 'fn2' is not defined"
     ]
    }
   ],
   "source": [
    "header, spikes = mdl.load_npz_data(fn2, False)\n",
    "l_block = mdl.SpikeData(header, spikes)\n",
    "l_mua_block=l_block.mua_or_sua(\"mua\")\n",
    "l_sep_mua_block = dnl.separate_npz_data(l_mua_block)\n",
    "res_l_block = dnl.res_filter(ncm_sep_mua_block)"
   ]
  },
  {
   "cell_type": "code",
   "execution_count": null,
   "metadata": {},
   "outputs": [],
   "source": [
    "ncm_df = dnl.batch_decoding_accuracy(res_ncm_block)"
   ]
  },
  {
   "cell_type": "code",
   "execution_count": null,
   "metadata": {},
   "outputs": [],
   "source": [
    "n =0\n",
    "for ele in ncm_sep_mua_block[n].electrodes:\n",
    "    ele_data = ncm_sep_mua_block[n].get_kw_SpikeData(electrode = ele)\n",
    "    print mdl.birdid2str(ele_data.birdid[0])\n",
    "    print ele\n",
    "    if ele in res_ncm_block[n].electrodes:\n",
    "        print \"Responding\"\n",
    "    else:\n",
    "        print \"Not Responding\"\n",
    "    mdl.raster_plot(ele_data.spikes)\n",
    "    plt.show()"
   ]
  },
  {
   "cell_type": "code",
   "execution_count": null,
   "metadata": {},
   "outputs": [],
   "source": [
    "header, spikes = mdl.load_npz_data('/Users/david/Documents/blocked.npz', False)\n",
    "block = mdl.SpikeData(header, spikes)\n",
    "#mua_block=block.mua_or_sua(\"mua\")\n",
    "sep_mua_block = dnl.separate_npz_data(block)"
   ]
  },
  {
   "cell_type": "code",
   "execution_count": 12,
   "metadata": {},
   "outputs": [
    {
     "ename": "NameError",
     "evalue": "name 'sep_mua_block' is not defined",
     "output_type": "error",
     "traceback": [
      "\u001b[1;31m\u001b[0m",
      "\u001b[1;31mNameError\u001b[0mTraceback (most recent call last)",
      "\u001b[1;32m<ipython-input-12-420747b7a768>\u001b[0m in \u001b[0;36m<module>\u001b[1;34m()\u001b[0m\n\u001b[0;32m      1\u001b[0m \u001b[0mn\u001b[0m \u001b[1;33m=\u001b[0m\u001b[1;36m0\u001b[0m\u001b[1;33m\u001b[0m\u001b[0m\n\u001b[1;32m----> 2\u001b[1;33m \u001b[1;32mfor\u001b[0m \u001b[0mele\u001b[0m \u001b[1;32min\u001b[0m \u001b[0msep_mua_block\u001b[0m\u001b[1;33m[\u001b[0m\u001b[0mn\u001b[0m\u001b[1;33m]\u001b[0m\u001b[1;33m.\u001b[0m\u001b[0melectrodes\u001b[0m\u001b[1;33m:\u001b[0m\u001b[1;33m\u001b[0m\u001b[0m\n\u001b[0m\u001b[0;32m      3\u001b[0m     \u001b[0mele_data\u001b[0m \u001b[1;33m=\u001b[0m \u001b[0msep_mua_block\u001b[0m\u001b[1;33m[\u001b[0m\u001b[0mn\u001b[0m\u001b[1;33m]\u001b[0m\u001b[1;33m.\u001b[0m\u001b[0mget_kw_SpikeData\u001b[0m\u001b[1;33m(\u001b[0m\u001b[0melectrode\u001b[0m \u001b[1;33m=\u001b[0m \u001b[0mele\u001b[0m\u001b[1;33m)\u001b[0m\u001b[1;33m\u001b[0m\u001b[0m\n\u001b[0;32m      4\u001b[0m     \u001b[1;32mprint\u001b[0m \u001b[0mmdl\u001b[0m\u001b[1;33m.\u001b[0m\u001b[0mbirdid2str\u001b[0m\u001b[1;33m(\u001b[0m\u001b[0mele_data\u001b[0m\u001b[1;33m.\u001b[0m\u001b[0mbirdid\u001b[0m\u001b[1;33m[\u001b[0m\u001b[1;36m0\u001b[0m\u001b[1;33m]\u001b[0m\u001b[1;33m)\u001b[0m\u001b[1;33m\u001b[0m\u001b[0m\n\u001b[0;32m      5\u001b[0m     \u001b[1;32mprint\u001b[0m \u001b[0mele\u001b[0m\u001b[1;33m\u001b[0m\u001b[0m\n",
      "\u001b[1;31mNameError\u001b[0m: name 'sep_mua_block' is not defined"
     ]
    }
   ],
   "source": [
    "n =0\n",
    "for ele in sep_mua_block[n].electrodes:\n",
    "    ele_data = sep_mua_block[n].get_kw_SpikeData(electrode = ele)\n",
    "    print mdl.birdid2str(ele_data.birdid[0])\n",
    "    print ele\n",
    "    if ele in res_block[n].electrodes:\n",
    "        print \"Responding\"\n",
    "    else:\n",
    "        print \"Not Responding\"\n",
    "    mdl.raster_plot(ele_data.spikes)\n",
    "    plt.show()"
   ]
  },
  {
   "cell_type": "code",
   "execution_count": 4,
   "metadata": {},
   "outputs": [],
   "source": [
    "from sklearn.neighbors import KNeighborsClassifier as knn\n",
    "from sklearn.neighbors import NearestNeighbors\n",
    "from sklearn.model_selection import train_test_split as split"
   ]
  },
  {
   "cell_type": "code",
   "execution_count": 13,
   "metadata": {},
   "outputs": [],
   "source": [
    "def contrast_decoding_accuracy(electrode, k=15, rep_num=250):\n",
    "    # Generates parameters for acc and trial_usage\n",
    "    num_stim = len(electrode.stim)\n",
    "    total_trials = electrode.header.shape[0]\n",
    "    trials_per_stim = total_trials/num_stim\n",
    "    acc = np.zeros((num_stim, trials_per_stim))\n",
    "    longest_stim = dnl.get_longest_stim(electrode)\n",
    "    #2D array #2D arra`y, stim id x the trials per stimulus, increments up by one every time given trial used as target\n",
    "    trial_usage = np.zeros((num_stim, trials_per_stim))\n",
    "\n",
    "    training_data = dnl.Spike_to_Binned(electrode.get_kw_SpikeData(trial = range(1, 161)), custom_stim_length = longest_stim)\n",
    "    training_bins = training_data.bins\n",
    "    training_idx = training_data.header.index.values\n",
    "    training_stim_ids=np.array(training_data.header.stim)\n",
    "    \n",
    "    target_data = dnl.Spike_to_Binned(electrode.get_kw_SpikeData(trial = range(161, 321)), custom_stim_length = longest_stim)\n",
    "    target_bins = target_data.bins\n",
    "    target_idx = target_data.header.index.values\n",
    "    target_stim_ids=np.array(target_data.header.stim)\n",
    "    \n",
    "    model = knn(n_neighbors=k, metric='euclidean')\n",
    "    model.fit(training_bins, training_stim_ids)\n",
    "    pred = model.predict(target_bins)\n",
    "    pdb.set_trace()\n",
    "\n",
    "\n",
    "\n",
    "\n",
    "    #Checks to see if predictions are correct\n",
    "    for j in range(0, pred.shape[0]):\n",
    "        stim_id= target_stim_ids[j]\n",
    "        idx = target_idx[j]\n",
    "        stim_data = electrode.get_kw_SpikeData(stim=stim_id)\n",
    "        net_trial_num = stim_data.header.loc[idx:idx].trial.max()\n",
    "        mod_stim_data_header = stim_data.header.reset_index()\n",
    "        true_trial_num = mod_stim_data_header[(mod_stim_data_header[\"trial\"] == net_trial_num)].index[0]\n",
    "        #increament trial usageb\n",
    "        trial_usage[stim_id-1][true_trial_num]+=1\n",
    "        if pred[j] == stim_id:\n",
    "            acc[stim_id-1][true_trial_num] += 1\n",
    "            \n",
    "    final_acc = np.divide(acc, trial_usage)\n",
    "    return final_acc "
   ]
  },
  {
   "cell_type": "code",
   "execution_count": 14,
   "metadata": {},
   "outputs": [
    {
     "name": "stdout",
     "output_type": "stream",
     "text": [
      "> <ipython-input-13-5cddf4c084c8>(29)contrast_decoding_accuracy()\n",
      "-> for j in range(0, pred.shape[0]):\n"
     ]
    },
    {
     "name": "stdin",
     "output_type": "stream",
     "text": [
      "(Pdb)  pred\n"
     ]
    },
    {
     "name": "stdout",
     "output_type": "stream",
     "text": [
      "array([2, 3, 2, 2, 2, 1, 2, 3, 2, 3, 3, 2, 2, 1, 2, 3, 2, 1, 3, 2, 2, 3,\n",
      "       2, 3, 4, 2, 2, 2, 2, 2, 3, 2, 3, 2, 2, 2, 3, 2, 2, 2, 1, 1, 2, 3,\n",
      "       3, 2, 2, 2, 2, 1, 3, 2, 2, 2, 2, 2, 3, 4, 1, 2, 2, 3, 2, 2, 2, 2,\n",
      "       2, 2, 3, 4, 3, 2, 2, 2, 2, 4, 2, 2, 2, 1, 1, 1, 2, 2, 3, 4, 2, 2,\n",
      "       3, 3, 2, 2, 1, 2, 2, 2, 1, 2, 1, 2, 2, 2, 2, 2, 3, 2, 2, 1, 2, 1,\n",
      "       1, 2, 1, 1, 2, 1, 2, 2, 2, 3, 3, 2, 2, 1, 2, 2, 2, 1, 2, 3, 1, 2,\n",
      "       4, 2, 2, 3, 2, 2, 3, 4, 3, 3, 3, 3, 2, 1, 2, 1, 2, 2, 2, 2, 3, 2,\n",
      "       2, 2, 2, 2, 2, 2])\n"
     ]
    },
    {
     "name": "stdin",
     "output_type": "stream",
     "text": [
      "(Pdb)  pred.shape\n"
     ]
    },
    {
     "name": "stdout",
     "output_type": "stream",
     "text": [
      "(160L,)\n"
     ]
    },
    {
     "name": "stdin",
     "output_type": "stream",
     "text": [
      "(Pdb)  model\n"
     ]
    },
    {
     "name": "stdout",
     "output_type": "stream",
     "text": [
      "KNeighborsClassifier(algorithm='auto', leaf_size=30, metric='euclidean',\n",
      "           metric_params=None, n_jobs=None, n_neighbors=15, p=2,\n",
      "           weights='uniform')\n"
     ]
    },
    {
     "name": "stdin",
     "output_type": "stream",
     "text": [
      "(Pdb)  training_bins\n"
     ]
    },
    {
     "name": "stdout",
     "output_type": "stream",
     "text": [
      "array([[-0.60898352, -0.60898352, -0.60898352, ...,  0.89172587,\n",
      "         0.89172587, -0.60898352],\n",
      "       [-0.51097613, -0.51097613, -0.51097613, ...,  1.25189152,\n",
      "        -0.51097613, -0.51097613],\n",
      "       [-0.65863846, -0.65863846, -0.65863846, ..., -0.65863846,\n",
      "        -0.65863846,  0.35127385],\n",
      "       ...,\n",
      "       [-0.38729833, -0.38729833, -0.38729833, ..., -0.38729833,\n",
      "        -0.38729833, -0.38729833],\n",
      "       [-0.56433265,  1.38261499, -0.56433265, ..., -0.56433265,\n",
      "        -0.56433265, -0.56433265],\n",
      "       [-0.48717735,  1.75383847,  1.75383847, ..., -0.48717735,\n",
      "        -0.48717735, -0.48717735]])\n"
     ]
    },
    {
     "name": "stdin",
     "output_type": "stream",
     "text": [
      "(Pdb)  training_bins.shape\n"
     ]
    },
    {
     "name": "stdout",
     "output_type": "stream",
     "text": [
      "(160L, 69L)\n"
     ]
    },
    {
     "name": "stdin",
     "output_type": "stream",
     "text": [
      "(Pdb)  target_bins\n"
     ]
    },
    {
     "name": "stdout",
     "output_type": "stream",
     "text": [
      "array([[-0.71646768, -0.71646768, -0.71646768, ..., -0.71646768,\n",
      "         0.43321301, -0.71646768],\n",
      "       [-0.5891883 , -0.5891883 , -0.5891883 , ..., -0.5891883 ,\n",
      "        -0.5891883 , -0.5891883 ],\n",
      "       [-0.71904192, -0.71904192, -0.71904192, ..., -0.71904192,\n",
      "        -0.71904192, -0.71904192],\n",
      "       ...,\n",
      "       [-0.66426897, -0.66426897, -0.66426897, ..., -0.66426897,\n",
      "        -0.66426897,  1.09859868],\n",
      "       [-0.57814716, -0.57814716, -0.57814716, ..., -0.57814716,\n",
      "         3.04841232, -0.57814716],\n",
      "       [ 1.29856057, -0.60783686, -0.60783686, ...,  1.29856057,\n",
      "        -0.60783686, -0.60783686]])\n"
     ]
    },
    {
     "name": "stdin",
     "output_type": "stream",
     "text": [
      "(Pdb)  target_bins.shape\n"
     ]
    },
    {
     "name": "stdout",
     "output_type": "stream",
     "text": [
      "(160L, 69L)\n"
     ]
    },
    {
     "name": "stdin",
     "output_type": "stream",
     "text": [
      "(Pdb)  target_stim_ids\n"
     ]
    },
    {
     "name": "stdout",
     "output_type": "stream",
     "text": [
      "array([5, 8, 8, 7, 7, 7, 5, 7, 6, 8, 5, 7, 7, 7, 5, 6, 6, 6, 5, 6, 6, 5,\n",
      "       6, 7, 5, 7, 6, 7, 6, 5, 8, 6, 8, 8, 8, 5, 8, 7, 5, 6, 6, 5, 6, 8,\n",
      "       5, 7, 7, 5, 7, 6, 6, 7, 6, 8, 8, 5, 8, 5, 8, 5, 5, 8, 5, 6, 7, 8,\n",
      "       5, 7, 5, 5, 7, 8, 7, 8, 7, 8, 6, 6, 6, 8, 6, 8, 6, 6, 6, 6, 8, 7,\n",
      "       7, 7, 6, 5, 5, 6, 7, 6, 5, 8, 8, 7, 8, 8, 5, 8, 7, 8, 8, 8, 6, 8,\n",
      "       7, 6, 6, 7, 5, 5, 5, 7, 7, 8, 5, 5, 7, 7, 5, 6, 6, 5, 5, 8, 7, 8,\n",
      "       8, 7, 8, 8, 7, 6, 5, 8, 5, 8, 6, 8, 8, 7, 7, 5, 5, 7, 5, 6, 6, 7,\n",
      "       7, 6, 6, 6, 5, 5])\n"
     ]
    },
    {
     "name": "stdin",
     "output_type": "stream",
     "text": [
      "(Pdb)  q\n"
     ]
    },
    {
     "ename": "BdbQuit",
     "evalue": "",
     "output_type": "error",
     "traceback": [
      "\u001b[1;31m\u001b[0m",
      "\u001b[1;31mBdbQuit\u001b[0mTraceback (most recent call last)",
      "\u001b[1;32m<ipython-input-14-6c5175e770dc>\u001b[0m in \u001b[0;36m<module>\u001b[1;34m()\u001b[0m\n\u001b[1;32m----> 1\u001b[1;33m \u001b[0mq\u001b[0m \u001b[1;33m=\u001b[0m \u001b[0mcontrast_decoding_accuracy\u001b[0m\u001b[1;33m(\u001b[0m\u001b[0mtest\u001b[0m\u001b[1;33m)\u001b[0m\u001b[1;33m\u001b[0m\u001b[0m\n\u001b[0m",
      "\u001b[1;32m<ipython-input-13-5cddf4c084c8>\u001b[0m in \u001b[0;36mcontrast_decoding_accuracy\u001b[1;34m(electrode, k, rep_num)\u001b[0m\n\u001b[0;32m     27\u001b[0m \u001b[1;33m\u001b[0m\u001b[0m\n\u001b[0;32m     28\u001b[0m     \u001b[1;31m#Checks to see if predictions are correct\u001b[0m\u001b[1;33m\u001b[0m\u001b[1;33m\u001b[0m\u001b[0m\n\u001b[1;32m---> 29\u001b[1;33m     \u001b[1;32mfor\u001b[0m \u001b[0mj\u001b[0m \u001b[1;32min\u001b[0m \u001b[0mrange\u001b[0m\u001b[1;33m(\u001b[0m\u001b[1;36m0\u001b[0m\u001b[1;33m,\u001b[0m \u001b[0mpred\u001b[0m\u001b[1;33m.\u001b[0m\u001b[0mshape\u001b[0m\u001b[1;33m[\u001b[0m\u001b[1;36m0\u001b[0m\u001b[1;33m]\u001b[0m\u001b[1;33m)\u001b[0m\u001b[1;33m:\u001b[0m\u001b[1;33m\u001b[0m\u001b[0m\n\u001b[0m\u001b[0;32m     30\u001b[0m         \u001b[0mstim_id\u001b[0m\u001b[1;33m=\u001b[0m \u001b[0mtarget_stim_ids\u001b[0m\u001b[1;33m[\u001b[0m\u001b[0mj\u001b[0m\u001b[1;33m]\u001b[0m\u001b[1;33m\u001b[0m\u001b[0m\n\u001b[0;32m     31\u001b[0m         \u001b[0midx\u001b[0m \u001b[1;33m=\u001b[0m \u001b[0mtarget_idx\u001b[0m\u001b[1;33m[\u001b[0m\u001b[0mj\u001b[0m\u001b[1;33m]\u001b[0m\u001b[1;33m\u001b[0m\u001b[0m\n",
      "\u001b[1;32m<ipython-input-13-5cddf4c084c8>\u001b[0m in \u001b[0;36mcontrast_decoding_accuracy\u001b[1;34m(electrode, k, rep_num)\u001b[0m\n\u001b[0;32m     27\u001b[0m \u001b[1;33m\u001b[0m\u001b[0m\n\u001b[0;32m     28\u001b[0m     \u001b[1;31m#Checks to see if predictions are correct\u001b[0m\u001b[1;33m\u001b[0m\u001b[1;33m\u001b[0m\u001b[0m\n\u001b[1;32m---> 29\u001b[1;33m     \u001b[1;32mfor\u001b[0m \u001b[0mj\u001b[0m \u001b[1;32min\u001b[0m \u001b[0mrange\u001b[0m\u001b[1;33m(\u001b[0m\u001b[1;36m0\u001b[0m\u001b[1;33m,\u001b[0m \u001b[0mpred\u001b[0m\u001b[1;33m.\u001b[0m\u001b[0mshape\u001b[0m\u001b[1;33m[\u001b[0m\u001b[1;36m0\u001b[0m\u001b[1;33m]\u001b[0m\u001b[1;33m)\u001b[0m\u001b[1;33m:\u001b[0m\u001b[1;33m\u001b[0m\u001b[0m\n\u001b[0m\u001b[0;32m     30\u001b[0m         \u001b[0mstim_id\u001b[0m\u001b[1;33m=\u001b[0m \u001b[0mtarget_stim_ids\u001b[0m\u001b[1;33m[\u001b[0m\u001b[0mj\u001b[0m\u001b[1;33m]\u001b[0m\u001b[1;33m\u001b[0m\u001b[0m\n\u001b[0;32m     31\u001b[0m         \u001b[0midx\u001b[0m \u001b[1;33m=\u001b[0m \u001b[0mtarget_idx\u001b[0m\u001b[1;33m[\u001b[0m\u001b[0mj\u001b[0m\u001b[1;33m]\u001b[0m\u001b[1;33m\u001b[0m\u001b[0m\n",
      "\u001b[1;32mC:\\Users\\Vicario_lab\\Anaconda2\\lib\\bdb.pyc\u001b[0m in \u001b[0;36mtrace_dispatch\u001b[1;34m(self, frame, event, arg)\u001b[0m\n\u001b[0;32m     47\u001b[0m             \u001b[1;32mreturn\u001b[0m \u001b[1;31m# None\u001b[0m\u001b[1;33m\u001b[0m\u001b[0m\n\u001b[0;32m     48\u001b[0m         \u001b[1;32mif\u001b[0m \u001b[0mevent\u001b[0m \u001b[1;33m==\u001b[0m \u001b[1;34m'line'\u001b[0m\u001b[1;33m:\u001b[0m\u001b[1;33m\u001b[0m\u001b[0m\n\u001b[1;32m---> 49\u001b[1;33m             \u001b[1;32mreturn\u001b[0m \u001b[0mself\u001b[0m\u001b[1;33m.\u001b[0m\u001b[0mdispatch_line\u001b[0m\u001b[1;33m(\u001b[0m\u001b[0mframe\u001b[0m\u001b[1;33m)\u001b[0m\u001b[1;33m\u001b[0m\u001b[0m\n\u001b[0m\u001b[0;32m     50\u001b[0m         \u001b[1;32mif\u001b[0m \u001b[0mevent\u001b[0m \u001b[1;33m==\u001b[0m \u001b[1;34m'call'\u001b[0m\u001b[1;33m:\u001b[0m\u001b[1;33m\u001b[0m\u001b[0m\n\u001b[0;32m     51\u001b[0m             \u001b[1;32mreturn\u001b[0m \u001b[0mself\u001b[0m\u001b[1;33m.\u001b[0m\u001b[0mdispatch_call\u001b[0m\u001b[1;33m(\u001b[0m\u001b[0mframe\u001b[0m\u001b[1;33m,\u001b[0m \u001b[0marg\u001b[0m\u001b[1;33m)\u001b[0m\u001b[1;33m\u001b[0m\u001b[0m\n",
      "\u001b[1;32mC:\\Users\\Vicario_lab\\Anaconda2\\lib\\bdb.pyc\u001b[0m in \u001b[0;36mdispatch_line\u001b[1;34m(self, frame)\u001b[0m\n\u001b[0;32m     66\u001b[0m         \u001b[1;32mif\u001b[0m \u001b[0mself\u001b[0m\u001b[1;33m.\u001b[0m\u001b[0mstop_here\u001b[0m\u001b[1;33m(\u001b[0m\u001b[0mframe\u001b[0m\u001b[1;33m)\u001b[0m \u001b[1;32mor\u001b[0m \u001b[0mself\u001b[0m\u001b[1;33m.\u001b[0m\u001b[0mbreak_here\u001b[0m\u001b[1;33m(\u001b[0m\u001b[0mframe\u001b[0m\u001b[1;33m)\u001b[0m\u001b[1;33m:\u001b[0m\u001b[1;33m\u001b[0m\u001b[0m\n\u001b[0;32m     67\u001b[0m             \u001b[0mself\u001b[0m\u001b[1;33m.\u001b[0m\u001b[0muser_line\u001b[0m\u001b[1;33m(\u001b[0m\u001b[0mframe\u001b[0m\u001b[1;33m)\u001b[0m\u001b[1;33m\u001b[0m\u001b[0m\n\u001b[1;32m---> 68\u001b[1;33m             \u001b[1;32mif\u001b[0m \u001b[0mself\u001b[0m\u001b[1;33m.\u001b[0m\u001b[0mquitting\u001b[0m\u001b[1;33m:\u001b[0m \u001b[1;32mraise\u001b[0m \u001b[0mBdbQuit\u001b[0m\u001b[1;33m\u001b[0m\u001b[0m\n\u001b[0m\u001b[0;32m     69\u001b[0m         \u001b[1;32mreturn\u001b[0m \u001b[0mself\u001b[0m\u001b[1;33m.\u001b[0m\u001b[0mtrace_dispatch\u001b[0m\u001b[1;33m\u001b[0m\u001b[0m\n\u001b[0;32m     70\u001b[0m \u001b[1;33m\u001b[0m\u001b[0m\n",
      "\u001b[1;31mBdbQuit\u001b[0m: "
     ]
    }
   ],
   "source": [
    "q = contrast_decoding_accuracy(test)"
   ]
  },
  {
   "cell_type": "code",
   "execution_count": 12,
   "metadata": {},
   "outputs": [
    {
     "data": {
      "text/plain": [
       "array([[nan, nan, nan, nan, nan, nan, nan, nan, nan, nan, nan, nan, nan,\n",
       "        nan, nan, nan, nan, nan, nan, nan, nan, nan, nan, nan, nan, nan,\n",
       "        nan, nan, nan, nan, nan, nan, nan, nan, nan, nan, nan, nan, nan,\n",
       "        nan],\n",
       "       [nan, nan, nan, nan, nan, nan, nan, nan, nan, nan, nan, nan, nan,\n",
       "        nan, nan, nan, nan, nan, nan, nan, nan, nan, nan, nan, nan, nan,\n",
       "        nan, nan, nan, nan, nan, nan, nan, nan, nan, nan, nan, nan, nan,\n",
       "        nan],\n",
       "       [nan, nan, nan, nan, nan, nan, nan, nan, nan, nan, nan, nan, nan,\n",
       "        nan, nan, nan, nan, nan, nan, nan, nan, nan, nan, nan, nan, nan,\n",
       "        nan, nan, nan, nan, nan, nan, nan, nan, nan, nan, nan, nan, nan,\n",
       "        nan],\n",
       "       [nan, nan, nan, nan, nan, nan, nan, nan, nan, nan, nan, nan, nan,\n",
       "        nan, nan, nan, nan, nan, nan, nan, nan, nan, nan, nan, nan, nan,\n",
       "        nan, nan, nan, nan, nan, nan, nan, nan, nan, nan, nan, nan, nan,\n",
       "        nan],\n",
       "       [ 0.,  0.,  0.,  0.,  0.,  0.,  0.,  0.,  0.,  0.,  0.,  0.,  0.,\n",
       "         0.,  0.,  0.,  0.,  0.,  0.,  0.,  0.,  0.,  0.,  0.,  0.,  0.,\n",
       "         0.,  0.,  0.,  0.,  0.,  0.,  0.,  0.,  0.,  0.,  0.,  0.,  0.,\n",
       "         0.],\n",
       "       [ 0.,  0.,  0.,  0.,  0.,  0.,  0.,  0.,  0.,  0.,  0.,  0.,  0.,\n",
       "         0.,  0.,  0.,  0.,  0.,  0.,  0.,  0.,  0.,  0.,  0.,  0.,  0.,\n",
       "         0.,  0.,  0.,  0.,  0.,  0.,  0.,  0.,  0.,  0.,  0.,  0.,  0.,\n",
       "         0.],\n",
       "       [ 0.,  0.,  0.,  0.,  0.,  0.,  0.,  0.,  0.,  0.,  0.,  0.,  0.,\n",
       "         0.,  0.,  0.,  0.,  0.,  0.,  0.,  0.,  0.,  0.,  0.,  0.,  0.,\n",
       "         0.,  0.,  0.,  0.,  0.,  0.,  0.,  0.,  0.,  0.,  0.,  0.,  0.,\n",
       "         0.],\n",
       "       [ 0.,  0.,  0.,  0.,  0.,  0.,  0.,  0.,  0.,  0.,  0.,  0.,  0.,\n",
       "         0.,  0.,  0.,  0.,  0.,  0.,  0.,  0.,  0.,  0.,  0.,  0.,  0.,\n",
       "         0.,  0.,  0.,  0.,  0.,  0.,  0.,  0.,  0.,  0.,  0.,  0.,  0.,\n",
       "         0.]])"
      ]
     },
     "execution_count": 12,
     "metadata": {},
     "output_type": "execute_result"
    }
   ],
   "source": [
    "q"
   ]
  },
  {
   "cell_type": "code",
   "execution_count": 7,
   "metadata": {},
   "outputs": [],
   "source": [
    "test = res_ncm_block[0].get_kw_SpikeData(electrode =100)"
   ]
  },
  {
   "cell_type": "code",
   "execution_count": 95,
   "metadata": {},
   "outputs": [],
   "source": [
    "last = x.get_kw_SpikeData(trial = range(161,321))\n",
    "first = x.get_kw_SpikeData(trial = range(1,161))"
   ]
  },
  {
   "cell_type": "code",
   "execution_count": 97,
   "metadata": {},
   "outputs": [
    {
     "data": {
      "text/plain": [
       "0.59"
      ]
     },
     "execution_count": 97,
     "metadata": {},
     "output_type": "execute_result"
    }
   ],
   "source": [
    "dnl.get_longest_stim(first)"
   ]
  },
  {
   "cell_type": "code",
   "execution_count": 98,
   "metadata": {},
   "outputs": [
    {
     "data": {
      "text/plain": [
       "0.53"
      ]
     },
     "execution_count": 98,
     "metadata": {},
     "output_type": "execute_result"
    }
   ],
   "source": [
    "dnl.get_longest_stim(x)"
   ]
  },
  {
   "cell_type": "code",
   "execution_count": 104,
   "metadata": {},
   "outputs": [
    {
     "name": "stdout",
     "output_type": "stream",
     "text": [
      "1\n",
      "0.511111\n",
      "2\n",
      "0.591156\n",
      "3\n",
      "0.593968\n",
      "4\n",
      "0.589977\n",
      "5\n",
      "0.559206\n",
      "6\n",
      "0.542404\n",
      "7\n",
      "0.500159\n",
      "8\n",
      "0.529478\n"
     ]
    }
   ],
   "source": [
    "for stim in x.stim:\n",
    "    print stim\n",
    "    print x.extract_stim_dur(stim)"
   ]
  },
  {
   "cell_type": "code",
   "execution_count": 76,
   "metadata": {},
   "outputs": [],
   "source": [
    "x = z.get_kw_SpikeData(electrode = 300)"
   ]
  },
  {
   "cell_type": "code",
   "execution_count": 77,
   "metadata": {},
   "outputs": [
    {
     "name": "stdout",
     "output_type": "stream",
     "text": [
      "> <ipython-input-75-f24e984f6348>(29)contrast_decoding_accuracy()\n",
      "-> for j in range(0, pred.shape[0]):\n"
     ]
    },
    {
     "name": "stdin",
     "output_type": "stream",
     "text": [
      "(Pdb)  model\n"
     ]
    },
    {
     "name": "stdout",
     "output_type": "stream",
     "text": [
      "KNeighborsClassifier(algorithm='auto', leaf_size=30, metric='euclidean',\n",
      "           metric_params=None, n_jobs=None, n_neighbors=15, p=2,\n",
      "           weights='uniform')\n"
     ]
    },
    {
     "name": "stdin",
     "output_type": "stream",
     "text": [
      "(Pdb)  model.predict(target_bins)\n"
     ]
    },
    {
     "name": "stdout",
     "output_type": "stream",
     "text": [
      "*** ValueError: query data dimension must match training data dimension\n"
     ]
    },
    {
     "name": "stdin",
     "output_type": "stream",
     "text": [
      "(Pdb)  target_bins.shape\n"
     ]
    },
    {
     "name": "stdout",
     "output_type": "stream",
     "text": [
      "(160L, 63L)\n"
     ]
    },
    {
     "name": "stdin",
     "output_type": "stream",
     "text": [
      "(Pdb)  training_bins.shape\n"
     ]
    },
    {
     "name": "stdout",
     "output_type": "stream",
     "text": [
      "(160L, 69L)\n"
     ]
    },
    {
     "name": "stdin",
     "output_type": "stream",
     "text": [
      "(Pdb)  q\n"
     ]
    },
    {
     "ename": "BdbQuit",
     "evalue": "",
     "output_type": "error",
     "traceback": [
      "\u001b[1;31m\u001b[0m",
      "\u001b[1;31mBdbQuit\u001b[0mTraceback (most recent call last)",
      "\u001b[1;32m<ipython-input-77-c461428130b4>\u001b[0m in \u001b[0;36m<module>\u001b[1;34m()\u001b[0m\n\u001b[1;32m----> 1\u001b[1;33m \u001b[0mcontrast_decoding_accuracy\u001b[0m\u001b[1;33m(\u001b[0m\u001b[0mx\u001b[0m\u001b[1;33m)\u001b[0m\u001b[1;33m\u001b[0m\u001b[0m\n\u001b[0m",
      "\u001b[1;32m<ipython-input-75-f24e984f6348>\u001b[0m in \u001b[0;36mcontrast_decoding_accuracy\u001b[1;34m(electrode, k, rep_num)\u001b[0m\n\u001b[0;32m     27\u001b[0m \u001b[1;33m\u001b[0m\u001b[0m\n\u001b[0;32m     28\u001b[0m     \u001b[1;31m#Checks to see if predictions are correct\u001b[0m\u001b[1;33m\u001b[0m\u001b[1;33m\u001b[0m\u001b[0m\n\u001b[1;32m---> 29\u001b[1;33m     \u001b[1;32mfor\u001b[0m \u001b[0mj\u001b[0m \u001b[1;32min\u001b[0m \u001b[0mrange\u001b[0m\u001b[1;33m(\u001b[0m\u001b[1;36m0\u001b[0m\u001b[1;33m,\u001b[0m \u001b[0mpred\u001b[0m\u001b[1;33m.\u001b[0m\u001b[0mshape\u001b[0m\u001b[1;33m[\u001b[0m\u001b[1;36m0\u001b[0m\u001b[1;33m]\u001b[0m\u001b[1;33m)\u001b[0m\u001b[1;33m:\u001b[0m\u001b[1;33m\u001b[0m\u001b[0m\n\u001b[0m\u001b[0;32m     30\u001b[0m         \u001b[0mstim_id\u001b[0m\u001b[1;33m=\u001b[0m \u001b[0mtarget_stim_ids\u001b[0m\u001b[1;33m[\u001b[0m\u001b[0mj\u001b[0m\u001b[1;33m]\u001b[0m\u001b[1;33m\u001b[0m\u001b[0m\n\u001b[0;32m     31\u001b[0m         \u001b[0midx\u001b[0m \u001b[1;33m=\u001b[0m \u001b[0mtarget_idx\u001b[0m\u001b[1;33m[\u001b[0m\u001b[0mj\u001b[0m\u001b[1;33m]\u001b[0m\u001b[1;33m\u001b[0m\u001b[0m\n",
      "\u001b[1;32m<ipython-input-75-f24e984f6348>\u001b[0m in \u001b[0;36mcontrast_decoding_accuracy\u001b[1;34m(electrode, k, rep_num)\u001b[0m\n\u001b[0;32m     27\u001b[0m \u001b[1;33m\u001b[0m\u001b[0m\n\u001b[0;32m     28\u001b[0m     \u001b[1;31m#Checks to see if predictions are correct\u001b[0m\u001b[1;33m\u001b[0m\u001b[1;33m\u001b[0m\u001b[0m\n\u001b[1;32m---> 29\u001b[1;33m     \u001b[1;32mfor\u001b[0m \u001b[0mj\u001b[0m \u001b[1;32min\u001b[0m \u001b[0mrange\u001b[0m\u001b[1;33m(\u001b[0m\u001b[1;36m0\u001b[0m\u001b[1;33m,\u001b[0m \u001b[0mpred\u001b[0m\u001b[1;33m.\u001b[0m\u001b[0mshape\u001b[0m\u001b[1;33m[\u001b[0m\u001b[1;36m0\u001b[0m\u001b[1;33m]\u001b[0m\u001b[1;33m)\u001b[0m\u001b[1;33m:\u001b[0m\u001b[1;33m\u001b[0m\u001b[0m\n\u001b[0m\u001b[0;32m     30\u001b[0m         \u001b[0mstim_id\u001b[0m\u001b[1;33m=\u001b[0m \u001b[0mtarget_stim_ids\u001b[0m\u001b[1;33m[\u001b[0m\u001b[0mj\u001b[0m\u001b[1;33m]\u001b[0m\u001b[1;33m\u001b[0m\u001b[0m\n\u001b[0;32m     31\u001b[0m         \u001b[0midx\u001b[0m \u001b[1;33m=\u001b[0m \u001b[0mtarget_idx\u001b[0m\u001b[1;33m[\u001b[0m\u001b[0mj\u001b[0m\u001b[1;33m]\u001b[0m\u001b[1;33m\u001b[0m\u001b[0m\n",
      "\u001b[1;32mC:\\Users\\Vicario_lab\\Anaconda2\\lib\\bdb.pyc\u001b[0m in \u001b[0;36mtrace_dispatch\u001b[1;34m(self, frame, event, arg)\u001b[0m\n\u001b[0;32m     47\u001b[0m             \u001b[1;32mreturn\u001b[0m \u001b[1;31m# None\u001b[0m\u001b[1;33m\u001b[0m\u001b[0m\n\u001b[0;32m     48\u001b[0m         \u001b[1;32mif\u001b[0m \u001b[0mevent\u001b[0m \u001b[1;33m==\u001b[0m \u001b[1;34m'line'\u001b[0m\u001b[1;33m:\u001b[0m\u001b[1;33m\u001b[0m\u001b[0m\n\u001b[1;32m---> 49\u001b[1;33m             \u001b[1;32mreturn\u001b[0m \u001b[0mself\u001b[0m\u001b[1;33m.\u001b[0m\u001b[0mdispatch_line\u001b[0m\u001b[1;33m(\u001b[0m\u001b[0mframe\u001b[0m\u001b[1;33m)\u001b[0m\u001b[1;33m\u001b[0m\u001b[0m\n\u001b[0m\u001b[0;32m     50\u001b[0m         \u001b[1;32mif\u001b[0m \u001b[0mevent\u001b[0m \u001b[1;33m==\u001b[0m \u001b[1;34m'call'\u001b[0m\u001b[1;33m:\u001b[0m\u001b[1;33m\u001b[0m\u001b[0m\n\u001b[0;32m     51\u001b[0m             \u001b[1;32mreturn\u001b[0m \u001b[0mself\u001b[0m\u001b[1;33m.\u001b[0m\u001b[0mdispatch_call\u001b[0m\u001b[1;33m(\u001b[0m\u001b[0mframe\u001b[0m\u001b[1;33m,\u001b[0m \u001b[0marg\u001b[0m\u001b[1;33m)\u001b[0m\u001b[1;33m\u001b[0m\u001b[0m\n",
      "\u001b[1;32mC:\\Users\\Vicario_lab\\Anaconda2\\lib\\bdb.pyc\u001b[0m in \u001b[0;36mdispatch_line\u001b[1;34m(self, frame)\u001b[0m\n\u001b[0;32m     66\u001b[0m         \u001b[1;32mif\u001b[0m \u001b[0mself\u001b[0m\u001b[1;33m.\u001b[0m\u001b[0mstop_here\u001b[0m\u001b[1;33m(\u001b[0m\u001b[0mframe\u001b[0m\u001b[1;33m)\u001b[0m \u001b[1;32mor\u001b[0m \u001b[0mself\u001b[0m\u001b[1;33m.\u001b[0m\u001b[0mbreak_here\u001b[0m\u001b[1;33m(\u001b[0m\u001b[0mframe\u001b[0m\u001b[1;33m)\u001b[0m\u001b[1;33m:\u001b[0m\u001b[1;33m\u001b[0m\u001b[0m\n\u001b[0;32m     67\u001b[0m             \u001b[0mself\u001b[0m\u001b[1;33m.\u001b[0m\u001b[0muser_line\u001b[0m\u001b[1;33m(\u001b[0m\u001b[0mframe\u001b[0m\u001b[1;33m)\u001b[0m\u001b[1;33m\u001b[0m\u001b[0m\n\u001b[1;32m---> 68\u001b[1;33m             \u001b[1;32mif\u001b[0m \u001b[0mself\u001b[0m\u001b[1;33m.\u001b[0m\u001b[0mquitting\u001b[0m\u001b[1;33m:\u001b[0m \u001b[1;32mraise\u001b[0m \u001b[0mBdbQuit\u001b[0m\u001b[1;33m\u001b[0m\u001b[0m\n\u001b[0m\u001b[0;32m     69\u001b[0m         \u001b[1;32mreturn\u001b[0m \u001b[0mself\u001b[0m\u001b[1;33m.\u001b[0m\u001b[0mtrace_dispatch\u001b[0m\u001b[1;33m\u001b[0m\u001b[0m\n\u001b[0;32m     70\u001b[0m \u001b[1;33m\u001b[0m\u001b[0m\n",
      "\u001b[1;31mBdbQuit\u001b[0m: "
     ]
    }
   ],
   "source": [
    "contrast_decoding_accuracy(x)"
   ]
  },
  {
   "cell_type": "code",
   "execution_count": 22,
   "metadata": {},
   "outputs": [],
   "source": [
    "y = z.get_kw_SpikeData(stim=1, electrode = 100)"
   ]
  },
  {
   "cell_type": "code",
   "execution_count": 88,
   "metadata": {},
   "outputs": [],
   "source": [
    "fn = mdl.get_pathname()\n",
    "header, spikes = mdl.load_npz_data(fn, False)\n",
    "ncm_block = mdl.SpikeData(header, spikes)\n",
    "ncm_mua_block=ncm_block.mua_or_sua(\"mua\")\n",
    "ncm_sep_mua_block = dnl.separate_npz_data(ncm_mua_block)\n",
    "ncm_contrast = dnl.res_filter(ncm_sep_mua_block)"
   ]
  },
  {
   "cell_type": "code",
   "execution_count": 89,
   "metadata": {},
   "outputs": [
    {
     "name": "stdout",
     "output_type": "stream",
     "text": [
      "1 Experiments Analyzed\n",
      "2 Experiments Analyzed\n",
      "3 Experiments Analyzed\n",
      "4 Experiments Analyzed\n",
      "5 Experiments Analyzed\n",
      "6 Experiments Analyzed\n",
      "7 Experiments Analyzed\n",
      "8 Experiments Analyzed\n"
     ]
    }
   ],
   "source": [
    "ncm_c_df = dnl.batch_decoding_accuracy(ncm_contrast)"
   ]
  },
  {
   "cell_type": "code",
   "execution_count": 90,
   "metadata": {},
   "outputs": [],
   "source": [
    "ncm_c_df.to_csv(\"contrast_ncm.csv\")"
   ]
  },
  {
   "cell_type": "code",
   "execution_count": 98,
   "metadata": {},
   "outputs": [],
   "source": [
    "fn = mdl.get_pathname()\n",
    "header, spikes = mdl.load_npz_data(fn, False)\n",
    "ncm_block = mdl.SpikeData(header, spikes)\n",
    "ncm_mua_block=ncm_block.mua_or_sua(\"mua\")\n",
    "ncm_sep_mua_block = dnl.separate_npz_data(ncm_mua_block)\n",
    "l_contrast = dnl.res_filter(ncm_sep_mua_block)"
   ]
  },
  {
   "cell_type": "code",
   "execution_count": 99,
   "metadata": {},
   "outputs": [
    {
     "name": "stdout",
     "output_type": "stream",
     "text": [
      "1 Experiments Analyzed\n",
      "2 Experiments Analyzed\n",
      "3 Experiments Analyzed\n",
      "4 Experiments Analyzed\n",
      "5 Experiments Analyzed\n"
     ]
    }
   ],
   "source": [
    "l_c_df = dnl.batch_decoding_accuracy(l_contrast)\n",
    "l_c_df.to_csv(\"contrast_fieldl.csv\")"
   ]
  },
  {
   "cell_type": "code",
   "execution_count": 105,
   "metadata": {},
   "outputs": [],
   "source": [
    "ncmd = ncm_c_df.average_decoding_accuracy\n",
    "ld = ncm_c_df.average_decoding_accuracy"
   ]
  },
  {
   "cell_type": "code",
   "execution_count": 103,
   "metadata": {},
   "outputs": [
    {
     "data": {
      "text/plain": [
       "Ttest_indResult(statistic=4.440342299434775, pvalue=1.225611472308379e-05)"
      ]
     },
     "execution_count": 103,
     "metadata": {},
     "output_type": "execute_result"
    }
   ],
   "source": [
    "sst.ttest_ind(l_c_df.average_decoding_accuracy, ncm_c_df.average_decoding_accuracy)"
   ]
  },
  {
   "cell_type": "code",
   "execution_count": 113,
   "metadata": {},
   "outputs": [],
   "source": [
    "region = []\n",
    "for x in range(0,len(ncmd)):\n",
    "    region.append(\"NCM\")\n",
    "ncm_c_df[\"region\"] = region"
   ]
  },
  {
   "cell_type": "code",
   "execution_count": 119,
   "metadata": {},
   "outputs": [],
   "source": [
    "l_c_df[\"region\"] = \"Field L\""
   ]
  },
  {
   "cell_type": "code",
   "execution_count": 132,
   "metadata": {},
   "outputs": [],
   "source": [
    "#contrast_df = pd.concat(ncm_c_df, l_c_df)\n",
    "contrast_df = pd.concat([l_c_df, ncm_c_df])"
   ]
  },
  {
   "cell_type": "code",
   "execution_count": 10,
   "metadata": {},
   "outputs": [],
   "source": [
    "fn =  mdl.get_pathname()\n",
    "contrast_df = pd.read_csv(fn)"
   ]
  },
  {
   "cell_type": "code",
   "execution_count": 16,
   "metadata": {},
   "outputs": [],
   "source": []
  },
  {
   "cell_type": "code",
   "execution_count": 28,
   "metadata": {},
   "outputs": [
    {
     "name": "stdout",
     "output_type": "stream",
     "text": [
      "333 total sites\n",
      "204 NCM sites\n",
      "129 Field L sites\n"
     ]
    }
   ],
   "source": [
    "print str(len(contrast_df)) + \" total sites\"\n",
    "print str(len(ncm)) + \" NCM sites\"\n",
    "print str(len(fieldl)) + \" Field L sites\""
   ]
  },
  {
   "cell_type": "code",
   "execution_count": 16,
   "metadata": {},
   "outputs": [],
   "source": [
    "contrast_df = pd.read_csv(\"contrast_df.csv\")\n",
    "ncm = contrast_df[(contrast_df[\"region\"] == \"NCM\")]\n",
    "fieldl = contrast_df[(contrast_df[\"region\"] == \"Field L\")]"
   ]
  },
  {
   "cell_type": "code",
   "execution_count": 29,
   "metadata": {},
   "outputs": [
    {
     "name": "stdout",
     "output_type": "stream",
     "text": [
      "P Value = 1.225611472308379e-05\n"
     ]
    },
    {
     "data": {
      "image/png": "[encoded data removed]",
      "text/plain": [
       "<Figure size 432x288 with 1 Axes>"
      ]
     },
     "metadata": {},
     "output_type": "display_data"
    }
   ],
   "source": [
    "sns.set(font_scale = 1.3)\n",
    "sns.barplot(x=\"region\", y='average_decoding_accuracy', data=contrast_df)\n",
    "stat,pval = sst.ttest_ind(ncm.average_decoding_accuracy , fieldl.average_decoding_accuracy)\n",
    "plt.title(\"Average Decoding Accuracy between NCM and Field L\")\n",
    "print \"P Value = \"+str(pval)\n",
    "plt.show()\n"
   ]
  },
  {
   "cell_type": "code",
   "execution_count": 35,
   "metadata": {},
   "outputs": [
    {
     "name": "stdout",
     "output_type": "stream",
     "text": [
      "P Value = 5.495304411644999e-08\n"
     ]
    },
    {
     "data": {
      "image/png": "[encoded data removed]",
      "text/plain": [
       "<Figure size 432x288 with 1 Axes>"
      ]
     },
     "metadata": {},
     "output_type": "display_data"
    }
   ],
   "source": [
    "sns.set(font_scale = 1.3)\n",
    "sns.barplot(x=\"hemisphere\", y='average_decoding_accuracy', data=ncm)\n",
    "stat,pval = sst.ttest_ind(ncm[(ncm[\"hemisphere\"] == \"Right\")].average_decoding_accuracy , ncm[(ncm[\"hemisphere\"] == \"Left\")].average_decoding_accuracy)\n",
    "plt.title(\"Average Decoding Accuracy Between NCM Left and Right Hemispheres\")\n",
    "print \"P Value = \"+str(pval)"
   ]
  },
  {
   "cell_type": "code",
   "execution_count": 34,
   "metadata": {},
   "outputs": [
    {
     "name": "stdout",
     "output_type": "stream",
     "text": [
      "P Value = 0.012675381675286684\n"
     ]
    },
    {
     "data": {
      "image/png": "[encoded data removed]",
      "text/plain": [
       "<Figure size 432x288 with 1 Axes>"
      ]
     },
     "metadata": {},
     "output_type": "display_data"
    }
   ],
   "source": [
    "sns.set(font_scale = 1.3)\n",
    "sns.barplot(x=\"hemisphere\", y='average_decoding_accuracy', data= fieldl)\n",
    "stat,pval = sst.ttest_ind(fieldl[(fieldl[\"hemisphere\"] == \"Right\")].average_decoding_accuracy , fieldl[(fieldl[\"hemisphere\"] == \"Left\")].average_decoding_accuracy)\n",
    "print \"P Value = \"+str(pval)\n",
    "plt.title(\"Average Decoding Accuracy Between Field L Left and Right Hemispheres\")\n",
    "plt.show()"
   ]
  },
  {
   "cell_type": "code",
   "execution_count": 32,
   "metadata": {},
   "outputs": [
    {
     "data": {
      "image/png": "[encoded data removed]",
      "text/plain": [
       "<Figure size 444.855x360 with 1 Axes>"
      ]
     },
     "metadata": {},
     "output_type": "display_data"
    }
   ],
   "source": [
    "sns.set(font_scale = 1.3)\n",
    "sns.catplot(x='region', y='average_decoding_accuracy', hue='hemisphere', data=contrast_df, kind='bar')\n",
    "plt.show()"
   ]
  },
  {
   "cell_type": "code",
   "execution_count": null,
   "metadata": {},
   "outputs": [],
   "source": [
    "da_list = []\n",
    "for da in ncm.decoding_accuracy.values:\n",
    "    print np.mean(da)\n",
    "    #da_list.append(np.mean(da, axis =0))"
   ]
  },
  {
   "cell_type": "code",
   "execution_count": 64,
   "metadata": {},
   "outputs": [
    {
     "name": "stdout",
     "output_type": "stream",
     "text": [
      "[[0.00787402 0.048      0.         0.         0.10833333 0.15037594\n",
      "  0.         0.03053435 0.05755396 0.         0.01680672 0.01769912\n",
      "  0.         0.03968254 0.05785124 0.05       0.57264957 0.28787879\n",
      "  0.032      0.         0.02542373 0.00813008 0.         0.\n",
      "  0.06722689 0.08695652 0.36153846 0.4214876  0.15625    0.05223881\n",
      "  0.14782609 0.03225806 0.01449275 0.06557377 0.10769231 0.21538462\n",
      "  0.         0.         0.02419355 0.32038835]\n",
      " [0.98561151 0.99122807 0.98449612 0.98058252 0.99173554 0.95275591\n",
      "  0.9921875  0.96774194 0.99173554 0.99166667 0.992      0.99224806\n",
      "  0.96825397 0.93442623 0.99275362 0.99159664 0.99056604 0.99259259\n",
      "  0.96396396 0.99137931 0.875      0.98550725 0.76923077 0.\n",
      "  0.99270073 0.96825397 0.97744361 0.98198198 0.99230769 0.99173554\n",
      "  0.96521739 0.89430894 0.99259259 0.97692308 0.31914894 0.94573643\n",
      "  0.96153846 0.75409836 0.64705882 0.79527559]\n",
      " [0.         0.         0.52       0.         0.42975207 0.\n",
      "  0.53174603 0.         0.12195122 0.328125   0.28461538 0.34751773\n",
      "  0.         0.18461538 0.61344538 0.00729927 0.088      0.\n",
      "  0.096      0.39230769 0.54961832 0.43165468 0.19672131 0.06349206\n",
      "  0.18644068 0.         0.00775194 0.         0.44262295 0.07142857\n",
      "  0.43307087 0.00775194 0.         0.02962963 0.3245614  0.5982906\n",
      "  0.14925373 0.01694915 0.         0.17557252]\n",
      " [0.01709402 0.22881356 0.         0.616      0.09090909 0.\n",
      "  0.         0.         0.         0.02173913 0.38405797 0.\n",
      "  0.35114504 0.00862069 0.08       0.3362069  0.         0.\n",
      "  0.01587302 0.5078125  0.08633094 0.10687023 0.29770992 0.02325581\n",
      "  0.0620155  0.05109489 0.15789474 0.08870968 0.11029412 0.75\n",
      "  0.         0.03361345 0.         0.05645161 0.00833333 0.01538462\n",
      "  0.00763359 0.00775194 0.00769231 0.04237288]\n",
      " [0.59440559 0.1037037  0.37037037 0.61417323 0.29365079 0.04132231\n",
      "  0.17985612 0.12403101 0.01538462 0.01754386 0.0173913  0.43609023\n",
      "  0.168      0.09774436 0.         0.04761905 0.024      0.3015873\n",
      "  0.         0.41258741 0.3963964  0.         0.216      0.06349206\n",
      "  0.05084746 0.04964539 0.07462687 0.         0.2109375  0.\n",
      "  0.39130435 0.05833333 0.25225225 0.0703125  0.48818898 0.13114754\n",
      "  0.44444444 0.3984375  0.42753623 0.17355372]\n",
      " [0.776      0.17213115 0.04424779 0.80769231 0.14179104 0.06034483\n",
      "  0.46721311 0.46616541 0.02290076 0.         0.5        0.\n",
      "  0.43333333 0.37606838 0.03333333 0.         0.         0.03361345\n",
      "  0.248      0.02459016 0.02290076 0.1015625  0.21008403 0.09677419\n",
      "  0.04724409 0.         0.21428571 0.12       0.39130435 0.10619469\n",
      "  0.03787879 0.24031008 0.5        0.1754386  0.312      0.05755396\n",
      "  0.33613445 0.296875   0.04166667 0.4047619 ]\n",
      " [0.00847458 0.1557377  0.00847458 0.18897638 0.0703125  0.01754386\n",
      "  0.29411765 0.02542373 0.04       0.         0.01724138 0.04032258\n",
      "  0.02362205 0.34210526 0.         0.34883721 0.06722689 0.\n",
      "  0.208      0.12096774 0.00729927 0.07258065 0.         0.\n",
      "  0.15037594 0.03007519 0.05882353 0.11347518 0.         0.07142857\n",
      "  0.048      0.624      0.14074074 0.05737705 0.024      0.\n",
      "  0.         0.01408451 0.         0.07971014]\n",
      " [0.         0.02631579 0.12598425 0.         0.05882353 0.\n",
      "  0.         0.81746032 0.07913669 0.0070922  0.32478632 0.12096774\n",
      "  0.01626016 0.30088496 0.01652893 0.         0.         0.\n",
      "  0.00806452 0.23770492 0.04166667 0.         0.03875969 0.34482759\n",
      "  0.         0.00819672 0.         0.         0.1        0.0075188\n",
      "  0.1037037  0.016      0.00833333 0.00740741 0.         0.\n",
      "  0.         0.13445378 0.07352941 0.27586207]]\n"
     ]
    }
   ],
   "source": [
    "for n in np.asarray(ncm.index):\n",
    "    row = ncm.loc[n]\n",
    "    da = np.asarray(row.decoding_accuracy)\n",
    "    print np.meanda\n",
    "    break"
   ]
  },
  {
   "cell_type": "code",
   "execution_count": 60,
   "metadata": {},
   "outputs": [
    {
     "ename": "IndexError",
     "evalue": "tuple index out of range",
     "output_type": "error",
     "traceback": [
      "\u001b[1;31m\u001b[0m",
      "\u001b[1;31mIndexError\u001b[0mTraceback (most recent call last)",
      "\u001b[1;32m<ipython-input-60-28625198b6ec>\u001b[0m in \u001b[0;36m<module>\u001b[1;34m()\u001b[0m\n\u001b[0;32m      3\u001b[0m \u001b[1;32mfor\u001b[0m \u001b[0mn\u001b[0m \u001b[1;32min\u001b[0m \u001b[0mnp\u001b[0m\u001b[1;33m.\u001b[0m\u001b[0masarray\u001b[0m\u001b[1;33m(\u001b[0m\u001b[0mncm\u001b[0m\u001b[1;33m.\u001b[0m\u001b[0mindex\u001b[0m\u001b[1;33m)\u001b[0m\u001b[1;33m:\u001b[0m\u001b[1;33m\u001b[0m\u001b[0m\n\u001b[0;32m      4\u001b[0m     \u001b[0mrow\u001b[0m \u001b[1;33m=\u001b[0m \u001b[0mncm\u001b[0m\u001b[1;33m.\u001b[0m\u001b[0mloc\u001b[0m\u001b[1;33m[\u001b[0m\u001b[0mn\u001b[0m\u001b[1;33m]\u001b[0m\u001b[1;33m\u001b[0m\u001b[0m\n\u001b[1;32m----> 5\u001b[1;33m     \u001b[0mto_add\u001b[0m \u001b[1;33m=\u001b[0m \u001b[1;33m[\u001b[0m\u001b[0mrow\u001b[0m\u001b[1;33m.\u001b[0m\u001b[0mbirdid\u001b[0m\u001b[1;33m,\u001b[0m \u001b[0mrow\u001b[0m\u001b[1;33m.\u001b[0m\u001b[0melectrode\u001b[0m\u001b[1;33m,\u001b[0m \u001b[0mrow\u001b[0m\u001b[1;33m.\u001b[0m\u001b[0mregion\u001b[0m\u001b[1;33m,\u001b[0m \u001b[0mrow\u001b[0m\u001b[1;33m.\u001b[0m\u001b[0mhemisphere\u001b[0m\u001b[1;33m,\u001b[0m \u001b[0mrow\u001b[0m\u001b[1;33m.\u001b[0m\u001b[0maverage_adaptation_rate\u001b[0m\u001b[1;33m,\u001b[0m \u001b[0mrow\u001b[0m\u001b[1;33m.\u001b[0m\u001b[0maverage_decoding_accuracy\u001b[0m\u001b[1;33m,\u001b[0m \u001b[0mnp\u001b[0m\u001b[1;33m.\u001b[0m\u001b[0mmean\u001b[0m\u001b[1;33m(\u001b[0m\u001b[0mrow\u001b[0m\u001b[1;33m.\u001b[0m\u001b[0mdecoding_accuracy\u001b[0m\u001b[1;33m,\u001b[0m \u001b[0maxis\u001b[0m\u001b[1;33m=\u001b[0m\u001b[1;36m0\u001b[0m\u001b[1;33m)\u001b[0m\u001b[1;33m]\u001b[0m\u001b[1;33m\u001b[0m\u001b[0m\n\u001b[0m\u001b[0;32m      6\u001b[0m     \u001b[0mncm2\u001b[0m \u001b[1;33m=\u001b[0m \u001b[0mncm2\u001b[0m\u001b[1;33m.\u001b[0m\u001b[0mappend\u001b[0m\u001b[1;33m(\u001b[0m\u001b[0mpd\u001b[0m\u001b[1;33m.\u001b[0m\u001b[0mDataFrame\u001b[0m\u001b[1;33m(\u001b[0m\u001b[1;33m[\u001b[0m\u001b[0mto_add\u001b[0m\u001b[1;33m]\u001b[0m\u001b[1;33m,\u001b[0m \u001b[0mcolumns\u001b[0m\u001b[1;33m=\u001b[0m\u001b[0mc\u001b[0m\u001b[1;33m)\u001b[0m\u001b[1;33m)\u001b[0m\u001b[1;33m\u001b[0m\u001b[0m\n\u001b[0;32m      7\u001b[0m     \u001b[0mncm2\u001b[0m\u001b[1;33m.\u001b[0m\u001b[0mreset_index\u001b[0m\u001b[1;33m(\u001b[0m\u001b[0mdrop\u001b[0m\u001b[1;33m=\u001b[0m\u001b[0mTrue\u001b[0m\u001b[1;33m)\u001b[0m\u001b[1;33m\u001b[0m\u001b[0m\n",
      "\u001b[1;32mC:\\Users\\Vicario_lab\\Anaconda2\\lib\\site-packages\\numpy\\core\\fromnumeric.pyc\u001b[0m in \u001b[0;36mmean\u001b[1;34m(a, axis, dtype, out, keepdims)\u001b[0m\n\u001b[0;32m   3116\u001b[0m \u001b[1;33m\u001b[0m\u001b[0m\n\u001b[0;32m   3117\u001b[0m     return _methods._mean(a, axis=axis, dtype=dtype,\n\u001b[1;32m-> 3118\u001b[1;33m                           out=out, **kwargs)\n\u001b[0m\u001b[0;32m   3119\u001b[0m \u001b[1;33m\u001b[0m\u001b[0m\n\u001b[0;32m   3120\u001b[0m \u001b[1;33m\u001b[0m\u001b[0m\n",
      "\u001b[1;32mC:\\Users\\Vicario_lab\\Anaconda2\\lib\\site-packages\\numpy\\core\\_methods.pyc\u001b[0m in \u001b[0;36m_mean\u001b[1;34m(a, axis, dtype, out, keepdims)\u001b[0m\n\u001b[0;32m     60\u001b[0m \u001b[1;33m\u001b[0m\u001b[0m\n\u001b[0;32m     61\u001b[0m     \u001b[0mis_float16_result\u001b[0m \u001b[1;33m=\u001b[0m \u001b[0mFalse\u001b[0m\u001b[1;33m\u001b[0m\u001b[0m\n\u001b[1;32m---> 62\u001b[1;33m     \u001b[0mrcount\u001b[0m \u001b[1;33m=\u001b[0m \u001b[0m_count_reduce_items\u001b[0m\u001b[1;33m(\u001b[0m\u001b[0marr\u001b[0m\u001b[1;33m,\u001b[0m \u001b[0maxis\u001b[0m\u001b[1;33m)\u001b[0m\u001b[1;33m\u001b[0m\u001b[0m\n\u001b[0m\u001b[0;32m     63\u001b[0m     \u001b[1;31m# Make this warning show up first\u001b[0m\u001b[1;33m\u001b[0m\u001b[1;33m\u001b[0m\u001b[0m\n\u001b[0;32m     64\u001b[0m     \u001b[1;32mif\u001b[0m \u001b[0mrcount\u001b[0m \u001b[1;33m==\u001b[0m \u001b[1;36m0\u001b[0m\u001b[1;33m:\u001b[0m\u001b[1;33m\u001b[0m\u001b[0m\n",
      "\u001b[1;32mC:\\Users\\Vicario_lab\\Anaconda2\\lib\\site-packages\\numpy\\core\\_methods.pyc\u001b[0m in \u001b[0;36m_count_reduce_items\u001b[1;34m(arr, axis)\u001b[0m\n\u001b[0;32m     53\u001b[0m     \u001b[0mitems\u001b[0m \u001b[1;33m=\u001b[0m \u001b[1;36m1\u001b[0m\u001b[1;33m\u001b[0m\u001b[0m\n\u001b[0;32m     54\u001b[0m     \u001b[1;32mfor\u001b[0m \u001b[0max\u001b[0m \u001b[1;32min\u001b[0m \u001b[0maxis\u001b[0m\u001b[1;33m:\u001b[0m\u001b[1;33m\u001b[0m\u001b[0m\n\u001b[1;32m---> 55\u001b[1;33m         \u001b[0mitems\u001b[0m \u001b[1;33m*=\u001b[0m \u001b[0marr\u001b[0m\u001b[1;33m.\u001b[0m\u001b[0mshape\u001b[0m\u001b[1;33m[\u001b[0m\u001b[0max\u001b[0m\u001b[1;33m]\u001b[0m\u001b[1;33m\u001b[0m\u001b[0m\n\u001b[0m\u001b[0;32m     56\u001b[0m     \u001b[1;32mreturn\u001b[0m \u001b[0mitems\u001b[0m\u001b[1;33m\u001b[0m\u001b[0m\n\u001b[0;32m     57\u001b[0m \u001b[1;33m\u001b[0m\u001b[0m\n",
      "\u001b[1;31mIndexError\u001b[0m: tuple index out of range"
     ]
    }
   ],
   "source": [
    "c = [\"birdid\", \"electrode\", \"region\", \"hemisphere\", \"average_adaptation_rate\", \"average_decoding_accuracy\", \"trial_decoding_accuracy\"]\n",
    "ncm2 = pd.DataFrame(columns = c)\n",
    "for n in np.asarray(ncm.index):\n",
    "    row = ncm.loc[n]\n",
    "    to_add = [row.birdid, row.electrode, row.region, row.hemisphere, row.average_adaptation_rate, row.average_decoding_accuracy, np.mean(row.decoding_accuracy, axis=0)]\n",
    "    ncm2 = ncm2.append(pd.DataFrame([to_add], columns=c))\n",
    "    ncm2.reset_index(drop=True)"
   ]
  },
  {
   "cell_type": "code",
   "execution_count": 158,
   "metadata": {},
   "outputs": [],
   "source": [
    "trial_decoding_acc = []\n",
    "for x in range(0, len(contrast_df)):\n",
    "    trial_decoding_acc.append(np.mean(contrast_df.iloc[x].decoding_accuracy, axis=0))\n",
    "contrast_df[\"trial_decoding_acc\"] = trial_decoding_acc"
   ]
  },
  {
   "cell_type": "code",
   "execution_count": 160,
   "metadata": {},
   "outputs": [],
   "source": [
    "contrast_df.to_csv(\"contrast_df.csv\")"
   ]
  },
  {
   "cell_type": "code",
   "execution_count": null,
   "metadata": {},
   "outputs": [],
   "source": []
  }
 ],
 "metadata": {
  "kernelspec": {
   "display_name": "Python 2",
   "language": "python",
   "name": "python2"
  },
  "language_info": {
   "codemirror_mode": {
    "name": "ipython",
    "version": 2
   },
   "file_extension": ".py",
   "mimetype": "text/x-python",
   "name": "python",
   "nbconvert_exporter": "python",
   "pygments_lexer": "ipython2",
   "version": "2.7.16"
  }
 },
 "nbformat": 4,
 "nbformat_minor": 2
}
