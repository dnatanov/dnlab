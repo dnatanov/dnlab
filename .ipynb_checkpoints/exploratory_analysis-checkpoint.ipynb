{
 "cells": [
  {
   "cell_type": "markdown",
   "metadata": {},
   "source": [
    "### Things to do\n",
    "\n",
    "- ?\n",
    "    - Official adaptation rate method\n",
    "    - Hemisphere\n",
    "    - Bin length is +.1 or *.1\n",
    "- Analyze blocked and shuffled data in NCM and Field L\n",
    "    - Check if there is a difference between NCM and Field L\n",
    "    - Determine if there is a loss of decoding accuracy accross stimulus repetition\n",
    "    - Hemispheric differences?\n",
    "    - Analyze single unit data in a similar fashion\n",
    "    - Figure out why part of shuffled data appears to be corrupted\n",
    "   \n",
    "- Analyze contrast data\n",
    "    - Compare decoding accuracy between first and second half of presentations"
   ]
  },
  {
   "cell_type": "code",
   "execution_count": 87,
   "metadata": {},
   "outputs": [],
   "source": [
    "import mdlab as mdl\n",
    "import dnlab as dnl\n",
    "import numpy as np\n",
    "import matplotlib.pylab as plt\n",
    "import seaborn as sns\n",
    "import scipy.stats as sst\n",
    "import pandas as pd\n",
    "import pdb"
   ]
  },
  {
   "cell_type": "code",
   "execution_count": 2,
   "metadata": {},
   "outputs": [],
   "source": [
    "frcc=mdl.FRCC()\n",
    "trailing_type = frcc.trailing_type\n",
    "trailing_param = frcc.get_trailing_param(trailing_type)\n",
    "stats_test = frcc.stats_test"
   ]
  },
  {
   "cell_type": "code",
   "execution_count": 3,
   "metadata": {},
   "outputs": [],
   "source": [
    "fn = mdl.get_pathname()"
   ]
  },
  {
   "cell_type": "code",
   "execution_count": null,
   "metadata": {},
   "outputs": [],
   "source": [
    "fn2 = mdl.get_pathname()"
   ]
  },
  {
   "cell_type": "code",
   "execution_count": null,
   "metadata": {},
   "outputs": [],
   "source": [
    "mdl.batch_mat2npz(\"hv_l_blocked.npz\")"
   ]
  },
  {
   "cell_type": "code",
   "execution_count": 4,
   "metadata": {},
   "outputs": [],
   "source": [
    "fn = mdl.get_pathname()\n",
    "header, spikes = mdl.load_npz_data(fn, False)\n",
    "ncm_block = mdl.SpikeData(header, spikes)\n",
    "ncm_mua_block=ncm_block.mua_or_sua(\"mua\")\n",
    "ncm_sep_mua_block = dnl.separate_npz_data(ncm_mua_block)\n",
    "res_ncm_block = dnl.res_filter(ncm_sep_mua_block)"
   ]
  },
  {
   "cell_type": "code",
   "execution_count": 5,
   "metadata": {},
   "outputs": [
    {
     "ename": "NameError",
     "evalue": "name 'fn2' is not defined",
     "output_type": "error",
     "traceback": [
      "\u001b[1;31m\u001b[0m",
      "\u001b[1;31mNameError\u001b[0mTraceback (most recent call last)",
      "\u001b[1;32m<ipython-input-5-5d65c8fd70ee>\u001b[0m in \u001b[0;36m<module>\u001b[1;34m()\u001b[0m\n\u001b[1;32m----> 1\u001b[1;33m \u001b[0mheader\u001b[0m\u001b[1;33m,\u001b[0m \u001b[0mspikes\u001b[0m \u001b[1;33m=\u001b[0m \u001b[0mmdl\u001b[0m\u001b[1;33m.\u001b[0m\u001b[0mload_npz_data\u001b[0m\u001b[1;33m(\u001b[0m\u001b[0mfn2\u001b[0m\u001b[1;33m,\u001b[0m \u001b[0mFalse\u001b[0m\u001b[1;33m)\u001b[0m\u001b[1;33m\u001b[0m\u001b[0m\n\u001b[0m\u001b[0;32m      2\u001b[0m \u001b[0ml_block\u001b[0m \u001b[1;33m=\u001b[0m \u001b[0mmdl\u001b[0m\u001b[1;33m.\u001b[0m\u001b[0mSpikeData\u001b[0m\u001b[1;33m(\u001b[0m\u001b[0mheader\u001b[0m\u001b[1;33m,\u001b[0m \u001b[0mspikes\u001b[0m\u001b[1;33m)\u001b[0m\u001b[1;33m\u001b[0m\u001b[0m\n\u001b[0;32m      3\u001b[0m \u001b[0ml_mua_block\u001b[0m\u001b[1;33m=\u001b[0m\u001b[0ml_block\u001b[0m\u001b[1;33m.\u001b[0m\u001b[0mmua_or_sua\u001b[0m\u001b[1;33m(\u001b[0m\u001b[1;34m\"mua\"\u001b[0m\u001b[1;33m)\u001b[0m\u001b[1;33m\u001b[0m\u001b[0m\n\u001b[0;32m      4\u001b[0m \u001b[0ml_sep_mua_block\u001b[0m \u001b[1;33m=\u001b[0m \u001b[0mdnl\u001b[0m\u001b[1;33m.\u001b[0m\u001b[0mseparate_npz_data\u001b[0m\u001b[1;33m(\u001b[0m\u001b[0ml_mua_block\u001b[0m\u001b[1;33m)\u001b[0m\u001b[1;33m\u001b[0m\u001b[0m\n\u001b[0;32m      5\u001b[0m \u001b[0mres_l_block\u001b[0m \u001b[1;33m=\u001b[0m \u001b[0mdnl\u001b[0m\u001b[1;33m.\u001b[0m\u001b[0mres_filter\u001b[0m\u001b[1;33m(\u001b[0m\u001b[0mncm_sep_mua_block\u001b[0m\u001b[1;33m)\u001b[0m\u001b[1;33m\u001b[0m\u001b[0m\n",
      "\u001b[1;31mNameError\u001b[0m: name 'fn2' is not defined"
     ]
    }
   ],
   "source": [
    "header, spikes = mdl.load_npz_data(fn2, False)\n",
    "l_block = mdl.SpikeData(header, spikes)\n",
    "l_mua_block=l_block.mua_or_sua(\"mua\")\n",
    "l_sep_mua_block = dnl.separate_npz_data(l_mua_block)\n",
    "res_l_block = dnl.res_filter(ncm_sep_mua_block)"
   ]
  },
  {
   "cell_type": "code",
   "execution_count": null,
   "metadata": {},
   "outputs": [],
   "source": [
    "ncm_df = dnl.batch_decoding_accuracy(res_ncm_block)"
   ]
  },
  {
   "cell_type": "code",
   "execution_count": null,
   "metadata": {},
   "outputs": [],
   "source": [
    "n =0\n",
    "for ele in ncm_sep_mua_block[n].electrodes:\n",
    "    ele_data = ncm_sep_mua_block[n].get_kw_SpikeData(electrode = ele)\n",
    "    print mdl.birdid2str(ele_data.birdid[0])\n",
    "    print ele\n",
    "    if ele in res_ncm_block[n].electrodes:\n",
    "        print \"Responding\"\n",
    "    else:\n",
    "        print \"Not Responding\"\n",
    "    mdl.raster_plot(ele_data.spikes)\n",
    "    plt.show()"
   ]
  },
  {
   "cell_type": "code",
   "execution_count": 17,
   "metadata": {},
   "outputs": [],
   "source": [
    "z = res_ncm_block[0]"
   ]
  },
  {
   "cell_type": "code",
   "execution_count": null,
   "metadata": {},
   "outputs": [],
   "source": [
    "header, spikes = mdl.load_npz_data('/Users/david/Documents/blocked.npz', False)\n",
    "block = mdl.SpikeData(header, spikes)\n",
    "#mua_block=block.mua_or_sua(\"mua\")\n",
    "sep_mua_block = dnl.separate_npz_data(block)"
   ]
  },
  {
   "cell_type": "code",
   "execution_count": null,
   "metadata": {},
   "outputs": [],
   "source": [
    "res_block = dnl.res_filter(sep_mua_block)"
   ]
  },
  {
   "cell_type": "code",
   "execution_count": 8,
   "metadata": {},
   "outputs": [],
   "source": [
    "def site_check(site_data, frcc=frcc):\n",
    "    trailing_type = frcc.trailing_type\n",
    "    trailing_param = frcc.get_trailing_param(trailing_type)\n",
    "    p_values = []\n",
    "    for stim in site_data.stim:\n",
    "        stim_data = site_data.get_kw_SpikeData(stim = stim)\n",
    "        #baseline = stim_data.firing_rates(trailing_type, trailing_param, fr_type = 0)\n",
    "        #stimulus = stim_data.firing_rates(trailing_type, trailing_param, fr_type = 1)\n",
    "        #statistics, p_value = sst.wilcoxon(baseline, stimulus)\n",
    "        fr = stim_data.firing_rates(trailing_type, trailing_param, fr_type = 2)\n",
    "        base = np.zeros(len(fr))\n",
    "        statistics, p_value = sst.ttest_rel(fr, base)\n",
    "        #print baseline.shape\n",
    "        p_values.append(p_value)\n",
    "    return np.asarray(p_values)"
   ]
  },
  {
   "cell_type": "code",
   "execution_count": 9,
   "metadata": {},
   "outputs": [],
   "source": [
    "# loop through spike data\n",
    "# loop through electrodes\n",
    "# check if electrode is responding\n",
    "# if responding, add header and spike\n",
    "# combine at the end\n",
    "def res_filter(split_data, p_value= 0.01):\n",
    "    # to prevent enormous amount of warnings\n",
    "    import warnings; warnings.simplefilter('ignore')\n",
    "    res_split_data = []\n",
    "    for spike_data in split_data:\n",
    "        res_ele = []\n",
    "        for ele in spike_data.electrodes:\n",
    "            ele_spike_data = spike_data.get_kw_SpikeData(electrode=ele)\n",
    "            respond = ele_spike_data.res_check()\n",
    "            if respond[\"res\"][0] < p_value:\n",
    "                res_ele.append(ele)\n",
    "        res_data = spike_data.get_kw_SpikeData(electrode = res_ele)\n",
    "        res_split_data.append(res_data)\n",
    "    return res_split_data"
   ]
  },
  {
   "cell_type": "code",
   "execution_count": 10,
   "metadata": {},
   "outputs": [],
   "source": [
    "# loop through spike data\n",
    "# loop through electrodes\n",
    "# check if electrode is responding\n",
    "# if responding, add header and spike\n",
    "# combine at the end\n",
    "def res_filter2(split_data, p_value= 0.05):\n",
    "    # to prevent enormous amount of warnings\n",
    "    import warnings; warnings.simplefilter('ignore')\n",
    "    res_split_data = []\n",
    "    for spike_data in split_data:\n",
    "        res_ele = []\n",
    "        for ele in spike_data.electrodes:\n",
    "            ele_spike_data = spike_data.get_kw_SpikeData(electrode=ele)\n",
    "            respond = ele_spike_data.site_stats()\n",
    "            if len(respond[respond[\"p\"] < 0.05]) != 0:\n",
    "                res_ele.append(ele)\n",
    "        res_data = spike_data.get_kw_SpikeData(electrode = res_ele)\n",
    "        res_split_data.append(res_data)\n",
    "    return res_split_data"
   ]
  },
  {
   "cell_type": "code",
   "execution_count": 11,
   "metadata": {},
   "outputs": [],
   "source": [
    "# loop through spike data\n",
    "# loop through electrodes\n",
    "# check if electrode is responding\n",
    "# if responding, add header and spike\n",
    "# combine at the end\n",
    "def res_filter(split_data, p_value= 0.05):\n",
    "    # to prevent enormous amount of warnings\n",
    "    import warnings; warnings.simplefilter('ignore')\n",
    "    res_split_data = []\n",
    "    for spike_data in split_data:\n",
    "        res_ele = []\n",
    "        for ele in spike_data.electrodes:\n",
    "            ele_spike_data = spike_data.get_kw_SpikeData(electrode=ele)\n",
    "            respond = site_check(ele_spike_data)\n",
    "            r = respond < p_value\n",
    "            if np.any(r) and not np.any(np.isnan((respond))):\n",
    "                res_ele.append(ele)\n",
    "        res_data = spike_data.get_kw_SpikeData(electrode = res_ele)\n",
    "        res_split_data.append(res_data)\n",
    "    return res_split_data"
   ]
  },
  {
   "cell_type": "code",
   "execution_count": 12,
   "metadata": {},
   "outputs": [
    {
     "ename": "NameError",
     "evalue": "name 'sep_mua_block' is not defined",
     "output_type": "error",
     "traceback": [
      "\u001b[1;31m\u001b[0m",
      "\u001b[1;31mNameError\u001b[0mTraceback (most recent call last)",
      "\u001b[1;32m<ipython-input-12-420747b7a768>\u001b[0m in \u001b[0;36m<module>\u001b[1;34m()\u001b[0m\n\u001b[0;32m      1\u001b[0m \u001b[0mn\u001b[0m \u001b[1;33m=\u001b[0m\u001b[1;36m0\u001b[0m\u001b[1;33m\u001b[0m\u001b[0m\n\u001b[1;32m----> 2\u001b[1;33m \u001b[1;32mfor\u001b[0m \u001b[0mele\u001b[0m \u001b[1;32min\u001b[0m \u001b[0msep_mua_block\u001b[0m\u001b[1;33m[\u001b[0m\u001b[0mn\u001b[0m\u001b[1;33m]\u001b[0m\u001b[1;33m.\u001b[0m\u001b[0melectrodes\u001b[0m\u001b[1;33m:\u001b[0m\u001b[1;33m\u001b[0m\u001b[0m\n\u001b[0m\u001b[0;32m      3\u001b[0m     \u001b[0mele_data\u001b[0m \u001b[1;33m=\u001b[0m \u001b[0msep_mua_block\u001b[0m\u001b[1;33m[\u001b[0m\u001b[0mn\u001b[0m\u001b[1;33m]\u001b[0m\u001b[1;33m.\u001b[0m\u001b[0mget_kw_SpikeData\u001b[0m\u001b[1;33m(\u001b[0m\u001b[0melectrode\u001b[0m \u001b[1;33m=\u001b[0m \u001b[0mele\u001b[0m\u001b[1;33m)\u001b[0m\u001b[1;33m\u001b[0m\u001b[0m\n\u001b[0;32m      4\u001b[0m     \u001b[1;32mprint\u001b[0m \u001b[0mmdl\u001b[0m\u001b[1;33m.\u001b[0m\u001b[0mbirdid2str\u001b[0m\u001b[1;33m(\u001b[0m\u001b[0mele_data\u001b[0m\u001b[1;33m.\u001b[0m\u001b[0mbirdid\u001b[0m\u001b[1;33m[\u001b[0m\u001b[1;36m0\u001b[0m\u001b[1;33m]\u001b[0m\u001b[1;33m)\u001b[0m\u001b[1;33m\u001b[0m\u001b[0m\n\u001b[0;32m      5\u001b[0m     \u001b[1;32mprint\u001b[0m \u001b[0mele\u001b[0m\u001b[1;33m\u001b[0m\u001b[0m\n",
      "\u001b[1;31mNameError\u001b[0m: name 'sep_mua_block' is not defined"
     ]
    }
   ],
   "source": [
    "n =0\n",
    "for ele in sep_mua_block[n].electrodes:\n",
    "    ele_data = sep_mua_block[n].get_kw_SpikeData(electrode = ele)\n",
    "    print mdl.birdid2str(ele_data.birdid[0])\n",
    "    print ele\n",
    "    if ele in res_block[n].electrodes:\n",
    "        print \"Responding\"\n",
    "    else:\n",
    "        print \"Not Responding\"\n",
    "    mdl.raster_plot(ele_data.spikes)\n",
    "    plt.show()"
   ]
  },
  {
   "cell_type": "code",
   "execution_count": 13,
   "metadata": {},
   "outputs": [],
   "source": [
    "# loop through spike data\n",
    "# loop through electrodes\n",
    "# check if electrode is responding\n",
    "# if responding, add header and spike\n",
    "# combine at the end\n",
    "def res_filter(split_data, p_value= 0.05):\n",
    "    #res_test = pd.DataFrame(columns=['birdid', 'electrode', 'Z'])\n",
    "    res_header = pd.DataFrame()\n",
    "    res_spikes = []\n",
    "    res_split_data = []\n",
    "    for spike_data in split_data:\n",
    "        for ele in spike_data.electrodes:\n",
    "            ele_spike_data = spike_data.get_kw_SpikeData(electrode=ele)\n",
    "            respond = ele_spike_data.res_check()\n",
    "            if respond[\"res\"][0] < p_value:\n",
    "                res_spikes.append(ele_spike_data.spikes)\n",
    "                res_header = res_header.append(ele_spike_data.header)\n",
    "        #return res_logidx\n",
    "        res_spikes = np.vstack(res_spikes).tolist()\n",
    "        #return res_header\n",
    "        new_spike_data = mdl.SpikeData(res_header, np.asarray(res_spikes))\n",
    "        res_split_data.append(new_spike_data)\n",
    "    return res_split_data"
   ]
  },
  {
   "cell_type": "code",
   "execution_count": 14,
   "metadata": {},
   "outputs": [],
   "source": [
    "# calculates average adaptation rates for each site from trials 5-25 in a SpikeData (or BinnedData)\n",
    "def get_adaptation_rate(SpikeData):\n",
    "    adaptation_rates={}\n",
    "    ele_arr=np.unique(SpikeData.header.electrode)\n",
    "    stim_arr = np.unique(SpikeData.stim)\n",
    "    for i in ele_arr:\n",
    "        ele_data=SpikeData.get_kw_SpikeData(electrode=i)\n",
    "        ele_rates=[]\n",
    "        for j in stim_arr:\n",
    "            stim_data=ele_data.get_kw_SpikeData(stim=j)\n",
    "            fr=stim_data.firing_rates(trailing_type, trailing_param, fr_type = 1)\n",
    "            ar=mdl.adaptation_rate(fr, robust=True)\n",
    "            ele_rates.append(ar)\n",
    "        adaptation_rates[i]=np.mean(ele_rates)\n",
    "    return adaptation_rates"
   ]
  },
  {
   "cell_type": "code",
   "execution_count": 15,
   "metadata": {},
   "outputs": [],
   "source": [
    "# does the knn algorithm on an array of experiments\n",
    "def batch_decoding_accuracy(split_data, n_neighbors=15, reps=250, training=.5):\n",
    "    # Runs the decoding accuracy KNN algorithm on an array of spike data objects\n",
    "    # split_data is the spike data array, bird_ele_class is a dataframe containing all responding electrodes and the \n",
    "    # region they are from.    \n",
    "    # n neighbors is the amount of neighbors for the knn algorithm\n",
    "    # reps is the amount of repitions of the algorithm to run\n",
    "    # training is the training proportion\n",
    "    \n",
    "    c = ['birdid','electrode', 'hemisphere', 'average_adaptation_rate','average_decoding_accuracy','decoding_accuracy']\n",
    "    final_df = pd.DataFrame(columns = c)\n",
    "    #loops through split data\n",
    "    n = 1\n",
    "    for spike_data in split_data:\n",
    "        ele_num_arr = spike_data.electrodes\n",
    "        bird_tag = chr(int(str(spike_data.birdid[0])[0:2])) + chr(int(str(spike_data.birdid[0])[2:4]))\n",
    "        bird_id = bird_tag + str(spike_data.birdid[0])[-5:-2]\n",
    "        for x, ele_num in enumerate(ele_num_arr):\n",
    "            ele_spike_data = spike_data.get_kw_SpikeData(electrode = ele_num)\n",
    "            ele_binned_data = dnl.Spike_to_Binned(ele_spike_data)\n",
    "            decoding_acc = dnl.decoding_accuracy(ele_binned_data, k=n_neighbors, rep_num=reps, training_prop=training)\n",
    "            avg_decoding_acc = np.mean(decoding_acc)\n",
    "            if ele_num < 1600:\n",
    "                to_add = [bird_id, ele_num, \"Left\", dnl.get_adaptation_rate(ele_spike_data)[ele_num],avg_decoding_acc, decoding_acc]\n",
    "                final_df = final_df.append(pd.DataFrame([to_add], columns=c)) \n",
    "            else:\n",
    "                to_add = [bird_id, ele_num, \"Right\", dnl.get_adaptation_rate(ele_spike_data)[ele_num], avg_decoding_acc, decoding_acc]\n",
    "                final_df = final_df.append(pd.DataFrame([to_add], columns=c))\n",
    "        print str(n)+\" Experiments Analyzed\"\n",
    "        n+=1\n",
    "    return final_df.reset_index(drop=True)"
   ]
  },
  {
   "cell_type": "code",
   "execution_count": 22,
   "metadata": {},
   "outputs": [],
   "source": [
    "y = z.get_kw_SpikeData(stim=1, electrode = 100)"
   ]
  },
  {
   "cell_type": "code",
   "execution_count": 16,
   "metadata": {},
   "outputs": [],
   "source": [
    "from sklearn.neighbors import KNeighborsClassifier as knn\n",
    "from sklearn.neighbors import NearestNeighbors\n",
    "from sklearn.model_selection import train_test_split as split"
   ]
  },
  {
   "cell_type": "code",
   "execution_count": 78,
   "metadata": {},
   "outputs": [],
   "source": [
    "\n",
    "def decoding_accuracy(electrode, k=15, rep_num=1000, training_prop=.5, custom_stim_id=True):\n",
    "    # Generates parameters for acc and trial_sage\n",
    "    num_stim = electrode.stim.shape[0] \n",
    "    total_trials = electrode.header.shape[0]\n",
    "    trials_per_stim = total_trials/num_stim\n",
    "    acc = np.zeros((num_stim, trials_per_stim))\n",
    "    \n",
    "    #2D array #2D array, stim id x the trials per stimulus, increments up by one every time given trial used as target\n",
    "    trial_usage = np.ones((num_stim, trials_per_stim))\n",
    "    \n",
    "    indices = range(0, total_trials)\n",
    "    stim_ids = np.array(electrode.header.stim)\n",
    "    \n",
    "    custom_stim_dict = {}\n",
    "    \n",
    "    if custom_stim_id:\n",
    "        t=1\n",
    "        for stim in electrode.stim:\n",
    "            custom_stim_dict[stim] = t\n",
    "            t+=1\n",
    "\n",
    "    # Creates list of dicts of trial num to stimulus trial sxnum \n",
    "    stim_to_trial = []\n",
    "    for stim_num in electrode.stim:\n",
    "            stim_dict = {}\n",
    "            stim_data = electrode.get_kw_BinnedData(keyword='stim', num=stim_num)\n",
    "            for trial_num in range (0,trials_per_stim):\n",
    "                try:\n",
    "                    overall_trial_num = stim_data.header.iloc[[trial_num]].trial.max()\n",
    "                except:\n",
    "                    continue\n",
    "                stim_dict[overall_trial_num] = trial_num\n",
    "            stim_to_trial.append(stim_dict)\n",
    "\n",
    "    # knn algorithm\n",
    "    for i in range(0,rep_num):\n",
    "        try:\n",
    "            #split data in half\n",
    "            training_bins, target_bins, training_idx, target_idx, training_stim_ids, target_stim_ids = split(electrode.bins, indices, stim_ids, train_size=training_prop, test_size=1-training_prop)\n",
    "            model = knn(n_neighbors=k, metric='euclidean')\n",
    "            model.fit(training_bins, training_stim_ids)\n",
    "            pred = model.predict(target_bins)\n",
    "        except:\n",
    "            continue\n",
    "\n",
    "        #Updates acc and trial usage\n",
    "        for j in range(0, pred.shape[0]):\n",
    "            stim_id= target_stim_ids[j]\n",
    "            trial_num = target_idx[j]+1\n",
    "            if custom_stim_id:\n",
    "                try:\n",
    "                    mod_stim_id = custom_stim_dict[stim_id]\n",
    "                    true_trial_num = stim_to_trial[mod_stim_id-1][trial_num]\n",
    "                    trial_usage[mod_stim_id-1][true_trial_num]+=1\n",
    "                except:\n",
    "                    continue\n",
    "            elif not custom_stim_id:\n",
    "                true_trial_num = stim_to_trial[stim_id-1][trial_num]\n",
    "                trial_usage[stim_id-1][true_trial_num]+=1\n",
    "            if pred[j] == stim_id and custom_stim_id:\n",
    "                acc[mod_stim_id-1][true_trial_num] += 1\n",
    "            if pred[j] == stim_id and not custom_stim_id:  \n",
    "                acc[stim_id-1][true_trial_num] += 1\n",
    "            \n",
    "    final_acc = np.divide(acc, trial_usage)\n",
    "    return final_acc  "
   ]
  },
  {
   "cell_type": "code",
   "execution_count": 88,
   "metadata": {},
   "outputs": [],
   "source": [
    "fn = mdl.get_pathname()\n",
    "header, spikes = mdl.load_npz_data(fn, False)\n",
    "ncm_block = mdl.SpikeData(header, spikes)\n",
    "ncm_mua_block=ncm_block.mua_or_sua(\"mua\")\n",
    "ncm_sep_mua_block = dnl.separate_npz_data(ncm_mua_block)\n",
    "ncm_contrast = dnl.res_filter(ncm_sep_mua_block)"
   ]
  },
  {
   "cell_type": "code",
   "execution_count": 89,
   "metadata": {},
   "outputs": [
    {
     "name": "stdout",
     "output_type": "stream",
     "text": [
      "1 Experiments Analyzed\n",
      "2 Experiments Analyzed\n",
      "3 Experiments Analyzed\n",
      "4 Experiments Analyzed\n",
      "5 Experiments Analyzed\n",
      "6 Experiments Analyzed\n",
      "7 Experiments Analyzed\n",
      "8 Experiments Analyzed\n"
     ]
    }
   ],
   "source": [
    "ncm_c_df = dnl.batch_decoding_accuracy(ncm_contrast)"
   ]
  },
  {
   "cell_type": "code",
   "execution_count": 90,
   "metadata": {},
   "outputs": [],
   "source": [
    "ncm_c_df.to_csv(\"contrast_ncm.csv\")"
   ]
  },
  {
   "cell_type": "code",
   "execution_count": 92,
   "metadata": {},
   "outputs": [
    {
     "data": {
      "text/plain": [
       "0.6003293026846425"
      ]
     },
     "execution_count": 92,
     "metadata": {},
     "output_type": "execute_result"
    }
   ],
   "source": [
    "np.mean(ncm_c_df.average_decoding_accuracy)"
   ]
  },
  {
   "cell_type": "code",
   "execution_count": 97,
   "metadata": {},
   "outputs": [
    {
     "name": "stdout",
     "output_type": "stream",
     "text": [
      "matrix_NT077__speech_.mat\n",
      "matrix_WE067__speech_.mat\n",
      "matrix_WE084__speech_.mat\n",
      "matrix_WE094__speech_.mat\n",
      "matrix_WE100__speech_.mat\n"
     ]
    }
   ],
   "source": [
    "mdl.batch_mat2npz(\"hv_fieldl_contrast.npz\")"
   ]
  },
  {
   "cell_type": "code",
   "execution_count": 98,
   "metadata": {},
   "outputs": [],
   "source": [
    "fn = mdl.get_pathname()\n",
    "header, spikes = mdl.load_npz_data(fn, False)\n",
    "ncm_block = mdl.SpikeData(header, spikes)\n",
    "ncm_mua_block=ncm_block.mua_or_sua(\"mua\")\n",
    "ncm_sep_mua_block = dnl.separate_npz_data(ncm_mua_block)\n",
    "l_contrast = dnl.res_filter(ncm_sep_mua_block)"
   ]
  },
  {
   "cell_type": "code",
   "execution_count": null,
   "metadata": {},
   "outputs": [],
   "source": []
  },
  {
   "cell_type": "code",
   "execution_count": 99,
   "metadata": {},
   "outputs": [
    {
     "name": "stdout",
     "output_type": "stream",
     "text": [
      "1 Experiments Analyzed\n",
      "2 Experiments Analyzed\n",
      "3 Experiments Analyzed\n",
      "4 Experiments Analyzed\n",
      "5 Experiments Analyzed\n"
     ]
    }
   ],
   "source": [
    "l_c_df = dnl.batch_decoding_accuracy(l_contrast)\n",
    "l_c_df.to_csv(\"contrast_fieldl.csv\")"
   ]
  },
  {
   "cell_type": "code",
   "execution_count": 102,
   "metadata": {},
   "outputs": [
    {
     "data": {
      "text/plain": [
       "0.7484754086566368"
      ]
     },
     "execution_count": 102,
     "metadata": {},
     "output_type": "execute_result"
    }
   ],
   "source": [
    "np.mean(l_c_df.average_decoding_accuracy)"
   ]
  },
  {
   "cell_type": "code",
   "execution_count": 105,
   "metadata": {},
   "outputs": [],
   "source": [
    "ncmd = ncm_c_df.average_decoding_accuracy\n",
    "ld = ncm_c_df.average_decoding_accuracy"
   ]
  },
  {
   "cell_type": "code",
   "execution_count": 103,
   "metadata": {},
   "outputs": [
    {
     "data": {
      "text/plain": [
       "Ttest_indResult(statistic=4.440342299434775, pvalue=1.225611472308379e-05)"
      ]
     },
     "execution_count": 103,
     "metadata": {},
     "output_type": "execute_result"
    }
   ],
   "source": [
    "sst.ttest_ind(l_c_df.average_decoding_accuracy, ncm_c_df.average_decoding_accuracy)"
   ]
  },
  {
   "cell_type": "code",
   "execution_count": 113,
   "metadata": {},
   "outputs": [],
   "source": [
    "region = []\n",
    "for x in range(0,len(ncmd)):\n",
    "    region.append(\"NCM\")\n",
    "ncm_c_df[\"region\"] = region"
   ]
  },
  {
   "cell_type": "code",
   "execution_count": 115,
   "metadata": {},
   "outputs": [
    {
     "ename": "ValueError",
     "evalue": "Length of values does not match length of index",
     "output_type": "error",
     "traceback": [
      "\u001b[1;31m\u001b[0m",
      "\u001b[1;31mValueError\u001b[0mTraceback (most recent call last)",
      "\u001b[1;32m<ipython-input-115-e483251c5a24>\u001b[0m in \u001b[0;36m<module>\u001b[1;34m()\u001b[0m\n\u001b[0;32m      2\u001b[0m \u001b[1;32mfor\u001b[0m \u001b[0mx\u001b[0m \u001b[1;32min\u001b[0m \u001b[0mrange\u001b[0m\u001b[1;33m(\u001b[0m\u001b[1;36m0\u001b[0m\u001b[1;33m,\u001b[0m\u001b[0mlen\u001b[0m\u001b[1;33m(\u001b[0m\u001b[0mld\u001b[0m\u001b[1;33m)\u001b[0m\u001b[1;33m)\u001b[0m\u001b[1;33m:\u001b[0m\u001b[1;33m\u001b[0m\u001b[0m\n\u001b[0;32m      3\u001b[0m     \u001b[0mregion\u001b[0m\u001b[1;33m.\u001b[0m\u001b[0mappend\u001b[0m\u001b[1;33m(\u001b[0m\u001b[1;34m\"Field L\"\u001b[0m\u001b[1;33m)\u001b[0m\u001b[1;33m\u001b[0m\u001b[0m\n\u001b[1;32m----> 4\u001b[1;33m \u001b[0ml_c_df\u001b[0m\u001b[1;33m[\u001b[0m\u001b[1;34m\"region\"\u001b[0m\u001b[1;33m]\u001b[0m \u001b[1;33m=\u001b[0m \u001b[0mregion\u001b[0m\u001b[1;33m\u001b[0m\u001b[0m\n\u001b[0m",
      "\u001b[1;32mC:\\Users\\Vicario_lab\\Anaconda2\\lib\\site-packages\\pandas\\core\\frame.pyc\u001b[0m in \u001b[0;36m__setitem__\u001b[1;34m(self, key, value)\u001b[0m\n\u001b[0;32m   3368\u001b[0m         \u001b[1;32melse\u001b[0m\u001b[1;33m:\u001b[0m\u001b[1;33m\u001b[0m\u001b[0m\n\u001b[0;32m   3369\u001b[0m             \u001b[1;31m# set column\u001b[0m\u001b[1;33m\u001b[0m\u001b[1;33m\u001b[0m\u001b[0m\n\u001b[1;32m-> 3370\u001b[1;33m             \u001b[0mself\u001b[0m\u001b[1;33m.\u001b[0m\u001b[0m_set_item\u001b[0m\u001b[1;33m(\u001b[0m\u001b[0mkey\u001b[0m\u001b[1;33m,\u001b[0m \u001b[0mvalue\u001b[0m\u001b[1;33m)\u001b[0m\u001b[1;33m\u001b[0m\u001b[0m\n\u001b[0m\u001b[0;32m   3371\u001b[0m \u001b[1;33m\u001b[0m\u001b[0m\n\u001b[0;32m   3372\u001b[0m     \u001b[1;32mdef\u001b[0m \u001b[0m_setitem_slice\u001b[0m\u001b[1;33m(\u001b[0m\u001b[0mself\u001b[0m\u001b[1;33m,\u001b[0m \u001b[0mkey\u001b[0m\u001b[1;33m,\u001b[0m \u001b[0mvalue\u001b[0m\u001b[1;33m)\u001b[0m\u001b[1;33m:\u001b[0m\u001b[1;33m\u001b[0m\u001b[0m\n",
      "\u001b[1;32mC:\\Users\\Vicario_lab\\Anaconda2\\lib\\site-packages\\pandas\\core\\frame.pyc\u001b[0m in \u001b[0;36m_set_item\u001b[1;34m(self, key, value)\u001b[0m\n\u001b[0;32m   3443\u001b[0m \u001b[1;33m\u001b[0m\u001b[0m\n\u001b[0;32m   3444\u001b[0m         \u001b[0mself\u001b[0m\u001b[1;33m.\u001b[0m\u001b[0m_ensure_valid_index\u001b[0m\u001b[1;33m(\u001b[0m\u001b[0mvalue\u001b[0m\u001b[1;33m)\u001b[0m\u001b[1;33m\u001b[0m\u001b[0m\n\u001b[1;32m-> 3445\u001b[1;33m         \u001b[0mvalue\u001b[0m \u001b[1;33m=\u001b[0m \u001b[0mself\u001b[0m\u001b[1;33m.\u001b[0m\u001b[0m_sanitize_column\u001b[0m\u001b[1;33m(\u001b[0m\u001b[0mkey\u001b[0m\u001b[1;33m,\u001b[0m \u001b[0mvalue\u001b[0m\u001b[1;33m)\u001b[0m\u001b[1;33m\u001b[0m\u001b[0m\n\u001b[0m\u001b[0;32m   3446\u001b[0m         \u001b[0mNDFrame\u001b[0m\u001b[1;33m.\u001b[0m\u001b[0m_set_item\u001b[0m\u001b[1;33m(\u001b[0m\u001b[0mself\u001b[0m\u001b[1;33m,\u001b[0m \u001b[0mkey\u001b[0m\u001b[1;33m,\u001b[0m \u001b[0mvalue\u001b[0m\u001b[1;33m)\u001b[0m\u001b[1;33m\u001b[0m\u001b[0m\n\u001b[0;32m   3447\u001b[0m \u001b[1;33m\u001b[0m\u001b[0m\n",
      "\u001b[1;32mC:\\Users\\Vicario_lab\\Anaconda2\\lib\\site-packages\\pandas\\core\\frame.pyc\u001b[0m in \u001b[0;36m_sanitize_column\u001b[1;34m(self, key, value, broadcast)\u001b[0m\n\u001b[0;32m   3628\u001b[0m \u001b[1;33m\u001b[0m\u001b[0m\n\u001b[0;32m   3629\u001b[0m             \u001b[1;31m# turn me into an ndarray\u001b[0m\u001b[1;33m\u001b[0m\u001b[1;33m\u001b[0m\u001b[0m\n\u001b[1;32m-> 3630\u001b[1;33m             \u001b[0mvalue\u001b[0m \u001b[1;33m=\u001b[0m \u001b[0msanitize_index\u001b[0m\u001b[1;33m(\u001b[0m\u001b[0mvalue\u001b[0m\u001b[1;33m,\u001b[0m \u001b[0mself\u001b[0m\u001b[1;33m.\u001b[0m\u001b[0mindex\u001b[0m\u001b[1;33m,\u001b[0m \u001b[0mcopy\u001b[0m\u001b[1;33m=\u001b[0m\u001b[0mFalse\u001b[0m\u001b[1;33m)\u001b[0m\u001b[1;33m\u001b[0m\u001b[0m\n\u001b[0m\u001b[0;32m   3631\u001b[0m             \u001b[1;32mif\u001b[0m \u001b[1;32mnot\u001b[0m \u001b[0misinstance\u001b[0m\u001b[1;33m(\u001b[0m\u001b[0mvalue\u001b[0m\u001b[1;33m,\u001b[0m \u001b[1;33m(\u001b[0m\u001b[0mnp\u001b[0m\u001b[1;33m.\u001b[0m\u001b[0mndarray\u001b[0m\u001b[1;33m,\u001b[0m \u001b[0mIndex\u001b[0m\u001b[1;33m)\u001b[0m\u001b[1;33m)\u001b[0m\u001b[1;33m:\u001b[0m\u001b[1;33m\u001b[0m\u001b[0m\n\u001b[0;32m   3632\u001b[0m                 \u001b[1;32mif\u001b[0m \u001b[0misinstance\u001b[0m\u001b[1;33m(\u001b[0m\u001b[0mvalue\u001b[0m\u001b[1;33m,\u001b[0m \u001b[0mlist\u001b[0m\u001b[1;33m)\u001b[0m \u001b[1;32mand\u001b[0m \u001b[0mlen\u001b[0m\u001b[1;33m(\u001b[0m\u001b[0mvalue\u001b[0m\u001b[1;33m)\u001b[0m \u001b[1;33m>\u001b[0m \u001b[1;36m0\u001b[0m\u001b[1;33m:\u001b[0m\u001b[1;33m\u001b[0m\u001b[0m\n",
      "\u001b[1;32mC:\\Users\\Vicario_lab\\Anaconda2\\lib\\site-packages\\pandas\\core\\internals\\construction.pyc\u001b[0m in \u001b[0;36msanitize_index\u001b[1;34m(data, index, copy)\u001b[0m\n\u001b[0;32m    517\u001b[0m \u001b[1;33m\u001b[0m\u001b[0m\n\u001b[0;32m    518\u001b[0m     \u001b[1;32mif\u001b[0m \u001b[0mlen\u001b[0m\u001b[1;33m(\u001b[0m\u001b[0mdata\u001b[0m\u001b[1;33m)\u001b[0m \u001b[1;33m!=\u001b[0m \u001b[0mlen\u001b[0m\u001b[1;33m(\u001b[0m\u001b[0mindex\u001b[0m\u001b[1;33m)\u001b[0m\u001b[1;33m:\u001b[0m\u001b[1;33m\u001b[0m\u001b[0m\n\u001b[1;32m--> 519\u001b[1;33m         \u001b[1;32mraise\u001b[0m \u001b[0mValueError\u001b[0m\u001b[1;33m(\u001b[0m\u001b[1;34m'Length of values does not match length of index'\u001b[0m\u001b[1;33m)\u001b[0m\u001b[1;33m\u001b[0m\u001b[0m\n\u001b[0m\u001b[0;32m    520\u001b[0m \u001b[1;33m\u001b[0m\u001b[0m\n\u001b[0;32m    521\u001b[0m     \u001b[1;32mif\u001b[0m \u001b[0misinstance\u001b[0m\u001b[1;33m(\u001b[0m\u001b[0mdata\u001b[0m\u001b[1;33m,\u001b[0m \u001b[0mABCIndexClass\u001b[0m\u001b[1;33m)\u001b[0m \u001b[1;32mand\u001b[0m \u001b[1;32mnot\u001b[0m \u001b[0mcopy\u001b[0m\u001b[1;33m:\u001b[0m\u001b[1;33m\u001b[0m\u001b[0m\n",
      "\u001b[1;31mValueError\u001b[0m: Length of values does not match length of index"
     ]
    }
   ],
   "source": [
    "region = []\n",
    "for x in range(0,len(ld)):\n",
    "    region.append(\"Field L\")\n",
    "l_c_df[\"region\"] = region"
   ]
  },
  {
   "cell_type": "code",
   "execution_count": 119,
   "metadata": {},
   "outputs": [],
   "source": [
    "l_c_df[\"region\"] = \"Field L\""
   ]
  },
  {
   "cell_type": "code",
   "execution_count": 132,
   "metadata": {},
   "outputs": [],
   "source": [
    "#contrast_df = pd.concat(ncm_c_df, l_c_df)\n",
    "contrast_df = pd.concat([l_c_df, ncm_c_df])"
   ]
  },
  {
   "cell_type": "code",
   "execution_count": 140,
   "metadata": {},
   "outputs": [
    {
     "data": {
      "image/png": "[encoded data removed]",
      "text/plain": [
       "<Figure size 432x288 with 1 Axes>"
      ]
     },
     "metadata": {},
     "output_type": "display_data"
    }
   ],
   "source": [
    "sns.set()\n",
    "sns.boxplot(x=\"region\", y='average_decoding_accuracy', data=contrast_df)\n",
    "plt.show()"
   ]
  },
  {
   "cell_type": "code",
   "execution_count": 146,
   "metadata": {},
   "outputs": [
    {
     "data": {
      "image/png": "[encoded data removed]",
      "text/plain": [
       "<Figure size 432x288 with 1 Axes>"
      ]
     },
     "metadata": {},
     "output_type": "display_data"
    },
    {
     "data": {
      "text/plain": [
       "Ttest_indResult(statistic=5.6467314195832055, pvalue=5.495304411644999e-08)"
      ]
     },
     "execution_count": 146,
     "metadata": {},
     "output_type": "execute_result"
    }
   ],
   "source": [
    "sns.set()\n",
    "sns.boxplot(x=\"hemisphere\", y='average_decoding_accuracy', data=contrast_df[(contrast_df[\"region\"] == \"NCM\")])\n",
    "plt.show()\n",
    "sst.ttest_ind(ncm_c_df[(ncm_c_df[\"hemisphere\"] == \"Right\")].average_decoding_accuracy , ncm_c_df[(ncm_c_df[\"hemisphere\"] == \"Left\")].average_decoding_accuracy)"
   ]
  },
  {
   "cell_type": "code",
   "execution_count": 145,
   "metadata": {},
   "outputs": [
    {
     "data": {
      "image/png": "[encoded data removed]",
      "text/plain": [
       "<Figure size 432x288 with 1 Axes>"
      ]
     },
     "metadata": {},
     "output_type": "display_data"
    }
   ],
   "source": [
    "sns.set()\n",
    "sns.boxplot(x=\"hemisphere\", y='average_decoding_accuracy', data=contrast_df[(contrast_df[\"region\"] == \"Field L\")])\n",
    "plt.show()"
   ]
  },
  {
   "cell_type": "code",
   "execution_count": 153,
   "metadata": {},
   "outputs": [
    {
     "ename": "IndexError",
     "evalue": "tuple index out of range",
     "output_type": "error",
     "traceback": [
      "\u001b[1;31m\u001b[0m",
      "\u001b[1;31mIndexError\u001b[0mTraceback (most recent call last)",
      "\u001b[1;32m<ipython-input-153-c093b635879b>\u001b[0m in \u001b[0;36m<module>\u001b[1;34m()\u001b[0m\n\u001b[1;32m----> 1\u001b[1;33m \u001b[0mnp\u001b[0m\u001b[1;33m.\u001b[0m\u001b[0mmean\u001b[0m\u001b[1;33m(\u001b[0m\u001b[0mcontrast_df\u001b[0m\u001b[1;33m.\u001b[0m\u001b[0mdecoding_accuracy\u001b[0m\u001b[1;33m.\u001b[0m\u001b[0miloc\u001b[0m\u001b[1;33m,\u001b[0m \u001b[0maxis\u001b[0m \u001b[1;33m=\u001b[0m \u001b[1;36m0\u001b[0m\u001b[1;33m)\u001b[0m\u001b[1;33m\u001b[0m\u001b[0m\n\u001b[0m",
      "\u001b[1;32mC:\\Users\\Vicario_lab\\Anaconda2\\lib\\site-packages\\numpy\\core\\fromnumeric.pyc\u001b[0m in \u001b[0;36mmean\u001b[1;34m(a, axis, dtype, out, keepdims)\u001b[0m\n\u001b[0;32m   3116\u001b[0m \u001b[1;33m\u001b[0m\u001b[0m\n\u001b[0;32m   3117\u001b[0m     return _methods._mean(a, axis=axis, dtype=dtype,\n\u001b[1;32m-> 3118\u001b[1;33m                           out=out, **kwargs)\n\u001b[0m\u001b[0;32m   3119\u001b[0m \u001b[1;33m\u001b[0m\u001b[0m\n\u001b[0;32m   3120\u001b[0m \u001b[1;33m\u001b[0m\u001b[0m\n",
      "\u001b[1;32mC:\\Users\\Vicario_lab\\Anaconda2\\lib\\site-packages\\numpy\\core\\_methods.pyc\u001b[0m in \u001b[0;36m_mean\u001b[1;34m(a, axis, dtype, out, keepdims)\u001b[0m\n\u001b[0;32m     60\u001b[0m \u001b[1;33m\u001b[0m\u001b[0m\n\u001b[0;32m     61\u001b[0m     \u001b[0mis_float16_result\u001b[0m \u001b[1;33m=\u001b[0m \u001b[0mFalse\u001b[0m\u001b[1;33m\u001b[0m\u001b[0m\n\u001b[1;32m---> 62\u001b[1;33m     \u001b[0mrcount\u001b[0m \u001b[1;33m=\u001b[0m \u001b[0m_count_reduce_items\u001b[0m\u001b[1;33m(\u001b[0m\u001b[0marr\u001b[0m\u001b[1;33m,\u001b[0m \u001b[0maxis\u001b[0m\u001b[1;33m)\u001b[0m\u001b[1;33m\u001b[0m\u001b[0m\n\u001b[0m\u001b[0;32m     63\u001b[0m     \u001b[1;31m# Make this warning show up first\u001b[0m\u001b[1;33m\u001b[0m\u001b[1;33m\u001b[0m\u001b[0m\n\u001b[0;32m     64\u001b[0m     \u001b[1;32mif\u001b[0m \u001b[0mrcount\u001b[0m \u001b[1;33m==\u001b[0m \u001b[1;36m0\u001b[0m\u001b[1;33m:\u001b[0m\u001b[1;33m\u001b[0m\u001b[0m\n",
      "\u001b[1;32mC:\\Users\\Vicario_lab\\Anaconda2\\lib\\site-packages\\numpy\\core\\_methods.pyc\u001b[0m in \u001b[0;36m_count_reduce_items\u001b[1;34m(arr, axis)\u001b[0m\n\u001b[0;32m     53\u001b[0m     \u001b[0mitems\u001b[0m \u001b[1;33m=\u001b[0m \u001b[1;36m1\u001b[0m\u001b[1;33m\u001b[0m\u001b[0m\n\u001b[0;32m     54\u001b[0m     \u001b[1;32mfor\u001b[0m \u001b[0max\u001b[0m \u001b[1;32min\u001b[0m \u001b[0maxis\u001b[0m\u001b[1;33m:\u001b[0m\u001b[1;33m\u001b[0m\u001b[0m\n\u001b[1;32m---> 55\u001b[1;33m         \u001b[0mitems\u001b[0m \u001b[1;33m*=\u001b[0m \u001b[0marr\u001b[0m\u001b[1;33m.\u001b[0m\u001b[0mshape\u001b[0m\u001b[1;33m[\u001b[0m\u001b[0max\u001b[0m\u001b[1;33m]\u001b[0m\u001b[1;33m\u001b[0m\u001b[0m\n\u001b[0m\u001b[0;32m     56\u001b[0m     \u001b[1;32mreturn\u001b[0m \u001b[0mitems\u001b[0m\u001b[1;33m\u001b[0m\u001b[0m\n\u001b[0;32m     57\u001b[0m \u001b[1;33m\u001b[0m\u001b[0m\n",
      "\u001b[1;31mIndexError\u001b[0m: tuple index out of range"
     ]
    }
   ],
   "source": [
    "np.mean(contrast_df.decoding_accuracy.iloc[0], axis = 0)"
   ]
  },
  {
   "cell_type": "code",
   "execution_count": 158,
   "metadata": {},
   "outputs": [],
   "source": [
    "trial_decoding_acc = []\n",
    "for x in range(0, len(contrast_df)):\n",
    "    trial_decoding_acc.append(np.mean(contrast_df.iloc[x].decoding_accuracy, axis=0))\n",
    "contrast_df[\"trial_decoding_acc\"] = trial_decoding_acc"
   ]
  },
  {
   "cell_type": "code",
   "execution_count": 160,
   "metadata": {},
   "outputs": [],
   "source": [
    "contrast_df.to_csv(\"contrast_df.csv\")"
   ]
  },
  {
   "cell_type": "code",
   "execution_count": null,
   "metadata": {},
   "outputs": [],
   "source": []
  }
 ],
 "metadata": {
  "kernelspec": {
   "display_name": "Python 2",
   "language": "python",
   "name": "python2"
  },
  "language_info": {
   "codemirror_mode": {
    "name": "ipython",
    "version": 2
   },
   "file_extension": ".py",
   "mimetype": "text/x-python",
   "name": "python",
   "nbconvert_exporter": "python",
   "pygments_lexer": "ipython2",
   "version": "2.7.16"
  }
 },
 "nbformat": 4,
 "nbformat_minor": 2
}
