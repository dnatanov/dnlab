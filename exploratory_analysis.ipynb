{
 "cells": [
  {
   "cell_type": "markdown",
   "metadata": {},
   "source": [
    "### Things to do\n",
    "\n",
    "- ?\n",
    "    - Official adaptation rate method\n",
    "    - Hemisphere\n",
    "    - Bin length is +.1 or *.1\n",
    "- Analyze blocked and shuffled data in NCM and Field L\n",
    "    - Check if there is a difference between NCM and Field L\n",
    "    - Determine if there is a loss of decoding accuracy accross stimulus repetition\n",
    "    - Hemispheric differences?\n",
    "    - Analyze single unit data in a similar fashion\n",
    "    - Figure out why part of shuffled data appears to be corrupted\n",
    "   \n",
    "- Analyze contrast data\n",
    "    - Compare decoding accuracy between first and second half of presentations"
   ]
  },
  {
   "cell_type": "code",
   "execution_count": 1,
   "metadata": {},
   "outputs": [],
   "source": [
    "import mdlab as mdl\n",
    "import dnlab as dnl\n",
    "import numpy as np\n",
    "import matplotlib.pylab as plt\n",
    "import seaborn as sns\n",
    "import scipy.stats as sst\n",
    "import pandas as pd\n",
    "import pdb"
   ]
  },
  {
   "cell_type": "code",
   "execution_count": 2,
   "metadata": {},
   "outputs": [],
   "source": [
    "frcc=mdl.FRCC()\n",
    "trailing_type = frcc.trailing_type\n",
    "trailing_param = frcc.get_trailing_param(trailing_type)\n",
    "stats_test = frcc.stats_test"
   ]
  },
  {
   "cell_type": "code",
   "execution_count": 3,
   "metadata": {},
   "outputs": [],
   "source": [
    "fn = mdl.get_pathname()"
   ]
  },
  {
   "cell_type": "code",
   "execution_count": null,
   "metadata": {},
   "outputs": [],
   "source": [
    "fn2 = mdl.get_pathname()"
   ]
  },
  {
   "cell_type": "code",
   "execution_count": null,
   "metadata": {},
   "outputs": [],
   "source": [
    "mdl.batch_mat2npz(\"hv_l_blocked.npz\")"
   ]
  },
  {
   "cell_type": "code",
   "execution_count": 45,
   "metadata": {},
   "outputs": [],
   "source": [
    "fn = mdl.get_pathname()\n",
    "header, spikes = mdl.load_npz_data(fn, False)\n",
    "ncm_block = mdl.SpikeData(header, spikes)\n",
    "ncm_mua_block=ncm_block.mua_or_sua(\"mua\")\n",
    "ncm_sep_mua_block = dnl.separate_npz_data(ncm_mua_block)\n",
    "res_ncm_block = dnl.res_filter(ncm_sep_mua_block)"
   ]
  },
  {
   "cell_type": "code",
   "execution_count": 49,
   "metadata": {},
   "outputs": [
    {
     "data": {
      "text/plain": [
       "array([1, 2, 3, 4, 5, 6, 7, 8])"
      ]
     },
     "execution_count": 49,
     "metadata": {},
     "output_type": "execute_result"
    }
   ],
   "source": [
    "res_ncm_block[].stim"
   ]
  },
  {
   "cell_type": "code",
   "execution_count": 5,
   "metadata": {},
   "outputs": [
    {
     "ename": "NameError",
     "evalue": "name 'fn2' is not defined",
     "output_type": "error",
     "traceback": [
      "\u001b[1;31m\u001b[0m",
      "\u001b[1;31mNameError\u001b[0mTraceback (most recent call last)",
      "\u001b[1;32m<ipython-input-5-5d65c8fd70ee>\u001b[0m in \u001b[0;36m<module>\u001b[1;34m()\u001b[0m\n\u001b[1;32m----> 1\u001b[1;33m \u001b[0mheader\u001b[0m\u001b[1;33m,\u001b[0m \u001b[0mspikes\u001b[0m \u001b[1;33m=\u001b[0m \u001b[0mmdl\u001b[0m\u001b[1;33m.\u001b[0m\u001b[0mload_npz_data\u001b[0m\u001b[1;33m(\u001b[0m\u001b[0mfn2\u001b[0m\u001b[1;33m,\u001b[0m \u001b[0mFalse\u001b[0m\u001b[1;33m)\u001b[0m\u001b[1;33m\u001b[0m\u001b[0m\n\u001b[0m\u001b[0;32m      2\u001b[0m \u001b[0ml_block\u001b[0m \u001b[1;33m=\u001b[0m \u001b[0mmdl\u001b[0m\u001b[1;33m.\u001b[0m\u001b[0mSpikeData\u001b[0m\u001b[1;33m(\u001b[0m\u001b[0mheader\u001b[0m\u001b[1;33m,\u001b[0m \u001b[0mspikes\u001b[0m\u001b[1;33m)\u001b[0m\u001b[1;33m\u001b[0m\u001b[0m\n\u001b[0;32m      3\u001b[0m \u001b[0ml_mua_block\u001b[0m\u001b[1;33m=\u001b[0m\u001b[0ml_block\u001b[0m\u001b[1;33m.\u001b[0m\u001b[0mmua_or_sua\u001b[0m\u001b[1;33m(\u001b[0m\u001b[1;34m\"mua\"\u001b[0m\u001b[1;33m)\u001b[0m\u001b[1;33m\u001b[0m\u001b[0m\n\u001b[0;32m      4\u001b[0m \u001b[0ml_sep_mua_block\u001b[0m \u001b[1;33m=\u001b[0m \u001b[0mdnl\u001b[0m\u001b[1;33m.\u001b[0m\u001b[0mseparate_npz_data\u001b[0m\u001b[1;33m(\u001b[0m\u001b[0ml_mua_block\u001b[0m\u001b[1;33m)\u001b[0m\u001b[1;33m\u001b[0m\u001b[0m\n\u001b[0;32m      5\u001b[0m \u001b[0mres_l_block\u001b[0m \u001b[1;33m=\u001b[0m \u001b[0mdnl\u001b[0m\u001b[1;33m.\u001b[0m\u001b[0mres_filter\u001b[0m\u001b[1;33m(\u001b[0m\u001b[0mncm_sep_mua_block\u001b[0m\u001b[1;33m)\u001b[0m\u001b[1;33m\u001b[0m\u001b[0m\n",
      "\u001b[1;31mNameError\u001b[0m: name 'fn2' is not defined"
     ]
    }
   ],
   "source": [
    "header, spikes = mdl.load_npz_data(fn2, False)\n",
    "l_block = mdl.SpikeData(header, spikes)\n",
    "l_mua_block=l_block.mua_or_sua(\"mua\")\n",
    "l_sep_mua_block = dnl.separate_npz_data(l_mua_block)\n",
    "res_l_block = dnl.res_filter(ncm_sep_mua_block)"
   ]
  },
  {
   "cell_type": "code",
   "execution_count": null,
   "metadata": {},
   "outputs": [],
   "source": [
    "ncm_df = dnl.batch_decoding_accuracy(res_ncm_block)"
   ]
  },
  {
   "cell_type": "code",
   "execution_count": null,
   "metadata": {},
   "outputs": [],
   "source": [
    "n =0\n",
    "for ele in ncm_sep_mua_block[n].electrodes:\n",
    "    ele_data = ncm_sep_mua_block[n].get_kw_SpikeData(electrode = ele)\n",
    "    print mdl.birdid2str(ele_data.birdid[0])\n",
    "    print ele\n",
    "    if ele in res_ncm_block[n].electrodes:\n",
    "        print \"Responding\"\n",
    "    else:\n",
    "        print \"Not Responding\"\n",
    "    mdl.raster_plot(ele_data.spikes)\n",
    "    plt.show()"
   ]
  },
  {
   "cell_type": "code",
   "execution_count": 50,
   "metadata": {},
   "outputs": [],
   "source": [
    "z = res_ncm_block[0]"
   ]
  },
  {
   "cell_type": "code",
   "execution_count": 60,
   "metadata": {},
   "outputs": [
    {
     "data": {
      "text/plain": [
       "array([1, 2, 3, 4])"
      ]
     },
     "execution_count": 60,
     "metadata": {},
     "output_type": "execute_result"
    }
   ],
   "source": [
    "z.get_kw_SpikeData(trial = range(1,161)).stim"
   ]
  },
  {
   "cell_type": "code",
   "execution_count": null,
   "metadata": {},
   "outputs": [],
   "source": [
    "header, spikes = mdl.load_npz_data('/Users/david/Documents/blocked.npz', False)\n",
    "block = mdl.SpikeData(header, spikes)\n",
    "#mua_block=block.mua_or_sua(\"mua\")\n",
    "sep_mua_block = dnl.separate_npz_data(block)"
   ]
  },
  {
   "cell_type": "code",
   "execution_count": null,
   "metadata": {},
   "outputs": [],
   "source": [
    "res_block = dnl.res_filter(sep_mua_block)"
   ]
  },
  {
   "cell_type": "code",
   "execution_count": 12,
   "metadata": {},
   "outputs": [
    {
     "ename": "NameError",
     "evalue": "name 'sep_mua_block' is not defined",
     "output_type": "error",
     "traceback": [
      "\u001b[1;31m\u001b[0m",
      "\u001b[1;31mNameError\u001b[0mTraceback (most recent call last)",
      "\u001b[1;32m<ipython-input-12-420747b7a768>\u001b[0m in \u001b[0;36m<module>\u001b[1;34m()\u001b[0m\n\u001b[0;32m      1\u001b[0m \u001b[0mn\u001b[0m \u001b[1;33m=\u001b[0m\u001b[1;36m0\u001b[0m\u001b[1;33m\u001b[0m\u001b[0m\n\u001b[1;32m----> 2\u001b[1;33m \u001b[1;32mfor\u001b[0m \u001b[0mele\u001b[0m \u001b[1;32min\u001b[0m \u001b[0msep_mua_block\u001b[0m\u001b[1;33m[\u001b[0m\u001b[0mn\u001b[0m\u001b[1;33m]\u001b[0m\u001b[1;33m.\u001b[0m\u001b[0melectrodes\u001b[0m\u001b[1;33m:\u001b[0m\u001b[1;33m\u001b[0m\u001b[0m\n\u001b[0m\u001b[0;32m      3\u001b[0m     \u001b[0mele_data\u001b[0m \u001b[1;33m=\u001b[0m \u001b[0msep_mua_block\u001b[0m\u001b[1;33m[\u001b[0m\u001b[0mn\u001b[0m\u001b[1;33m]\u001b[0m\u001b[1;33m.\u001b[0m\u001b[0mget_kw_SpikeData\u001b[0m\u001b[1;33m(\u001b[0m\u001b[0melectrode\u001b[0m \u001b[1;33m=\u001b[0m \u001b[0mele\u001b[0m\u001b[1;33m)\u001b[0m\u001b[1;33m\u001b[0m\u001b[0m\n\u001b[0;32m      4\u001b[0m     \u001b[1;32mprint\u001b[0m \u001b[0mmdl\u001b[0m\u001b[1;33m.\u001b[0m\u001b[0mbirdid2str\u001b[0m\u001b[1;33m(\u001b[0m\u001b[0mele_data\u001b[0m\u001b[1;33m.\u001b[0m\u001b[0mbirdid\u001b[0m\u001b[1;33m[\u001b[0m\u001b[1;36m0\u001b[0m\u001b[1;33m]\u001b[0m\u001b[1;33m)\u001b[0m\u001b[1;33m\u001b[0m\u001b[0m\n\u001b[0;32m      5\u001b[0m     \u001b[1;32mprint\u001b[0m \u001b[0mele\u001b[0m\u001b[1;33m\u001b[0m\u001b[0m\n",
      "\u001b[1;31mNameError\u001b[0m: name 'sep_mua_block' is not defined"
     ]
    }
   ],
   "source": [
    "n =0\n",
    "for ele in sep_mua_block[n].electrodes:\n",
    "    ele_data = sep_mua_block[n].get_kw_SpikeData(electrode = ele)\n",
    "    print mdl.birdid2str(ele_data.birdid[0])\n",
    "    print ele\n",
    "    if ele in res_block[n].electrodes:\n",
    "        print \"Responding\"\n",
    "    else:\n",
    "        print \"Not Responding\"\n",
    "    mdl.raster_plot(ele_data.spikes)\n",
    "    plt.show()"
   ]
  },
  {
   "cell_type": "code",
   "execution_count": 71,
   "metadata": {},
   "outputs": [],
   "source": [
    "from sklearn.neighbors import KNeighborsClassifier as knn\n",
    "from sklearn.neighbors import NearestNeighbors\n",
    "from sklearn.model_selection import train_test_split as split"
   ]
  },
  {
   "cell_type": "code",
   "execution_count": 75,
   "metadata": {},
   "outputs": [],
   "source": [
    "def contrast_decoding_accuracy(electrode, k=15, rep_num=250):\n",
    "    # Generates parameters for acc and trial_usage\n",
    "    num_stim = len(electrode.stim)\n",
    "    total_trials = electrode.header.shape[0]\n",
    "    trials_per_stim = total_trials/num_stim\n",
    "    acc = np.zeros((num_stim, trials_per_stim))\n",
    "    \n",
    "    #2D array #2D arra`y, stim id x the trials per stimulus, increments up by one every time given trial used as target\n",
    "    trial_usage = np.zeros((num_stim, trials_per_stim))\n",
    "\n",
    "    training_data = dnl.Spike_to_Binned(electrode.get_kw_SpikeData(trial = range(1, 161)))\n",
    "    training_bins = training_data.bins\n",
    "    training_idx = training_data.header.index.values\n",
    "    training_stim_ids=np.array(training_data.header.stim)\n",
    "    \n",
    "    target_data = dnl.Spike_to_Binned(electrode.get_kw_SpikeData(trial = range(161, 321)))\n",
    "    target_bins = target_data.bins\n",
    "    target_idx = target_data.header.index.values\n",
    "    target_stim_ids=np.array(target_data.header.stim)\n",
    "    \n",
    "    try:\n",
    "        model = knn(n_neighbors=k, metric='euclidean')\n",
    "        model.fit(training_bins, training_stim_ids)\n",
    "        pred = model.predict(target_bins)\n",
    "    except:\n",
    "        pdb.set_trace()\n",
    "\n",
    "\n",
    "    #Checks to see if predictions are correct\n",
    "    for j in range(0, pred.shape[0]):\n",
    "        stim_id= target_stim_ids[j]\n",
    "        idx = target_idx[j]\n",
    "        stim_data = electrode.get_kw_SpikeData(stim=stim_id)\n",
    "        net_trial_num = stim_data.header.loc[idx:idx].trial.max()\n",
    "        mod_stim_data_header = stim_data.header.reset_index()\n",
    "        true_trial_num = mod_stim_data_header[(mod_stim_data_header[\"trial\"] == net_trial_num)].index[0]\n",
    "        #increament trial usageb\n",
    "        trial_usage[stim_id-1][true_trial_num]+=1\n",
    "        if pred[j] == stim_id:\n",
    "            acc[stim_id-1][true_trial_num] += 1\n",
    "            \n",
    "    final_acc = np.divide(acc, trial_usage)\n",
    "    return final_acc "
   ]
  },
  {
   "cell_type": "code",
   "execution_count": 95,
   "metadata": {},
   "outputs": [],
   "source": [
    "last = x.get_kw_SpikeData(trial = range(161,321))\n",
    "first = x.get_kw_SpikeData(trial = range(1,161))"
   ]
  },
  {
   "cell_type": "code",
   "execution_count": 97,
   "metadata": {},
   "outputs": [
    {
     "data": {
      "text/plain": [
       "0.59"
      ]
     },
     "execution_count": 97,
     "metadata": {},
     "output_type": "execute_result"
    }
   ],
   "source": [
    "dnl.get_longest_stim(first)"
   ]
  },
  {
   "cell_type": "code",
   "execution_count": 98,
   "metadata": {},
   "outputs": [
    {
     "data": {
      "text/plain": [
       "0.53"
      ]
     },
     "execution_count": 98,
     "metadata": {},
     "output_type": "execute_result"
    }
   ],
   "source": [
    "dnl.get_longest_stim(x)"
   ]
  },
  {
   "cell_type": "code",
   "execution_count": 104,
   "metadata": {},
   "outputs": [
    {
     "name": "stdout",
     "output_type": "stream",
     "text": [
      "1\n",
      "0.511111\n",
      "2\n",
      "0.591156\n",
      "3\n",
      "0.593968\n",
      "4\n",
      "0.589977\n",
      "5\n",
      "0.559206\n",
      "6\n",
      "0.542404\n",
      "7\n",
      "0.500159\n",
      "8\n",
      "0.529478\n"
     ]
    }
   ],
   "source": [
    "for stim in x.stim:\n",
    "    print stim\n",
    "    print x.extract_stim_dur(stim)"
   ]
  },
  {
   "cell_type": "code",
   "execution_count": 76,
   "metadata": {},
   "outputs": [],
   "source": [
    "x = z.get_kw_SpikeData(electrode = 300)"
   ]
  },
  {
   "cell_type": "code",
   "execution_count": 77,
   "metadata": {},
   "outputs": [
    {
     "name": "stdout",
     "output_type": "stream",
     "text": [
      "> <ipython-input-75-f24e984f6348>(29)contrast_decoding_accuracy()\n",
      "-> for j in range(0, pred.shape[0]):\n"
     ]
    },
    {
     "name": "stdin",
     "output_type": "stream",
     "text": [
      "(Pdb)  model\n"
     ]
    },
    {
     "name": "stdout",
     "output_type": "stream",
     "text": [
      "KNeighborsClassifier(algorithm='auto', leaf_size=30, metric='euclidean',\n",
      "           metric_params=None, n_jobs=None, n_neighbors=15, p=2,\n",
      "           weights='uniform')\n"
     ]
    },
    {
     "name": "stdin",
     "output_type": "stream",
     "text": [
      "(Pdb)  model.predict(target_bins)\n"
     ]
    },
    {
     "name": "stdout",
     "output_type": "stream",
     "text": [
      "*** ValueError: query data dimension must match training data dimension\n"
     ]
    },
    {
     "name": "stdin",
     "output_type": "stream",
     "text": [
      "(Pdb)  target_bins.shape\n"
     ]
    },
    {
     "name": "stdout",
     "output_type": "stream",
     "text": [
      "(160L, 63L)\n"
     ]
    },
    {
     "name": "stdin",
     "output_type": "stream",
     "text": [
      "(Pdb)  training_bins.shape\n"
     ]
    },
    {
     "name": "stdout",
     "output_type": "stream",
     "text": [
      "(160L, 69L)\n"
     ]
    },
    {
     "name": "stdin",
     "output_type": "stream",
     "text": [
      "(Pdb)  q\n"
     ]
    },
    {
     "ename": "BdbQuit",
     "evalue": "",
     "output_type": "error",
     "traceback": [
      "\u001b[1;31m\u001b[0m",
      "\u001b[1;31mBdbQuit\u001b[0mTraceback (most recent call last)",
      "\u001b[1;32m<ipython-input-77-c461428130b4>\u001b[0m in \u001b[0;36m<module>\u001b[1;34m()\u001b[0m\n\u001b[1;32m----> 1\u001b[1;33m \u001b[0mcontrast_decoding_accuracy\u001b[0m\u001b[1;33m(\u001b[0m\u001b[0mx\u001b[0m\u001b[1;33m)\u001b[0m\u001b[1;33m\u001b[0m\u001b[0m\n\u001b[0m",
      "\u001b[1;32m<ipython-input-75-f24e984f6348>\u001b[0m in \u001b[0;36mcontrast_decoding_accuracy\u001b[1;34m(electrode, k, rep_num)\u001b[0m\n\u001b[0;32m     27\u001b[0m \u001b[1;33m\u001b[0m\u001b[0m\n\u001b[0;32m     28\u001b[0m     \u001b[1;31m#Checks to see if predictions are correct\u001b[0m\u001b[1;33m\u001b[0m\u001b[1;33m\u001b[0m\u001b[0m\n\u001b[1;32m---> 29\u001b[1;33m     \u001b[1;32mfor\u001b[0m \u001b[0mj\u001b[0m \u001b[1;32min\u001b[0m \u001b[0mrange\u001b[0m\u001b[1;33m(\u001b[0m\u001b[1;36m0\u001b[0m\u001b[1;33m,\u001b[0m \u001b[0mpred\u001b[0m\u001b[1;33m.\u001b[0m\u001b[0mshape\u001b[0m\u001b[1;33m[\u001b[0m\u001b[1;36m0\u001b[0m\u001b[1;33m]\u001b[0m\u001b[1;33m)\u001b[0m\u001b[1;33m:\u001b[0m\u001b[1;33m\u001b[0m\u001b[0m\n\u001b[0m\u001b[0;32m     30\u001b[0m         \u001b[0mstim_id\u001b[0m\u001b[1;33m=\u001b[0m \u001b[0mtarget_stim_ids\u001b[0m\u001b[1;33m[\u001b[0m\u001b[0mj\u001b[0m\u001b[1;33m]\u001b[0m\u001b[1;33m\u001b[0m\u001b[0m\n\u001b[0;32m     31\u001b[0m         \u001b[0midx\u001b[0m \u001b[1;33m=\u001b[0m \u001b[0mtarget_idx\u001b[0m\u001b[1;33m[\u001b[0m\u001b[0mj\u001b[0m\u001b[1;33m]\u001b[0m\u001b[1;33m\u001b[0m\u001b[0m\n",
      "\u001b[1;32m<ipython-input-75-f24e984f6348>\u001b[0m in \u001b[0;36mcontrast_decoding_accuracy\u001b[1;34m(electrode, k, rep_num)\u001b[0m\n\u001b[0;32m     27\u001b[0m \u001b[1;33m\u001b[0m\u001b[0m\n\u001b[0;32m     28\u001b[0m     \u001b[1;31m#Checks to see if predictions are correct\u001b[0m\u001b[1;33m\u001b[0m\u001b[1;33m\u001b[0m\u001b[0m\n\u001b[1;32m---> 29\u001b[1;33m     \u001b[1;32mfor\u001b[0m \u001b[0mj\u001b[0m \u001b[1;32min\u001b[0m \u001b[0mrange\u001b[0m\u001b[1;33m(\u001b[0m\u001b[1;36m0\u001b[0m\u001b[1;33m,\u001b[0m \u001b[0mpred\u001b[0m\u001b[1;33m.\u001b[0m\u001b[0mshape\u001b[0m\u001b[1;33m[\u001b[0m\u001b[1;36m0\u001b[0m\u001b[1;33m]\u001b[0m\u001b[1;33m)\u001b[0m\u001b[1;33m:\u001b[0m\u001b[1;33m\u001b[0m\u001b[0m\n\u001b[0m\u001b[0;32m     30\u001b[0m         \u001b[0mstim_id\u001b[0m\u001b[1;33m=\u001b[0m \u001b[0mtarget_stim_ids\u001b[0m\u001b[1;33m[\u001b[0m\u001b[0mj\u001b[0m\u001b[1;33m]\u001b[0m\u001b[1;33m\u001b[0m\u001b[0m\n\u001b[0;32m     31\u001b[0m         \u001b[0midx\u001b[0m \u001b[1;33m=\u001b[0m \u001b[0mtarget_idx\u001b[0m\u001b[1;33m[\u001b[0m\u001b[0mj\u001b[0m\u001b[1;33m]\u001b[0m\u001b[1;33m\u001b[0m\u001b[0m\n",
      "\u001b[1;32mC:\\Users\\Vicario_lab\\Anaconda2\\lib\\bdb.pyc\u001b[0m in \u001b[0;36mtrace_dispatch\u001b[1;34m(self, frame, event, arg)\u001b[0m\n\u001b[0;32m     47\u001b[0m             \u001b[1;32mreturn\u001b[0m \u001b[1;31m# None\u001b[0m\u001b[1;33m\u001b[0m\u001b[0m\n\u001b[0;32m     48\u001b[0m         \u001b[1;32mif\u001b[0m \u001b[0mevent\u001b[0m \u001b[1;33m==\u001b[0m \u001b[1;34m'line'\u001b[0m\u001b[1;33m:\u001b[0m\u001b[1;33m\u001b[0m\u001b[0m\n\u001b[1;32m---> 49\u001b[1;33m             \u001b[1;32mreturn\u001b[0m \u001b[0mself\u001b[0m\u001b[1;33m.\u001b[0m\u001b[0mdispatch_line\u001b[0m\u001b[1;33m(\u001b[0m\u001b[0mframe\u001b[0m\u001b[1;33m)\u001b[0m\u001b[1;33m\u001b[0m\u001b[0m\n\u001b[0m\u001b[0;32m     50\u001b[0m         \u001b[1;32mif\u001b[0m \u001b[0mevent\u001b[0m \u001b[1;33m==\u001b[0m \u001b[1;34m'call'\u001b[0m\u001b[1;33m:\u001b[0m\u001b[1;33m\u001b[0m\u001b[0m\n\u001b[0;32m     51\u001b[0m             \u001b[1;32mreturn\u001b[0m \u001b[0mself\u001b[0m\u001b[1;33m.\u001b[0m\u001b[0mdispatch_call\u001b[0m\u001b[1;33m(\u001b[0m\u001b[0mframe\u001b[0m\u001b[1;33m,\u001b[0m \u001b[0marg\u001b[0m\u001b[1;33m)\u001b[0m\u001b[1;33m\u001b[0m\u001b[0m\n",
      "\u001b[1;32mC:\\Users\\Vicario_lab\\Anaconda2\\lib\\bdb.pyc\u001b[0m in \u001b[0;36mdispatch_line\u001b[1;34m(self, frame)\u001b[0m\n\u001b[0;32m     66\u001b[0m         \u001b[1;32mif\u001b[0m \u001b[0mself\u001b[0m\u001b[1;33m.\u001b[0m\u001b[0mstop_here\u001b[0m\u001b[1;33m(\u001b[0m\u001b[0mframe\u001b[0m\u001b[1;33m)\u001b[0m \u001b[1;32mor\u001b[0m \u001b[0mself\u001b[0m\u001b[1;33m.\u001b[0m\u001b[0mbreak_here\u001b[0m\u001b[1;33m(\u001b[0m\u001b[0mframe\u001b[0m\u001b[1;33m)\u001b[0m\u001b[1;33m:\u001b[0m\u001b[1;33m\u001b[0m\u001b[0m\n\u001b[0;32m     67\u001b[0m             \u001b[0mself\u001b[0m\u001b[1;33m.\u001b[0m\u001b[0muser_line\u001b[0m\u001b[1;33m(\u001b[0m\u001b[0mframe\u001b[0m\u001b[1;33m)\u001b[0m\u001b[1;33m\u001b[0m\u001b[0m\n\u001b[1;32m---> 68\u001b[1;33m             \u001b[1;32mif\u001b[0m \u001b[0mself\u001b[0m\u001b[1;33m.\u001b[0m\u001b[0mquitting\u001b[0m\u001b[1;33m:\u001b[0m \u001b[1;32mraise\u001b[0m \u001b[0mBdbQuit\u001b[0m\u001b[1;33m\u001b[0m\u001b[0m\n\u001b[0m\u001b[0;32m     69\u001b[0m         \u001b[1;32mreturn\u001b[0m \u001b[0mself\u001b[0m\u001b[1;33m.\u001b[0m\u001b[0mtrace_dispatch\u001b[0m\u001b[1;33m\u001b[0m\u001b[0m\n\u001b[0;32m     70\u001b[0m \u001b[1;33m\u001b[0m\u001b[0m\n",
      "\u001b[1;31mBdbQuit\u001b[0m: "
     ]
    }
   ],
   "source": [
    "contrast_decoding_accuracy(x)"
   ]
  },
  {
   "cell_type": "code",
   "execution_count": 22,
   "metadata": {},
   "outputs": [],
   "source": [
    "y = z.get_kw_SpikeData(stim=1, electrode = 100)"
   ]
  },
  {
   "cell_type": "code",
   "execution_count": 88,
   "metadata": {},
   "outputs": [],
   "source": [
    "fn = mdl.get_pathname()\n",
    "header, spikes = mdl.load_npz_data(fn, False)\n",
    "ncm_block = mdl.SpikeData(header, spikes)\n",
    "ncm_mua_block=ncm_block.mua_or_sua(\"mua\")\n",
    "ncm_sep_mua_block = dnl.separate_npz_data(ncm_mua_block)\n",
    "ncm_contrast = dnl.res_filter(ncm_sep_mua_block)"
   ]
  },
  {
   "cell_type": "code",
   "execution_count": 89,
   "metadata": {},
   "outputs": [
    {
     "name": "stdout",
     "output_type": "stream",
     "text": [
      "1 Experiments Analyzed\n",
      "2 Experiments Analyzed\n",
      "3 Experiments Analyzed\n",
      "4 Experiments Analyzed\n",
      "5 Experiments Analyzed\n",
      "6 Experiments Analyzed\n",
      "7 Experiments Analyzed\n",
      "8 Experiments Analyzed\n"
     ]
    }
   ],
   "source": [
    "ncm_c_df = dnl.batch_decoding_accuracy(ncm_contrast)"
   ]
  },
  {
   "cell_type": "code",
   "execution_count": 90,
   "metadata": {},
   "outputs": [],
   "source": [
    "ncm_c_df.to_csv(\"contrast_ncm.csv\")"
   ]
  },
  {
   "cell_type": "code",
   "execution_count": 98,
   "metadata": {},
   "outputs": [],
   "source": [
    "fn = mdl.get_pathname()\n",
    "header, spikes = mdl.load_npz_data(fn, False)\n",
    "ncm_block = mdl.SpikeData(header, spikes)\n",
    "ncm_mua_block=ncm_block.mua_or_sua(\"mua\")\n",
    "ncm_sep_mua_block = dnl.separate_npz_data(ncm_mua_block)\n",
    "l_contrast = dnl.res_filter(ncm_sep_mua_block)"
   ]
  },
  {
   "cell_type": "code",
   "execution_count": null,
   "metadata": {},
   "outputs": [],
   "source": []
  },
  {
   "cell_type": "code",
   "execution_count": 99,
   "metadata": {},
   "outputs": [
    {
     "name": "stdout",
     "output_type": "stream",
     "text": [
      "1 Experiments Analyzed\n",
      "2 Experiments Analyzed\n",
      "3 Experiments Analyzed\n",
      "4 Experiments Analyzed\n",
      "5 Experiments Analyzed\n"
     ]
    }
   ],
   "source": [
    "l_c_df = dnl.batch_decoding_accuracy(l_contrast)\n",
    "l_c_df.to_csv(\"contrast_fieldl.csv\")"
   ]
  },
  {
   "cell_type": "code",
   "execution_count": 105,
   "metadata": {},
   "outputs": [],
   "source": [
    "ncmd = ncm_c_df.average_decoding_accuracy\n",
    "ld = ncm_c_df.average_decoding_accuracy"
   ]
  },
  {
   "cell_type": "code",
   "execution_count": 103,
   "metadata": {},
   "outputs": [
    {
     "data": {
      "text/plain": [
       "Ttest_indResult(statistic=4.440342299434775, pvalue=1.225611472308379e-05)"
      ]
     },
     "execution_count": 103,
     "metadata": {},
     "output_type": "execute_result"
    }
   ],
   "source": [
    "sst.ttest_ind(l_c_df.average_decoding_accuracy, ncm_c_df.average_decoding_accuracy)"
   ]
  },
  {
   "cell_type": "code",
   "execution_count": 113,
   "metadata": {},
   "outputs": [],
   "source": [
    "region = []\n",
    "for x in range(0,len(ncmd)):\n",
    "    region.append(\"NCM\")\n",
    "ncm_c_df[\"region\"] = region"
   ]
  },
  {
   "cell_type": "code",
   "execution_count": 119,
   "metadata": {},
   "outputs": [],
   "source": [
    "l_c_df[\"region\"] = \"Field L\""
   ]
  },
  {
   "cell_type": "code",
   "execution_count": 132,
   "metadata": {},
   "outputs": [],
   "source": [
    "#contrast_df = pd.concat(ncm_c_df, l_c_df)\n",
    "contrast_df = pd.concat([l_c_df, ncm_c_df])"
   ]
  },
  {
   "cell_type": "code",
   "execution_count": 10,
   "metadata": {},
   "outputs": [],
   "source": [
    "fn =  mdl.get_pathname()\n",
    "contrast_df = pd.read_csv(fn)"
   ]
  },
  {
   "cell_type": "code",
   "execution_count": 16,
   "metadata": {},
   "outputs": [],
   "source": [
    "ncm = contrast_df[(contrast_df[\"region\"] == \"NCM\")]\n",
    "fieldl = contrast_df[(contrast_df[\"region\"] == \"Field L\")]"
   ]
  },
  {
   "cell_type": "code",
   "execution_count": 28,
   "metadata": {},
   "outputs": [
    {
     "name": "stdout",
     "output_type": "stream",
     "text": [
      "333 total sites\n",
      "204 NCM sites\n",
      "129 Field L sites\n"
     ]
    }
   ],
   "source": [
    "print str(len(contrast_df)) + \" total sites\"\n",
    "print str(len(ncm)) + \" NCM sites\"\n",
    "print str(len(fieldl)) + \" Field L sites\""
   ]
  },
  {
   "cell_type": "code",
   "execution_count": 39,
   "metadata": {},
   "outputs": [
    {
     "name": "stdout",
     "output_type": "stream",
     "text": [
      "P Value = 1.225611472308379e-05\n"
     ]
    },
    {
     "data": {
      "image/png": "[encoded data removed]",
      "text/plain": [
       "<Figure size 432x288 with 1 Axes>"
      ]
     },
     "metadata": {},
     "output_type": "display_data"
    }
   ],
   "source": [
    "sns.set()\n",
    "sns.barplot(x=\"region\", y='average_decoding_accuracy', data=contrast_df)\n",
    "stat,pval = sst.ttest_ind(ncm.average_decoding_accuracy , fieldl.average_decoding_accuracy)\n",
    "print \"P Value = \"+str(pval)\n",
    "plt.show()"
   ]
  },
  {
   "cell_type": "code",
   "execution_count": 35,
   "metadata": {},
   "outputs": [
    {
     "name": "stdout",
     "output_type": "stream",
     "text": [
      "P Value = 5.495304411644999e-08\n"
     ]
    },
    {
     "data": {
      "image/png": "[encoded data removed]",
      "text/plain": [
       "<Figure size 432x288 with 1 Axes>"
      ]
     },
     "metadata": {},
     "output_type": "display_data"
    }
   ],
   "source": [
    "sns.set()\n",
    "sns.barplot(x=\"hemisphere\", y='average_decoding_accuracy', data=ncm)\n",
    "stat,pval = sst.ttest_ind(ncm[(ncm[\"hemisphere\"] == \"Right\")].average_decoding_accuracy , ncm[(ncm[\"hemisphere\"] == \"Left\")].average_decoding_accuracy)\n",
    "print \"P Value = \"+str(pval)"
   ]
  },
  {
   "cell_type": "code",
   "execution_count": 38,
   "metadata": {},
   "outputs": [
    {
     "name": "stdout",
     "output_type": "stream",
     "text": [
      "P Value = 0.012675381675286684\n"
     ]
    },
    {
     "data": {
      "image/png": "[encoded data removed]",
      "text/plain": [
       "<Figure size 432x288 with 1 Axes>"
      ]
     },
     "metadata": {},
     "output_type": "display_data"
    }
   ],
   "source": [
    "sns.set()\n",
    "sns.barplot(x=\"hemisphere\", y='average_decoding_accuracy', data= fieldl)\n",
    "stat,pval = sst.ttest_ind(fieldl[(fieldl[\"hemisphere\"] == \"Right\")].average_decoding_accuracy , fieldl[(fieldl[\"hemisphere\"] == \"Left\")].average_decoding_accuracy)\n",
    "print \"P Value = \"+str(pval)\n",
    "plt.show()"
   ]
  },
  {
   "cell_type": "code",
   "execution_count": 44,
   "metadata": {},
   "outputs": [
    {
     "data": {
      "image/png": "[encoded data removed]",
      "text/plain": [
       "<Figure size 425.475x360 with 1 Axes>"
      ]
     },
     "metadata": {},
     "output_type": "display_data"
    }
   ],
   "source": [
    "sns.catplot(x='region', y='average_decoding_accuracy', hue='hemisphere', data=contrast_df, kind='bar')\n",
    "plt.show()"
   ]
  },
  {
   "cell_type": "code",
   "execution_count": null,
   "metadata": {},
   "outputs": [],
   "source": []
  },
  {
   "cell_type": "code",
   "execution_count": 153,
   "metadata": {},
   "outputs": [
    {
     "ename": "IndexError",
     "evalue": "tuple index out of range",
     "output_type": "error",
     "traceback": [
      "\u001b[1;31m\u001b[0m",
      "\u001b[1;31mIndexError\u001b[0mTraceback (most recent call last)",
      "\u001b[1;32m<ipython-input-153-c093b635879b>\u001b[0m in \u001b[0;36m<module>\u001b[1;34m()\u001b[0m\n\u001b[1;32m----> 1\u001b[1;33m \u001b[0mnp\u001b[0m\u001b[1;33m.\u001b[0m\u001b[0mmean\u001b[0m\u001b[1;33m(\u001b[0m\u001b[0mcontrast_df\u001b[0m\u001b[1;33m.\u001b[0m\u001b[0mdecoding_accuracy\u001b[0m\u001b[1;33m.\u001b[0m\u001b[0miloc\u001b[0m\u001b[1;33m,\u001b[0m \u001b[0maxis\u001b[0m \u001b[1;33m=\u001b[0m \u001b[1;36m0\u001b[0m\u001b[1;33m)\u001b[0m\u001b[1;33m\u001b[0m\u001b[0m\n\u001b[0m",
      "\u001b[1;32mC:\\Users\\Vicario_lab\\Anaconda2\\lib\\site-packages\\numpy\\core\\fromnumeric.pyc\u001b[0m in \u001b[0;36mmean\u001b[1;34m(a, axis, dtype, out, keepdims)\u001b[0m\n\u001b[0;32m   3116\u001b[0m \u001b[1;33m\u001b[0m\u001b[0m\n\u001b[0;32m   3117\u001b[0m     return _methods._mean(a, axis=axis, dtype=dtype,\n\u001b[1;32m-> 3118\u001b[1;33m                           out=out, **kwargs)\n\u001b[0m\u001b[0;32m   3119\u001b[0m \u001b[1;33m\u001b[0m\u001b[0m\n\u001b[0;32m   3120\u001b[0m \u001b[1;33m\u001b[0m\u001b[0m\n",
      "\u001b[1;32mC:\\Users\\Vicario_lab\\Anaconda2\\lib\\site-packages\\numpy\\core\\_methods.pyc\u001b[0m in \u001b[0;36m_mean\u001b[1;34m(a, axis, dtype, out, keepdims)\u001b[0m\n\u001b[0;32m     60\u001b[0m \u001b[1;33m\u001b[0m\u001b[0m\n\u001b[0;32m     61\u001b[0m     \u001b[0mis_float16_result\u001b[0m \u001b[1;33m=\u001b[0m \u001b[0mFalse\u001b[0m\u001b[1;33m\u001b[0m\u001b[0m\n\u001b[1;32m---> 62\u001b[1;33m     \u001b[0mrcount\u001b[0m \u001b[1;33m=\u001b[0m \u001b[0m_count_reduce_items\u001b[0m\u001b[1;33m(\u001b[0m\u001b[0marr\u001b[0m\u001b[1;33m,\u001b[0m \u001b[0maxis\u001b[0m\u001b[1;33m)\u001b[0m\u001b[1;33m\u001b[0m\u001b[0m\n\u001b[0m\u001b[0;32m     63\u001b[0m     \u001b[1;31m# Make this warning show up first\u001b[0m\u001b[1;33m\u001b[0m\u001b[1;33m\u001b[0m\u001b[0m\n\u001b[0;32m     64\u001b[0m     \u001b[1;32mif\u001b[0m \u001b[0mrcount\u001b[0m \u001b[1;33m==\u001b[0m \u001b[1;36m0\u001b[0m\u001b[1;33m:\u001b[0m\u001b[1;33m\u001b[0m\u001b[0m\n",
      "\u001b[1;32mC:\\Users\\Vicario_lab\\Anaconda2\\lib\\site-packages\\numpy\\core\\_methods.pyc\u001b[0m in \u001b[0;36m_count_reduce_items\u001b[1;34m(arr, axis)\u001b[0m\n\u001b[0;32m     53\u001b[0m     \u001b[0mitems\u001b[0m \u001b[1;33m=\u001b[0m \u001b[1;36m1\u001b[0m\u001b[1;33m\u001b[0m\u001b[0m\n\u001b[0;32m     54\u001b[0m     \u001b[1;32mfor\u001b[0m \u001b[0max\u001b[0m \u001b[1;32min\u001b[0m \u001b[0maxis\u001b[0m\u001b[1;33m:\u001b[0m\u001b[1;33m\u001b[0m\u001b[0m\n\u001b[1;32m---> 55\u001b[1;33m         \u001b[0mitems\u001b[0m \u001b[1;33m*=\u001b[0m \u001b[0marr\u001b[0m\u001b[1;33m.\u001b[0m\u001b[0mshape\u001b[0m\u001b[1;33m[\u001b[0m\u001b[0max\u001b[0m\u001b[1;33m]\u001b[0m\u001b[1;33m\u001b[0m\u001b[0m\n\u001b[0m\u001b[0;32m     56\u001b[0m     \u001b[1;32mreturn\u001b[0m \u001b[0mitems\u001b[0m\u001b[1;33m\u001b[0m\u001b[0m\n\u001b[0;32m     57\u001b[0m \u001b[1;33m\u001b[0m\u001b[0m\n",
      "\u001b[1;31mIndexError\u001b[0m: tuple index out of range"
     ]
    }
   ],
   "source": [
    "np.mean(contrast_df.decoding_accuracy.iloc[0], axis = 0)"
   ]
  },
  {
   "cell_type": "code",
   "execution_count": 158,
   "metadata": {},
   "outputs": [],
   "source": [
    "trial_decoding_acc = []\n",
    "for x in range(0, len(contrast_df)):\n",
    "    trial_decoding_acc.append(np.mean(contrast_df.iloc[x].decoding_accuracy, axis=0))\n",
    "contrast_df[\"trial_decoding_acc\"] = trial_decoding_acc"
   ]
  },
  {
   "cell_type": "code",
   "execution_count": 160,
   "metadata": {},
   "outputs": [],
   "source": [
    "contrast_df.to_csv(\"contrast_df.csv\")"
   ]
  },
  {
   "cell_type": "code",
   "execution_count": null,
   "metadata": {},
   "outputs": [],
   "source": []
  }
 ],
 "metadata": {
  "kernelspec": {
   "display_name": "Python 2",
   "language": "python",
   "name": "python2"
  },
  "language_info": {
   "codemirror_mode": {
    "name": "ipython",
    "version": 2
   },
   "file_extension": ".py",
   "mimetype": "text/x-python",
   "name": "python",
   "nbconvert_exporter": "python",
   "pygments_lexer": "ipython2",
   "version": "2.7.16"
  }
 },
 "nbformat": 4,
 "nbformat_minor": 2
}
