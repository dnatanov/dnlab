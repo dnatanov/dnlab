{
 "cells": [
  {
   "cell_type": "code",
   "execution_count": 2,
   "metadata": {},
   "outputs": [],
   "source": [
    "#imports\n",
    "import numpy as np\n",
    "import matplotlib.pylab as plt\n",
    "import pdb\n",
    "import mdlab as mdl\n",
    "import pandas as pd\n",
    "import scipy\n",
    "import scipy.spatial as ssp\n",
    "import scipy.stats as sst\n",
    "import seaborn as sns\n",
    "from sklearn.neighbors import KNeighborsClassifier as knn\n",
    "from sklearn.neighbors import NearestNeighbors\n",
    "from sklearn.model_selection import train_test_split as split\n",
    "import matplotlib.patches as mpatches\n",
    "import statsmodels.api as sm\n",
    "from statsmodels.formula.api import ols"
   ]
  },
  {
   "cell_type": "code",
   "execution_count": 3,
   "metadata": {},
   "outputs": [
    {
     "ename": "IOError",
     "evalue": "[Errno 2] No such file or directory: '.mat'",
     "output_type": "error",
     "traceback": [
      "\u001b[1;31m\u001b[0m",
      "\u001b[1;31mIOError\u001b[0mTraceback (most recent call last)",
      "\u001b[1;32m<ipython-input-3-c67716f4548a>\u001b[0m in \u001b[0;36m<module>\u001b[1;34m()\u001b[0m\n\u001b[1;32m----> 1\u001b[1;33m \u001b[0mmat_data\u001b[0m \u001b[1;33m=\u001b[0m \u001b[0mmdl\u001b[0m\u001b[1;33m.\u001b[0m\u001b[0mload_mat_data\u001b[0m\u001b[1;33m(\u001b[0m\u001b[1;33m)\u001b[0m\u001b[1;33m\u001b[0m\u001b[0m\n\u001b[0m",
      "\u001b[1;32mC:\\Users\\Vicario_lab\\Documents\\dnlab-master\\mdlab.pyc\u001b[0m in \u001b[0;36mload_mat_data\u001b[1;34m(data_dir, electrode_adjustment, convert_birdid)\u001b[0m\n\u001b[0;32m   1354\u001b[0m     \u001b[0mpath_name\u001b[0m \u001b[1;33m=\u001b[0m \u001b[0maskopenfilename\u001b[0m\u001b[1;33m(\u001b[0m\u001b[0mparent\u001b[0m\u001b[1;33m=\u001b[0m\u001b[0mroot\u001b[0m\u001b[1;33m,\u001b[0m \u001b[0minitialdir\u001b[0m\u001b[1;33m=\u001b[0m\u001b[0mdata_dir\u001b[0m\u001b[1;33m)\u001b[0m\u001b[1;33m\u001b[0m\u001b[0m\n\u001b[0;32m   1355\u001b[0m     \u001b[0mroot\u001b[0m\u001b[1;33m.\u001b[0m\u001b[0mwithdraw\u001b[0m\u001b[1;33m(\u001b[0m\u001b[1;33m)\u001b[0m  \u001b[1;31m# close the main root window\u001b[0m\u001b[1;33m\u001b[0m\u001b[0m\n\u001b[1;32m-> 1356\u001b[1;33m     \u001b[0mheader_df\u001b[0m\u001b[1;33m,\u001b[0m \u001b[0mspike_data\u001b[0m\u001b[1;33m,\u001b[0m \u001b[0mstims\u001b[0m \u001b[1;33m=\u001b[0m \u001b[0m_mat2npz\u001b[0m\u001b[1;33m(\u001b[0m\u001b[0mpath_name\u001b[0m\u001b[1;33m,\u001b[0m \u001b[0melectrode_adjustment\u001b[0m\u001b[1;33m,\u001b[0m \u001b[0mconvert_birdid\u001b[0m\u001b[1;33m)\u001b[0m\u001b[1;33m\u001b[0m\u001b[0m\n\u001b[0m\u001b[0;32m   1357\u001b[0m     \u001b[1;32mreturn\u001b[0m \u001b[1;33m(\u001b[0m\u001b[0mheader_df\u001b[0m\u001b[1;33m,\u001b[0m \u001b[0mspike_data\u001b[0m\u001b[1;33m,\u001b[0m \u001b[0mstims\u001b[0m\u001b[1;33m,\u001b[0m \u001b[0mpath_name\u001b[0m\u001b[1;33m)\u001b[0m\u001b[1;33m\u001b[0m\u001b[0m\n\u001b[0;32m   1358\u001b[0m \u001b[1;33m\u001b[0m\u001b[0m\n",
      "\u001b[1;32mC:\\Users\\Vicario_lab\\Documents\\dnlab-master\\mdlab.pyc\u001b[0m in \u001b[0;36m_mat2npz\u001b[1;34m(path_name, electrode_adjustment, convert_birdid)\u001b[0m\n\u001b[0;32m   1307\u001b[0m     \u001b[1;33m:\u001b[0m\u001b[1;32mreturn\u001b[0m\u001b[1;33m:\u001b[0m\u001b[1;33m\u001b[0m\u001b[0m\n\u001b[0;32m   1308\u001b[0m     \"\"\"\n\u001b[1;32m-> 1309\u001b[1;33m     \u001b[0mdata\u001b[0m \u001b[1;33m=\u001b[0m \u001b[0mscipy\u001b[0m\u001b[1;33m.\u001b[0m\u001b[0mio\u001b[0m\u001b[1;33m.\u001b[0m\u001b[0mloadmat\u001b[0m\u001b[1;33m(\u001b[0m\u001b[0mpath_name\u001b[0m\u001b[1;33m)\u001b[0m\u001b[1;33m\u001b[0m\u001b[0m\n\u001b[0m\u001b[0;32m   1310\u001b[0m     \u001b[1;31m# separate the header and spike matrix\u001b[0m\u001b[1;33m\u001b[0m\u001b[1;33m\u001b[0m\u001b[0m\n\u001b[0;32m   1311\u001b[0m     \u001b[0mheader\u001b[0m \u001b[1;33m=\u001b[0m \u001b[0mdata\u001b[0m\u001b[1;33m[\u001b[0m\u001b[1;34m\"header\"\u001b[0m\u001b[1;33m]\u001b[0m\u001b[1;33m\u001b[0m\u001b[0m\n",
      "\u001b[1;32mC:\\Users\\Vicario_lab\\Anaconda2\\lib\\site-packages\\scipy\\io\\matlab\\mio.pyc\u001b[0m in \u001b[0;36mloadmat\u001b[1;34m(file_name, mdict, appendmat, **kwargs)\u001b[0m\n\u001b[0;32m    205\u001b[0m     \"\"\"\n\u001b[0;32m    206\u001b[0m     \u001b[0mvariable_names\u001b[0m \u001b[1;33m=\u001b[0m \u001b[0mkwargs\u001b[0m\u001b[1;33m.\u001b[0m\u001b[0mpop\u001b[0m\u001b[1;33m(\u001b[0m\u001b[1;34m'variable_names'\u001b[0m\u001b[1;33m,\u001b[0m \u001b[0mNone\u001b[0m\u001b[1;33m)\u001b[0m\u001b[1;33m\u001b[0m\u001b[0m\n\u001b[1;32m--> 207\u001b[1;33m     \u001b[0mMR\u001b[0m\u001b[1;33m,\u001b[0m \u001b[0mfile_opened\u001b[0m \u001b[1;33m=\u001b[0m \u001b[0mmat_reader_factory\u001b[0m\u001b[1;33m(\u001b[0m\u001b[0mfile_name\u001b[0m\u001b[1;33m,\u001b[0m \u001b[0mappendmat\u001b[0m\u001b[1;33m,\u001b[0m \u001b[1;33m**\u001b[0m\u001b[0mkwargs\u001b[0m\u001b[1;33m)\u001b[0m\u001b[1;33m\u001b[0m\u001b[0m\n\u001b[0m\u001b[0;32m    208\u001b[0m     \u001b[0mmatfile_dict\u001b[0m \u001b[1;33m=\u001b[0m \u001b[0mMR\u001b[0m\u001b[1;33m.\u001b[0m\u001b[0mget_variables\u001b[0m\u001b[1;33m(\u001b[0m\u001b[0mvariable_names\u001b[0m\u001b[1;33m)\u001b[0m\u001b[1;33m\u001b[0m\u001b[0m\n\u001b[0;32m    209\u001b[0m     \u001b[1;32mif\u001b[0m \u001b[0mmdict\u001b[0m \u001b[1;32mis\u001b[0m \u001b[1;32mnot\u001b[0m \u001b[0mNone\u001b[0m\u001b[1;33m:\u001b[0m\u001b[1;33m\u001b[0m\u001b[0m\n",
      "\u001b[1;32mC:\\Users\\Vicario_lab\\Anaconda2\\lib\\site-packages\\scipy\\io\\matlab\\mio.pyc\u001b[0m in \u001b[0;36mmat_reader_factory\u001b[1;34m(file_name, appendmat, **kwargs)\u001b[0m\n\u001b[0;32m     60\u001b[0m \u001b[1;33m\u001b[0m\u001b[0m\n\u001b[0;32m     61\u001b[0m     \"\"\"\n\u001b[1;32m---> 62\u001b[1;33m     \u001b[0mbyte_stream\u001b[0m\u001b[1;33m,\u001b[0m \u001b[0mfile_opened\u001b[0m \u001b[1;33m=\u001b[0m \u001b[0m_open_file\u001b[0m\u001b[1;33m(\u001b[0m\u001b[0mfile_name\u001b[0m\u001b[1;33m,\u001b[0m \u001b[0mappendmat\u001b[0m\u001b[1;33m)\u001b[0m\u001b[1;33m\u001b[0m\u001b[0m\n\u001b[0m\u001b[0;32m     63\u001b[0m     \u001b[0mmjv\u001b[0m\u001b[1;33m,\u001b[0m \u001b[0mmnv\u001b[0m \u001b[1;33m=\u001b[0m \u001b[0mget_matfile_version\u001b[0m\u001b[1;33m(\u001b[0m\u001b[0mbyte_stream\u001b[0m\u001b[1;33m)\u001b[0m\u001b[1;33m\u001b[0m\u001b[0m\n\u001b[0;32m     64\u001b[0m     \u001b[1;32mif\u001b[0m \u001b[0mmjv\u001b[0m \u001b[1;33m==\u001b[0m \u001b[1;36m0\u001b[0m\u001b[1;33m:\u001b[0m\u001b[1;33m\u001b[0m\u001b[0m\n",
      "\u001b[1;32mC:\\Users\\Vicario_lab\\Anaconda2\\lib\\site-packages\\scipy\\io\\matlab\\mio.pyc\u001b[0m in \u001b[0;36m_open_file\u001b[1;34m(file_like, appendmat)\u001b[0m\n\u001b[0;32m     35\u001b[0m             \u001b[1;32mif\u001b[0m \u001b[0mappendmat\u001b[0m \u001b[1;32mand\u001b[0m \u001b[1;32mnot\u001b[0m \u001b[0mfile_like\u001b[0m\u001b[1;33m.\u001b[0m\u001b[0mendswith\u001b[0m\u001b[1;33m(\u001b[0m\u001b[1;34m'.mat'\u001b[0m\u001b[1;33m)\u001b[0m\u001b[1;33m:\u001b[0m\u001b[1;33m\u001b[0m\u001b[0m\n\u001b[0;32m     36\u001b[0m                 \u001b[0mfile_like\u001b[0m \u001b[1;33m+=\u001b[0m \u001b[1;34m'.mat'\u001b[0m\u001b[1;33m\u001b[0m\u001b[0m\n\u001b[1;32m---> 37\u001b[1;33m             \u001b[1;32mreturn\u001b[0m \u001b[0mopen\u001b[0m\u001b[1;33m(\u001b[0m\u001b[0mfile_like\u001b[0m\u001b[1;33m,\u001b[0m \u001b[1;34m'rb'\u001b[0m\u001b[1;33m)\u001b[0m\u001b[1;33m,\u001b[0m \u001b[0mTrue\u001b[0m\u001b[1;33m\u001b[0m\u001b[0m\n\u001b[0m\u001b[0;32m     38\u001b[0m         \u001b[1;32melse\u001b[0m\u001b[1;33m:\u001b[0m\u001b[1;33m\u001b[0m\u001b[0m\n\u001b[0;32m     39\u001b[0m             \u001b[1;32mraise\u001b[0m \u001b[0mIOError\u001b[0m\u001b[1;33m(\u001b[0m\u001b[1;34m'Reader needs file name or open file-like object'\u001b[0m\u001b[1;33m)\u001b[0m\u001b[1;33m\u001b[0m\u001b[0m\n",
      "\u001b[1;31mIOError\u001b[0m: [Errno 2] No such file or directory: '.mat'"
     ]
    }
   ],
   "source": [
    "mat_data = mdl.load_mat_data()"
   ]
  },
  {
   "cell_type": "code",
   "execution_count": null,
   "metadata": {},
   "outputs": [],
   "source": [
    "def get_single_units(spike_data_list):\n",
    "    single_units = []\n",
    "    for spike_data in spike_data_list:\n",
    "        for ele in np.unique(spike_data.electrodes):\n",
    "            if ele%100 != 0:\n",
    "                tmp = spike_data.get_kw_SpikeData(electrode = ele)\n",
    "                single_units.append(tmp)\n",
    "    return single_units"
   ]
  },
  {
   "cell_type": "code",
   "execution_count": null,
   "metadata": {},
   "outputs": [],
   "source": [
    "def get multi_units(spike_data):\n",
    "    multi_units = []\n",
    "    for ele in np.unique(spike_data.electrodes):\n",
    "        if ele%100 == 0:\n",
    "            tmp = spike_data.get_kw_SpikeData(electrode = ele)\n",
    "            multi_units.append(tmp)\n",
    "    return multi_units"
   ]
  },
  {
   "cell_type": "code",
   "execution_count": null,
   "metadata": {},
   "outputs": [],
   "source": [
    "def filter_nonresponding(spike_data, pvalue_threshold):\n",
    "    "
   ]
  },
  {
   "cell_type": "code",
   "execution_count": 52,
   "metadata": {
    "collapsed": true
   },
   "outputs": [],
   "source": [
    "# UPDATED WORKFLOW\n",
    "\n",
    "# load NPZ data\n",
    "raw_blocked = mdl.load_NpzData2SpikeData(\"blocked.npz\", convert_birdid= False)"
   ]
  },
  {
   "cell_type": "code",
   "execution_count": 3,
   "metadata": {},
   "outputs": [
    {
     "name": "stdout",
     "output_type": "stream",
     "text": [
      "matrix_HS001__blocked_.mat\n",
      "matrix_HS001__contrast_.mat\n",
      "matrix_HS001__shuffled_.mat\n"
     ]
    }
   ],
   "source": [
    "x = mdl.batch_mat2npz(npz_filename=\"test.npz\", directory= \"G:\\2019_Human_Speech\\ncm_smr\\matrix_data\")"
   ]
  },
  {
   "cell_type": "code",
   "execution_count": 14,
   "metadata": {},
   "outputs": [],
   "source": [
    "x=mdl.load_NpzData2SpikeData(r'G:\\2019_Human_Speech\\ncm_smr\\matrix_data\\test.npz', convert_birdid=True)"
   ]
  },
  {
   "cell_type": "code",
   "execution_count": 29,
   "metadata": {},
   "outputs": [],
   "source": [
    "a = x.res_check()"
   ]
  },
  {
   "cell_type": "code",
   "execution_count": 30,
   "metadata": {},
   "outputs": [
    {
     "ename": "ValueError",
     "evalue": "Must pass DataFrame with boolean values only",
     "output_type": "error",
     "traceback": [
      "\u001b[1;31m\u001b[0m",
      "\u001b[1;31mValueError\u001b[0mTraceback (most recent call last)",
      "\u001b[1;32m<ipython-input-30-ad094d63b0e8>\u001b[0m in \u001b[0;36m<module>\u001b[1;34m()\u001b[0m\n\u001b[1;32m----> 1\u001b[1;33m \u001b[0mx\u001b[0m\u001b[1;33m.\u001b[0m\u001b[0m_get_logidx_header\u001b[0m\u001b[1;33m(\u001b[0m\u001b[0ma\u001b[0m\u001b[1;33m)\u001b[0m\u001b[1;33m\u001b[0m\u001b[0m\n\u001b[0m",
      "\u001b[1;32mC:\\Users\\Vicario_lab\\Documents\\dnlab-master\\mdlab.py\u001b[0m in \u001b[0;36m_get_logidx_header\u001b[1;34m(self, logidx)\u001b[0m\n\u001b[0;32m    214\u001b[0m \u001b[1;33m\u001b[0m\u001b[0m\n\u001b[0;32m    215\u001b[0m     \u001b[1;32mdef\u001b[0m \u001b[0m_get_logidx_header\u001b[0m\u001b[1;33m(\u001b[0m\u001b[0mself\u001b[0m\u001b[1;33m,\u001b[0m \u001b[0mlogidx\u001b[0m\u001b[1;33m)\u001b[0m\u001b[1;33m:\u001b[0m\u001b[1;33m\u001b[0m\u001b[0m\n\u001b[1;32m--> 216\u001b[1;33m         \u001b[1;32mreturn\u001b[0m \u001b[0mself\u001b[0m\u001b[1;33m.\u001b[0m\u001b[0mheader\u001b[0m\u001b[1;33m[\u001b[0m\u001b[0mlogidx\u001b[0m\u001b[1;33m]\u001b[0m\u001b[1;33m\u001b[0m\u001b[0m\n\u001b[0m\u001b[0;32m    217\u001b[0m \u001b[1;33m\u001b[0m\u001b[0m\n\u001b[0;32m    218\u001b[0m     \u001b[1;32mdef\u001b[0m \u001b[0m_get_idx_spikes\u001b[0m\u001b[1;33m(\u001b[0m\u001b[0mself\u001b[0m\u001b[1;33m,\u001b[0m \u001b[0mabsidx\u001b[0m\u001b[1;33m)\u001b[0m\u001b[1;33m:\u001b[0m\u001b[1;33m\u001b[0m\u001b[0m\n",
      "\u001b[1;32mC:\\Users\\Vicario_lab\\Anaconda2\\lib\\site-packages\\pandas\\core\\frame.py\u001b[0m in \u001b[0;36m__getitem__\u001b[1;34m(self, key)\u001b[0m\n\u001b[0;32m   2912\u001b[0m         \u001b[1;31m# Do we have a (boolean) DataFrame?\u001b[0m\u001b[1;33m\u001b[0m\u001b[1;33m\u001b[0m\u001b[0m\n\u001b[0;32m   2913\u001b[0m         \u001b[1;32mif\u001b[0m \u001b[0misinstance\u001b[0m\u001b[1;33m(\u001b[0m\u001b[0mkey\u001b[0m\u001b[1;33m,\u001b[0m \u001b[0mDataFrame\u001b[0m\u001b[1;33m)\u001b[0m\u001b[1;33m:\u001b[0m\u001b[1;33m\u001b[0m\u001b[0m\n\u001b[1;32m-> 2914\u001b[1;33m             \u001b[1;32mreturn\u001b[0m \u001b[0mself\u001b[0m\u001b[1;33m.\u001b[0m\u001b[0m_getitem_frame\u001b[0m\u001b[1;33m(\u001b[0m\u001b[0mkey\u001b[0m\u001b[1;33m)\u001b[0m\u001b[1;33m\u001b[0m\u001b[0m\n\u001b[0m\u001b[0;32m   2915\u001b[0m \u001b[1;33m\u001b[0m\u001b[0m\n\u001b[0;32m   2916\u001b[0m         \u001b[1;31m# Do we have a (boolean) 1d indexer?\u001b[0m\u001b[1;33m\u001b[0m\u001b[1;33m\u001b[0m\u001b[0m\n",
      "\u001b[1;32mC:\\Users\\Vicario_lab\\Anaconda2\\lib\\site-packages\\pandas\\core\\frame.py\u001b[0m in \u001b[0;36m_getitem_frame\u001b[1;34m(self, key)\u001b[0m\n\u001b[0;32m   3007\u001b[0m     \u001b[1;32mdef\u001b[0m \u001b[0m_getitem_frame\u001b[0m\u001b[1;33m(\u001b[0m\u001b[0mself\u001b[0m\u001b[1;33m,\u001b[0m \u001b[0mkey\u001b[0m\u001b[1;33m)\u001b[0m\u001b[1;33m:\u001b[0m\u001b[1;33m\u001b[0m\u001b[0m\n\u001b[0;32m   3008\u001b[0m         \u001b[1;32mif\u001b[0m \u001b[0mkey\u001b[0m\u001b[1;33m.\u001b[0m\u001b[0mvalues\u001b[0m\u001b[1;33m.\u001b[0m\u001b[0msize\u001b[0m \u001b[1;32mand\u001b[0m \u001b[1;32mnot\u001b[0m \u001b[0mis_bool_dtype\u001b[0m\u001b[1;33m(\u001b[0m\u001b[0mkey\u001b[0m\u001b[1;33m.\u001b[0m\u001b[0mvalues\u001b[0m\u001b[1;33m)\u001b[0m\u001b[1;33m:\u001b[0m\u001b[1;33m\u001b[0m\u001b[0m\n\u001b[1;32m-> 3009\u001b[1;33m             \u001b[1;32mraise\u001b[0m \u001b[0mValueError\u001b[0m\u001b[1;33m(\u001b[0m\u001b[1;34m'Must pass DataFrame with boolean values only'\u001b[0m\u001b[1;33m)\u001b[0m\u001b[1;33m\u001b[0m\u001b[0m\n\u001b[0m\u001b[0;32m   3010\u001b[0m         \u001b[1;32mreturn\u001b[0m \u001b[0mself\u001b[0m\u001b[1;33m.\u001b[0m\u001b[0mwhere\u001b[0m\u001b[1;33m(\u001b[0m\u001b[0mkey\u001b[0m\u001b[1;33m)\u001b[0m\u001b[1;33m\u001b[0m\u001b[0m\n\u001b[0;32m   3011\u001b[0m \u001b[1;33m\u001b[0m\u001b[0m\n",
      "\u001b[1;31mValueError\u001b[0m: Must pass DataFrame with boolean values only"
     ]
    }
   ],
   "source": [
    "x._get_logidx_header(a)"
   ]
  },
  {
   "cell_type": "code",
   "execution_count": 35,
   "metadata": {},
   "outputs": [
    {
     "data": {
      "text/html": [
       "<div>\n",
       "<style scoped>\n",
       "    .dataframe tbody tr th:only-of-type {\n",
       "        vertical-align: middle;\n",
       "    }\n",
       "\n",
       "    .dataframe tbody tr th {\n",
       "        vertical-align: top;\n",
       "    }\n",
       "\n",
       "    .dataframe thead th {\n",
       "        text-align: right;\n",
       "    }\n",
       "</style>\n",
       "<table border=\"1\" class=\"dataframe\">\n",
       "  <thead>\n",
       "    <tr style=\"text-align: right;\">\n",
       "      <th></th>\n",
       "      <th>birdid</th>\n",
       "      <th>electrode</th>\n",
       "      <th>trial</th>\n",
       "      <th>stim</th>\n",
       "      <th>starting_time</th>\n",
       "      <th>ending_time</th>\n",
       "      <th>pre_stim</th>\n",
       "      <th>after_stim</th>\n",
       "      <th>resolution</th>\n",
       "      <th>filename</th>\n",
       "      <th>id</th>\n",
       "    </tr>\n",
       "  </thead>\n",
       "  <tbody>\n",
       "    <tr>\n",
       "      <th>0</th>\n",
       "      <td>HS001</td>\n",
       "      <td>900</td>\n",
       "      <td>1</td>\n",
       "      <td>1</td>\n",
       "      <td>3.979890</td>\n",
       "      <td>4.396080</td>\n",
       "      <td>2.0</td>\n",
       "      <td>4.000118</td>\n",
       "      <td>0.0005</td>\n",
       "      <td>matrix_HS001__blocked_.mat</td>\n",
       "      <td>HS001___900</td>\n",
       "    </tr>\n",
       "    <tr>\n",
       "      <th>1</th>\n",
       "      <td>HS001</td>\n",
       "      <td>900</td>\n",
       "      <td>2</td>\n",
       "      <td>1</td>\n",
       "      <td>8.980007</td>\n",
       "      <td>9.396197</td>\n",
       "      <td>2.0</td>\n",
       "      <td>4.000118</td>\n",
       "      <td>0.0005</td>\n",
       "      <td>matrix_HS001__blocked_.mat</td>\n",
       "      <td>HS001___900</td>\n",
       "    </tr>\n",
       "    <tr>\n",
       "      <th>2</th>\n",
       "      <td>HS001</td>\n",
       "      <td>900</td>\n",
       "      <td>3</td>\n",
       "      <td>1</td>\n",
       "      <td>13.980127</td>\n",
       "      <td>14.396317</td>\n",
       "      <td>2.0</td>\n",
       "      <td>4.000118</td>\n",
       "      <td>0.0005</td>\n",
       "      <td>matrix_HS001__blocked_.mat</td>\n",
       "      <td>HS001___900</td>\n",
       "    </tr>\n",
       "    <tr>\n",
       "      <th>3</th>\n",
       "      <td>HS001</td>\n",
       "      <td>900</td>\n",
       "      <td>4</td>\n",
       "      <td>1</td>\n",
       "      <td>18.980245</td>\n",
       "      <td>19.396435</td>\n",
       "      <td>2.0</td>\n",
       "      <td>4.000118</td>\n",
       "      <td>0.0005</td>\n",
       "      <td>matrix_HS001__blocked_.mat</td>\n",
       "      <td>HS001___900</td>\n",
       "    </tr>\n",
       "    <tr>\n",
       "      <th>4</th>\n",
       "      <td>HS001</td>\n",
       "      <td>900</td>\n",
       "      <td>5</td>\n",
       "      <td>1</td>\n",
       "      <td>23.980365</td>\n",
       "      <td>24.396555</td>\n",
       "      <td>2.0</td>\n",
       "      <td>4.000118</td>\n",
       "      <td>0.0005</td>\n",
       "      <td>matrix_HS001__blocked_.mat</td>\n",
       "      <td>HS001___900</td>\n",
       "    </tr>\n",
       "    <tr>\n",
       "      <th>5</th>\n",
       "      <td>HS001</td>\n",
       "      <td>900</td>\n",
       "      <td>6</td>\n",
       "      <td>1</td>\n",
       "      <td>28.980482</td>\n",
       "      <td>29.396672</td>\n",
       "      <td>2.0</td>\n",
       "      <td>4.000118</td>\n",
       "      <td>0.0005</td>\n",
       "      <td>matrix_HS001__blocked_.mat</td>\n",
       "      <td>HS001___900</td>\n",
       "    </tr>\n",
       "    <tr>\n",
       "      <th>6</th>\n",
       "      <td>HS001</td>\n",
       "      <td>900</td>\n",
       "      <td>7</td>\n",
       "      <td>1</td>\n",
       "      <td>33.980602</td>\n",
       "      <td>34.396792</td>\n",
       "      <td>2.0</td>\n",
       "      <td>4.000118</td>\n",
       "      <td>0.0005</td>\n",
       "      <td>matrix_HS001__blocked_.mat</td>\n",
       "      <td>HS001___900</td>\n",
       "    </tr>\n",
       "    <tr>\n",
       "      <th>7</th>\n",
       "      <td>HS001</td>\n",
       "      <td>900</td>\n",
       "      <td>8</td>\n",
       "      <td>1</td>\n",
       "      <td>38.980720</td>\n",
       "      <td>39.396910</td>\n",
       "      <td>2.0</td>\n",
       "      <td>4.000118</td>\n",
       "      <td>0.0005</td>\n",
       "      <td>matrix_HS001__blocked_.mat</td>\n",
       "      <td>HS001___900</td>\n",
       "    </tr>\n",
       "    <tr>\n",
       "      <th>8</th>\n",
       "      <td>HS001</td>\n",
       "      <td>900</td>\n",
       "      <td>9</td>\n",
       "      <td>1</td>\n",
       "      <td>43.980837</td>\n",
       "      <td>44.397027</td>\n",
       "      <td>2.0</td>\n",
       "      <td>4.000118</td>\n",
       "      <td>0.0005</td>\n",
       "      <td>matrix_HS001__blocked_.mat</td>\n",
       "      <td>HS001___900</td>\n",
       "    </tr>\n",
       "    <tr>\n",
       "      <th>9</th>\n",
       "      <td>HS001</td>\n",
       "      <td>900</td>\n",
       "      <td>10</td>\n",
       "      <td>1</td>\n",
       "      <td>48.980957</td>\n",
       "      <td>49.397147</td>\n",
       "      <td>2.0</td>\n",
       "      <td>4.000118</td>\n",
       "      <td>0.0005</td>\n",
       "      <td>matrix_HS001__blocked_.mat</td>\n",
       "      <td>HS001___900</td>\n",
       "    </tr>\n",
       "    <tr>\n",
       "      <th>10</th>\n",
       "      <td>HS001</td>\n",
       "      <td>900</td>\n",
       "      <td>11</td>\n",
       "      <td>1</td>\n",
       "      <td>53.981075</td>\n",
       "      <td>54.397265</td>\n",
       "      <td>2.0</td>\n",
       "      <td>4.000118</td>\n",
       "      <td>0.0005</td>\n",
       "      <td>matrix_HS001__blocked_.mat</td>\n",
       "      <td>HS001___900</td>\n",
       "    </tr>\n",
       "    <tr>\n",
       "      <th>11</th>\n",
       "      <td>HS001</td>\n",
       "      <td>900</td>\n",
       "      <td>12</td>\n",
       "      <td>1</td>\n",
       "      <td>58.981195</td>\n",
       "      <td>59.397385</td>\n",
       "      <td>2.0</td>\n",
       "      <td>4.000118</td>\n",
       "      <td>0.0005</td>\n",
       "      <td>matrix_HS001__blocked_.mat</td>\n",
       "      <td>HS001___900</td>\n",
       "    </tr>\n",
       "    <tr>\n",
       "      <th>12</th>\n",
       "      <td>HS001</td>\n",
       "      <td>900</td>\n",
       "      <td>13</td>\n",
       "      <td>1</td>\n",
       "      <td>63.981312</td>\n",
       "      <td>64.397503</td>\n",
       "      <td>2.0</td>\n",
       "      <td>4.000118</td>\n",
       "      <td>0.0005</td>\n",
       "      <td>matrix_HS001__blocked_.mat</td>\n",
       "      <td>HS001___900</td>\n",
       "    </tr>\n",
       "    <tr>\n",
       "      <th>13</th>\n",
       "      <td>HS001</td>\n",
       "      <td>900</td>\n",
       "      <td>14</td>\n",
       "      <td>1</td>\n",
       "      <td>68.981432</td>\n",
       "      <td>69.397622</td>\n",
       "      <td>2.0</td>\n",
       "      <td>4.000118</td>\n",
       "      <td>0.0005</td>\n",
       "      <td>matrix_HS001__blocked_.mat</td>\n",
       "      <td>HS001___900</td>\n",
       "    </tr>\n",
       "    <tr>\n",
       "      <th>14</th>\n",
       "      <td>HS001</td>\n",
       "      <td>900</td>\n",
       "      <td>15</td>\n",
       "      <td>1</td>\n",
       "      <td>73.981550</td>\n",
       "      <td>74.397740</td>\n",
       "      <td>2.0</td>\n",
       "      <td>4.000118</td>\n",
       "      <td>0.0005</td>\n",
       "      <td>matrix_HS001__blocked_.mat</td>\n",
       "      <td>HS001___900</td>\n",
       "    </tr>\n",
       "    <tr>\n",
       "      <th>15</th>\n",
       "      <td>HS001</td>\n",
       "      <td>900</td>\n",
       "      <td>16</td>\n",
       "      <td>1</td>\n",
       "      <td>78.981667</td>\n",
       "      <td>79.397857</td>\n",
       "      <td>2.0</td>\n",
       "      <td>4.000118</td>\n",
       "      <td>0.0005</td>\n",
       "      <td>matrix_HS001__blocked_.mat</td>\n",
       "      <td>HS001___900</td>\n",
       "    </tr>\n",
       "    <tr>\n",
       "      <th>16</th>\n",
       "      <td>HS001</td>\n",
       "      <td>900</td>\n",
       "      <td>17</td>\n",
       "      <td>1</td>\n",
       "      <td>83.981787</td>\n",
       "      <td>84.397977</td>\n",
       "      <td>2.0</td>\n",
       "      <td>4.000118</td>\n",
       "      <td>0.0005</td>\n",
       "      <td>matrix_HS001__blocked_.mat</td>\n",
       "      <td>HS001___900</td>\n",
       "    </tr>\n",
       "    <tr>\n",
       "      <th>17</th>\n",
       "      <td>HS001</td>\n",
       "      <td>900</td>\n",
       "      <td>18</td>\n",
       "      <td>1</td>\n",
       "      <td>88.981905</td>\n",
       "      <td>89.398095</td>\n",
       "      <td>2.0</td>\n",
       "      <td>4.000118</td>\n",
       "      <td>0.0005</td>\n",
       "      <td>matrix_HS001__blocked_.mat</td>\n",
       "      <td>HS001___900</td>\n",
       "    </tr>\n",
       "    <tr>\n",
       "      <th>18</th>\n",
       "      <td>HS001</td>\n",
       "      <td>900</td>\n",
       "      <td>19</td>\n",
       "      <td>1</td>\n",
       "      <td>93.982022</td>\n",
       "      <td>94.398212</td>\n",
       "      <td>2.0</td>\n",
       "      <td>4.000118</td>\n",
       "      <td>0.0005</td>\n",
       "      <td>matrix_HS001__blocked_.mat</td>\n",
       "      <td>HS001___900</td>\n",
       "    </tr>\n",
       "    <tr>\n",
       "      <th>19</th>\n",
       "      <td>HS001</td>\n",
       "      <td>900</td>\n",
       "      <td>20</td>\n",
       "      <td>1</td>\n",
       "      <td>98.982140</td>\n",
       "      <td>99.398330</td>\n",
       "      <td>2.0</td>\n",
       "      <td>4.000118</td>\n",
       "      <td>0.0005</td>\n",
       "      <td>matrix_HS001__blocked_.mat</td>\n",
       "      <td>HS001___900</td>\n",
       "    </tr>\n",
       "    <tr>\n",
       "      <th>20</th>\n",
       "      <td>HS001</td>\n",
       "      <td>900</td>\n",
       "      <td>21</td>\n",
       "      <td>1</td>\n",
       "      <td>103.982260</td>\n",
       "      <td>104.398450</td>\n",
       "      <td>2.0</td>\n",
       "      <td>4.000118</td>\n",
       "      <td>0.0005</td>\n",
       "      <td>matrix_HS001__blocked_.mat</td>\n",
       "      <td>HS001___900</td>\n",
       "    </tr>\n",
       "    <tr>\n",
       "      <th>21</th>\n",
       "      <td>HS001</td>\n",
       "      <td>900</td>\n",
       "      <td>22</td>\n",
       "      <td>1</td>\n",
       "      <td>108.982377</td>\n",
       "      <td>109.398567</td>\n",
       "      <td>2.0</td>\n",
       "      <td>4.000118</td>\n",
       "      <td>0.0005</td>\n",
       "      <td>matrix_HS001__blocked_.mat</td>\n",
       "      <td>HS001___900</td>\n",
       "    </tr>\n",
       "    <tr>\n",
       "      <th>22</th>\n",
       "      <td>HS001</td>\n",
       "      <td>900</td>\n",
       "      <td>23</td>\n",
       "      <td>1</td>\n",
       "      <td>113.982495</td>\n",
       "      <td>114.398685</td>\n",
       "      <td>2.0</td>\n",
       "      <td>4.000118</td>\n",
       "      <td>0.0005</td>\n",
       "      <td>matrix_HS001__blocked_.mat</td>\n",
       "      <td>HS001___900</td>\n",
       "    </tr>\n",
       "    <tr>\n",
       "      <th>23</th>\n",
       "      <td>HS001</td>\n",
       "      <td>900</td>\n",
       "      <td>24</td>\n",
       "      <td>1</td>\n",
       "      <td>118.982615</td>\n",
       "      <td>119.398805</td>\n",
       "      <td>2.0</td>\n",
       "      <td>4.000118</td>\n",
       "      <td>0.0005</td>\n",
       "      <td>matrix_HS001__blocked_.mat</td>\n",
       "      <td>HS001___900</td>\n",
       "    </tr>\n",
       "    <tr>\n",
       "      <th>24</th>\n",
       "      <td>HS001</td>\n",
       "      <td>900</td>\n",
       "      <td>25</td>\n",
       "      <td>1</td>\n",
       "      <td>123.982732</td>\n",
       "      <td>124.398922</td>\n",
       "      <td>2.0</td>\n",
       "      <td>4.000118</td>\n",
       "      <td>0.0005</td>\n",
       "      <td>matrix_HS001__blocked_.mat</td>\n",
       "      <td>HS001___900</td>\n",
       "    </tr>\n",
       "    <tr>\n",
       "      <th>25</th>\n",
       "      <td>HS001</td>\n",
       "      <td>900</td>\n",
       "      <td>26</td>\n",
       "      <td>1</td>\n",
       "      <td>128.982850</td>\n",
       "      <td>129.399040</td>\n",
       "      <td>2.0</td>\n",
       "      <td>4.000118</td>\n",
       "      <td>0.0005</td>\n",
       "      <td>matrix_HS001__blocked_.mat</td>\n",
       "      <td>HS001___900</td>\n",
       "    </tr>\n",
       "    <tr>\n",
       "      <th>26</th>\n",
       "      <td>HS001</td>\n",
       "      <td>900</td>\n",
       "      <td>27</td>\n",
       "      <td>1</td>\n",
       "      <td>133.982970</td>\n",
       "      <td>134.399160</td>\n",
       "      <td>2.0</td>\n",
       "      <td>4.000118</td>\n",
       "      <td>0.0005</td>\n",
       "      <td>matrix_HS001__blocked_.mat</td>\n",
       "      <td>HS001___900</td>\n",
       "    </tr>\n",
       "    <tr>\n",
       "      <th>27</th>\n",
       "      <td>HS001</td>\n",
       "      <td>900</td>\n",
       "      <td>28</td>\n",
       "      <td>1</td>\n",
       "      <td>138.983087</td>\n",
       "      <td>139.399277</td>\n",
       "      <td>2.0</td>\n",
       "      <td>4.000118</td>\n",
       "      <td>0.0005</td>\n",
       "      <td>matrix_HS001__blocked_.mat</td>\n",
       "      <td>HS001___900</td>\n",
       "    </tr>\n",
       "    <tr>\n",
       "      <th>28</th>\n",
       "      <td>HS001</td>\n",
       "      <td>900</td>\n",
       "      <td>29</td>\n",
       "      <td>1</td>\n",
       "      <td>143.983205</td>\n",
       "      <td>144.399395</td>\n",
       "      <td>2.0</td>\n",
       "      <td>4.000118</td>\n",
       "      <td>0.0005</td>\n",
       "      <td>matrix_HS001__blocked_.mat</td>\n",
       "      <td>HS001___900</td>\n",
       "    </tr>\n",
       "    <tr>\n",
       "      <th>29</th>\n",
       "      <td>HS001</td>\n",
       "      <td>900</td>\n",
       "      <td>30</td>\n",
       "      <td>1</td>\n",
       "      <td>148.983322</td>\n",
       "      <td>149.399512</td>\n",
       "      <td>2.0</td>\n",
       "      <td>4.000118</td>\n",
       "      <td>0.0005</td>\n",
       "      <td>matrix_HS001__blocked_.mat</td>\n",
       "      <td>HS001___900</td>\n",
       "    </tr>\n",
       "    <tr>\n",
       "      <th>...</th>\n",
       "      <td>...</td>\n",
       "      <td>...</td>\n",
       "      <td>...</td>\n",
       "      <td>...</td>\n",
       "      <td>...</td>\n",
       "      <td>...</td>\n",
       "      <td>...</td>\n",
       "      <td>...</td>\n",
       "      <td>...</td>\n",
       "      <td>...</td>\n",
       "      <td>...</td>\n",
       "    </tr>\n",
       "    <tr>\n",
       "      <th>28725</th>\n",
       "      <td>HS001</td>\n",
       "      <td>2400</td>\n",
       "      <td>291</td>\n",
       "      <td>4</td>\n",
       "      <td>1451.269552</td>\n",
       "      <td>1451.765947</td>\n",
       "      <td>2.0</td>\n",
       "      <td>4.000060</td>\n",
       "      <td>0.0005</td>\n",
       "      <td>matrix_HS001__shuffled_.mat</td>\n",
       "      <td>HS001___2400</td>\n",
       "    </tr>\n",
       "    <tr>\n",
       "      <th>28726</th>\n",
       "      <td>HS001</td>\n",
       "      <td>2400</td>\n",
       "      <td>292</td>\n",
       "      <td>2</td>\n",
       "      <td>1456.269612</td>\n",
       "      <td>1456.743308</td>\n",
       "      <td>2.0</td>\n",
       "      <td>4.000060</td>\n",
       "      <td>0.0005</td>\n",
       "      <td>matrix_HS001__shuffled_.mat</td>\n",
       "      <td>HS001___2400</td>\n",
       "    </tr>\n",
       "    <tr>\n",
       "      <th>28727</th>\n",
       "      <td>HS001</td>\n",
       "      <td>2400</td>\n",
       "      <td>293</td>\n",
       "      <td>1</td>\n",
       "      <td>1461.269672</td>\n",
       "      <td>1461.719173</td>\n",
       "      <td>2.0</td>\n",
       "      <td>4.000060</td>\n",
       "      <td>0.0005</td>\n",
       "      <td>matrix_HS001__shuffled_.mat</td>\n",
       "      <td>HS001___2400</td>\n",
       "    </tr>\n",
       "    <tr>\n",
       "      <th>28728</th>\n",
       "      <td>HS001</td>\n",
       "      <td>2400</td>\n",
       "      <td>294</td>\n",
       "      <td>2</td>\n",
       "      <td>1466.269732</td>\n",
       "      <td>1466.743428</td>\n",
       "      <td>2.0</td>\n",
       "      <td>4.000060</td>\n",
       "      <td>0.0005</td>\n",
       "      <td>matrix_HS001__shuffled_.mat</td>\n",
       "      <td>HS001___2400</td>\n",
       "    </tr>\n",
       "    <tr>\n",
       "      <th>28729</th>\n",
       "      <td>HS001</td>\n",
       "      <td>2400</td>\n",
       "      <td>295</td>\n",
       "      <td>7</td>\n",
       "      <td>1471.269792</td>\n",
       "      <td>1471.766051</td>\n",
       "      <td>2.0</td>\n",
       "      <td>4.000060</td>\n",
       "      <td>0.0005</td>\n",
       "      <td>matrix_HS001__shuffled_.mat</td>\n",
       "      <td>HS001___2400</td>\n",
       "    </tr>\n",
       "    <tr>\n",
       "      <th>28730</th>\n",
       "      <td>HS001</td>\n",
       "      <td>2400</td>\n",
       "      <td>296</td>\n",
       "      <td>2</td>\n",
       "      <td>1476.269852</td>\n",
       "      <td>1476.743548</td>\n",
       "      <td>2.0</td>\n",
       "      <td>4.000060</td>\n",
       "      <td>0.0005</td>\n",
       "      <td>matrix_HS001__shuffled_.mat</td>\n",
       "      <td>HS001___2400</td>\n",
       "    </tr>\n",
       "    <tr>\n",
       "      <th>28731</th>\n",
       "      <td>HS001</td>\n",
       "      <td>2400</td>\n",
       "      <td>297</td>\n",
       "      <td>7</td>\n",
       "      <td>1481.269912</td>\n",
       "      <td>1481.766171</td>\n",
       "      <td>2.0</td>\n",
       "      <td>4.000060</td>\n",
       "      <td>0.0005</td>\n",
       "      <td>matrix_HS001__shuffled_.mat</td>\n",
       "      <td>HS001___2400</td>\n",
       "    </tr>\n",
       "    <tr>\n",
       "      <th>28732</th>\n",
       "      <td>HS001</td>\n",
       "      <td>2400</td>\n",
       "      <td>298</td>\n",
       "      <td>1</td>\n",
       "      <td>1486.269972</td>\n",
       "      <td>1486.719473</td>\n",
       "      <td>2.0</td>\n",
       "      <td>4.000060</td>\n",
       "      <td>0.0005</td>\n",
       "      <td>matrix_HS001__shuffled_.mat</td>\n",
       "      <td>HS001___2400</td>\n",
       "    </tr>\n",
       "    <tr>\n",
       "      <th>28733</th>\n",
       "      <td>HS001</td>\n",
       "      <td>2400</td>\n",
       "      <td>299</td>\n",
       "      <td>4</td>\n",
       "      <td>1491.270032</td>\n",
       "      <td>1491.766427</td>\n",
       "      <td>2.0</td>\n",
       "      <td>4.000060</td>\n",
       "      <td>0.0005</td>\n",
       "      <td>matrix_HS001__shuffled_.mat</td>\n",
       "      <td>HS001___2400</td>\n",
       "    </tr>\n",
       "    <tr>\n",
       "      <th>28734</th>\n",
       "      <td>HS001</td>\n",
       "      <td>2400</td>\n",
       "      <td>300</td>\n",
       "      <td>8</td>\n",
       "      <td>1496.270092</td>\n",
       "      <td>1496.808732</td>\n",
       "      <td>2.0</td>\n",
       "      <td>4.000060</td>\n",
       "      <td>0.0005</td>\n",
       "      <td>matrix_HS001__shuffled_.mat</td>\n",
       "      <td>HS001___2400</td>\n",
       "    </tr>\n",
       "    <tr>\n",
       "      <th>28735</th>\n",
       "      <td>HS001</td>\n",
       "      <td>2400</td>\n",
       "      <td>301</td>\n",
       "      <td>5</td>\n",
       "      <td>1501.270152</td>\n",
       "      <td>1501.698225</td>\n",
       "      <td>2.0</td>\n",
       "      <td>4.000060</td>\n",
       "      <td>0.0005</td>\n",
       "      <td>matrix_HS001__shuffled_.mat</td>\n",
       "      <td>HS001___2400</td>\n",
       "    </tr>\n",
       "    <tr>\n",
       "      <th>28736</th>\n",
       "      <td>HS001</td>\n",
       "      <td>2400</td>\n",
       "      <td>302</td>\n",
       "      <td>4</td>\n",
       "      <td>1506.270212</td>\n",
       "      <td>1506.766607</td>\n",
       "      <td>2.0</td>\n",
       "      <td>4.000060</td>\n",
       "      <td>0.0005</td>\n",
       "      <td>matrix_HS001__shuffled_.mat</td>\n",
       "      <td>HS001___2400</td>\n",
       "    </tr>\n",
       "    <tr>\n",
       "      <th>28737</th>\n",
       "      <td>HS001</td>\n",
       "      <td>2400</td>\n",
       "      <td>303</td>\n",
       "      <td>1</td>\n",
       "      <td>1511.270275</td>\n",
       "      <td>1511.719776</td>\n",
       "      <td>2.0</td>\n",
       "      <td>4.000060</td>\n",
       "      <td>0.0005</td>\n",
       "      <td>matrix_HS001__shuffled_.mat</td>\n",
       "      <td>HS001___2400</td>\n",
       "    </tr>\n",
       "    <tr>\n",
       "      <th>28738</th>\n",
       "      <td>HS001</td>\n",
       "      <td>2400</td>\n",
       "      <td>304</td>\n",
       "      <td>4</td>\n",
       "      <td>1516.270332</td>\n",
       "      <td>1516.766727</td>\n",
       "      <td>2.0</td>\n",
       "      <td>4.000060</td>\n",
       "      <td>0.0005</td>\n",
       "      <td>matrix_HS001__shuffled_.mat</td>\n",
       "      <td>HS001___2400</td>\n",
       "    </tr>\n",
       "    <tr>\n",
       "      <th>28739</th>\n",
       "      <td>HS001</td>\n",
       "      <td>2400</td>\n",
       "      <td>305</td>\n",
       "      <td>5</td>\n",
       "      <td>1521.270392</td>\n",
       "      <td>1521.698465</td>\n",
       "      <td>2.0</td>\n",
       "      <td>4.000060</td>\n",
       "      <td>0.0005</td>\n",
       "      <td>matrix_HS001__shuffled_.mat</td>\n",
       "      <td>HS001___2400</td>\n",
       "    </tr>\n",
       "    <tr>\n",
       "      <th>28740</th>\n",
       "      <td>HS001</td>\n",
       "      <td>2400</td>\n",
       "      <td>306</td>\n",
       "      <td>4</td>\n",
       "      <td>1526.270452</td>\n",
       "      <td>1526.766847</td>\n",
       "      <td>2.0</td>\n",
       "      <td>4.000060</td>\n",
       "      <td>0.0005</td>\n",
       "      <td>matrix_HS001__shuffled_.mat</td>\n",
       "      <td>HS001___2400</td>\n",
       "    </tr>\n",
       "    <tr>\n",
       "      <th>28741</th>\n",
       "      <td>HS001</td>\n",
       "      <td>2400</td>\n",
       "      <td>307</td>\n",
       "      <td>2</td>\n",
       "      <td>1531.270512</td>\n",
       "      <td>1531.744208</td>\n",
       "      <td>2.0</td>\n",
       "      <td>4.000060</td>\n",
       "      <td>0.0005</td>\n",
       "      <td>matrix_HS001__shuffled_.mat</td>\n",
       "      <td>HS001___2400</td>\n",
       "    </tr>\n",
       "    <tr>\n",
       "      <th>28742</th>\n",
       "      <td>HS001</td>\n",
       "      <td>2400</td>\n",
       "      <td>308</td>\n",
       "      <td>2</td>\n",
       "      <td>1536.270572</td>\n",
       "      <td>1536.744268</td>\n",
       "      <td>2.0</td>\n",
       "      <td>4.000060</td>\n",
       "      <td>0.0005</td>\n",
       "      <td>matrix_HS001__shuffled_.mat</td>\n",
       "      <td>HS001___2400</td>\n",
       "    </tr>\n",
       "    <tr>\n",
       "      <th>28743</th>\n",
       "      <td>HS001</td>\n",
       "      <td>2400</td>\n",
       "      <td>309</td>\n",
       "      <td>7</td>\n",
       "      <td>1541.270632</td>\n",
       "      <td>1541.766891</td>\n",
       "      <td>2.0</td>\n",
       "      <td>4.000060</td>\n",
       "      <td>0.0005</td>\n",
       "      <td>matrix_HS001__shuffled_.mat</td>\n",
       "      <td>HS001___2400</td>\n",
       "    </tr>\n",
       "    <tr>\n",
       "      <th>28744</th>\n",
       "      <td>HS001</td>\n",
       "      <td>2400</td>\n",
       "      <td>310</td>\n",
       "      <td>2</td>\n",
       "      <td>1546.270692</td>\n",
       "      <td>1546.744388</td>\n",
       "      <td>2.0</td>\n",
       "      <td>4.000060</td>\n",
       "      <td>0.0005</td>\n",
       "      <td>matrix_HS001__shuffled_.mat</td>\n",
       "      <td>HS001___2400</td>\n",
       "    </tr>\n",
       "    <tr>\n",
       "      <th>28745</th>\n",
       "      <td>HS001</td>\n",
       "      <td>2400</td>\n",
       "      <td>311</td>\n",
       "      <td>1</td>\n",
       "      <td>1551.270752</td>\n",
       "      <td>1551.720253</td>\n",
       "      <td>2.0</td>\n",
       "      <td>4.000060</td>\n",
       "      <td>0.0005</td>\n",
       "      <td>matrix_HS001__shuffled_.mat</td>\n",
       "      <td>HS001___2400</td>\n",
       "    </tr>\n",
       "    <tr>\n",
       "      <th>28746</th>\n",
       "      <td>HS001</td>\n",
       "      <td>2400</td>\n",
       "      <td>312</td>\n",
       "      <td>2</td>\n",
       "      <td>1556.270812</td>\n",
       "      <td>1556.744508</td>\n",
       "      <td>2.0</td>\n",
       "      <td>4.000060</td>\n",
       "      <td>0.0005</td>\n",
       "      <td>matrix_HS001__shuffled_.mat</td>\n",
       "      <td>HS001___2400</td>\n",
       "    </tr>\n",
       "    <tr>\n",
       "      <th>28747</th>\n",
       "      <td>HS001</td>\n",
       "      <td>2400</td>\n",
       "      <td>313</td>\n",
       "      <td>7</td>\n",
       "      <td>1561.270872</td>\n",
       "      <td>1561.767131</td>\n",
       "      <td>2.0</td>\n",
       "      <td>4.000060</td>\n",
       "      <td>0.0005</td>\n",
       "      <td>matrix_HS001__shuffled_.mat</td>\n",
       "      <td>HS001___2400</td>\n",
       "    </tr>\n",
       "    <tr>\n",
       "      <th>28748</th>\n",
       "      <td>HS001</td>\n",
       "      <td>2400</td>\n",
       "      <td>314</td>\n",
       "      <td>2</td>\n",
       "      <td>1566.270932</td>\n",
       "      <td>1566.744628</td>\n",
       "      <td>2.0</td>\n",
       "      <td>4.000060</td>\n",
       "      <td>0.0005</td>\n",
       "      <td>matrix_HS001__shuffled_.mat</td>\n",
       "      <td>HS001___2400</td>\n",
       "    </tr>\n",
       "    <tr>\n",
       "      <th>28749</th>\n",
       "      <td>HS001</td>\n",
       "      <td>2400</td>\n",
       "      <td>315</td>\n",
       "      <td>7</td>\n",
       "      <td>1571.270992</td>\n",
       "      <td>1571.767251</td>\n",
       "      <td>2.0</td>\n",
       "      <td>4.000060</td>\n",
       "      <td>0.0005</td>\n",
       "      <td>matrix_HS001__shuffled_.mat</td>\n",
       "      <td>HS001___2400</td>\n",
       "    </tr>\n",
       "    <tr>\n",
       "      <th>28750</th>\n",
       "      <td>HS001</td>\n",
       "      <td>2400</td>\n",
       "      <td>316</td>\n",
       "      <td>7</td>\n",
       "      <td>1576.271052</td>\n",
       "      <td>1576.767311</td>\n",
       "      <td>2.0</td>\n",
       "      <td>4.000060</td>\n",
       "      <td>0.0005</td>\n",
       "      <td>matrix_HS001__shuffled_.mat</td>\n",
       "      <td>HS001___2400</td>\n",
       "    </tr>\n",
       "    <tr>\n",
       "      <th>28751</th>\n",
       "      <td>HS001</td>\n",
       "      <td>2400</td>\n",
       "      <td>317</td>\n",
       "      <td>1</td>\n",
       "      <td>1581.271112</td>\n",
       "      <td>1581.720613</td>\n",
       "      <td>2.0</td>\n",
       "      <td>4.000060</td>\n",
       "      <td>0.0005</td>\n",
       "      <td>matrix_HS001__shuffled_.mat</td>\n",
       "      <td>HS001___2400</td>\n",
       "    </tr>\n",
       "    <tr>\n",
       "      <th>28752</th>\n",
       "      <td>HS001</td>\n",
       "      <td>2400</td>\n",
       "      <td>318</td>\n",
       "      <td>4</td>\n",
       "      <td>1586.271172</td>\n",
       "      <td>1586.767567</td>\n",
       "      <td>2.0</td>\n",
       "      <td>4.000060</td>\n",
       "      <td>0.0005</td>\n",
       "      <td>matrix_HS001__shuffled_.mat</td>\n",
       "      <td>HS001___2400</td>\n",
       "    </tr>\n",
       "    <tr>\n",
       "      <th>28753</th>\n",
       "      <td>HS001</td>\n",
       "      <td>2400</td>\n",
       "      <td>319</td>\n",
       "      <td>8</td>\n",
       "      <td>1591.271232</td>\n",
       "      <td>1591.809871</td>\n",
       "      <td>2.0</td>\n",
       "      <td>4.000060</td>\n",
       "      <td>0.0005</td>\n",
       "      <td>matrix_HS001__shuffled_.mat</td>\n",
       "      <td>HS001___2400</td>\n",
       "    </tr>\n",
       "    <tr>\n",
       "      <th>28754</th>\n",
       "      <td>HS001</td>\n",
       "      <td>2400</td>\n",
       "      <td>320</td>\n",
       "      <td>3</td>\n",
       "      <td>1596.271292</td>\n",
       "      <td>1596.756054</td>\n",
       "      <td>2.0</td>\n",
       "      <td>4.000060</td>\n",
       "      <td>0.0005</td>\n",
       "      <td>matrix_HS001__shuffled_.mat</td>\n",
       "      <td>HS001___2400</td>\n",
       "    </tr>\n",
       "  </tbody>\n",
       "</table>\n",
       "<p>28755 rows × 11 columns</p>\n",
       "</div>"
      ],
      "text/plain": [
       "      birdid  electrode  trial  stim  starting_time  ending_time  pre_stim  \\\n",
       "0      HS001        900      1     1       3.979890     4.396080       2.0   \n",
       "1      HS001        900      2     1       8.980007     9.396197       2.0   \n",
       "2      HS001        900      3     1      13.980127    14.396317       2.0   \n",
       "3      HS001        900      4     1      18.980245    19.396435       2.0   \n",
       "4      HS001        900      5     1      23.980365    24.396555       2.0   \n",
       "5      HS001        900      6     1      28.980482    29.396672       2.0   \n",
       "6      HS001        900      7     1      33.980602    34.396792       2.0   \n",
       "7      HS001        900      8     1      38.980720    39.396910       2.0   \n",
       "8      HS001        900      9     1      43.980837    44.397027       2.0   \n",
       "9      HS001        900     10     1      48.980957    49.397147       2.0   \n",
       "10     HS001        900     11     1      53.981075    54.397265       2.0   \n",
       "11     HS001        900     12     1      58.981195    59.397385       2.0   \n",
       "12     HS001        900     13     1      63.981312    64.397503       2.0   \n",
       "13     HS001        900     14     1      68.981432    69.397622       2.0   \n",
       "14     HS001        900     15     1      73.981550    74.397740       2.0   \n",
       "15     HS001        900     16     1      78.981667    79.397857       2.0   \n",
       "16     HS001        900     17     1      83.981787    84.397977       2.0   \n",
       "17     HS001        900     18     1      88.981905    89.398095       2.0   \n",
       "18     HS001        900     19     1      93.982022    94.398212       2.0   \n",
       "19     HS001        900     20     1      98.982140    99.398330       2.0   \n",
       "20     HS001        900     21     1     103.982260   104.398450       2.0   \n",
       "21     HS001        900     22     1     108.982377   109.398567       2.0   \n",
       "22     HS001        900     23     1     113.982495   114.398685       2.0   \n",
       "23     HS001        900     24     1     118.982615   119.398805       2.0   \n",
       "24     HS001        900     25     1     123.982732   124.398922       2.0   \n",
       "25     HS001        900     26     1     128.982850   129.399040       2.0   \n",
       "26     HS001        900     27     1     133.982970   134.399160       2.0   \n",
       "27     HS001        900     28     1     138.983087   139.399277       2.0   \n",
       "28     HS001        900     29     1     143.983205   144.399395       2.0   \n",
       "29     HS001        900     30     1     148.983322   149.399512       2.0   \n",
       "...      ...        ...    ...   ...            ...          ...       ...   \n",
       "28725  HS001       2400    291     4    1451.269552  1451.765947       2.0   \n",
       "28726  HS001       2400    292     2    1456.269612  1456.743308       2.0   \n",
       "28727  HS001       2400    293     1    1461.269672  1461.719173       2.0   \n",
       "28728  HS001       2400    294     2    1466.269732  1466.743428       2.0   \n",
       "28729  HS001       2400    295     7    1471.269792  1471.766051       2.0   \n",
       "28730  HS001       2400    296     2    1476.269852  1476.743548       2.0   \n",
       "28731  HS001       2400    297     7    1481.269912  1481.766171       2.0   \n",
       "28732  HS001       2400    298     1    1486.269972  1486.719473       2.0   \n",
       "28733  HS001       2400    299     4    1491.270032  1491.766427       2.0   \n",
       "28734  HS001       2400    300     8    1496.270092  1496.808732       2.0   \n",
       "28735  HS001       2400    301     5    1501.270152  1501.698225       2.0   \n",
       "28736  HS001       2400    302     4    1506.270212  1506.766607       2.0   \n",
       "28737  HS001       2400    303     1    1511.270275  1511.719776       2.0   \n",
       "28738  HS001       2400    304     4    1516.270332  1516.766727       2.0   \n",
       "28739  HS001       2400    305     5    1521.270392  1521.698465       2.0   \n",
       "28740  HS001       2400    306     4    1526.270452  1526.766847       2.0   \n",
       "28741  HS001       2400    307     2    1531.270512  1531.744208       2.0   \n",
       "28742  HS001       2400    308     2    1536.270572  1536.744268       2.0   \n",
       "28743  HS001       2400    309     7    1541.270632  1541.766891       2.0   \n",
       "28744  HS001       2400    310     2    1546.270692  1546.744388       2.0   \n",
       "28745  HS001       2400    311     1    1551.270752  1551.720253       2.0   \n",
       "28746  HS001       2400    312     2    1556.270812  1556.744508       2.0   \n",
       "28747  HS001       2400    313     7    1561.270872  1561.767131       2.0   \n",
       "28748  HS001       2400    314     2    1566.270932  1566.744628       2.0   \n",
       "28749  HS001       2400    315     7    1571.270992  1571.767251       2.0   \n",
       "28750  HS001       2400    316     7    1576.271052  1576.767311       2.0   \n",
       "28751  HS001       2400    317     1    1581.271112  1581.720613       2.0   \n",
       "28752  HS001       2400    318     4    1586.271172  1586.767567       2.0   \n",
       "28753  HS001       2400    319     8    1591.271232  1591.809871       2.0   \n",
       "28754  HS001       2400    320     3    1596.271292  1596.756054       2.0   \n",
       "\n",
       "       after_stim  resolution                     filename            id  \n",
       "0        4.000118      0.0005   matrix_HS001__blocked_.mat   HS001___900  \n",
       "1        4.000118      0.0005   matrix_HS001__blocked_.mat   HS001___900  \n",
       "2        4.000118      0.0005   matrix_HS001__blocked_.mat   HS001___900  \n",
       "3        4.000118      0.0005   matrix_HS001__blocked_.mat   HS001___900  \n",
       "4        4.000118      0.0005   matrix_HS001__blocked_.mat   HS001___900  \n",
       "5        4.000118      0.0005   matrix_HS001__blocked_.mat   HS001___900  \n",
       "6        4.000118      0.0005   matrix_HS001__blocked_.mat   HS001___900  \n",
       "7        4.000118      0.0005   matrix_HS001__blocked_.mat   HS001___900  \n",
       "8        4.000118      0.0005   matrix_HS001__blocked_.mat   HS001___900  \n",
       "9        4.000118      0.0005   matrix_HS001__blocked_.mat   HS001___900  \n",
       "10       4.000118      0.0005   matrix_HS001__blocked_.mat   HS001___900  \n",
       "11       4.000118      0.0005   matrix_HS001__blocked_.mat   HS001___900  \n",
       "12       4.000118      0.0005   matrix_HS001__blocked_.mat   HS001___900  \n",
       "13       4.000118      0.0005   matrix_HS001__blocked_.mat   HS001___900  \n",
       "14       4.000118      0.0005   matrix_HS001__blocked_.mat   HS001___900  \n",
       "15       4.000118      0.0005   matrix_HS001__blocked_.mat   HS001___900  \n",
       "16       4.000118      0.0005   matrix_HS001__blocked_.mat   HS001___900  \n",
       "17       4.000118      0.0005   matrix_HS001__blocked_.mat   HS001___900  \n",
       "18       4.000118      0.0005   matrix_HS001__blocked_.mat   HS001___900  \n",
       "19       4.000118      0.0005   matrix_HS001__blocked_.mat   HS001___900  \n",
       "20       4.000118      0.0005   matrix_HS001__blocked_.mat   HS001___900  \n",
       "21       4.000118      0.0005   matrix_HS001__blocked_.mat   HS001___900  \n",
       "22       4.000118      0.0005   matrix_HS001__blocked_.mat   HS001___900  \n",
       "23       4.000118      0.0005   matrix_HS001__blocked_.mat   HS001___900  \n",
       "24       4.000118      0.0005   matrix_HS001__blocked_.mat   HS001___900  \n",
       "25       4.000118      0.0005   matrix_HS001__blocked_.mat   HS001___900  \n",
       "26       4.000118      0.0005   matrix_HS001__blocked_.mat   HS001___900  \n",
       "27       4.000118      0.0005   matrix_HS001__blocked_.mat   HS001___900  \n",
       "28       4.000118      0.0005   matrix_HS001__blocked_.mat   HS001___900  \n",
       "29       4.000118      0.0005   matrix_HS001__blocked_.mat   HS001___900  \n",
       "...           ...         ...                          ...           ...  \n",
       "28725    4.000060      0.0005  matrix_HS001__shuffled_.mat  HS001___2400  \n",
       "28726    4.000060      0.0005  matrix_HS001__shuffled_.mat  HS001___2400  \n",
       "28727    4.000060      0.0005  matrix_HS001__shuffled_.mat  HS001___2400  \n",
       "28728    4.000060      0.0005  matrix_HS001__shuffled_.mat  HS001___2400  \n",
       "28729    4.000060      0.0005  matrix_HS001__shuffled_.mat  HS001___2400  \n",
       "28730    4.000060      0.0005  matrix_HS001__shuffled_.mat  HS001___2400  \n",
       "28731    4.000060      0.0005  matrix_HS001__shuffled_.mat  HS001___2400  \n",
       "28732    4.000060      0.0005  matrix_HS001__shuffled_.mat  HS001___2400  \n",
       "28733    4.000060      0.0005  matrix_HS001__shuffled_.mat  HS001___2400  \n",
       "28734    4.000060      0.0005  matrix_HS001__shuffled_.mat  HS001___2400  \n",
       "28735    4.000060      0.0005  matrix_HS001__shuffled_.mat  HS001___2400  \n",
       "28736    4.000060      0.0005  matrix_HS001__shuffled_.mat  HS001___2400  \n",
       "28737    4.000060      0.0005  matrix_HS001__shuffled_.mat  HS001___2400  \n",
       "28738    4.000060      0.0005  matrix_HS001__shuffled_.mat  HS001___2400  \n",
       "28739    4.000060      0.0005  matrix_HS001__shuffled_.mat  HS001___2400  \n",
       "28740    4.000060      0.0005  matrix_HS001__shuffled_.mat  HS001___2400  \n",
       "28741    4.000060      0.0005  matrix_HS001__shuffled_.mat  HS001___2400  \n",
       "28742    4.000060      0.0005  matrix_HS001__shuffled_.mat  HS001___2400  \n",
       "28743    4.000060      0.0005  matrix_HS001__shuffled_.mat  HS001___2400  \n",
       "28744    4.000060      0.0005  matrix_HS001__shuffled_.mat  HS001___2400  \n",
       "28745    4.000060      0.0005  matrix_HS001__shuffled_.mat  HS001___2400  \n",
       "28746    4.000060      0.0005  matrix_HS001__shuffled_.mat  HS001___2400  \n",
       "28747    4.000060      0.0005  matrix_HS001__shuffled_.mat  HS001___2400  \n",
       "28748    4.000060      0.0005  matrix_HS001__shuffled_.mat  HS001___2400  \n",
       "28749    4.000060      0.0005  matrix_HS001__shuffled_.mat  HS001___2400  \n",
       "28750    4.000060      0.0005  matrix_HS001__shuffled_.mat  HS001___2400  \n",
       "28751    4.000060      0.0005  matrix_HS001__shuffled_.mat  HS001___2400  \n",
       "28752    4.000060      0.0005  matrix_HS001__shuffled_.mat  HS001___2400  \n",
       "28753    4.000060      0.0005  matrix_HS001__shuffled_.mat  HS001___2400  \n",
       "28754    4.000060      0.0005  matrix_HS001__shuffled_.mat  HS001___2400  \n",
       "\n",
       "[28755 rows x 11 columns]"
      ]
     },
     "execution_count": 35,
     "metadata": {},
     "output_type": "execute_result"
    }
   ],
   "source": [
    "x.header"
   ]
  },
  {
   "cell_type": "code",
   "execution_count": null,
   "metadata": {},
   "outputs": [],
   "source": []
  },
  {
   "cell_type": "code",
   "execution_count": 33,
   "metadata": {},
   "outputs": [
    {
     "ename": "KeyError",
     "evalue": "'electrodes'",
     "output_type": "error",
     "traceback": [
      "\u001b[1;31m\u001b[0m",
      "\u001b[1;31mKeyError\u001b[0mTraceback (most recent call last)",
      "\u001b[1;32m<ipython-input-33-a0ad9a5bb646>\u001b[0m in \u001b[0;36m<module>\u001b[1;34m()\u001b[0m\n\u001b[1;32m----> 1\u001b[1;33m \u001b[0mx\u001b[0m\u001b[1;33m.\u001b[0m\u001b[0mget_kw_SpikeData\u001b[0m\u001b[1;33m(\u001b[0m\u001b[0melectrodes\u001b[0m \u001b[1;33m=\u001b[0m \u001b[1;36m1\u001b[0m\u001b[1;33m)\u001b[0m\u001b[1;33m\u001b[0m\u001b[0m\n\u001b[0m",
      "\u001b[1;32mC:\\Users\\Vicario_lab\\Documents\\dnlab-master\\mdlab.py\u001b[0m in \u001b[0;36mget_kw_SpikeData\u001b[1;34m(self, shift, **keyword_params)\u001b[0m\n\u001b[0;32m    246\u001b[0m             \u001b[1;32melse\u001b[0m\u001b[1;33m:\u001b[0m\u001b[1;33m\u001b[0m\u001b[0m\n\u001b[0;32m    247\u001b[0m                 \u001b[0mcondition_logidx\u001b[0m \u001b[1;33m=\u001b[0m \u001b[0mself\u001b[0m\u001b[1;33m.\u001b[0m\u001b[0mheader\u001b[0m\u001b[1;33m[\u001b[0m\u001b[0mcondition\u001b[0m\u001b[1;33m]\u001b[0m \u001b[1;33m==\u001b[0m \u001b[0mcondition_values\u001b[0m\u001b[1;33m\u001b[0m\u001b[0m\n\u001b[1;32m--> 248\u001b[1;33m             \u001b[0mlogidx\u001b[0m \u001b[1;33m=\u001b[0m \u001b[0mnp\u001b[0m\u001b[1;33m.\u001b[0m\u001b[0mlogical_and\u001b[0m\u001b[1;33m(\u001b[0m\u001b[0mlogidx\u001b[0m\u001b[1;33m,\u001b[0m \u001b[0mcondition_logidx\u001b[0m\u001b[1;33m)\u001b[0m\u001b[1;33m\u001b[0m\u001b[0m\n\u001b[0m\u001b[0;32m    249\u001b[0m         \u001b[0mabsidx\u001b[0m \u001b[1;33m=\u001b[0m \u001b[0mnp\u001b[0m\u001b[1;33m.\u001b[0m\u001b[0mflatnonzero\u001b[0m\u001b[1;33m(\u001b[0m\u001b[0mlogidx\u001b[0m\u001b[1;33m)\u001b[0m \u001b[1;33m+\u001b[0m \u001b[0mshift\u001b[0m\u001b[1;33m\u001b[0m\u001b[0m\n\u001b[0;32m    250\u001b[0m         \u001b[0mlogidx\u001b[0m \u001b[1;33m=\u001b[0m \u001b[0mnp\u001b[0m\u001b[1;33m.\u001b[0m\u001b[0mzeros\u001b[0m\u001b[1;33m(\u001b[0m\u001b[0mlogidx\u001b[0m\u001b[1;33m.\u001b[0m\u001b[0mshape\u001b[0m\u001b[1;33m,\u001b[0m \u001b[0mdtype\u001b[0m\u001b[1;33m=\u001b[0m\u001b[0mbool\u001b[0m\u001b[1;33m)\u001b[0m\u001b[1;33m\u001b[0m\u001b[0m\n",
      "\u001b[1;32mC:\\Users\\Vicario_lab\\Anaconda2\\lib\\site-packages\\pandas\\core\\frame.py\u001b[0m in \u001b[0;36m__getitem__\u001b[1;34m(self, key)\u001b[0m\n\u001b[0;32m   2925\u001b[0m             \u001b[1;32mif\u001b[0m \u001b[0mself\u001b[0m\u001b[1;33m.\u001b[0m\u001b[0mcolumns\u001b[0m\u001b[1;33m.\u001b[0m\u001b[0mnlevels\u001b[0m \u001b[1;33m>\u001b[0m \u001b[1;36m1\u001b[0m\u001b[1;33m:\u001b[0m\u001b[1;33m\u001b[0m\u001b[0m\n\u001b[0;32m   2926\u001b[0m                 \u001b[1;32mreturn\u001b[0m \u001b[0mself\u001b[0m\u001b[1;33m.\u001b[0m\u001b[0m_getitem_multilevel\u001b[0m\u001b[1;33m(\u001b[0m\u001b[0mkey\u001b[0m\u001b[1;33m)\u001b[0m\u001b[1;33m\u001b[0m\u001b[0m\n\u001b[1;32m-> 2927\u001b[1;33m             \u001b[0mindexer\u001b[0m \u001b[1;33m=\u001b[0m \u001b[0mself\u001b[0m\u001b[1;33m.\u001b[0m\u001b[0mcolumns\u001b[0m\u001b[1;33m.\u001b[0m\u001b[0mget_loc\u001b[0m\u001b[1;33m(\u001b[0m\u001b[0mkey\u001b[0m\u001b[1;33m)\u001b[0m\u001b[1;33m\u001b[0m\u001b[0m\n\u001b[0m\u001b[0;32m   2928\u001b[0m             \u001b[1;32mif\u001b[0m \u001b[0mis_integer\u001b[0m\u001b[1;33m(\u001b[0m\u001b[0mindexer\u001b[0m\u001b[1;33m)\u001b[0m\u001b[1;33m:\u001b[0m\u001b[1;33m\u001b[0m\u001b[0m\n\u001b[0;32m   2929\u001b[0m                 \u001b[0mindexer\u001b[0m \u001b[1;33m=\u001b[0m \u001b[1;33m[\u001b[0m\u001b[0mindexer\u001b[0m\u001b[1;33m]\u001b[0m\u001b[1;33m\u001b[0m\u001b[0m\n",
      "\u001b[1;32mC:\\Users\\Vicario_lab\\Anaconda2\\lib\\site-packages\\pandas\\core\\indexes\\base.py\u001b[0m in \u001b[0;36mget_loc\u001b[1;34m(self, key, method, tolerance)\u001b[0m\n\u001b[0;32m   2657\u001b[0m                 \u001b[1;32mreturn\u001b[0m \u001b[0mself\u001b[0m\u001b[1;33m.\u001b[0m\u001b[0m_engine\u001b[0m\u001b[1;33m.\u001b[0m\u001b[0mget_loc\u001b[0m\u001b[1;33m(\u001b[0m\u001b[0mkey\u001b[0m\u001b[1;33m)\u001b[0m\u001b[1;33m\u001b[0m\u001b[0m\n\u001b[0;32m   2658\u001b[0m             \u001b[1;32mexcept\u001b[0m \u001b[0mKeyError\u001b[0m\u001b[1;33m:\u001b[0m\u001b[1;33m\u001b[0m\u001b[0m\n\u001b[1;32m-> 2659\u001b[1;33m                 \u001b[1;32mreturn\u001b[0m \u001b[0mself\u001b[0m\u001b[1;33m.\u001b[0m\u001b[0m_engine\u001b[0m\u001b[1;33m.\u001b[0m\u001b[0mget_loc\u001b[0m\u001b[1;33m(\u001b[0m\u001b[0mself\u001b[0m\u001b[1;33m.\u001b[0m\u001b[0m_maybe_cast_indexer\u001b[0m\u001b[1;33m(\u001b[0m\u001b[0mkey\u001b[0m\u001b[1;33m)\u001b[0m\u001b[1;33m)\u001b[0m\u001b[1;33m\u001b[0m\u001b[0m\n\u001b[0m\u001b[0;32m   2660\u001b[0m         \u001b[0mindexer\u001b[0m \u001b[1;33m=\u001b[0m \u001b[0mself\u001b[0m\u001b[1;33m.\u001b[0m\u001b[0mget_indexer\u001b[0m\u001b[1;33m(\u001b[0m\u001b[1;33m[\u001b[0m\u001b[0mkey\u001b[0m\u001b[1;33m]\u001b[0m\u001b[1;33m,\u001b[0m \u001b[0mmethod\u001b[0m\u001b[1;33m=\u001b[0m\u001b[0mmethod\u001b[0m\u001b[1;33m,\u001b[0m \u001b[0mtolerance\u001b[0m\u001b[1;33m=\u001b[0m\u001b[0mtolerance\u001b[0m\u001b[1;33m)\u001b[0m\u001b[1;33m\u001b[0m\u001b[0m\n\u001b[0;32m   2661\u001b[0m         \u001b[1;32mif\u001b[0m \u001b[0mindexer\u001b[0m\u001b[1;33m.\u001b[0m\u001b[0mndim\u001b[0m \u001b[1;33m>\u001b[0m \u001b[1;36m1\u001b[0m \u001b[1;32mor\u001b[0m \u001b[0mindexer\u001b[0m\u001b[1;33m.\u001b[0m\u001b[0msize\u001b[0m \u001b[1;33m>\u001b[0m \u001b[1;36m1\u001b[0m\u001b[1;33m:\u001b[0m\u001b[1;33m\u001b[0m\u001b[0m\n",
      "\u001b[1;32mpandas/_libs/index.pyx\u001b[0m in \u001b[0;36mpandas._libs.index.IndexEngine.get_loc\u001b[1;34m()\u001b[0m\n",
      "\u001b[1;32mpandas/_libs/index.pyx\u001b[0m in \u001b[0;36mpandas._libs.index.IndexEngine.get_loc\u001b[1;34m()\u001b[0m\n",
      "\u001b[1;32mpandas/_libs/hashtable_class_helper.pxi\u001b[0m in \u001b[0;36mpandas._libs.hashtable.PyObjectHashTable.get_item\u001b[1;34m()\u001b[0m\n",
      "\u001b[1;32mpandas/_libs/hashtable_class_helper.pxi\u001b[0m in \u001b[0;36mpandas._libs.hashtable.PyObjectHashTable.get_item\u001b[1;34m()\u001b[0m\n",
      "\u001b[1;31mKeyError\u001b[0m: 'electrodes'"
     ]
    }
   ],
   "source": [
    "x.get_kw_SpikeData(electrodes = 1)"
   ]
  },
  {
   "cell_type": "code",
   "execution_count": null,
   "metadata": {},
   "outputs": [],
   "source": [
    "def filter(SpikeData):\n",
    "    "
   ]
  },
  {
   "cell_type": "code",
   "execution_count": 27,
   "metadata": {},
   "outputs": [
    {
     "data": {
      "text/html": [
       "<div>\n",
       "<style scoped>\n",
       "    .dataframe tbody tr th:only-of-type {\n",
       "        vertical-align: middle;\n",
       "    }\n",
       "\n",
       "    .dataframe tbody tr th {\n",
       "        vertical-align: top;\n",
       "    }\n",
       "\n",
       "    .dataframe thead th {\n",
       "        text-align: right;\n",
       "    }\n",
       "</style>\n",
       "<table border=\"1\" class=\"dataframe\">\n",
       "  <thead>\n",
       "    <tr style=\"text-align: right;\">\n",
       "      <th></th>\n",
       "      <th>birdid</th>\n",
       "      <th>electrode</th>\n",
       "      <th>res</th>\n",
       "      <th>res_data</th>\n",
       "    </tr>\n",
       "  </thead>\n",
       "  <tbody>\n",
       "    <tr>\n",
       "      <th>6</th>\n",
       "      <td>HS001</td>\n",
       "      <td>700</td>\n",
       "      <td>0.098524</td>\n",
       "      <td>[[1.0, 2.0, 3.0, 4.0, 5.0, 6.0, 7.0, 8.0], [3....</td>\n",
       "    </tr>\n",
       "    <tr>\n",
       "      <th>11</th>\n",
       "      <td>HS001</td>\n",
       "      <td>1200</td>\n",
       "      <td>1.000000</td>\n",
       "      <td>[[1.0, 2.0, 3.0, 4.0, 5.0, 6.0, 7.0, 8.0], [0....</td>\n",
       "    </tr>\n",
       "    <tr>\n",
       "      <th>16</th>\n",
       "      <td>HS001</td>\n",
       "      <td>1800</td>\n",
       "      <td>0.120328</td>\n",
       "      <td>[[1.0, 2.0, 3.0, 4.0, 5.0, 6.0, 7.0, 8.0], [1....</td>\n",
       "    </tr>\n",
       "    <tr>\n",
       "      <th>17</th>\n",
       "      <td>HS001</td>\n",
       "      <td>1900</td>\n",
       "      <td>0.648260</td>\n",
       "      <td>[[1.0, 2.0, 3.0, 4.0, 5.0, 6.0, 7.0, 8.0], [7....</td>\n",
       "    </tr>\n",
       "    <tr>\n",
       "      <th>18</th>\n",
       "      <td>HS001</td>\n",
       "      <td>2000</td>\n",
       "      <td>0.648260</td>\n",
       "      <td>[[1.0, 2.0, 3.0, 4.0, 5.0, 6.0, 7.0, 8.0], [3....</td>\n",
       "    </tr>\n",
       "  </tbody>\n",
       "</table>\n",
       "</div>"
      ],
      "text/plain": [
       "   birdid  electrode       res  \\\n",
       "6   HS001        700  0.098524   \n",
       "11  HS001       1200  1.000000   \n",
       "16  HS001       1800  0.120328   \n",
       "17  HS001       1900  0.648260   \n",
       "18  HS001       2000  0.648260   \n",
       "\n",
       "                                             res_data  \n",
       "6   [[1.0, 2.0, 3.0, 4.0, 5.0, 6.0, 7.0, 8.0], [3....  \n",
       "11  [[1.0, 2.0, 3.0, 4.0, 5.0, 6.0, 7.0, 8.0], [0....  \n",
       "16  [[1.0, 2.0, 3.0, 4.0, 5.0, 6.0, 7.0, 8.0], [1....  \n",
       "17  [[1.0, 2.0, 3.0, 4.0, 5.0, 6.0, 7.0, 8.0], [7....  \n",
       "18  [[1.0, 2.0, 3.0, 4.0, 5.0, 6.0, 7.0, 8.0], [3....  "
      ]
     },
     "execution_count": 27,
     "metadata": {},
     "output_type": "execute_result"
    }
   ],
   "source": [
    "a[(a[\"res\"] > 0.05)]"
   ]
  },
  {
   "cell_type": "code",
   "execution_count": 24,
   "metadata": {
    "collapsed": true
   },
   "outputs": [
    {
     "ename": "IOError",
     "evalue": "[Errno 2] File C:\\Users\\SpikeSorting\\Documents\\David_Natanov\\david_python_scripts\\blocked_adaptation_rate.csv does not exist: 'C:\\\\Users\\\\SpikeSorting\\\\Documents\\\\David_Natanov\\\\david_python_scripts\\\\blocked_adaptation_rate.csv'",
     "output_type": "error",
     "traceback": [
      "\u001b[1;31m\u001b[0m",
      "\u001b[1;31mIOError\u001b[0mTraceback (most recent call last)",
      "\u001b[1;32m<ipython-input-24-b159bee2d492>\u001b[0m in \u001b[0;36m<module>\u001b[1;34m()\u001b[0m\n\u001b[0;32m      1\u001b[0m \u001b[1;31m# Load in adaptation rates\u001b[0m\u001b[1;33m\u001b[0m\u001b[1;33m\u001b[0m\u001b[0m\n\u001b[1;32m----> 2\u001b[1;33m \u001b[0mxl\u001b[0m \u001b[1;33m=\u001b[0m \u001b[0mpd\u001b[0m\u001b[1;33m.\u001b[0m\u001b[0mread_csv\u001b[0m\u001b[1;33m(\u001b[0m\u001b[1;34m\"C:\\Users\\SpikeSorting\\Documents\\David_Natanov\\david_python_scripts\\\\blocked_adaptation_rate.csv\"\u001b[0m\u001b[1;33m)\u001b[0m\u001b[1;33m\u001b[0m\u001b[0m\n\u001b[0m\u001b[0;32m      3\u001b[0m \u001b[1;33m\u001b[0m\u001b[0m\n\u001b[0;32m      4\u001b[0m \u001b[1;31m#change format of data into an array with birdid, electrode number, and fast slow responding status (based off of a median split)\u001b[0m\u001b[1;33m\u001b[0m\u001b[1;33m\u001b[0m\u001b[0m\n\u001b[0;32m      5\u001b[0m \u001b[0mbird_ele_class\u001b[0m \u001b[1;33m=\u001b[0m \u001b[0mcategorize_fast_slow\u001b[0m\u001b[1;33m(\u001b[0m\u001b[0mxl\u001b[0m\u001b[1;33m)\u001b[0m\u001b[1;33m\u001b[0m\u001b[0m\n",
      "\u001b[1;32mC:\\Users\\Vicario_lab\\Anaconda2\\lib\\site-packages\\pandas\\io\\parsers.py\u001b[0m in \u001b[0;36mparser_f\u001b[1;34m(filepath_or_buffer, sep, delimiter, header, names, index_col, usecols, squeeze, prefix, mangle_dupe_cols, dtype, engine, converters, true_values, false_values, skipinitialspace, skiprows, skipfooter, nrows, na_values, keep_default_na, na_filter, verbose, skip_blank_lines, parse_dates, infer_datetime_format, keep_date_col, date_parser, dayfirst, iterator, chunksize, compression, thousands, decimal, lineterminator, quotechar, quoting, doublequote, escapechar, comment, encoding, dialect, tupleize_cols, error_bad_lines, warn_bad_lines, delim_whitespace, low_memory, memory_map, float_precision)\u001b[0m\n\u001b[0;32m    700\u001b[0m                     skip_blank_lines=skip_blank_lines)\n\u001b[0;32m    701\u001b[0m \u001b[1;33m\u001b[0m\u001b[0m\n\u001b[1;32m--> 702\u001b[1;33m         \u001b[1;32mreturn\u001b[0m \u001b[0m_read\u001b[0m\u001b[1;33m(\u001b[0m\u001b[0mfilepath_or_buffer\u001b[0m\u001b[1;33m,\u001b[0m \u001b[0mkwds\u001b[0m\u001b[1;33m)\u001b[0m\u001b[1;33m\u001b[0m\u001b[0m\n\u001b[0m\u001b[0;32m    703\u001b[0m \u001b[1;33m\u001b[0m\u001b[0m\n\u001b[0;32m    704\u001b[0m     \u001b[0mparser_f\u001b[0m\u001b[1;33m.\u001b[0m\u001b[0m__name__\u001b[0m \u001b[1;33m=\u001b[0m \u001b[0mname\u001b[0m\u001b[1;33m\u001b[0m\u001b[0m\n",
      "\u001b[1;32mC:\\Users\\Vicario_lab\\Anaconda2\\lib\\site-packages\\pandas\\io\\parsers.py\u001b[0m in \u001b[0;36m_read\u001b[1;34m(filepath_or_buffer, kwds)\u001b[0m\n\u001b[0;32m    427\u001b[0m \u001b[1;33m\u001b[0m\u001b[0m\n\u001b[0;32m    428\u001b[0m     \u001b[1;31m# Create the parser.\u001b[0m\u001b[1;33m\u001b[0m\u001b[1;33m\u001b[0m\u001b[0m\n\u001b[1;32m--> 429\u001b[1;33m     \u001b[0mparser\u001b[0m \u001b[1;33m=\u001b[0m \u001b[0mTextFileReader\u001b[0m\u001b[1;33m(\u001b[0m\u001b[0mfilepath_or_buffer\u001b[0m\u001b[1;33m,\u001b[0m \u001b[1;33m**\u001b[0m\u001b[0mkwds\u001b[0m\u001b[1;33m)\u001b[0m\u001b[1;33m\u001b[0m\u001b[0m\n\u001b[0m\u001b[0;32m    430\u001b[0m \u001b[1;33m\u001b[0m\u001b[0m\n\u001b[0;32m    431\u001b[0m     \u001b[1;32mif\u001b[0m \u001b[0mchunksize\u001b[0m \u001b[1;32mor\u001b[0m \u001b[0miterator\u001b[0m\u001b[1;33m:\u001b[0m\u001b[1;33m\u001b[0m\u001b[0m\n",
      "\u001b[1;32mC:\\Users\\Vicario_lab\\Anaconda2\\lib\\site-packages\\pandas\\io\\parsers.py\u001b[0m in \u001b[0;36m__init__\u001b[1;34m(self, f, engine, **kwds)\u001b[0m\n\u001b[0;32m    893\u001b[0m             \u001b[0mself\u001b[0m\u001b[1;33m.\u001b[0m\u001b[0moptions\u001b[0m\u001b[1;33m[\u001b[0m\u001b[1;34m'has_index_names'\u001b[0m\u001b[1;33m]\u001b[0m \u001b[1;33m=\u001b[0m \u001b[0mkwds\u001b[0m\u001b[1;33m[\u001b[0m\u001b[1;34m'has_index_names'\u001b[0m\u001b[1;33m]\u001b[0m\u001b[1;33m\u001b[0m\u001b[0m\n\u001b[0;32m    894\u001b[0m \u001b[1;33m\u001b[0m\u001b[0m\n\u001b[1;32m--> 895\u001b[1;33m         \u001b[0mself\u001b[0m\u001b[1;33m.\u001b[0m\u001b[0m_make_engine\u001b[0m\u001b[1;33m(\u001b[0m\u001b[0mself\u001b[0m\u001b[1;33m.\u001b[0m\u001b[0mengine\u001b[0m\u001b[1;33m)\u001b[0m\u001b[1;33m\u001b[0m\u001b[0m\n\u001b[0m\u001b[0;32m    896\u001b[0m \u001b[1;33m\u001b[0m\u001b[0m\n\u001b[0;32m    897\u001b[0m     \u001b[1;32mdef\u001b[0m \u001b[0mclose\u001b[0m\u001b[1;33m(\u001b[0m\u001b[0mself\u001b[0m\u001b[1;33m)\u001b[0m\u001b[1;33m:\u001b[0m\u001b[1;33m\u001b[0m\u001b[0m\n",
      "\u001b[1;32mC:\\Users\\Vicario_lab\\Anaconda2\\lib\\site-packages\\pandas\\io\\parsers.py\u001b[0m in \u001b[0;36m_make_engine\u001b[1;34m(self, engine)\u001b[0m\n\u001b[0;32m   1120\u001b[0m     \u001b[1;32mdef\u001b[0m \u001b[0m_make_engine\u001b[0m\u001b[1;33m(\u001b[0m\u001b[0mself\u001b[0m\u001b[1;33m,\u001b[0m \u001b[0mengine\u001b[0m\u001b[1;33m=\u001b[0m\u001b[1;34m'c'\u001b[0m\u001b[1;33m)\u001b[0m\u001b[1;33m:\u001b[0m\u001b[1;33m\u001b[0m\u001b[0m\n\u001b[0;32m   1121\u001b[0m         \u001b[1;32mif\u001b[0m \u001b[0mengine\u001b[0m \u001b[1;33m==\u001b[0m \u001b[1;34m'c'\u001b[0m\u001b[1;33m:\u001b[0m\u001b[1;33m\u001b[0m\u001b[0m\n\u001b[1;32m-> 1122\u001b[1;33m             \u001b[0mself\u001b[0m\u001b[1;33m.\u001b[0m\u001b[0m_engine\u001b[0m \u001b[1;33m=\u001b[0m \u001b[0mCParserWrapper\u001b[0m\u001b[1;33m(\u001b[0m\u001b[0mself\u001b[0m\u001b[1;33m.\u001b[0m\u001b[0mf\u001b[0m\u001b[1;33m,\u001b[0m \u001b[1;33m**\u001b[0m\u001b[0mself\u001b[0m\u001b[1;33m.\u001b[0m\u001b[0moptions\u001b[0m\u001b[1;33m)\u001b[0m\u001b[1;33m\u001b[0m\u001b[0m\n\u001b[0m\u001b[0;32m   1123\u001b[0m         \u001b[1;32melse\u001b[0m\u001b[1;33m:\u001b[0m\u001b[1;33m\u001b[0m\u001b[0m\n\u001b[0;32m   1124\u001b[0m             \u001b[1;32mif\u001b[0m \u001b[0mengine\u001b[0m \u001b[1;33m==\u001b[0m \u001b[1;34m'python'\u001b[0m\u001b[1;33m:\u001b[0m\u001b[1;33m\u001b[0m\u001b[0m\n",
      "\u001b[1;32mC:\\Users\\Vicario_lab\\Anaconda2\\lib\\site-packages\\pandas\\io\\parsers.py\u001b[0m in \u001b[0;36m__init__\u001b[1;34m(self, src, **kwds)\u001b[0m\n\u001b[0;32m   1851\u001b[0m         \u001b[0mkwds\u001b[0m\u001b[1;33m[\u001b[0m\u001b[1;34m'usecols'\u001b[0m\u001b[1;33m]\u001b[0m \u001b[1;33m=\u001b[0m \u001b[0mself\u001b[0m\u001b[1;33m.\u001b[0m\u001b[0musecols\u001b[0m\u001b[1;33m\u001b[0m\u001b[0m\n\u001b[0;32m   1852\u001b[0m \u001b[1;33m\u001b[0m\u001b[0m\n\u001b[1;32m-> 1853\u001b[1;33m         \u001b[0mself\u001b[0m\u001b[1;33m.\u001b[0m\u001b[0m_reader\u001b[0m \u001b[1;33m=\u001b[0m \u001b[0mparsers\u001b[0m\u001b[1;33m.\u001b[0m\u001b[0mTextReader\u001b[0m\u001b[1;33m(\u001b[0m\u001b[0msrc\u001b[0m\u001b[1;33m,\u001b[0m \u001b[1;33m**\u001b[0m\u001b[0mkwds\u001b[0m\u001b[1;33m)\u001b[0m\u001b[1;33m\u001b[0m\u001b[0m\n\u001b[0m\u001b[0;32m   1854\u001b[0m         \u001b[0mself\u001b[0m\u001b[1;33m.\u001b[0m\u001b[0munnamed_cols\u001b[0m \u001b[1;33m=\u001b[0m \u001b[0mself\u001b[0m\u001b[1;33m.\u001b[0m\u001b[0m_reader\u001b[0m\u001b[1;33m.\u001b[0m\u001b[0munnamed_cols\u001b[0m\u001b[1;33m\u001b[0m\u001b[0m\n\u001b[0;32m   1855\u001b[0m \u001b[1;33m\u001b[0m\u001b[0m\n",
      "\u001b[1;32mpandas/_libs/parsers.pyx\u001b[0m in \u001b[0;36mpandas._libs.parsers.TextReader.__cinit__\u001b[1;34m()\u001b[0m\n",
      "\u001b[1;32mpandas/_libs/parsers.pyx\u001b[0m in \u001b[0;36mpandas._libs.parsers.TextReader._setup_parser_source\u001b[1;34m()\u001b[0m\n",
      "\u001b[1;31mIOError\u001b[0m: [Errno 2] File C:\\Users\\SpikeSorting\\Documents\\David_Natanov\\david_python_scripts\\blocked_adaptation_rate.csv does not exist: 'C:\\\\Users\\\\SpikeSorting\\\\Documents\\\\David_Natanov\\\\david_python_scripts\\\\blocked_adaptation_rate.csv'"
     ]
    }
   ],
   "source": [
    "# Load in adaptation rates\n",
    "xl = pd.read_csv(\"C:\\Users\\SpikeSorting\\Documents\\David_Natanov\\david_python_scripts\\\\blocked_adaptation_rate.csv\")\n",
    "\n",
    "#change format of data into an array with birdid, electrode number, and fast slow responding status (based off of a median split)\n",
    "bird_ele_class = categorize_fast_slow(xl)"
   ]
  },
  {
   "cell_type": "code",
   "execution_count": 132,
   "metadata": {
    "collapsed": true
   },
   "outputs": [],
   "source": [
    "batch250 = pd.read_csv(\"C:\\Users\\SpikeSorting\\Documents\\David_Natanov\\david_python_scripts\\\\batch250.csv\")"
   ]
  },
  {
   "cell_type": "code",
   "execution_count": 153,
   "metadata": {
    "collapsed": true
   },
   "outputs": [],
   "source": [
    "bec = pd.read_csv(\"C:\\Users\\SpikeSorting\\Documents\\David_Natanov\\david_python_scripts\\\\bird_ele_class.csv\")"
   ]
  },
  {
   "cell_type": "code",
   "execution_count": 165,
   "metadata": {},
   "outputs": [
    {
     "name": "stdout",
     "output_type": "stream",
     "text": [
      "1 Experiments Analyzed\n",
      "1 Experiments Analyzed\n",
      "1 Experiments Analyzed\n",
      "1 Experiments Analyzed\n",
      "1 Experiments Analyzed\n",
      "1 Experiments Analyzed\n",
      "1 Experiments Analyzed\n",
      "1 Experiments Analyzed\n",
      "1 Experiments Analyzed\n",
      "1 Experiments Analyzed\n",
      "1 Experiments Analyzed\n",
      "1 Experiments Analyzed\n",
      "1 Experiments Analyzed\n",
      "1 Experiments Analyzed\n",
      "1 Experiments Analyzed\n",
      "1 Experiments Analyzed\n",
      "1 Experiments Analyzed\n",
      "1 Experiments Analyzed\n",
      "1 Experiments Analyzed\n",
      "1 Experiments Analyzed\n",
      "1 Experiments Analyzed\n",
      "1 Experiments Analyzed\n",
      "1 Experiments Analyzed\n",
      "1 Experiments Analyzed\n",
      "1 Experiments Analyzed\n",
      "1 Experiments Analyzed\n",
      "1 Experiments Analyzed\n",
      "1 Experiments Analyzed\n",
      "1 Experiments Analyzed\n",
      "1 Experiments Analyzed\n",
      "1 Experiments Analyzed\n",
      "1 Experiments Analyzed\n"
     ]
    }
   ],
   "source": [
    "weak_batch1 = batch_decoding_accuracy(block,bec, n_neighbors=5, reps=250, training=.5)\n",
    "weak_batch2 = batch_decoding_accuracy(block,bec, n_neighbors=15, reps=250, training=.25)\n",
    "weak_batch3 = batch_decoding_accuracy(block,bec, n_neighbors=15, reps=100, training=.5)\n",
    "weak_batch4 = batch_decoding_accuracy(block,bec, n_neighbors=5, reps=100, training=.25)"
   ]
  },
  {
   "cell_type": "code",
   "execution_count": null,
   "metadata": {
    "collapsed": true
   },
   "outputs": [],
   "source": [
    "sns.set(font_scale=2)\n",
    "sns.swarmplot(x=\"hemisphere\", y=\"average decoding accuracy\", size = 14, data = test[0])\n",
    "plt.show()"
   ]
  },
  {
   "cell_type": "code",
   "execution_count": null,
   "metadata": {
    "collapsed": true
   },
   "outputs": [],
   "source": []
  },
  {
   "cell_type": "code",
   "execution_count": 157,
   "metadata": {},
   "outputs": [
    {
     "data": {
      "text/plain": [
       "array([<mdlab.SpikeData object at 0x000000000D5C9390>,\n",
       "       <mdlab.SpikeData object at 0x000000000D5C94A8>,\n",
       "       <mdlab.SpikeData object at 0x000000000D5C9CF8>,\n",
       "       <mdlab.SpikeData object at 0x000000000D2986A0>,\n",
       "       <mdlab.SpikeData object at 0x000000000D337198>,\n",
       "       <mdlab.SpikeData object at 0x000000000D337390>,\n",
       "       <mdlab.SpikeData object at 0x000000000D337588>,\n",
       "       <mdlab.SpikeData object at 0x000000000D337780>], dtype=object)"
      ]
     },
     "execution_count": 157,
     "metadata": {},
     "output_type": "execute_result"
    }
   ],
   "source": [
    "block"
   ]
  },
  {
   "cell_type": "code",
   "execution_count": 4,
   "metadata": {
    "collapsed": true
   },
   "outputs": [],
   "source": [
    "# Constants\n",
    "n_neighbors = 15\n",
    "rep_num = 250\n",
    "bin_size = .01\n",
    "training_prop=.5\n",
    "resolution = .0001"
   ]
  },
  {
   "cell_type": "code",
   "execution_count": 5,
   "metadata": {
    "collapsed": true
   },
   "outputs": [],
   "source": [
    "'''\n",
    "Purpose: Defines the BinnedData object for use in KNN algorithm\n",
    "\n",
    "Input: SpikeData\n",
    "\n",
    "Output: BinnedData Object with following properties-\n",
    "    9 column header\n",
    "    Spikes\n",
    "    Binned and normalized spikes from time frame of stim start to max song length+.1\n",
    "    If the electrode is responding\n",
    "    Adaptation rates for each electrode\n",
    "'''\n",
    "\n",
    "# defines the BinnedData object\n",
    "class BinnedData(mdl.SpikeData):\n",
    "    def __init__(self, header, spikes, bins, adaptation_rate, stim_adaptation_rate):\n",
    "        mdl.SpikeData.__init__(self, header, spikes)\n",
    "        self.bins=bins\n",
    "        self.adaptation_rate = adaptation_rate\n",
    "        self.stim_adaptation_rate = stim_adaptation_rate\n",
    "    \n",
    "    #searches for Binned_Data\n",
    "    def get_kw_BinnedData(self, keyword, num):\n",
    "        if keyword is 'electrode':\n",
    "            newSpikeData = self.get_kw_SpikeData(electrode=num)\n",
    "            bins = make_bins(newSpikeData)\n",
    "        elif keyword is 'stim':\n",
    "            newSpikeData = self.get_kw_SpikeData(stim=num)\n",
    "            original_longest_stim = get_longest_stim(self)\n",
    "            bins = make_bins(newSpikeData, longest_stim=original_longest_stim)\n",
    "        else:\n",
    "            print 'Invalid keyword'\n",
    "            return\n",
    "        ele_bins = BinnedData(newSpikeData.header, newSpikeData.spikes, bins, self.adaptation_rate, self.stim_adaptation_rate)\n",
    "        return ele_bins\n",
    "    \n",
    "    # Takes a BinnedData object, splits it by electrode, and returns a list of BinnedData objects corresponding to each electrode\n",
    "    def split_by_electrode(self, step_size=bin_size):\n",
    "        split_data=[]\n",
    "        for i in self.electrodes:\n",
    "            split_data.append(self.get_kw_BinnedData(keyword='electrode', num=i))\n",
    "        return split_data\n",
    "    \n",
    "    # Categorizes electrode as responding and nonresponding by median split. Returns a dict in format cat[electride] = \"fast\"/\"slow\n",
    "    def categorize_by_ms(self):\n",
    "        cat = {}\n",
    "        #take stim ars by electrode\n",
    "        ar = np.swapaxes(self.stim_adaptation_rate, 0, 1)[0]\n",
    "        #find median of data\n",
    "        median = np.median(ar)\n",
    "        #loop through, and sort by high and low\n",
    "        for index, ele_ar in enumerate(ar):\n",
    "            if ele_ar > median:\n",
    "                cat[index+1]=\"fast\"\n",
    "            else:\n",
    "                cat[index+1]=\"slow\"\n",
    "        return cat"
   ]
  },
  {
   "cell_type": "code",
   "execution_count": 6,
   "metadata": {
    "collapsed": true
   },
   "outputs": [],
   "source": [
    "'''\n",
    "Purpose: Converts a SpikeData to a BinnedData object\n",
    "\n",
    "Input: SpikeData, time resolution of the data, step_size equaling the time window where all action potentials will \n",
    "be summed up, p value threshold to determine if electrode is responding\n",
    "\n",
    "Output: BinnedData\n",
    "'''\n",
    "\n",
    "def Spike_to_Binned(SpikeData, step_size=bin_size):\n",
    "    resolution = round(SpikeData.header.resolution.max(),4)\n",
    "    bins=make_bins(SpikeData, step_size)\n",
    "    adaptation_rate=get_adaptation_rate(SpikeData)\n",
    "    stim_adaptation_rate = get_stim_adaptation_rate(SpikeData)\n",
    "    newBinnedData=BinnedData(SpikeData.header, SpikeData.spikes, bins, adaptation_rate, stim_adaptation_rate)\n",
    "    return newBinnedData "
   ]
  },
  {
   "cell_type": "code",
   "execution_count": 7,
   "metadata": {
    "collapsed": true
   },
   "outputs": [],
   "source": [
    "'''\n",
    "Purpose: Bin SpikeData by summing all action potentials within a given time frame\n",
    "\n",
    "Input: SpikeData object, time resolution of the data, step_size equaling the time window where all action potentials will \n",
    "be summed up and normalized, whether or not to normalize the data\n",
    "\n",
    "Output: binnned spikes array\n",
    "'''\n",
    "def make_bins(SpikeData, step_size=bin_size, **kwargs):\n",
    "    resolution = SpikeData.header.resolution.max()\n",
    "    ap_matrix=[]\n",
    "    spikes=SpikeData.spikes\n",
    "    pre_stim_dur = SpikeData.header.pre_stim.max()\n",
    "    if 'longest_stim' in kwargs:\n",
    "        longest_stim_dur = kwargs['longest_stim']\n",
    "    else:\n",
    "        longest_stim_dur = get_longest_stim(SpikeData)\n",
    "    bin_start = int(pre_stim_dur/resolution)\n",
    "    bin_end = int(((longest_stim_dur+.1)/resolution)+bin_start)\n",
    "    for trial in spikes:\n",
    "        trial = trial[bin_start:bin_end]\n",
    "        n=trial.shape[0]*resolution/step_size\n",
    "        split_trial=np.array(np.split(trial, n))\n",
    "        ap_matrix.append(sst.zscore(np.sum(split_trial, axis=1)))\n",
    "        #ap_matrix.append(np.sum(split_trial, axis=1))\n",
    "    bins=np.array(ap_matrix)\n",
    "    return bins\n"
   ]
  },
  {
   "cell_type": "code",
   "execution_count": 8,
   "metadata": {
    "collapsed": true
   },
   "outputs": [],
   "source": [
    "#returns the longest stim from a SpikeData object\n",
    "def get_longest_stim(SpikeData):\n",
    "    return round(SpikeData.extract_stim_dur(SpikeData.stim.max()),2)"
   ]
  },
  {
   "cell_type": "code",
   "execution_count": 131,
   "metadata": {
    "collapsed": true
   },
   "outputs": [],
   "source": [
    "'''\n",
    "Purpose: calculates the adaptation rate of every electrode in the SpikeData for the purposes of determining which electrode is \n",
    "NCM and which is field L \n",
    "\n",
    "Input: SpikeData object\n",
    "\n",
    "Output: Dictionary with electrode numbers as keys and adaptation rates as values\n",
    "'''\n",
    "def get_adaptation_rate(SpikeData):\n",
    "    adaptation_rates={}\n",
    "    ele_arr=np.unique(SpikeData.header.electrode)\n",
    "    stim_arr = np.unique(SpikeData.stim)\n",
    "    for i in ele_arr:\n",
    "        ele_data=SpikeData.get_kw_SpikeData(electrode=i)\n",
    "        ele_rates=[]\n",
    "        for j in stim_arr:\n",
    "            stim_data=ele_data.get_kw_SpikeData(stim=j)\n",
    "            fr=mdl.firing_rate(stim_data.spikes)\n",
    "            ar=mdl.robust_adaptation_rate(fr[6:26])\n",
    "            ele_rates.append(ar)\n",
    "        adaptation_rates[i]=np.mean(ele_rates)\n",
    "    return adaptation_rates"
   ]
  },
  {
   "cell_type": "code",
   "execution_count": 10,
   "metadata": {
    "collapsed": true
   },
   "outputs": [],
   "source": [
    "'''\n",
    "Purpose: calculates the adaptation rate of every electrode for every stimulus in the SpikeData for the purposes of determining which electrode is \n",
    "NCM and which is field L \n",
    "\n",
    "Input: SpikeData object\n",
    "\n",
    "Output: Dictionary with electrode numbers as keys and adaptation rates as values\n",
    "'''\n",
    "def get_stim_adaptation_rate(SpikeData):\n",
    "    adaptation_rates=[]\n",
    "    ele_arr=SpikeData.electrodes\n",
    "    ele_stim = np.unique(SpikeData.stim)';'\n",
    "    for ele in ele_arr:\n",
    "        ele_data=SpikeData.get_kw_SpikeData(electrode=ele)\n",
    "        ele_rates=[]\n",
    "        for stim in ele_stim:\n",
    "            stim_data=ele_data.get_kw_SpikeData(stim=stim)\n",
    "            fr=mdl.firing_rate(stim_data.spikes[5:26])\n",
    "            ar=mdl.adaptation_rate(fr)\n",
    "            ele_rates.append(ar)\n",
    "        adaptation_rates.append(ele_rates)\n",
    "    return np.array(adaptation_rates)"
   ]
  },
  {
   "cell_type": "code",
   "execution_count": 11,
   "metadata": {
    "collapsed": true
   },
   "outputs": [],
   "source": [
    "'''\n",
    "Purpose: A K nearest neighbor machine learning algorithm used to calculate decoding accuracy. The script starts by\n",
    "splitting the electrodes randomly by specifications determined by training proportion. After learning the training data, the alg uses KNN \n",
    "to guess which stim elicited a given neural response. Neuronal decoding accuracy is recorded\n",
    "\n",
    "\n",
    "Input: SpikeData object corresponding to electrode, value of k, how many repetitions of slicing the data, what proportion of the data is used for training\n",
    "\n",
    "Output: 2D array for decoding accuracy stim x trial number\n",
    "'''\n",
    "\n",
    "def decoding_accuracy(electrode, k=15, rep_num=1000, training_prop=.5, custom_stim_id=True):\n",
    "    # Generates parameters for acc and trial_sage\n",
    "    num_stim = electrode.stim.shape[0] \n",
    "    total_trials = electrode.header.shape[0]\n",
    "    trials_per_stim = total_trials/num_stim\n",
    "    acc = np.zeros((num_stim, trials_per_stim))\n",
    "    \n",
    "    #2D array #2D array, stim id x the trials per stimulus, increments up by one every time given trial used as target\n",
    "    trial_usage = np.ones((num_stim, trials_per_stim))\n",
    "    \n",
    "    indices = range(0, total_trials)\n",
    "    stim_ids = np.array(electrode.header.stim)\n",
    "    \n",
    "    custom_stim_dict = {}\n",
    "    \n",
    "    if custom_stim_id:\n",
    "        t=1\n",
    "        for stim in electrode.stim:\n",
    "            custom_stim_dict[stim] = t\n",
    "            t+=1\n",
    "\n",
    "    # Creates list of dicts of trial num to stimulus trial sxnum \n",
    "    stim_to_trial = []\n",
    "    for stim_num in electrode.stim:\n",
    "            stim_dict = {}\n",
    "            stim_data = electrode.get_kw_BinnedData(keyword='stim', num=stim_num)\n",
    "            for trial_num in range (0,trials_per_stim):\n",
    "                try:\n",
    "                    overall_trial_num = stim_data.header.iloc[[trial_num]].trial.max()\n",
    "                except:\n",
    "                    continue\n",
    "                stim_dict[overall_trial_num] = trial_num\n",
    "            stim_to_trial.append(stim_dict)\n",
    "\n",
    "    # knn algorithm\n",
    "    for i in range(0,rep_num):\n",
    "        try:\n",
    "            #split data in half\n",
    "            training_bins, target_bins, training_idx, target_idx, training_stim_ids, target_stim_ids = split(electrode.bins, indices, stim_ids, train_size=training_prop, test_size=1-training_prop)\n",
    "            model = knn(n_neighbors=k, metric='euclidean')\n",
    "            model.fit(training_bins, training_stim_ids)\n",
    "            pred = model.predict(target_bins)\n",
    "        except:\n",
    "            continue\n",
    "\n",
    "        #Updates acc and trial usage\n",
    "        for j in range(0, pred.shape[0]):\n",
    "            stim_id= target_stim_ids[j]\n",
    "            trial_num = target_idx[j]+1\n",
    "            if custom_stim_id:\n",
    "                try:\n",
    "                    mod_stim_id = custom_stim_dict[stim_id]\n",
    "                    true_trial_num = stim_to_trial[mod_stim_id-1][trial_num]\n",
    "                    trial_usage[mod_stim_id-1][true_trial_num]+=1\n",
    "                except:\n",
    "                    continue\n",
    "            elif not custom_stim_id:\n",
    "                true_trial_num = stim_to_trial[stim_id-1][trial_num]\n",
    "                trial_usage[stim_id-1][true_trial_num]+=1\n",
    "            if pred[j] == stim_id and custom_stim_id:\n",
    "                acc[mod_stim_id-1][true_trial_num] += 1\n",
    "            if pred[j] == stim_id and not custom_stim_id:  \n",
    "                acc[stim_id-1][true_trial_num] += 1\n",
    "            \n",
    "    final_acc = np.divide(acc, trial_usage)\n",
    "    return final_acc  "
   ]
  },
  {
   "cell_type": "code",
   "execution_count": 12,
   "metadata": {
    "collapsed": true
   },
   "outputs": [],
   "source": [
    "# plots decoding accuracy for a single stim from a single electrode\n",
    "def plot_stim(ele_pred, stim_id):\n",
    "    y = ele_pred[stim_id-1]\n",
    "    xlim= y.shape[0]+1\n",
    "    x = np.arange(1, xlim)\n",
    "    slope, intercept, r_value, p_value, std_err = sst.linregress(x, y)\n",
    "    line = slope*x+intercept\n",
    "    \n",
    "    plt.plot(x,y,'ro')\n",
    "    plt.plot(x, line, 'b', label= ('r value ='+ str(round(r_value, 3))+ '    slope ='+ str(round(slope,3))))\n",
    "    plt.ylabel('Decoding Accuracy')\n",
    "    plt.xlabel('Trial Number')\n",
    "    plt.title('Stimulus '+str(stim_id))\n",
    "    plt.legend()\n",
    "\n",
    "    plt.show()"
   ]
  },
  {
   "cell_type": "code",
   "execution_count": 13,
   "metadata": {
    "collapsed": true
   },
   "outputs": [],
   "source": [
    "#plots all stimuli accross multiple graphs\n",
    "def plot_all_stim(ele_pred):\n",
    "    for stim_id in range(1, ele_pred.shape[0]+1):\n",
    "        plot_stim(ele_pred, stim_id)"
   ]
  },
  {
   "cell_type": "code",
   "execution_count": 14,
   "metadata": {
    "collapsed": true
   },
   "outputs": [],
   "source": [
    "#plots avg stimulus over time, fits a quadratic curve to it\n",
    "def plot_avg_trial(ele_pred, curve=True, title=''):\n",
    "    mean_pred = np.mean(ele_pred, axis=0)\n",
    "    \n",
    "    if curve:\n",
    "        mean_pred = np.mean(ele_pred, axis=0)\n",
    "    \n",
    "        y = mean_pred\n",
    "        xlim= y.shape[0]+1\n",
    "        x = np.arange(1, xlim)\n",
    "        z= np.polyfit(x,y,2)\n",
    "        f = np.poly1d(z)\n",
    "\n",
    "\n",
    "        x_new = np.linspace(x[0], x[-1], 50)\n",
    "        y_new = f(x_new)\n",
    "        plt.plot(x,y,'ro', x_new, y_new, 'b')\n",
    "        plt.xlim([x[0]-1, x[-1] + 1 ])\n",
    "\n",
    "        plt.ylabel('Decoding Accuracy')\n",
    "        plt.xlabel('Trial Number')\n",
    "        plt.title(title)\n",
    "        \n",
    "    else:\n",
    "        y = mean_pred\n",
    "        xlim= y.shape[0]+1\n",
    "        x = np.arange(1, xlim)\n",
    "        slope, intercept, r_value, p_value, std_err = sst.linregress(x, y)\n",
    "        line = slope*x+intercept\n",
    "\n",
    "        plt.plot(x,y,'ro')\n",
    "        plt.plot(x, line, 'b', label= ('r value ='+ str(round(r_value, 3))+ '    slope ='+ str(round(slope,3))))\n",
    "        plt.ylabel('Decoding Accuracy')\n",
    "        plt.xlabel('Trial Number')\n",
    "        plt.title('Average Trial Electrode '+ele_num)\n",
    "        plt.legend()\n",
    "    \n",
    "\n",
    "    plt.show()"
   ]
  },
  {
   "cell_type": "code",
   "execution_count": 15,
   "metadata": {
    "collapsed": true
   },
   "outputs": [],
   "source": [
    "#plots decoding acc x stimulus\n",
    "def plot_avg_stim(ele_pred, ele_num=''):\n",
    "    stim_pred = np.mean(ele_pred, axis=1)\n",
    "    x = np.arange(1, stim_pred.shape[0]+1)\n",
    "    plt.plot(x, stim_pred, 'ro')\n",
    "    plt.ylabel('Average Decoding Accuracy')\n",
    "    plt.xlabel('Stimulus Number')\n",
    "    plt.title('Average Stimulus Electrode '+ele_num)\n",
    "    plt.show()"
   ]
  },
  {
   "cell_type": "code",
   "execution_count": 16,
   "metadata": {
    "collapsed": true
   },
   "outputs": [],
   "source": [
    "def plot_all_trial_avg(split_data):\n",
    "    \n",
    "    \n",
    "    mean_pred = np.mean(ele_pred, axis=0)\n",
    "    \n",
    "    y = mean_pred\n",
    "    xlim= y.shape[0]+1\n",
    "    x = np.arange(1, xlim)\n",
    "    z= np.polyfit(x,y,2)\n",
    "    f = np.poly1d(z)\n",
    "\n",
    "\n",
    "    x_new = np.linspace(x[0], x[-1], 50)\n",
    "    y_new = f(x_new)\n",
    "    plt.plot(x,y,'ro', x_new, y_new, 'b')\n",
    "    plt.xlim([x[0]-1, x[-1] + 1 ])\n",
    "\n",
    "    plt.ylabel('Decoding Accuracy')\n",
    "    plt.xlabel('Trial Number')\n",
    "    plt.title('Average Trial')    "
   ]
  },
  {
   "cell_type": "code",
   "execution_count": 17,
   "metadata": {
    "collapsed": true
   },
   "outputs": [],
   "source": [
    "# automates binned data and knn for each electrode in an experiment\n",
    "def analyze_experiment(SpikeData):\n",
    "    binned_data = Spike_to_Binned(SpikeData)\n",
    "    data = binned_data.split_by_electrode()\n",
    "    pred_data = []\n",
    "    for i in range(0, len(data)):\n",
    "        electrode = data[i]\n",
    "        pred_data.append (decoding_accuracy(electrode))\n",
    "    return np.array (pred_data)"
   ]
  },
  {
   "cell_type": "code",
   "execution_count": 18,
   "metadata": {
    "collapsed": true
   },
   "outputs": [],
   "source": [
    "# combines all predicted decoding accuracies into one array\n",
    "def combine_experiments(**pred):\n",
    "    all_electrodes = []\n",
    "    for experiment in pred:\n",
    "        for electrode in experiment:\n",
    "            all_electrodes.append(electrode)\n",
    "    return np.array (all_electrodes)"
   ]
  },
  {
   "cell_type": "code",
   "execution_count": 19,
   "metadata": {
    "collapsed": true
   },
   "outputs": [],
   "source": [
    "#plots Average decoding accuracy x trial number\n",
    "def plot_exp_electrode_avgs(pred, SpikeData, yscale_type='linear'):\n",
    "    a_rate = get_adaptation_rate(SpikeData)\n",
    "    for i in range(0,pred.shape[0]):\n",
    "        c = ''\n",
    "        mean_pred = np.mean(pred[i], axis=0)\n",
    "        \n",
    "        if a_rate[i+1] < 0:\n",
    "            c = 'r'\n",
    "        else:\n",
    "            c = 'b'\n",
    "        \n",
    "        y = mean_pred\n",
    "        xlim= y.shape[0]+1\n",
    "        x = np.arange(1, xlim)\n",
    "        z= np.polyfit(x,y,2)\n",
    "        f = np.poly1d(z)\n",
    "\n",
    "        x_new = np.linspace(x[0], x[-1], 50)\n",
    "        y_new = f(x_new)\n",
    "        plt.plot(x_new, y_new, c)\n",
    "    plt.ylabel('Average Decoding Accuracy')\n",
    "    plt.xlabel('Trial Number')\n",
    "    plt.yscale('linear')\n",
    "    plt.title('Bird Average Electrode Decoding Accuracy')\n",
    "\n",
    "    plt.show() "
   ]
  },
  {
   "cell_type": "code",
   "execution_count": 20,
   "metadata": {
    "collapsed": true
   },
   "outputs": [],
   "source": [
    "# automates plotting and analyzuing\n",
    "def analyze_and_plot_exp(SpikeData, yscale_type='linear'):\n",
    "    #analyze data\n",
    "    pred_data = analyze_experiment(SpikeData)\n",
    "    plot_exp_electrode_avgs(pred_data, SpikeData, yscale_type)\n",
    "    for i in range(0,pred_data.shape[0]):\n",
    "        ele_pred = pred_data[i]\n",
    "        plot_avg_trial(ele_pred, ele_num=str(i+1))\n",
    "        plot_avg_stim(ele_pred, ele_num=str(i+1))\n",
    "    \n",
    "    #plot average electrode decoding accuracy"
   ]
  },
  {
   "cell_type": "code",
   "execution_count": 21,
   "metadata": {
    "collapsed": true
   },
   "outputs": [],
   "source": [
    "# Takes experimental and blocked results, and returns an list containing the electrodes class x the average\n",
    "# slope for the decoding accuracy curve for each electrode\n",
    "def pop_discrim(exp_spikes, blocked_spikes):\n",
    "    all_pred=[]\n",
    "    all_slope=[]\n",
    "    exp_bins= Spike_to_Binned(exp_spikes)\n",
    "    blocked_bins = Spike_to_Binned(blocked_spikes)\n",
    "    \n",
    "    # Classify Electrodes\n",
    "    ele_class = blocked_bins.categorize_by_ms()\n",
    "    \n",
    "    # Run machine learning algorithm\n",
    "    # get decoding accuracy by stimulus for a given electrode\n",
    "    split = exp_bins.split_by_electrode()\n",
    "    for ele in split:\n",
    "        all_pred.append(np.mean(decoding_accuracy(ele), axis=0))\n",
    "    # Calculate slope of line of best fit for decoding acc and trial\n",
    "    y = np.array(range(0,blocked_bins.trial.max()/blocked_bins.stim.max()))\n",
    "    for ele_pred in all_pred:\n",
    "        x = ele_pred\n",
    "        slope = (((np.mean(x)*np.mean(y)) - np.mean(x*y)) / ((np.mean(x)**2) - np.mean(x**2)))\n",
    "        all_slope.append(slope)\n",
    "    final = []\n",
    "    final.append(ele_class)\n",
    "    final.append(all_slope)\n",
    "    return final"
   ]
  },
  {
   "cell_type": "code",
   "execution_count": 22,
   "metadata": {
    "collapsed": true
   },
   "outputs": [],
   "source": [
    "def load_folder():\n",
    "    import glob\n",
    "    pathnames = glob.glob(\"D:\\DN_Efe_Data\\matrix_data\\*.mat\")\n",
    "    to_return = []\n",
    "    for path_name in pathnames:\n",
    "        data = scipy.io.loadmat(path_name)\n",
    "        # separate the header and spike matrix\n",
    "        header = data[\"header\"]\n",
    "        spike_data = data[\"spiketrains\"].astype(np.bool)\n",
    "        header_names = [\"birdid\", \"electrode\", \"trial\",\n",
    "                    \"stim\", \"starting_time\", \"ending_time\",\n",
    "                    \"pre_stim\", \"after_stim\", \"resolution\"]\n",
    "        header_df = pd.DataFrame(data=header, columns=header_names)\n",
    "        header_df[[\"electrode\", \"trial\", \"stim\"]] = header_df[[\"electrode\", \"trial\", \"stim\"]].astype(int)\n",
    "        to_return.append(mdl.SpikeData(header_df, spike_data))\n",
    "    return to_return"
   ]
  },
  {
   "cell_type": "code",
   "execution_count": 24,
   "metadata": {
    "collapsed": true
   },
   "outputs": [],
   "source": [
    "#Takes an excel dataframe of responding IDs and adaptation rates and categorizes them by adaptation rates.\n",
    "# Creates a list of lists containing the birdid, electrode, and classification status\n",
    "def categorize_fast_slow(xl):\n",
    "    adr_pairs = []\n",
    "    adr_list = [np.asarray(xl.id), np.asarray(xl.adr)]\n",
    "    median = np.median(adr_list[1])\n",
    "    for num in range(1, len(adr_list[0])):\n",
    "        bird_ele_id = adr_list[0][num]\n",
    "        loc = bird_ele_id.find(\"00\")\n",
    "        bird = bird_ele_id[loc+2:loc+3]\n",
    "        ele = bird_ele_id[bird_ele_id.find(\"___\")+3:]\n",
    "        if adr_list[1][num] <= median:\n",
    "            adr_pairs.append([bird, ele, 'fast'])\n",
    "        else:\n",
    "            adr_pairs.append([bird, ele, 'slow'])\n",
    "    return adr_pairs\n",
    "                             "
   ]
  },
  {
   "cell_type": "code",
   "execution_count": 25,
   "metadata": {
    "collapsed": true
   },
   "outputs": [],
   "source": [
    "# pop_discrim boxplot\n",
    "# plots the slope of the decoding accuracy curve for fast and slow e\n",
    "def fast_slow_boxplot(ele_class, all_slope):\n",
    "    fastx = []\n",
    "    slowx = []\n",
    "    for index, slope in enumerate(all_slope):\n",
    "        if ele_class[index]==\"fast\":\n",
    "            slowx.append(slope)\n",
    "        elif ele_class[index]==\"slow\":\n",
    "            fastx.append(slope)\n",
    "        else:\n",
    "            print \"something went wrong\"\n",
    "            return \n",
    "        \n",
    "    fig.l, axs = plt.subplots(1, 2, figsize=(9, 3), sharey=True)\n",
    "    axs[0].boxplot(fastx)\n",
    "    axs[0].set_xlabel(\"Fast Adapting\")\n",
    "    axs[0].set_ylabel(\"Delta Decoding Accuracy\")\n",
    "    axs[1].boxplot(slowx)\n",
    "    axs[1].set_xlabel(\"Slow Adapting\")\n",
    "    axs[1].set_ylabel(\"Delta Decoding Accuracy\")\n",
    "    plt.show()"
   ]
  },
  {
   "cell_type": "code",
   "execution_count": 26,
   "metadata": {
    "collapsed": true
   },
   "outputs": [],
   "source": [
    "def ar_discrim_plot(all_slope, blocked_ar):\n",
    "    x = blocked_ar\n",
    "    y = all_slope\n",
    "    z= np.polyfit(x,y,1)\n",
    "    f = np.poly1d(z)\n",
    "\n",
    "    x_new = np.linspace(x[0], x[-1])\n",
    "    y_new = f(x_new)\n",
    "    plt.plot(x,y,'ro', x_new, y_new, 'b')\n",
    "    plt.xlim(-.001,.001)\n",
    "\n",
    "    plt.ylabel('Delta Decoding Accuracy')\n",
    "    plt.xlabel('Adaptation Rate')\n",
    "    plt.title('Decoding Acc x Adaptation Rate')  \n",
    "    plt.show()"
   ]
  },
  {
   "cell_type": "code",
   "execution_count": 27,
   "metadata": {
    "collapsed": true
   },
   "outputs": [],
   "source": [
    "# takes npz data and splits it into a list\n",
    "def separate_npz_data(npz_data):\n",
    "    all_data = []\n",
    "    bird_id_arr = np.unique(npz_data.birdid)\n",
    "    for bird_id in bird_id_arr:\n",
    "        spike_data =  npz_data.get_kw_SpikeData(birdid=bird_id)\n",
    "        all_data.append(spike_data)\n",
    "    return np.array(all_data)"
   ]
  },
  {
   "cell_type": "code",
   "execution_count": 28,
   "metadata": {
    "collapsed": true
   },
   "outputs": [],
   "source": [
    "def get_responding_xl(xl):\n",
    "    responding_pairs = []\n",
    "    responding_ids = np.sort(np.unique(xl.id))\n",
    "    for bird_ele_id in responding_ids:\n",
    "        loc = bird_ele_id.find(\"00\")\n",
    "        bird = bird_ele_id[loc+2:loc+3]\n",
    "        ele = bird_ele_id[bird_ele_id.find(\"___\")+3:]\n",
    "        responding_pairs.append((bird, ele*100))\n",
    "    return responding_pairs"
   ]
  },
  {
   "cell_type": "code",
   "execution_count": 29,
   "metadata": {
    "collapsed": true
   },
   "outputs": [],
   "source": [
    "def get_bird_ids(xl):\n",
    "    old = []\n",
    "    responding_ids = np.unique(xl.id)\n",
    "    for bird_ele_id in responding_ids:\n",
    "        loc = bird_ele_id.find(\"00\")\n",
    "        bird = bird_ele_id[loc+2:loc+3] \n",
    "        old.append(bird)\n",
    "    return np.unique(old)"
   ]
  },
  {
   "cell_type": "code",
   "execution_count": 30,
   "metadata": {
    "collapsed": true
   },
   "outputs": [],
   "source": [
    "def fs_bird_decoding_acc(split_data, bird_ele_class):\n",
    "    final = []\n",
    "    for spike_data in split_data:\n",
    "        ele_num_arr = np.unique(spike_data.electrodes)\n",
    "        bird_id = str(spike_data.birdid[0])[-3]\n",
    "        bird = []\n",
    "        fast = []\n",
    "        slow = []\n",
    "        for ele_num in ele_num_arr:\n",
    "            if [bird_id, str(ele_num), 'fast'] not in bird_ele_class and [bird_id, str(ele_num), 'slow'] not in bird_ele_class:\n",
    "                continue\n",
    "            ele_spike_data = spike_data.get_kw_SpikeData(electrode= ele_num)\n",
    "            ele_binned_data = Spike_to_Binned(ele_spike_data)\n",
    "            decoding_acc = decoding_accuracy(ele_binned_data)\n",
    "            if [bird_id, str(ele_num), 'fast'] in bird_ele_class:\n",
    "                fast.append(np.mean(decoding_acc))\n",
    "            else:\n",
    "                slow.append(np.mean(decoding_acc))\n",
    "            bird.append(fast)\n",
    "            bird.append(slow)\n",
    "        final.append(bird)\n",
    "    return np.asarray(final)"
   ]
  },
  {
   "cell_type": "code",
   "execution_count": 31,
   "metadata": {
    "collapsed": true
   },
   "outputs": [],
   "source": [
    "def lrfs_decoding_acc(split_data, bird_ele_class, n_neighbors=15, reps=250, training=.5):\n",
    "    # Runs the decoding accuracy KNN algorithm on an array of experiments\n",
    "    # bird_ele_class contains the birds, electrodes, and fast slow categorization of the data taken from categorize_fast_slow\n",
    "    \n",
    "    # holder arrays\n",
    "    fl = []\n",
    "    fr = []\n",
    "    sl = []\n",
    "    sr = []\n",
    "    \n",
    "    flb = []\n",
    "    frb = []\n",
    "    slb =[]\n",
    "    srb = []\n",
    "    \n",
    "    fla = []\n",
    "    fra = []\n",
    "    sla =[]\n",
    "    sra = []\n",
    "    \n",
    "    #loops through split data\n",
    "    for spike_data in split_data:\n",
    "        ele_num_arr = spike_data.electrodes\n",
    "        bird_id = str(spike_data.birdid[0])[-3]\n",
    "        sadapt_rate = get_stim_adaptation_rate(spike_data)\n",
    "        for x, ele_num in enumerate(ele_num_arr):\n",
    "            try:\n",
    "                if [bird_id, str(ele_num), 'fast'] not in bird_ele_class and [bird_id, str(ele_num), 'slow'] not in bird_ele_class:\n",
    "                    continue\n",
    "            except:\n",
    "                pdb.set_trace()\n",
    "            ele_spike_data = spike_data.get_kw_SpikeData(electrode= ele_num)\n",
    "            ele_binned_data = Spike_to_Binned(ele_spike_data)\n",
    "            decoding_acc = decoding_accuracy(ele_binned_data, k=n_neighbors, rep_num=reps, training_prop=training)\n",
    "            if [bird_id, str(ele_num), 'fast'] in bird_ele_class:\n",
    "                if ele_num < 16:\n",
    "                    fl.append(decoding_acc)\n",
    "                    flb.append(bird_id)\n",
    "                    fla.append(sadapt_rate[x])\n",
    "                else:\n",
    "                    fr.append(decoding_acc)\n",
    "                    frb.append(bird_id)\n",
    "                    fra.append(sadapt_rate[x])\n",
    "            else:\n",
    "                if ele_num < 16:\n",
    "                    sl.append(decoding_acc)\n",
    "                    slb.append(bird_id)\n",
    "                    sla.append(sadapt_rate[x])\n",
    "                else:\n",
    "                    sr.append(decoding_acc)\n",
    "                    srb.append(bird_id)\n",
    "                    sra.append(sadapt_rate[x])\n",
    "    final = np.asarray([np.asarray(fl), np.asarray(sl), np.asarray(fr), np.asarray(sr)]) \n",
    "    birds = (flb, slb, frb, srb)\n",
    "    adapt = (fla, sla, fra, sra)\n",
    "    return [final, birds, adapt]"
   ]
  },
  {
   "cell_type": "code",
   "execution_count": 32,
   "metadata": {
    "collapsed": true
   },
   "outputs": [],
   "source": [
    "def get_summary_df(lrfs_data):\n",
    "    lrfs_decoding_acc = lrfs_data[0]\n",
    "    birdids =  lrfs_data[1]\n",
    "    ars = lrfs_data[2]\n",
    "    final = []\n",
    "    for x, condition in enumerate(lrfs_decoding_acc):\n",
    "        avg = np.mean(condition, axis=1)\n",
    "        for y, electrode in enumerate(avg):\n",
    "            if x < 2:\n",
    "                final.append([birdids[x][y], np.mean(electrode), \"left\", np.mean(ars[x][y]), sst.sem(ars[x][y])])\n",
    "            if x >= 2:\n",
    "                final.append([birdids[x][y], np.mean(electrode), \"right\", np.mean(ars[x][y]), sst.sem(ars[x][y])])\n",
    "    df = pd.DataFrame(final, columns=[\"bird_id\",\"average_decoding_accuracy\", \"hemisphere\", \"average_adaptation_rate\", \"adaptation_rate_sd\"])\n",
    "    return df"
   ]
  },
  {
   "cell_type": "code",
   "execution_count": 33,
   "metadata": {
    "collapsed": true
   },
   "outputs": [],
   "source": [
    "#Multiplies the electrodes in a list of spike_data objects by n and returns the object\n",
    "def convert_electrodes(split_data, n = 100):\n",
    "    for spike_data in split_data:\n",
    "        spike_data.electrodes = spike_data.electrodes * n\n",
    "        spike_data.header.electrode = spike_data.header.electrode * n\n",
    "    return"
   ]
  },
  {
   "cell_type": "code",
   "execution_count": null,
   "metadata": {
    "collapsed": true
   },
   "outputs": [],
   "source": [
    "bird_ele = np.asarray(xl.id)\n",
    "c = [\"birdid\", \"electrode\", \"region\"]\n",
    "final_df = pd.DataFrame(columns = c)\n",
    "for x in bird_ele:\n",
    "    b = x[:5]\n",
    "    e = int(x[(x.find(\"_\")+3):])*100\n",
    "    r =csv[(csv['birdid'] == b) & (csv['electrode'] == e)].region.iloc[0]\n",
    "    if e == 1600:\n",
    "        continue\n",
    "    to_add = [b, e, r]\n",
    "    final_df = final_df.append(pd.DataFrame([to_add], columns=c))\n",
    "final_df = final_df.reset_index(drop=True)"
   ]
  },
  {
   "cell_type": "code",
   "execution_count": null,
   "metadata": {
    "collapsed": true
   },
   "outputs": [],
   "source": [
    "c = [\"birdid\", \"electrode\", \"region\", \"hemisphere\", \"average_adaptation_rate\", \"average_decoding_accuracy\", \"trial_decoding_accuracy\"]\n",
    "ncm3 = pd.DataFrame(columns = c)\n",
    "for n in np.asarray(ncm2.index):\n",
    "    row = ncm2.loc[n]\n",
    "    to_add = [row.birdid, row.electrode, row.region, row.hemisphere, row.average_adaptation_rate, row.average_decoding_accuracy, np.mean(row.decoding_accuracy, axis=0)]\n",
    "    ncm3 = ncm3.append(pd.DataFrame([to_add], columns=c))\n",
    "    ncm3.reset_index(drop=True)"
   ]
  },
  {
   "cell_type": "code",
   "execution_count": null,
   "metadata": {
    "collapsed": true
   },
   "outputs": [],
   "source": [
    "c = [\"birdid\", \"electrode\", \"region\", \"hemisphere\", \"average_adaptation_rate\", \"average_decoding_accuracy\", \"trial_decoding_accuracy\"]\n",
    "ncm3 = pd.DataFrame(columns = c)\n",
    "for n in np.asarray(ncm2.index):\n",
    "    row = ncm2.loc[n]\n",
    "    to_add = [row.birdid, row.electrode, row.region, row.hemisphere, row.average_adaptation_rate, row.average_decoding_accuracy, np.mean(row.decoding_accuracy, axis=0)]\n",
    "    ncm3 = ncm3.append(pd.DataFrame([to_add], columns=c))\n",
    "    ncm3.reset_index(drop=True)"
   ]
  },
  {
   "cell_type": "code",
   "execution_count": null,
   "metadata": {
    "collapsed": true
   },
   "outputs": [],
   "source": [
    "np.asarray(ncm3.trial_decoding_accuracy).shape"
   ]
  },
  {
   "cell_type": "code",
   "execution_count": null,
   "metadata": {
    "collapsed": true
   },
   "outputs": [],
   "source": [
    "sns.set(font_scale=2)\n",
    "sns.lmplot(y='average_decoding_accuracy', x = 'average_adaptation_rate', hue = 'hemisphere', size=10,  data = ncm2, fit_reg=True)\n",
    "plt.xlim(-.007,.004)\n",
    "plt.ylim(0,1.1)\n",
    "plt.show()"
   ]
  },
  {
   "cell_type": "code",
   "execution_count": null,
   "metadata": {
    "collapsed": true
   },
   "outputs": [],
   "source": [
    "sns.set(font_scale=1.5)\n",
    "sns.boxplot(x='hemisphere', y = 'average_adaptation_rate', data = ncm)\n",
    "plt.ylim(-.007,.004)\n",
    "plt.show()"
   ]
  },
  {
   "cell_type": "code",
   "execution_count": null,
   "metadata": {
    "collapsed": true
   },
   "outputs": [],
   "source": [
    "ncm3.trial_decoding_accuracy"
   ]
  },
  {
   "cell_type": "code",
   "execution_count": null,
   "metadata": {
    "collapsed": true
   },
   "outputs": [],
   "source": [
    "sst.sem(np.asarray(ncm3.trial_decoding_accuracy))"
   ]
  },
  {
   "cell_type": "code",
   "execution_count": null,
   "metadata": {
    "collapsed": true
   },
   "outputs": [],
   "source": [
    "ncml = ncm3[(ncm3['hemisphere'] == \"Left\")]"
   ]
  },
  {
   "cell_type": "code",
   "execution_count": null,
   "metadata": {
    "collapsed": true
   },
   "outputs": [],
   "source": [
    "ncmr = ncm3[(ncm3['hemisphere'] == \"Right\")]"
   ]
  },
  {
   "cell_type": "code",
   "execution_count": null,
   "metadata": {
    "collapsed": true
   },
   "outputs": [],
   "source": [
    "np.mean(ncm3.trial_decoding_accuracy)"
   ]
  },
  {
   "cell_type": "code",
   "execution_count": null,
   "metadata": {
    "collapsed": true
   },
   "outputs": [],
   "source": []
  },
  {
   "cell_type": "code",
   "execution_count": null,
   "metadata": {
    "collapsed": true
   },
   "outputs": [],
   "source": [
    "fit1 = np.polyfit(range(1,41), np.mean(ncml.trial_decoding_accuracy, axis=0),1)\n",
    "fit_fn1 = np.poly1d(fit1) \n",
    "\n",
    "fit2 = np.polyfit(range(1,41), np.mean(ncmr.trial_decoding_accuracy, axis=0),1)\n",
    "fit_fn2 = np.poly1d(fit2) \n",
    "\n",
    "plt.plot(y = np.mean(ncml.trial_decoding_accuracy, axis=0), x = range(1,41), c = \"b\")\n",
    "plt.plot(y = np.mean(ncmr.trial_decoding_accuracy, axis=0), x = range(1,41), c =\"r\")\n",
    "\"\"\"\n",
    "plt.plot(range(1,41), fit_fn1(np.mean(ncml.trial_decoding_accuracy, axis=0)), '--k')\n",
    "plt.plot(range(1,41), fit_fn2(np.mean(ncml.trial_decoding_accuracy, axis=0)), '--k')\n",
    "\n",
    "#plt.errorbar(y = np.mean(ncm3.trial_decoding_accuracy, axis=0), x = range(1,41), yerr=sst.sem(ncm3.trial_decoding_accuracy), fmt='o')\n",
    "plt.show()"
   ]
  },
  {
   "cell_type": "code",
   "execution_count": null,
   "metadata": {
    "collapsed": true
   },
   "outputs": [],
   "source": [
    "x = ncm2[(ncm2[\"average_adaptation_rate\"] < .9)] "
   ]
  },
  {
   "cell_type": "code",
   "execution_count": null,
   "metadata": {
    "collapsed": true
   },
   "outputs": [],
   "source": [
    "x"
   ]
  },
  {
   "cell_type": "code",
   "execution_count": null,
   "metadata": {
    "collapsed": true
   },
   "outputs": [],
   "source": [
    "sns.set(font_scale=2)\n",
    "graph = ncm2(ncm2[\"average_decoding_accuracy\"] < .9)\n",
    "sns.lmplot(y='average_decoding_accuracy', x = 'average_adaptation_rate', size=10,  data = n eg=True)\n",
    "plt.xlim(-.007,.004)\n",
    "plt.ylim(0,1.1)\n",
    "plt.show()"
   ]
  },
  {
   "cell_type": "code",
   "execution_count": null,
   "metadata": {
    "collapsed": true
   },
   "outputs": [],
   "source": [
    "sns.set(font_scale=2)\n",
    "sns.lmplot(y='average_decoding_accuracy', x = 'average_adaptation_rate', size=10,  data = ncm2, fit_reg=False)\n",
    "plt.xlim(-.007,.004)\n",
    "plt.ylim(0,1.1)\n",
    "plt.show()"
   ]
  },
  {
   "cell_type": "code",
   "execution_count": null,
   "metadata": {
    "collapsed": true
   },
   "outputs": [],
   "source": [
    "sns.swarmplot(x=\"region\", y=\"average_decoding_accuracy\",data= ncm2)\n",
    "plt.title(\"XYZ\")\n",
    "plt.show()"
   ]
  },
  {
   "cell_type": "code",
   "execution_count": null,
   "metadata": {
    "collapsed": true
   },
   "outputs": [],
   "source": [
    "sns.swarmplot(x=\"region\", y=\"average_decoding_accuracy\",data= batch250[0])\n",
    "plt.title(\"XYZ\")\n",
    "plt.show()"
   ]
  },
  {
   "cell_type": "code",
   "execution_count": null,
   "metadata": {
    "collapsed": true
   },
   "outputs": [],
   "source": [
    "sns.boxplot(x=\"hemisphere\", y=\"average_decoding_accuracy\", data= ncm2)\n",
    "plt.show()"
   ]
  },
  {
   "cell_type": "code",
   "execution_count": 34,
   "metadata": {
    "collapsed": true
   },
   "outputs": [],
   "source": [
    "def batch_decoding_accuracy(split_data, bird_ele_class, n_neighbors=15, reps=250, training=.5):\n",
    "    # Runs the decoding accuracy KNN algorithm on an array of spike data objects\n",
    "    # split_data is the spike data array, bird_ele_class is a dataframe containing all responding electrodes and the \n",
    "    # region they are from.\n",
    "    \n",
    "    # bird tag should be set to the tag of birds in the experiments you are using\n",
    "    \n",
    "    # n neighbors is the amount of neighbors for the knn algorithm\n",
    "    # reps is the amount of repitions of the algorithm to run\n",
    "    # training is the training proportion\n",
    "    \n",
    "    c = ['birdid','electrode','region', 'hemisphere', 'average_adaptation_rate','average_decoding_accuracy','decoding_accuracy']\n",
    "    final_df = pd.DataFrame(columns = c)\n",
    "    #loops through split data\n",
    "    n = 1\n",
    "    for spike_data in split_data:\n",
    "        ele_num_arr = spike_data.electrodes\n",
    "        bird_tag = chr(int(str(spike_data.birdid[0])[0:2])) + chr(int(str(spike_data.birdid[0])[2:4]))\n",
    "        bird_id = bird_tag + str(spike_data.birdid[0])[-5:-2]\n",
    "        for x, ele_num in enumerate(ele_num_arr):\n",
    "            df = bird_ele_class[(bird_ele_class['birdid'] == bird_id) & (bird_ele_class['electrode'] == ele_num)]\n",
    "            if df.empty:\n",
    "                continue\n",
    "            ele_spike_data = spike_data.get_kw_SpikeData(electrode = ele_num)\n",
    "            ele_binned_data = Spike_to_Binned(ele_spike_data)\n",
    "            decoding_acc = decoding_accuracy(ele_binned_data, k=n_neighbors, rep_num=reps, training_prop=training)\n",
    "            avg_decoding_acc = np.mean(decoding_acc)\n",
    "            if ele_num < 1600:\n",
    "                to_add = [bird_id, ele_num, df.region.iloc[0], \"Left\", get_adaptation_rate(ele_spike_data)[ele_num],avg_decoding_acc, decoding_acc]\n",
    "                final_df = final_df.append(pd.DataFrame([to_add], columns=c)) \n",
    "            else:\n",
    "                to_add = [bird_id, ele_num, df.region.iloc[0], \"Right\", get_adaptation_rate(ele_spike_data)[ele_num], avg_decoding_acc, decoding_acc]\n",
    "                final_df = final_df.append(pd.DataFrame([to_add], columns=c))\n",
    "        print str(n)+\" Experiments Analyzed\"\n",
    "        n+=1\n",
    "    return final_df.reset_index(drop=True)"
   ]
  },
  {
   "cell_type": "code",
   "execution_count": 35,
   "metadata": {
    "collapsed": true
   },
   "outputs": [],
   "source": [
    "def quick_batch_decoding_accuracy(split_data, n_neighbors=15, reps=250, training=.5):\n",
    "    # Runs the decoding accuracy KNN algorithm on an array of spike data objects\n",
    "    # split_data is the spike data array, bird_ele_class is a dataframe containing all responding electrodes and the \n",
    "    # region they are from.\n",
    "    \n",
    "    # bird tag should be set to the tag of birds in the experiments you are using\n",
    "    \n",
    "    # n neighbors is the amount of neighbors for the knn algorithm\n",
    "    # reps is the amount of repitions of the algorithm to run\n",
    "    # training is the training proportion\n",
    "    \n",
    "    c = ['birdid','electrode','hemisphere', 'average_adaptation_rate','average_decoding_accuracy','decoding_accuracy']\n",
    "    final_df = pd.DataFrame(columns = c)\n",
    "    #loops through split data\n",
    "    for spike_data in split_data:\n",
    "        n = 1\n",
    "        ele_num_arr = spike_data.electrodes\n",
    "        bird_tag = chr(int(str(spike_data.birdid[0])[0:2])) + chr(int(str(spike_data.birdid[0])[2:4]))\n",
    "        bird_id = bird_tag + str(spike_data.birdid[0])[-5:-2]\n",
    "        for x, ele_num in enumerate(ele_num_arr):\n",
    "            try:\n",
    "                ele_spike_data = spike_data.get_kw_SpikeData(electrode = ele_num)\n",
    "                ele_binned_data = Spike_to_Binned(ele_spike_data)\n",
    "                decoding_acc = decoding_accuracy(ele_binned_data, k=n_neighbors, rep_num=reps, training_prop=training)\n",
    "                avg_decoding_acc = np.mean(decoding_acc)\n",
    "            except:\n",
    "                pdb.set_trace()\n",
    "            if ele_num < 1600:\n",
    "                to_add = [bird_id, ele_num, \"Left\", get_adaptation_rate(ele_spike_data)[ele_num],avg_decoding_acc, decoding_acc]\n",
    "                final_df = final_df.append(pd.DataFrame([to_add], columns=c)) \n",
    "            else:\n",
    "                to_add = [bird_id, ele_num, \"Right\", get_adaptation_rate(ele_spike_data)[ele_num], avg_decoding_acc, decoding_acc]\n",
    "                final_df = final_df.append(pd.DataFrame([to_add], columns=c))\n",
    "        print str(n)+\" Experiments Analyzed\"\n",
    "        n+=1\n",
    "    return final_df.reset_index(drop=True)"
   ]
  },
  {
   "cell_type": "code",
   "execution_count": 36,
   "metadata": {
    "collapsed": true
   },
   "outputs": [],
   "source": [
    "def get_trial_avg(decoding_acc_df):\n",
    "    to_graph = []\n",
    "    for x in decoding_acc_df:\n",
    "        y = np.mean(x, axis=0)\n",
    "        to_graph.append(y)\n",
    "    to_graph = np.mean(to_graph, axis = 0)\n",
    "    upper_range = len(to_graph) + 1\n",
    "    a = {'Trial_Number' : range(1,upper_range), 'Trial_Decoding_Accuracy' : to_graph}\n",
    "    to_graph_df = pd.DataFrame(a)\n",
    "    return to_graph_df"
   ]
  },
  {
   "cell_type": "code",
   "execution_count": 37,
   "metadata": {
    "collapsed": true
   },
   "outputs": [],
   "source": [
    "def compare_two_avg_trial(ele_pred1, ele_pred2, labels= (), loc = 4, colors=['red', 'blue'], title=''):\n",
    "    mean_pred1 = np.mean(ele_pred1, axis=0)\n",
    "    mean_pred2 = np.mean(ele_pred2, axis=0)\n",
    "    \n",
    "    y1 = mean_pred1\n",
    "    xlim1= y1.shape[0]+1\n",
    "    x1 = np.arange(1, xlim1)\n",
    "    z1= np.polyfit(x1[5:],y1[5:],1)\n",
    "    f1 = np.poly1d(z1)\n",
    "\n",
    "    \n",
    "    y2 = mean_pred2\n",
    "    xlim2= y2.shape[0]+1\n",
    "    x2 = np.arange(1, xlim2)\n",
    "    z2= np.polyfit(x2[5:],y2[5:],1)\n",
    "    f2 = np.poly1d(z2)\n",
    "\n",
    "\n",
    "    x_new1 = np.linspace(x1[5], x1[-1], 50)\n",
    "    y_new1 = f1(x_new1)\n",
    "    x_new2 = np.linspace(x2[5], x2[-1], 50)\n",
    "    y_new2 = f2(x_new2)\n",
    "    \n",
    "    \n",
    "       \n",
    "    slope1, intercept1, r_value1, p_value1, std_err1 = sst.linregress(x1[5:], y1[5:])\n",
    "    slope2, intercept2, r_value2, p_value2, std_err2 = sst.linregress(x2[5:], y2[5:])\n",
    "    \n",
    "    print r_value1**2\n",
    "    print p_value1\n",
    "    print \n",
    "    print r_value2**2\n",
    "    print p_value2\n",
    "    \n",
    "    n=10\n",
    "    \n",
    "    color1 = colors[0]\n",
    "    color2 = colors[1]\n",
    "    \n",
    "    plt.plot(x1,y1,color1, marker='o', markersize = n+5, linewidth = 0)\n",
    "    plt.plot(x_new1, y_new1, color1, linewidth = n)\n",
    "    plt.plot(x2,y2,color2, marker='o', markersize = n+5, linewidth=0)\n",
    "    plt.plot(x_new2, y_new2, color2, linewidth = n)\n",
    "    \n",
    "    plt.xlim([x1[0]-1, x1[-1] + 1 ])\n",
    "    \n",
    "    red_patch = mpatches.Patch(color=color1, label=labels[0])\n",
    "    blue_patch = mpatches.Patch(color=color2, label=labels[1])\n",
    "    \n",
    "    plt.legend(handles=[blue_patch, red_patch], loc=loc)\n",
    "\n",
    "    plt.ylabel('Decoding Accuracy')\n",
    "    plt.xlabel('Trial Number')\n",
    "    plt.title(title)\n",
    "    plt.rcParams.update({'font.size': 40})\n",
    "    plt.rcParams[\"figure.figsize\"] = [24,16]\n",
    "    plt.ylim(.5,1)\n",
    "    plt.title(title)\n",
    "    plt.show()"
   ]
  },
  {
   "cell_type": "code",
   "execution_count": 38,
   "metadata": {
    "collapsed": true
   },
   "outputs": [],
   "source": [
    "def compare_all_boxplot(pred_list, labels= (), loc = 4, title=''):\n",
    "# pop_discrim boxplot\n",
    "# plots the slope of the decoding accuracy curve for fast and slow e\n",
    "    to_graph = []\n",
    "    for pred in pred_list:\n",
    "        to_graph.append(np.mean(np.mean(pred, axis=1), axis=1))\n",
    "    #return np.asarray(to_graph)\n",
    "\n",
    "    fig, ax = plt.subplots(1, sharey=True)\n",
    "    ax.boxplot(to_graph)\n",
    "    ax.set_xticklabels(labels)\n",
    "    ax.set_ylabel(\"Average Decoding Accuracy\")\n",
    "\n",
    "    plt.rcParams.update({'font.size': 40})\n",
    "    plt.rcParams[\"figure.figsize\"] = [24,16]\n",
    "    plt.title(title)\n",
    "    plt.show()"
   ]
  },
  {
   "cell_type": "code",
   "execution_count": 39,
   "metadata": {
    "collapsed": true
   },
   "outputs": [],
   "source": [
    "def compare_all_barplot(pred_list, xlabels= (), clabels=(), loc = 4, title=''):\n",
    "# pop_discrim boxplot\n",
    "# plots the slope of the decoding accuracy curve for fast and slow e\n",
    "    to_graph = []\n",
    "    std = []\n",
    "    for pred in pred_list:\n",
    "        to_graph.append(np.mean(np.mean(pred, axis=1)))\n",
    "        std.append(np.std(pred)/(pred.shape[0]**.5))\n",
    "    #return np.asarray(to_graph)\n",
    "    #return std\n",
    "    width = .35\n",
    "    N = 2\n",
    "    x = np.arange(N)\n",
    "\n",
    "    fig, ax = plt.subplots()\n",
    "    rects1 = ax.bar(x, [to_graph[0], to_graph[1]], width, yerr=[std[0],std[1]], color = 'r')\n",
    "    \n",
    "    rects2 = ax.bar(x+width, [to_graph[2], to_graph[3]], width, yerr=[std[2],std[3]],color = 'b')\n",
    "    \n",
    "    ax.set_xticks(x + width / 2)\n",
    "    \n",
    "    ax.set_xticklabels(xlabels)\n",
    "    ax.set_ylabel(\"Average Decoding Accuracy\")\n",
    "    \n",
    "    red_patch = mpatches.Patch(color='red', label=clabels[0])\n",
    "    blue_patch = mpatches.Patch(color='blue', label=clabels[1])\n",
    "    \n",
    "    plt.legend(handles=[red_patch, blue_patch], loc=loc)\n",
    "\n",
    "    plt.rcParams.update({'font.size': 50})\n",
    "    plt.rcParams[\"figure.figsize\"] = [24,12]\n",
    "    plt.ylim(0,1)\n",
    "    ax.set_title(title)\n",
    "    plt.show()"
   ]
  },
  {
   "cell_type": "code",
   "execution_count": 28,
   "metadata": {},
   "outputs": [
    {
     "data": {
      "text/html": [
       "<div>\n",
       "<style scoped>\n",
       "    .dataframe tbody tr th:only-of-type {\n",
       "        vertical-align: middle;\n",
       "    }\n",
       "\n",
       "    .dataframe tbody tr th {\n",
       "        vertical-align: top;\n",
       "    }\n",
       "\n",
       "    .dataframe thead th {\n",
       "        text-align: right;\n",
       "    }\n",
       "</style>\n",
       "<table border=\"1\" class=\"dataframe\">\n",
       "  <thead>\n",
       "    <tr style=\"text-align: right;\">\n",
       "      <th></th>\n",
       "      <th>birdid</th>\n",
       "      <th>electrode</th>\n",
       "      <th>res</th>\n",
       "      <th>res_data</th>\n",
       "    </tr>\n",
       "  </thead>\n",
       "  <tbody>\n",
       "    <tr>\n",
       "      <th>0</th>\n",
       "      <td>HS001</td>\n",
       "      <td>100</td>\n",
       "      <td>1.961184e-05</td>\n",
       "      <td>[[1.0, 2.0, 3.0, 4.0, 5.0, 6.0, 7.0, 8.0], [5....</td>\n",
       "    </tr>\n",
       "    <tr>\n",
       "      <th>1</th>\n",
       "      <td>HS001</td>\n",
       "      <td>200</td>\n",
       "      <td>1.113051e-09</td>\n",
       "      <td>[[1.0, 2.0, 3.0, 4.0, 5.0, 6.0, 7.0, 8.0], [5....</td>\n",
       "    </tr>\n",
       "    <tr>\n",
       "      <th>2</th>\n",
       "      <td>HS001</td>\n",
       "      <td>300</td>\n",
       "      <td>3.772753e-08</td>\n",
       "      <td>[[1.0, 2.0, 3.0, 4.0, 5.0, 6.0, 7.0, 8.0], [3....</td>\n",
       "    </tr>\n",
       "    <tr>\n",
       "      <th>3</th>\n",
       "      <td>HS001</td>\n",
       "      <td>400</td>\n",
       "      <td>1.341699e-10</td>\n",
       "      <td>[[1.0, 2.0, 3.0, 4.0, 5.0, 6.0, 7.0, 8.0], [3....</td>\n",
       "    </tr>\n",
       "    <tr>\n",
       "      <th>4</th>\n",
       "      <td>HS001</td>\n",
       "      <td>500</td>\n",
       "      <td>1.113051e-09</td>\n",
       "      <td>[[1.0, 2.0, 3.0, 4.0, 5.0, 6.0, 7.0, 8.0], [5....</td>\n",
       "    </tr>\n",
       "    <tr>\n",
       "      <th>5</th>\n",
       "      <td>HS001</td>\n",
       "      <td>600</td>\n",
       "      <td>3.365770e-15</td>\n",
       "      <td>[[1.0, 2.0, 3.0, 4.0, 5.0, 6.0, 7.0, 8.0], [1....</td>\n",
       "    </tr>\n",
       "    <tr>\n",
       "      <th>6</th>\n",
       "      <td>HS001</td>\n",
       "      <td>700</td>\n",
       "      <td>9.852363e-02</td>\n",
       "      <td>[[1.0, 2.0, 3.0, 4.0, 5.0, 6.0, 7.0, 8.0], [3....</td>\n",
       "    </tr>\n",
       "    <tr>\n",
       "      <th>7</th>\n",
       "      <td>HS001</td>\n",
       "      <td>800</td>\n",
       "      <td>5.263610e-12</td>\n",
       "      <td>[[1.0, 2.0, 3.0, 4.0, 5.0, 6.0, 7.0, 8.0], [5....</td>\n",
       "    </tr>\n",
       "    <tr>\n",
       "      <th>8</th>\n",
       "      <td>HS001</td>\n",
       "      <td>900</td>\n",
       "      <td>5.263610e-12</td>\n",
       "      <td>[[1.0, 2.0, 3.0, 4.0, 5.0, 6.0, 7.0, 8.0], [3....</td>\n",
       "    </tr>\n",
       "    <tr>\n",
       "      <th>9</th>\n",
       "      <td>HS001</td>\n",
       "      <td>1000</td>\n",
       "      <td>5.263610e-12</td>\n",
       "      <td>[[1.0, 2.0, 3.0, 4.0, 5.0, 6.0, 7.0, 8.0], [1....</td>\n",
       "    </tr>\n",
       "    <tr>\n",
       "      <th>10</th>\n",
       "      <td>HS001</td>\n",
       "      <td>1100</td>\n",
       "      <td>5.860120e-16</td>\n",
       "      <td>[[1.0, 2.0, 3.0, 4.0, 5.0, 6.0, 7.0, 8.0], [5....</td>\n",
       "    </tr>\n",
       "    <tr>\n",
       "      <th>11</th>\n",
       "      <td>HS001</td>\n",
       "      <td>1200</td>\n",
       "      <td>1.000000e+00</td>\n",
       "      <td>[[1.0, 2.0, 3.0, 4.0, 5.0, 6.0, 7.0, 8.0], [0....</td>\n",
       "    </tr>\n",
       "    <tr>\n",
       "      <th>12</th>\n",
       "      <td>HS001</td>\n",
       "      <td>1300</td>\n",
       "      <td>3.139643e-10</td>\n",
       "      <td>[[1.0, 2.0, 3.0, 4.0, 5.0, 6.0, 7.0, 8.0], [1....</td>\n",
       "    </tr>\n",
       "    <tr>\n",
       "      <th>13</th>\n",
       "      <td>HS001</td>\n",
       "      <td>1400</td>\n",
       "      <td>1.580340e-04</td>\n",
       "      <td>[[1.0, 2.0, 3.0, 4.0, 5.0, 6.0, 7.0, 8.0], [3....</td>\n",
       "    </tr>\n",
       "    <tr>\n",
       "      <th>14</th>\n",
       "      <td>HS001</td>\n",
       "      <td>1500</td>\n",
       "      <td>1.279340e-29</td>\n",
       "      <td>[[1.0, 2.0, 3.0, 4.0, 5.0, 6.0, 7.0, 8.0], [4....</td>\n",
       "    </tr>\n",
       "    <tr>\n",
       "      <th>15</th>\n",
       "      <td>HS001</td>\n",
       "      <td>1700</td>\n",
       "      <td>1.118772e-07</td>\n",
       "      <td>[[1.0, 2.0, 3.0, 4.0, 5.0, 6.0, 7.0, 8.0], [3....</td>\n",
       "    </tr>\n",
       "    <tr>\n",
       "      <th>16</th>\n",
       "      <td>HS001</td>\n",
       "      <td>1800</td>\n",
       "      <td>1.203278e-01</td>\n",
       "      <td>[[1.0, 2.0, 3.0, 4.0, 5.0, 6.0, 7.0, 8.0], [1....</td>\n",
       "    </tr>\n",
       "    <tr>\n",
       "      <th>17</th>\n",
       "      <td>HS001</td>\n",
       "      <td>1900</td>\n",
       "      <td>6.482601e-01</td>\n",
       "      <td>[[1.0, 2.0, 3.0, 4.0, 5.0, 6.0, 7.0, 8.0], [7....</td>\n",
       "    </tr>\n",
       "    <tr>\n",
       "      <th>18</th>\n",
       "      <td>HS001</td>\n",
       "      <td>2000</td>\n",
       "      <td>6.482601e-01</td>\n",
       "      <td>[[1.0, 2.0, 3.0, 4.0, 5.0, 6.0, 7.0, 8.0], [3....</td>\n",
       "    </tr>\n",
       "    <tr>\n",
       "      <th>19</th>\n",
       "      <td>HS001</td>\n",
       "      <td>2100</td>\n",
       "      <td>7.291502e-05</td>\n",
       "      <td>[[1.0, 2.0, 3.0, 4.0, 5.0, 6.0, 7.0, 8.0], [1....</td>\n",
       "    </tr>\n",
       "    <tr>\n",
       "      <th>20</th>\n",
       "      <td>HS001</td>\n",
       "      <td>2200</td>\n",
       "      <td>1.389701e-05</td>\n",
       "      <td>[[1.0, 2.0, 3.0, 4.0, 5.0, 6.0, 7.0, 8.0], [3....</td>\n",
       "    </tr>\n",
       "    <tr>\n",
       "      <th>21</th>\n",
       "      <td>HS001</td>\n",
       "      <td>2300</td>\n",
       "      <td>4.455023e-03</td>\n",
       "      <td>[[1.0, 2.0, 3.0, 4.0, 5.0, 6.0, 7.0, 8.0], [3....</td>\n",
       "    </tr>\n",
       "    <tr>\n",
       "      <th>22</th>\n",
       "      <td>HS001</td>\n",
       "      <td>2400</td>\n",
       "      <td>7.846593e-03</td>\n",
       "      <td>[[1.0, 2.0, 3.0, 4.0, 5.0, 6.0, 7.0, 8.0], [3....</td>\n",
       "    </tr>\n",
       "    <tr>\n",
       "      <th>23</th>\n",
       "      <td>HS001</td>\n",
       "      <td>2500</td>\n",
       "      <td>1.118772e-07</td>\n",
       "      <td>[[1.0, 2.0, 3.0, 4.0, 5.0, 6.0, 7.0, 8.0], [1....</td>\n",
       "    </tr>\n",
       "    <tr>\n",
       "      <th>24</th>\n",
       "      <td>HS001</td>\n",
       "      <td>2600</td>\n",
       "      <td>8.680495e-07</td>\n",
       "      <td>[[1.0, 2.0, 3.0, 4.0, 5.0, 6.0, 7.0, 8.0], [8....</td>\n",
       "    </tr>\n",
       "    <tr>\n",
       "      <th>25</th>\n",
       "      <td>HS001</td>\n",
       "      <td>2700</td>\n",
       "      <td>3.304000e-04</td>\n",
       "      <td>[[1.0, 2.0, 3.0, 4.0, 5.0, 6.0, 7.0, 8.0], [0....</td>\n",
       "    </tr>\n",
       "    <tr>\n",
       "      <th>26</th>\n",
       "      <td>HS001</td>\n",
       "      <td>2800</td>\n",
       "      <td>3.304000e-04</td>\n",
       "      <td>[[1.0, 2.0, 3.0, 4.0, 5.0, 6.0, 7.0, 8.0], [0....</td>\n",
       "    </tr>\n",
       "    <tr>\n",
       "      <th>27</th>\n",
       "      <td>HS001</td>\n",
       "      <td>2900</td>\n",
       "      <td>3.304000e-04</td>\n",
       "      <td>[[1.0, 2.0, 3.0, 4.0, 5.0, 6.0, 7.0, 8.0], [4....</td>\n",
       "    </tr>\n",
       "    <tr>\n",
       "      <th>28</th>\n",
       "      <td>HS001</td>\n",
       "      <td>3000</td>\n",
       "      <td>3.772753e-08</td>\n",
       "      <td>[[1.0, 2.0, 3.0, 4.0, 5.0, 6.0, 7.0, 8.0], [4....</td>\n",
       "    </tr>\n",
       "    <tr>\n",
       "      <th>29</th>\n",
       "      <td>HS001</td>\n",
       "      <td>3100</td>\n",
       "      <td>9.530253e-26</td>\n",
       "      <td>[[1.0, 2.0, 3.0, 4.0, 5.0, 6.0, 7.0, 8.0], [4....</td>\n",
       "    </tr>\n",
       "  </tbody>\n",
       "</table>\n",
       "</div>"
      ],
      "text/plain": [
       "   birdid  electrode           res  \\\n",
       "0   HS001        100  1.961184e-05   \n",
       "1   HS001        200  1.113051e-09   \n",
       "2   HS001        300  3.772753e-08   \n",
       "3   HS001        400  1.341699e-10   \n",
       "4   HS001        500  1.113051e-09   \n",
       "5   HS001        600  3.365770e-15   \n",
       "6   HS001        700  9.852363e-02   \n",
       "7   HS001        800  5.263610e-12   \n",
       "8   HS001        900  5.263610e-12   \n",
       "9   HS001       1000  5.263610e-12   \n",
       "10  HS001       1100  5.860120e-16   \n",
       "11  HS001       1200  1.000000e+00   \n",
       "12  HS001       1300  3.139643e-10   \n",
       "13  HS001       1400  1.580340e-04   \n",
       "14  HS001       1500  1.279340e-29   \n",
       "15  HS001       1700  1.118772e-07   \n",
       "16  HS001       1800  1.203278e-01   \n",
       "17  HS001       1900  6.482601e-01   \n",
       "18  HS001       2000  6.482601e-01   \n",
       "19  HS001       2100  7.291502e-05   \n",
       "20  HS001       2200  1.389701e-05   \n",
       "21  HS001       2300  4.455023e-03   \n",
       "22  HS001       2400  7.846593e-03   \n",
       "23  HS001       2500  1.118772e-07   \n",
       "24  HS001       2600  8.680495e-07   \n",
       "25  HS001       2700  3.304000e-04   \n",
       "26  HS001       2800  3.304000e-04   \n",
       "27  HS001       2900  3.304000e-04   \n",
       "28  HS001       3000  3.772753e-08   \n",
       "29  HS001       3100  9.530253e-26   \n",
       "\n",
       "                                             res_data  \n",
       "0   [[1.0, 2.0, 3.0, 4.0, 5.0, 6.0, 7.0, 8.0], [5....  \n",
       "1   [[1.0, 2.0, 3.0, 4.0, 5.0, 6.0, 7.0, 8.0], [5....  \n",
       "2   [[1.0, 2.0, 3.0, 4.0, 5.0, 6.0, 7.0, 8.0], [3....  \n",
       "3   [[1.0, 2.0, 3.0, 4.0, 5.0, 6.0, 7.0, 8.0], [3....  \n",
       "4   [[1.0, 2.0, 3.0, 4.0, 5.0, 6.0, 7.0, 8.0], [5....  \n",
       "5   [[1.0, 2.0, 3.0, 4.0, 5.0, 6.0, 7.0, 8.0], [1....  \n",
       "6   [[1.0, 2.0, 3.0, 4.0, 5.0, 6.0, 7.0, 8.0], [3....  \n",
       "7   [[1.0, 2.0, 3.0, 4.0, 5.0, 6.0, 7.0, 8.0], [5....  \n",
       "8   [[1.0, 2.0, 3.0, 4.0, 5.0, 6.0, 7.0, 8.0], [3....  \n",
       "9   [[1.0, 2.0, 3.0, 4.0, 5.0, 6.0, 7.0, 8.0], [1....  \n",
       "10  [[1.0, 2.0, 3.0, 4.0, 5.0, 6.0, 7.0, 8.0], [5....  \n",
       "11  [[1.0, 2.0, 3.0, 4.0, 5.0, 6.0, 7.0, 8.0], [0....  \n",
       "12  [[1.0, 2.0, 3.0, 4.0, 5.0, 6.0, 7.0, 8.0], [1....  \n",
       "13  [[1.0, 2.0, 3.0, 4.0, 5.0, 6.0, 7.0, 8.0], [3....  \n",
       "14  [[1.0, 2.0, 3.0, 4.0, 5.0, 6.0, 7.0, 8.0], [4....  \n",
       "15  [[1.0, 2.0, 3.0, 4.0, 5.0, 6.0, 7.0, 8.0], [3....  \n",
       "16  [[1.0, 2.0, 3.0, 4.0, 5.0, 6.0, 7.0, 8.0], [1....  \n",
       "17  [[1.0, 2.0, 3.0, 4.0, 5.0, 6.0, 7.0, 8.0], [7....  \n",
       "18  [[1.0, 2.0, 3.0, 4.0, 5.0, 6.0, 7.0, 8.0], [3....  \n",
       "19  [[1.0, 2.0, 3.0, 4.0, 5.0, 6.0, 7.0, 8.0], [1....  \n",
       "20  [[1.0, 2.0, 3.0, 4.0, 5.0, 6.0, 7.0, 8.0], [3....  \n",
       "21  [[1.0, 2.0, 3.0, 4.0, 5.0, 6.0, 7.0, 8.0], [3....  \n",
       "22  [[1.0, 2.0, 3.0, 4.0, 5.0, 6.0, 7.0, 8.0], [3....  \n",
       "23  [[1.0, 2.0, 3.0, 4.0, 5.0, 6.0, 7.0, 8.0], [1....  \n",
       "24  [[1.0, 2.0, 3.0, 4.0, 5.0, 6.0, 7.0, 8.0], [8....  \n",
       "25  [[1.0, 2.0, 3.0, 4.0, 5.0, 6.0, 7.0, 8.0], [0....  \n",
       "26  [[1.0, 2.0, 3.0, 4.0, 5.0, 6.0, 7.0, 8.0], [0....  \n",
       "27  [[1.0, 2.0, 3.0, 4.0, 5.0, 6.0, 7.0, 8.0], [4....  \n",
       "28  [[1.0, 2.0, 3.0, 4.0, 5.0, 6.0, 7.0, 8.0], [4....  \n",
       "29  [[1.0, 2.0, 3.0, 4.0, 5.0, 6.0, 7.0, 8.0], [4....  "
      ]
     },
     "execution_count": 28,
     "metadata": {},
     "output_type": "execute_result"
    }
   ],
   "source": [
    "a"
   ]
  },
  {
   "cell_type": "code",
   "execution_count": null,
   "metadata": {
    "collapsed": true
   },
   "outputs": [],
   "source": [
    "m"
   ]
  },
  {
   "cell_type": "markdown",
   "metadata": {},
   "source": [
    "### Exploratory Data Analysis"
   ]
  },
  {
   "cell_type": "code",
   "execution_count": 40,
   "metadata": {
    "collapsed": true
   },
   "outputs": [],
   "source": [
    "test = mdl.load_mat_data()\n",
    "s = mdl.SpikeData(test[0], test[1])"
   ]
  },
  {
   "cell_type": "code",
   "execution_count": 92,
   "metadata": {},
   "outputs": [
    {
     "data": {
      "text/plain": [
       "array([<mdlab.SpikeData object at 0x000000000D5C9390>,\n",
       "       <mdlab.SpikeData object at 0x000000000D5C94A8>,\n",
       "       <mdlab.SpikeData object at 0x000000000D5C9CF8>,\n",
       "       <mdlab.SpikeData object at 0x000000000D2986A0>,\n",
       "       <mdlab.SpikeData object at 0x000000000D337198>,\n",
       "       <mdlab.SpikeData object at 0x000000000D337390>,\n",
       "       <mdlab.SpikeData object at 0x000000000D337588>,\n",
       "       <mdlab.SpikeData object at 0x000000000D337780>], dtype=object)"
      ]
     },
     "execution_count": 92,
     "metadata": {},
     "output_type": "execute_result"
    }
   ],
   "source": [
    "batch250 = pd.load_csv"
   ]
  },
  {
   "cell_type": "code",
   "execution_count": null,
   "metadata": {
    "collapsed": true
   },
   "outputs": [],
   "source": [
    "get_adaptation_rate(block[0])"
   ]
  },
  {
   "cell_type": "code",
   "execution_count": null,
   "metadata": {
    "collapsed": true
   },
   "outputs": [],
   "source": [
    "1+1"
   ]
  },
  {
   "cell_type": "code",
   "execution_count": null,
   "metadata": {
    "collapsed": true
   },
   "outputs": [],
   "source": [
    "xl"
   ]
  },
  {
   "cell_type": "code",
   "execution_count": null,
   "metadata": {
    "collapsed": true
   },
   "outputs": [],
   "source": [
    "batch_s = quick_batch_decoding_accuracy([s])"
   ]
  },
  {
   "cell_type": "code",
   "execution_count": null,
   "metadata": {
    "collapsed": true
   },
   "outputs": [],
   "source": [
    "a = batch_s.dropna()"
   ]
  },
  {
   "cell_type": "code",
   "execution_count": null,
   "metadata": {
    "collapsed": true
   },
   "outputs": [],
   "source": [
    "1+1"
   ]
  },
  {
   "cell_type": "code",
   "execution_count": null,
   "metadata": {
    "collapsed": true
   },
   "outputs": [],
   "source": [
    "sns.swarmplot(x = \"hemisphere\", y = \"average_decoding_accuracy\", data=a)\n",
    "plt.show()"
   ]
  },
  {
   "cell_type": "code",
   "execution_count": null,
   "metadata": {
    "collapsed": true
   },
   "outputs": [],
   "source": [
    "sns.boxplot(x = \"hemisphere\", y = \"average_adaptation_rate\", data=a)\n",
    "plt.show()"
   ]
  },
  {
   "cell_type": "code",
   "execution_count": null,
   "metadata": {
    "collapsed": true
   },
   "outputs": [],
   "source": [
    "xl"
   ]
  },
  {
   "cell_type": "code",
   "execution_count": null,
   "metadata": {
    "collapsed": true
   },
   "outputs": [],
   "source": [
    "ele_1500 = s.get_kw_SpikeData(electrode =1500)    "
   ]
  },
  {
   "cell_type": "code",
   "execution_count": null,
   "metadata": {
    "collapsed": true
   },
   "outputs": [],
   "source": [
    "binz = make_bins(ele_1500)"
   ]
  },
  {
   "cell_type": "code",
   "execution_count": null,
   "metadata": {
    "collapsed": true
   },
   "outputs": [],
   "source": [
    "np.sum(binz)"
   ]
  },
  {
   "cell_type": "code",
   "execution_count": null,
   "metadata": {
    "collapsed": true
   },
   "outputs": [],
   "source": [
    "quick_batch_decoding_accuracy(spk)"
   ]
  },
  {
   "cell_type": "code",
   "execution_count": null,
   "metadata": {
    "collapsed": true
   },
   "outputs": [],
   "source": [
    "k_parameter_testing"
   ]
  },
  {
   "cell_type": "code",
   "execution_count": null,
   "metadata": {
    "collapsed": true
   },
   "outputs": [],
   "source": [
    "sns.set(font_scale=2)\n",
    "plt.plot(all_neighbors, k_parameter_testing, \"ro\", markersize=24)\n",
    "plt.title(\"Average Decoding Accuracy Across All Sites For Various K Values\")\n",
    "plt.show()a"
   ]
  },
  {
   "cell_type": "code",
   "execution_count": null,
   "metadata": {
    "collapsed": true
   },
   "outputs": [],
   "source": [
    "sns.set(font_scale=2)\n",
    "plt.plot(all_sizes, ar, \"ro\", markersize=24,)\n",
    "plt.title(\"Average Decoding Accuracy Across All Sites For Repetition Numbers\")\n",
    "plt.show()"
   ]
  },
  {
   "cell_type": "code",
   "execution_count": null,
   "metadata": {
    "collapsed": true
   },
   "outputs": [],
   "source": [
    "sns.set(font_scale=2)\n",
    "plt.plot(all_prop, prop_avg, \"ro\", markersize=24,)\n",
    "plt.title(\"Average Decoding Accuracy Across All Sites For All Training Proportions\")\n",
    "plt.show()"
   ]
  },
  {
   "cell_type": "code",
   "execution_count": null,
   "metadata": {
    "collapsed": true
   },
   "outputs": [],
   "source": [
    "all_prop = [.1,.2,.3,.4,.5,.6]"
   ]
  },
  {
   "cell_type": "code",
   "execution_count": null,
   "metadata": {
    "collapsed": true
   },
   "outputs": [],
   "source": [
    "#lrfs_shuf = lrfs_decoding_acc(spl_shuf[1:], w)\n",
    "\n",
    "sfl = np.mean(shuf[0], axis=1)\n",
    "sfr = np.mean(shuf[1], axis=1)\n",
    "ssl = np.mean(shuf[2], axis=1)\n",
    "ssr = np.mean(shuf[3], axis=1)\n"
   ]
  },
  {
   "cell_type": "code",
   "execution_count": null,
   "metadata": {
    "collapsed": true
   },
   "outputs": [],
   "source": [
    "#lrfs_block = lrfs_decoding_acc(block[1:], w)\n",
    "\n",
    "bfl = np.mean(lrfs_block[0], axis=1)\n",
    "bfr = np.mean(lrfs_block[1], axis=1)\n",
    "bsl = np.mean(lrfs_block[2], axis=1)\n",
    "bsr = np.mean(lrfs_block[3], axis=1)\n",
    "\n",
    "all1 = [bfl,bfr,bsl,bsr]\n",
    "\n",
    "bfl2 = np.mean(lrfs_block2[0], axis=1)\n",
    "bfr2 = np.mean(lrfs_block2[1], axis=1)\n",
    "bsl2 = np.mean(lrfs_block2[2], axis=1)\n",
    "bsr2 = np.mean(lrfs_block2[3], axis=1)\n",
    "\n",
    "all2 = [bfl2,bfr2,bsl2,bsr2]"
   ]
  },
  {
   "cell_type": "code",
   "execution_count": null,
   "metadata": {
    "collapsed": true
   },
   "outputs": [],
   "source": [
    "data2 = lrfs_decoding_acc(block, w)"
   ]
  },
  {
   "cell_type": "code",
   "execution_count": null,
   "metadata": {
    "collapsed": true
   },
   "outputs": [],
   "source": [
    "data = lrfs_decoding_acc(block, w)"
   ]
  },
  {
   "cell_type": "code",
   "execution_count": null,
   "metadata": {
    "collapsed": true
   },
   "outputs": [],
   "source": [
    "data3 = lrfs_decoding_acc(block[1:], w)"
   ]
  },
  {
   "cell_type": "code",
   "execution_count": 134,
   "metadata": {},
   "outputs": [
    {
     "data": {
      "text/html": [
       "<div>\n",
       "<style>\n",
       "    .dataframe thead tr:only-child th {\n",
       "        text-align: right;\n",
       "    }\n",
       "\n",
       "    .dataframe thead th {\n",
       "        text-align: left;\n",
       "    }\n",
       "\n",
       "    .dataframe tbody tr th {\n",
       "        vertical-align: top;\n",
       "    }\n",
       "</style>\n",
       "<table border=\"1\" class=\"dataframe\">\n",
       "  <thead>\n",
       "    <tr style=\"text-align: right;\">\n",
       "      <th></th>\n",
       "      <th>Unnamed: 0</th>\n",
       "      <th>birdid</th>\n",
       "      <th>electrode</th>\n",
       "      <th>region</th>\n",
       "      <th>hemisphere</th>\n",
       "      <th>average_adaptation_rate</th>\n",
       "      <th>average_decoding_accuracy</th>\n",
       "    </tr>\n",
       "  </thead>\n",
       "  <tbody>\n",
       "    <tr>\n",
       "      <th>0</th>\n",
       "      <td>0</td>\n",
       "      <td>NB001</td>\n",
       "      <td>100</td>\n",
       "      <td>NCM</td>\n",
       "      <td>L</td>\n",
       "      <td>-0.000532</td>\n",
       "      <td>0.953238</td>\n",
       "    </tr>\n",
       "    <tr>\n",
       "      <th>1</th>\n",
       "      <td>1</td>\n",
       "      <td>NB001</td>\n",
       "      <td>200</td>\n",
       "      <td>NCM</td>\n",
       "      <td>L</td>\n",
       "      <td>-0.000950</td>\n",
       "      <td>0.960240</td>\n",
       "    </tr>\n",
       "    <tr>\n",
       "      <th>2</th>\n",
       "      <td>2</td>\n",
       "      <td>NB001</td>\n",
       "      <td>300</td>\n",
       "      <td>NCM</td>\n",
       "      <td>L</td>\n",
       "      <td>-0.000034</td>\n",
       "      <td>0.955796</td>\n",
       "    </tr>\n",
       "    <tr>\n",
       "      <th>3</th>\n",
       "      <td>3</td>\n",
       "      <td>NB001</td>\n",
       "      <td>400</td>\n",
       "      <td>NCM</td>\n",
       "      <td>L</td>\n",
       "      <td>0.000955</td>\n",
       "      <td>0.967805</td>\n",
       "    </tr>\n",
       "    <tr>\n",
       "      <th>4</th>\n",
       "      <td>4</td>\n",
       "      <td>NB001</td>\n",
       "      <td>500</td>\n",
       "      <td>NCM</td>\n",
       "      <td>L</td>\n",
       "      <td>-0.000485</td>\n",
       "      <td>0.902408</td>\n",
       "    </tr>\n",
       "    <tr>\n",
       "      <th>5</th>\n",
       "      <td>5</td>\n",
       "      <td>NB001</td>\n",
       "      <td>600</td>\n",
       "      <td>NCM</td>\n",
       "      <td>L</td>\n",
       "      <td>-0.002222</td>\n",
       "      <td>0.905090</td>\n",
       "    </tr>\n",
       "    <tr>\n",
       "      <th>6</th>\n",
       "      <td>6</td>\n",
       "      <td>NB001</td>\n",
       "      <td>700</td>\n",
       "      <td>NCM</td>\n",
       "      <td>L</td>\n",
       "      <td>0.001216</td>\n",
       "      <td>0.964523</td>\n",
       "    </tr>\n",
       "    <tr>\n",
       "      <th>7</th>\n",
       "      <td>7</td>\n",
       "      <td>NB001</td>\n",
       "      <td>800</td>\n",
       "      <td>NCM</td>\n",
       "      <td>L</td>\n",
       "      <td>0.000681</td>\n",
       "      <td>0.986627</td>\n",
       "    </tr>\n",
       "    <tr>\n",
       "      <th>8</th>\n",
       "      <td>8</td>\n",
       "      <td>NB001</td>\n",
       "      <td>900</td>\n",
       "      <td>NCM</td>\n",
       "      <td>L</td>\n",
       "      <td>-0.000638</td>\n",
       "      <td>0.882801</td>\n",
       "    </tr>\n",
       "    <tr>\n",
       "      <th>9</th>\n",
       "      <td>9</td>\n",
       "      <td>NB001</td>\n",
       "      <td>1000</td>\n",
       "      <td>NCM</td>\n",
       "      <td>L</td>\n",
       "      <td>0.001054</td>\n",
       "      <td>0.984707</td>\n",
       "    </tr>\n",
       "    <tr>\n",
       "      <th>10</th>\n",
       "      <td>10</td>\n",
       "      <td>NB001</td>\n",
       "      <td>1100</td>\n",
       "      <td>NCM</td>\n",
       "      <td>L</td>\n",
       "      <td>0.001921</td>\n",
       "      <td>0.983479</td>\n",
       "    </tr>\n",
       "    <tr>\n",
       "      <th>11</th>\n",
       "      <td>11</td>\n",
       "      <td>NB001</td>\n",
       "      <td>1300</td>\n",
       "      <td>L1</td>\n",
       "      <td>L</td>\n",
       "      <td>-0.000567</td>\n",
       "      <td>0.979626</td>\n",
       "    </tr>\n",
       "    <tr>\n",
       "      <th>12</th>\n",
       "      <td>12</td>\n",
       "      <td>NB001</td>\n",
       "      <td>1400</td>\n",
       "      <td>NCM</td>\n",
       "      <td>L</td>\n",
       "      <td>-0.002979</td>\n",
       "      <td>0.900225</td>\n",
       "    </tr>\n",
       "    <tr>\n",
       "      <th>13</th>\n",
       "      <td>13</td>\n",
       "      <td>NB001</td>\n",
       "      <td>1500</td>\n",
       "      <td>NCM</td>\n",
       "      <td>L</td>\n",
       "      <td>-0.000867</td>\n",
       "      <td>0.954677</td>\n",
       "    </tr>\n",
       "    <tr>\n",
       "      <th>14</th>\n",
       "      <td>14</td>\n",
       "      <td>NB001</td>\n",
       "      <td>1800</td>\n",
       "      <td>NCM</td>\n",
       "      <td>R</td>\n",
       "      <td>-0.000300</td>\n",
       "      <td>0.306908</td>\n",
       "    </tr>\n",
       "    <tr>\n",
       "      <th>15</th>\n",
       "      <td>15</td>\n",
       "      <td>NB001</td>\n",
       "      <td>1900</td>\n",
       "      <td>NCM</td>\n",
       "      <td>R</td>\n",
       "      <td>-0.000579</td>\n",
       "      <td>0.843726</td>\n",
       "    </tr>\n",
       "    <tr>\n",
       "      <th>16</th>\n",
       "      <td>16</td>\n",
       "      <td>NB001</td>\n",
       "      <td>2000</td>\n",
       "      <td>NCM</td>\n",
       "      <td>R</td>\n",
       "      <td>-0.001517</td>\n",
       "      <td>0.671832</td>\n",
       "    </tr>\n",
       "    <tr>\n",
       "      <th>17</th>\n",
       "      <td>17</td>\n",
       "      <td>NB001</td>\n",
       "      <td>2100</td>\n",
       "      <td>NCM</td>\n",
       "      <td>R</td>\n",
       "      <td>-0.001908</td>\n",
       "      <td>0.912973</td>\n",
       "    </tr>\n",
       "    <tr>\n",
       "      <th>18</th>\n",
       "      <td>18</td>\n",
       "      <td>NB001</td>\n",
       "      <td>2200</td>\n",
       "      <td>NCM</td>\n",
       "      <td>R</td>\n",
       "      <td>-0.002792</td>\n",
       "      <td>0.928542</td>\n",
       "    </tr>\n",
       "    <tr>\n",
       "      <th>19</th>\n",
       "      <td>19</td>\n",
       "      <td>NB001</td>\n",
       "      <td>2300</td>\n",
       "      <td>NCM</td>\n",
       "      <td>R</td>\n",
       "      <td>-0.001669</td>\n",
       "      <td>0.827899</td>\n",
       "    </tr>\n",
       "    <tr>\n",
       "      <th>20</th>\n",
       "      <td>20</td>\n",
       "      <td>NB001</td>\n",
       "      <td>2400</td>\n",
       "      <td>NCM</td>\n",
       "      <td>R</td>\n",
       "      <td>-0.001344</td>\n",
       "      <td>0.815791</td>\n",
       "    </tr>\n",
       "    <tr>\n",
       "      <th>21</th>\n",
       "      <td>21</td>\n",
       "      <td>NB001</td>\n",
       "      <td>2500</td>\n",
       "      <td>NCM</td>\n",
       "      <td>R</td>\n",
       "      <td>-0.001521</td>\n",
       "      <td>0.971673</td>\n",
       "    </tr>\n",
       "    <tr>\n",
       "      <th>22</th>\n",
       "      <td>22</td>\n",
       "      <td>NB001</td>\n",
       "      <td>2600</td>\n",
       "      <td>NCM</td>\n",
       "      <td>R</td>\n",
       "      <td>-0.005896</td>\n",
       "      <td>0.737311</td>\n",
       "    </tr>\n",
       "    <tr>\n",
       "      <th>23</th>\n",
       "      <td>23</td>\n",
       "      <td>NB001</td>\n",
       "      <td>2700</td>\n",
       "      <td>NCM</td>\n",
       "      <td>R</td>\n",
       "      <td>-0.003758</td>\n",
       "      <td>0.332435</td>\n",
       "    </tr>\n",
       "    <tr>\n",
       "      <th>24</th>\n",
       "      <td>24</td>\n",
       "      <td>NB001</td>\n",
       "      <td>2800</td>\n",
       "      <td>NCM</td>\n",
       "      <td>R</td>\n",
       "      <td>0.000610</td>\n",
       "      <td>0.783545</td>\n",
       "    </tr>\n",
       "    <tr>\n",
       "      <th>25</th>\n",
       "      <td>25</td>\n",
       "      <td>NB001</td>\n",
       "      <td>2900</td>\n",
       "      <td>L1</td>\n",
       "      <td>R</td>\n",
       "      <td>0.000403</td>\n",
       "      <td>0.986880</td>\n",
       "    </tr>\n",
       "    <tr>\n",
       "      <th>26</th>\n",
       "      <td>26</td>\n",
       "      <td>NB001</td>\n",
       "      <td>3000</td>\n",
       "      <td>NCM</td>\n",
       "      <td>R</td>\n",
       "      <td>-0.003430</td>\n",
       "      <td>0.932582</td>\n",
       "    </tr>\n",
       "    <tr>\n",
       "      <th>27</th>\n",
       "      <td>27</td>\n",
       "      <td>NB001</td>\n",
       "      <td>3100</td>\n",
       "      <td>NCM</td>\n",
       "      <td>R</td>\n",
       "      <td>-0.000707</td>\n",
       "      <td>0.926855</td>\n",
       "    </tr>\n",
       "    <tr>\n",
       "      <th>28</th>\n",
       "      <td>28</td>\n",
       "      <td>NB002</td>\n",
       "      <td>100</td>\n",
       "      <td>NCM</td>\n",
       "      <td>L</td>\n",
       "      <td>-0.003066</td>\n",
       "      <td>0.847422</td>\n",
       "    </tr>\n",
       "    <tr>\n",
       "      <th>29</th>\n",
       "      <td>29</td>\n",
       "      <td>NB002</td>\n",
       "      <td>200</td>\n",
       "      <td>NCM</td>\n",
       "      <td>L</td>\n",
       "      <td>-0.003375</td>\n",
       "      <td>0.725507</td>\n",
       "    </tr>\n",
       "    <tr>\n",
       "      <th>...</th>\n",
       "      <td>...</td>\n",
       "      <td>...</td>\n",
       "      <td>...</td>\n",
       "      <td>...</td>\n",
       "      <td>...</td>\n",
       "      <td>...</td>\n",
       "      <td>...</td>\n",
       "    </tr>\n",
       "    <tr>\n",
       "      <th>139</th>\n",
       "      <td>139</td>\n",
       "      <td>NB006</td>\n",
       "      <td>2600</td>\n",
       "      <td>NCM</td>\n",
       "      <td>R</td>\n",
       "      <td>0.002594</td>\n",
       "      <td>0.984049</td>\n",
       "    </tr>\n",
       "    <tr>\n",
       "      <th>140</th>\n",
       "      <td>140</td>\n",
       "      <td>NB006</td>\n",
       "      <td>2700</td>\n",
       "      <td>NCM</td>\n",
       "      <td>R</td>\n",
       "      <td>-0.001745</td>\n",
       "      <td>0.666088</td>\n",
       "    </tr>\n",
       "    <tr>\n",
       "      <th>141</th>\n",
       "      <td>141</td>\n",
       "      <td>NB006</td>\n",
       "      <td>2800</td>\n",
       "      <td>NCM</td>\n",
       "      <td>R</td>\n",
       "      <td>-0.000519</td>\n",
       "      <td>0.777633</td>\n",
       "    </tr>\n",
       "    <tr>\n",
       "      <th>142</th>\n",
       "      <td>142</td>\n",
       "      <td>NB006</td>\n",
       "      <td>3000</td>\n",
       "      <td>NCM</td>\n",
       "      <td>R</td>\n",
       "      <td>-0.001895</td>\n",
       "      <td>0.707334</td>\n",
       "    </tr>\n",
       "    <tr>\n",
       "      <th>143</th>\n",
       "      <td>143</td>\n",
       "      <td>NB006</td>\n",
       "      <td>3100</td>\n",
       "      <td>NCM</td>\n",
       "      <td>R</td>\n",
       "      <td>-0.001958</td>\n",
       "      <td>0.756594</td>\n",
       "    </tr>\n",
       "    <tr>\n",
       "      <th>144</th>\n",
       "      <td>144</td>\n",
       "      <td>NB007</td>\n",
       "      <td>100</td>\n",
       "      <td>NCM</td>\n",
       "      <td>L</td>\n",
       "      <td>-0.001555</td>\n",
       "      <td>0.382759</td>\n",
       "    </tr>\n",
       "    <tr>\n",
       "      <th>145</th>\n",
       "      <td>145</td>\n",
       "      <td>NB007</td>\n",
       "      <td>200</td>\n",
       "      <td>NCM</td>\n",
       "      <td>L</td>\n",
       "      <td>-0.000534</td>\n",
       "      <td>0.348961</td>\n",
       "    </tr>\n",
       "    <tr>\n",
       "      <th>146</th>\n",
       "      <td>146</td>\n",
       "      <td>NB007</td>\n",
       "      <td>300</td>\n",
       "      <td>NCM</td>\n",
       "      <td>L</td>\n",
       "      <td>-0.001141</td>\n",
       "      <td>0.428086</td>\n",
       "    </tr>\n",
       "    <tr>\n",
       "      <th>147</th>\n",
       "      <td>147</td>\n",
       "      <td>NB007</td>\n",
       "      <td>500</td>\n",
       "      <td>NCM</td>\n",
       "      <td>L</td>\n",
       "      <td>-0.000705</td>\n",
       "      <td>0.463995</td>\n",
       "    </tr>\n",
       "    <tr>\n",
       "      <th>148</th>\n",
       "      <td>148</td>\n",
       "      <td>NB007</td>\n",
       "      <td>600</td>\n",
       "      <td>NCM</td>\n",
       "      <td>L</td>\n",
       "      <td>-0.000183</td>\n",
       "      <td>0.564234</td>\n",
       "    </tr>\n",
       "    <tr>\n",
       "      <th>149</th>\n",
       "      <td>149</td>\n",
       "      <td>NB007</td>\n",
       "      <td>700</td>\n",
       "      <td>NCM</td>\n",
       "      <td>L</td>\n",
       "      <td>-0.001670</td>\n",
       "      <td>0.608735</td>\n",
       "    </tr>\n",
       "    <tr>\n",
       "      <th>150</th>\n",
       "      <td>150</td>\n",
       "      <td>NB007</td>\n",
       "      <td>800</td>\n",
       "      <td>NCM</td>\n",
       "      <td>L</td>\n",
       "      <td>-0.003203</td>\n",
       "      <td>0.613677</td>\n",
       "    </tr>\n",
       "    <tr>\n",
       "      <th>151</th>\n",
       "      <td>151</td>\n",
       "      <td>NB007</td>\n",
       "      <td>900</td>\n",
       "      <td>NCM</td>\n",
       "      <td>L</td>\n",
       "      <td>0.000026</td>\n",
       "      <td>0.532282</td>\n",
       "    </tr>\n",
       "    <tr>\n",
       "      <th>152</th>\n",
       "      <td>152</td>\n",
       "      <td>NB007</td>\n",
       "      <td>1000</td>\n",
       "      <td>NCM</td>\n",
       "      <td>L</td>\n",
       "      <td>-0.003339</td>\n",
       "      <td>0.558084</td>\n",
       "    </tr>\n",
       "    <tr>\n",
       "      <th>153</th>\n",
       "      <td>153</td>\n",
       "      <td>NB007</td>\n",
       "      <td>1100</td>\n",
       "      <td>NCM</td>\n",
       "      <td>L</td>\n",
       "      <td>-0.001712</td>\n",
       "      <td>0.721884</td>\n",
       "    </tr>\n",
       "    <tr>\n",
       "      <th>154</th>\n",
       "      <td>154</td>\n",
       "      <td>NB007</td>\n",
       "      <td>1200</td>\n",
       "      <td>NCM</td>\n",
       "      <td>L</td>\n",
       "      <td>-0.000721</td>\n",
       "      <td>0.609435</td>\n",
       "    </tr>\n",
       "    <tr>\n",
       "      <th>155</th>\n",
       "      <td>155</td>\n",
       "      <td>NB007</td>\n",
       "      <td>1300</td>\n",
       "      <td>NCM</td>\n",
       "      <td>L</td>\n",
       "      <td>0.002233</td>\n",
       "      <td>0.413377</td>\n",
       "    </tr>\n",
       "    <tr>\n",
       "      <th>156</th>\n",
       "      <td>156</td>\n",
       "      <td>NB007</td>\n",
       "      <td>1400</td>\n",
       "      <td>NCM</td>\n",
       "      <td>L</td>\n",
       "      <td>-0.000111</td>\n",
       "      <td>0.516374</td>\n",
       "    </tr>\n",
       "    <tr>\n",
       "      <th>157</th>\n",
       "      <td>157</td>\n",
       "      <td>NB007</td>\n",
       "      <td>1500</td>\n",
       "      <td>NCM</td>\n",
       "      <td>L</td>\n",
       "      <td>-0.000496</td>\n",
       "      <td>0.756682</td>\n",
       "    </tr>\n",
       "    <tr>\n",
       "      <th>158</th>\n",
       "      <td>158</td>\n",
       "      <td>NB007</td>\n",
       "      <td>1800</td>\n",
       "      <td>NCM</td>\n",
       "      <td>R</td>\n",
       "      <td>-0.000001</td>\n",
       "      <td>0.178702</td>\n",
       "    </tr>\n",
       "    <tr>\n",
       "      <th>159</th>\n",
       "      <td>159</td>\n",
       "      <td>NB007</td>\n",
       "      <td>2200</td>\n",
       "      <td>NCM</td>\n",
       "      <td>R</td>\n",
       "      <td>0.000054</td>\n",
       "      <td>0.170615</td>\n",
       "    </tr>\n",
       "    <tr>\n",
       "      <th>160</th>\n",
       "      <td>160</td>\n",
       "      <td>NB007</td>\n",
       "      <td>2600</td>\n",
       "      <td>NCM</td>\n",
       "      <td>R</td>\n",
       "      <td>-0.000418</td>\n",
       "      <td>0.147495</td>\n",
       "    </tr>\n",
       "    <tr>\n",
       "      <th>161</th>\n",
       "      <td>161</td>\n",
       "      <td>NB007</td>\n",
       "      <td>3000</td>\n",
       "      <td>NCM</td>\n",
       "      <td>R</td>\n",
       "      <td>-0.002231</td>\n",
       "      <td>0.437594</td>\n",
       "    </tr>\n",
       "    <tr>\n",
       "      <th>162</th>\n",
       "      <td>162</td>\n",
       "      <td>NB007</td>\n",
       "      <td>3100</td>\n",
       "      <td>NCM</td>\n",
       "      <td>R</td>\n",
       "      <td>-0.000438</td>\n",
       "      <td>0.192196</td>\n",
       "    </tr>\n",
       "    <tr>\n",
       "      <th>163</th>\n",
       "      <td>163</td>\n",
       "      <td>NB008</td>\n",
       "      <td>400</td>\n",
       "      <td>NCM</td>\n",
       "      <td>L</td>\n",
       "      <td>-0.006116</td>\n",
       "      <td>0.463673</td>\n",
       "    </tr>\n",
       "    <tr>\n",
       "      <th>164</th>\n",
       "      <td>164</td>\n",
       "      <td>NB008</td>\n",
       "      <td>700</td>\n",
       "      <td>NCM</td>\n",
       "      <td>L</td>\n",
       "      <td>-0.001752</td>\n",
       "      <td>0.359794</td>\n",
       "    </tr>\n",
       "    <tr>\n",
       "      <th>165</th>\n",
       "      <td>165</td>\n",
       "      <td>NB008</td>\n",
       "      <td>800</td>\n",
       "      <td>NCM</td>\n",
       "      <td>L</td>\n",
       "      <td>-0.003421</td>\n",
       "      <td>0.500374</td>\n",
       "    </tr>\n",
       "    <tr>\n",
       "      <th>166</th>\n",
       "      <td>166</td>\n",
       "      <td>NB008</td>\n",
       "      <td>1200</td>\n",
       "      <td>NCM</td>\n",
       "      <td>L</td>\n",
       "      <td>-0.001331</td>\n",
       "      <td>0.633997</td>\n",
       "    </tr>\n",
       "    <tr>\n",
       "      <th>167</th>\n",
       "      <td>167</td>\n",
       "      <td>NB008</td>\n",
       "      <td>1800</td>\n",
       "      <td>NCM</td>\n",
       "      <td>R</td>\n",
       "      <td>0.002016</td>\n",
       "      <td>0.471695</td>\n",
       "    </tr>\n",
       "    <tr>\n",
       "      <th>168</th>\n",
       "      <td>168</td>\n",
       "      <td>NB008</td>\n",
       "      <td>2600</td>\n",
       "      <td>NCM</td>\n",
       "      <td>R</td>\n",
       "      <td>0.000246</td>\n",
       "      <td>0.565864</td>\n",
       "    </tr>\n",
       "  </tbody>\n",
       "</table>\n",
       "<p>169 rows × 7 columns</p>\n",
       "</div>"
      ],
      "text/plain": [
       "     Unnamed: 0 birdid  electrode region hemisphere  average_adaptation_rate  \\\n",
       "0             0  NB001        100    NCM          L                -0.000532   \n",
       "1             1  NB001        200    NCM          L                -0.000950   \n",
       "2             2  NB001        300    NCM          L                -0.000034   \n",
       "3             3  NB001        400    NCM          L                 0.000955   \n",
       "4             4  NB001        500    NCM          L                -0.000485   \n",
       "5             5  NB001        600    NCM          L                -0.002222   \n",
       "6             6  NB001        700    NCM          L                 0.001216   \n",
       "7             7  NB001        800    NCM          L                 0.000681   \n",
       "8             8  NB001        900    NCM          L                -0.000638   \n",
       "9             9  NB001       1000    NCM          L                 0.001054   \n",
       "10           10  NB001       1100    NCM          L                 0.001921   \n",
       "11           11  NB001       1300     L1          L                -0.000567   \n",
       "12           12  NB001       1400    NCM          L                -0.002979   \n",
       "13           13  NB001       1500    NCM          L                -0.000867   \n",
       "14           14  NB001       1800    NCM          R                -0.000300   \n",
       "15           15  NB001       1900    NCM          R                -0.000579   \n",
       "16           16  NB001       2000    NCM          R                -0.001517   \n",
       "17           17  NB001       2100    NCM          R                -0.001908   \n",
       "18           18  NB001       2200    NCM          R                -0.002792   \n",
       "19           19  NB001       2300    NCM          R                -0.001669   \n",
       "20           20  NB001       2400    NCM          R                -0.001344   \n",
       "21           21  NB001       2500    NCM          R                -0.001521   \n",
       "22           22  NB001       2600    NCM          R                -0.005896   \n",
       "23           23  NB001       2700    NCM          R                -0.003758   \n",
       "24           24  NB001       2800    NCM          R                 0.000610   \n",
       "25           25  NB001       2900     L1          R                 0.000403   \n",
       "26           26  NB001       3000    NCM          R                -0.003430   \n",
       "27           27  NB001       3100    NCM          R                -0.000707   \n",
       "28           28  NB002        100    NCM          L                -0.003066   \n",
       "29           29  NB002        200    NCM          L                -0.003375   \n",
       "..          ...    ...        ...    ...        ...                      ...   \n",
       "139         139  NB006       2600    NCM          R                 0.002594   \n",
       "140         140  NB006       2700    NCM          R                -0.001745   \n",
       "141         141  NB006       2800    NCM          R                -0.000519   \n",
       "142         142  NB006       3000    NCM          R                -0.001895   \n",
       "143         143  NB006       3100    NCM          R                -0.001958   \n",
       "144         144  NB007        100    NCM          L                -0.001555   \n",
       "145         145  NB007        200    NCM          L                -0.000534   \n",
       "146         146  NB007        300    NCM          L                -0.001141   \n",
       "147         147  NB007        500    NCM          L                -0.000705   \n",
       "148         148  NB007        600    NCM          L                -0.000183   \n",
       "149         149  NB007        700    NCM          L                -0.001670   \n",
       "150         150  NB007        800    NCM          L                -0.003203   \n",
       "151         151  NB007        900    NCM          L                 0.000026   \n",
       "152         152  NB007       1000    NCM          L                -0.003339   \n",
       "153         153  NB007       1100    NCM          L                -0.001712   \n",
       "154         154  NB007       1200    NCM          L                -0.000721   \n",
       "155         155  NB007       1300    NCM          L                 0.002233   \n",
       "156         156  NB007       1400    NCM          L                -0.000111   \n",
       "157         157  NB007       1500    NCM          L                -0.000496   \n",
       "158         158  NB007       1800    NCM          R                -0.000001   \n",
       "159         159  NB007       2200    NCM          R                 0.000054   \n",
       "160         160  NB007       2600    NCM          R                -0.000418   \n",
       "161         161  NB007       3000    NCM          R                -0.002231   \n",
       "162         162  NB007       3100    NCM          R                -0.000438   \n",
       "163         163  NB008        400    NCM          L                -0.006116   \n",
       "164         164  NB008        700    NCM          L                -0.001752   \n",
       "165         165  NB008        800    NCM          L                -0.003421   \n",
       "166         166  NB008       1200    NCM          L                -0.001331   \n",
       "167         167  NB008       1800    NCM          R                 0.002016   \n",
       "168         168  NB008       2600    NCM          R                 0.000246   \n",
       "\n",
       "     average_decoding_accuracy  \n",
       "0                     0.953238  \n",
       "1                     0.960240  \n",
       "2                     0.955796  \n",
       "3                     0.967805  \n",
       "4                     0.902408  \n",
       "5                     0.905090  \n",
       "6                     0.964523  \n",
       "7                     0.986627  \n",
       "8                     0.882801  \n",
       "9                     0.984707  \n",
       "10                    0.983479  \n",
       "11                    0.979626  \n",
       "12                    0.900225  \n",
       "13                    0.954677  \n",
       "14                    0.306908  \n",
       "15                    0.843726  \n",
       "16                    0.671832  \n",
       "17                    0.912973  \n",
       "18                    0.928542  \n",
       "19                    0.827899  \n",
       "20                    0.815791  \n",
       "21                    0.971673  \n",
       "22                    0.737311  \n",
       "23                    0.332435  \n",
       "24                    0.783545  \n",
       "25                    0.986880  \n",
       "26                    0.932582  \n",
       "27                    0.926855  \n",
       "28                    0.847422  \n",
       "29                    0.725507  \n",
       "..                         ...  \n",
       "139                   0.984049  \n",
       "140                   0.666088  \n",
       "141                   0.777633  \n",
       "142                   0.707334  \n",
       "143                   0.756594  \n",
       "144                   0.382759  \n",
       "145                   0.348961  \n",
       "146                   0.428086  \n",
       "147                   0.463995  \n",
       "148                   0.564234  \n",
       "149                   0.608735  \n",
       "150                   0.613677  \n",
       "151                   0.532282  \n",
       "152                   0.558084  \n",
       "153                   0.721884  \n",
       "154                   0.609435  \n",
       "155                   0.413377  \n",
       "156                   0.516374  \n",
       "157                   0.756682  \n",
       "158                   0.178702  \n",
       "159                   0.170615  \n",
       "160                   0.147495  \n",
       "161                   0.437594  \n",
       "162                   0.192196  \n",
       "163                   0.463673  \n",
       "164                   0.359794  \n",
       "165                   0.500374  \n",
       "166                   0.633997  \n",
       "167                   0.471695  \n",
       "168                   0.565864  \n",
       "\n",
       "[169 rows x 7 columns]"
      ]
     },
     "execution_count": 134,
     "metadata": {},
     "output_type": "execute_result"
    }
   ],
   "source": [
    "batch250"
   ]
  },
  {
   "cell_type": "code",
   "execution_count": 136,
   "metadata": {},
   "outputs": [
    {
     "data": {
      "text/html": [
       "<div>\n",
       "<style>\n",
       "    .dataframe thead tr:only-child th {\n",
       "        text-align: right;\n",
       "    }\n",
       "\n",
       "    .dataframe thead th {\n",
       "        text-align: left;\n",
       "    }\n",
       "\n",
       "    .dataframe tbody tr th {\n",
       "        vertical-align: top;\n",
       "    }\n",
       "</style>\n",
       "<table border=\"1\" class=\"dataframe\">\n",
       "  <thead>\n",
       "    <tr style=\"text-align: right;\">\n",
       "      <th></th>\n",
       "      <th>df</th>\n",
       "      <th>sum_sq</th>\n",
       "      <th>mean_sq</th>\n",
       "      <th>F</th>\n",
       "      <th>PR(&gt;F)</th>\n",
       "    </tr>\n",
       "  </thead>\n",
       "  <tbody>\n",
       "    <tr>\n",
       "      <th>C(hemisphere)</th>\n",
       "      <td>1.0</td>\n",
       "      <td>0.006428</td>\n",
       "      <td>0.006428</td>\n",
       "      <td>0.110463</td>\n",
       "      <td>0.740040</td>\n",
       "    </tr>\n",
       "    <tr>\n",
       "      <th>average_adaptation_rate</th>\n",
       "      <td>1.0</td>\n",
       "      <td>0.000889</td>\n",
       "      <td>0.000889</td>\n",
       "      <td>0.015278</td>\n",
       "      <td>0.901779</td>\n",
       "    </tr>\n",
       "    <tr>\n",
       "      <th>C(hemisphere):average_adaptation_rate</th>\n",
       "      <td>1.0</td>\n",
       "      <td>0.152046</td>\n",
       "      <td>0.152046</td>\n",
       "      <td>2.613021</td>\n",
       "      <td>0.107900</td>\n",
       "    </tr>\n",
       "    <tr>\n",
       "      <th>Residual</th>\n",
       "      <td>165.0</td>\n",
       "      <td>9.600967</td>\n",
       "      <td>0.058188</td>\n",
       "      <td>NaN</td>\n",
       "      <td>NaN</td>\n",
       "    </tr>\n",
       "  </tbody>\n",
       "</table>\n",
       "</div>"
      ],
      "text/plain": [
       "                                          df    sum_sq   mean_sq         F  \\\n",
       "C(hemisphere)                            1.0  0.006428  0.006428  0.110463   \n",
       "average_adaptation_rate                  1.0  0.000889  0.000889  0.015278   \n",
       "C(hemisphere):average_adaptation_rate    1.0  0.152046  0.152046  2.613021   \n",
       "Residual                               165.0  9.600967  0.058188       NaN   \n",
       "\n",
       "                                         PR(>F)  \n",
       "C(hemisphere)                          0.740040  \n",
       "average_adaptation_rate                0.901779  \n",
       "C(hemisphere):average_adaptation_rate  0.107900  \n",
       "Residual                                    NaN  "
      ]
     },
     "execution_count": 136,
     "metadata": {},
     "output_type": "execute_result"
    }
   ],
   "source": [
    "formula = 'average_decoding_accuracy ~ average_adaptation_rate + C(hemisphere) + C(hemisphere):average_adaptation_rate'\n",
    "model = ols(formula, batch250).fit()\n",
    "aov_table = sm.stats.anova_lm(model)\n",
    "aov_table"
   ]
  },
  {
   "cell_type": "code",
   "execution_count": 137,
   "metadata": {},
   "outputs": [
    {
     "data": {
      "text/html": [
       "<div>\n",
       "<style>\n",
       "    .dataframe thead tr:only-child th {\n",
       "        text-align: right;\n",
       "    }\n",
       "\n",
       "    .dataframe thead th {\n",
       "        text-align: left;\n",
       "    }\n",
       "\n",
       "    .dataframe tbody tr th {\n",
       "        vertical-align: top;\n",
       "    }\n",
       "</style>\n",
       "<table border=\"1\" class=\"dataframe\">\n",
       "  <thead>\n",
       "    <tr style=\"text-align: right;\">\n",
       "      <th></th>\n",
       "      <th>df</th>\n",
       "      <th>sum_sq</th>\n",
       "      <th>mean_sq</th>\n",
       "      <th>F</th>\n",
       "      <th>PR(&gt;F)</th>\n",
       "    </tr>\n",
       "  </thead>\n",
       "  <tbody>\n",
       "    <tr>\n",
       "      <th>C(region)</th>\n",
       "      <td>2.0</td>\n",
       "      <td>0.325719</td>\n",
       "      <td>0.162860</td>\n",
       "      <td>2.823183</td>\n",
       "      <td>0.062325</td>\n",
       "    </tr>\n",
       "    <tr>\n",
       "      <th>C(hemisphere)</th>\n",
       "      <td>1.0</td>\n",
       "      <td>0.020962</td>\n",
       "      <td>0.020962</td>\n",
       "      <td>0.363381</td>\n",
       "      <td>0.547472</td>\n",
       "    </tr>\n",
       "    <tr>\n",
       "      <th>C(hemisphere):C(region)</th>\n",
       "      <td>2.0</td>\n",
       "      <td>0.010740</td>\n",
       "      <td>0.005370</td>\n",
       "      <td>0.093086</td>\n",
       "      <td>0.911163</td>\n",
       "    </tr>\n",
       "    <tr>\n",
       "      <th>Residual</th>\n",
       "      <td>163.0</td>\n",
       "      <td>9.402908</td>\n",
       "      <td>0.057687</td>\n",
       "      <td>NaN</td>\n",
       "      <td>NaN</td>\n",
       "    </tr>\n",
       "  </tbody>\n",
       "</table>\n",
       "</div>"
      ],
      "text/plain": [
       "                            df    sum_sq   mean_sq         F    PR(>F)\n",
       "C(region)                  2.0  0.325719  0.162860  2.823183  0.062325\n",
       "C(hemisphere)              1.0  0.020962  0.020962  0.363381  0.547472\n",
       "C(hemisphere):C(region)    2.0  0.010740  0.005370  0.093086  0.911163\n",
       "Residual                 163.0  9.402908  0.057687       NaN       NaN"
      ]
     },
     "execution_count": 137,
     "metadata": {},
     "output_type": "execute_result"
    }
   ],
   "source": [
    "formula = 'average_decoding_accuracy ~ C(region) + C(hemisphere) + C(hemisphere):C(region)'\n",
    "model = ols(formula, batch250).fit()\n",
    "aov_table = sm.stats.anova_lm(model)\n",
    "aov_table"
   ]
  },
  {
   "cell_type": "code",
   "execution_count": 142,
   "metadata": {
    "collapsed": true
   },
   "outputs": [],
   "source": [
    "ncm = batch250[(batch250[\"region\"] == 'NCM')]\n",
    "fieldl = batch250[(batch250[\"region\"] != 'NCM')]"
   ]
  },
  {
   "cell_type": "code",
   "execution_count": 143,
   "metadata": {},
   "outputs": [
    {
     "data": {
      "text/plain": [
       "Ttest_indResult(statistic=-2.3713423855219506, pvalue=0.018862963428671824)"
      ]
     },
     "execution_count": 143,
     "metadata": {},
     "output_type": "execute_result"
    }
   ],
   "source": [
    "sst.ttest_ind(ncm.average_decoding_accuracy, fieldl.average_decoding_accuracy)"
   ]
  },
  {
   "cell_type": "code",
   "execution_count": 144,
   "metadata": {},
   "outputs": [
    {
     "data": {
      "text/plain": [
       "Ttest_indResult(statistic=-2.1581399853856285, pvalue=0.032345318827245423)"
      ]
     },
     "execution_count": 144,
     "metadata": {},
     "output_type": "execute_result"
    }
   ],
   "source": [
    "sst.ttest_ind(ncm.average_adaptation_rate, fieldl.average_adaptation_rate)"
   ]
  },
  {
   "cell_type": "code",
   "execution_count": 139,
   "metadata": {},
   "outputs": [
    {
     "data": {
      "image/png": "[encoded data removed]",
      "text/plain": [
       "<matplotlib.figure.Figure at 0x11dcb208>"
      ]
     },
     "metadata": {},
     "output_type": "display_data"
    }
   ],
   "source": [
    "sns.swarmplot(x=\"region\", y = \"average_decoding_accuracy\", data = batch250)\n",
    "plt.show()"
   ]
  },
  {
   "cell_type": "code",
   "execution_count": 152,
   "metadata": {},
   "outputs": [
    {
     "data": {
      "image/png": "[encoded data removed]",
      "text/plain": [
       "<matplotlib.figure.Figure at 0x1529d9e8>"
      ]
     },
     "metadata": {},
     "output_type": "display_data"
    }
   ],
   "source": [
    "sns.lmplot(x = \"average_adaptation_rate\", y = \"average_decoding_accuracy\", data = batch250)\n",
    "plt.xlim(-0.0075, .005)\n",
    "plt.show()"
   ]
  },
  {
   "cell_type": "code",
   "execution_count": null,
   "metadata": {
    "collapsed": true
   },
   "outputs": [],
   "source": []
  },
  {
   "cell_type": "code",
   "execution_count": null,
   "metadata": {
    "collapsed": true
   },
   "outputs": [],
   "source": [
    "formula = 'average_decoding_accuracy ~ average_adaptation_rate + C(hemisphere) + average_adaptation_rate:C(hemisphere)'\n",
    "model = ols(formula, summary_df).fit()\n",
    "aov_table = sm.stats.anova_lm(model)\n",
    "aov_table"
   ]
  },
  {
   "cell_type": "code",
   "execution_count": null,
   "metadata": {
    "collapsed": true
   },
   "outputs": [],
   "source": [
    "sns.set(font_scale=1.1)\n",
    "g = sns.lmplot(x=\"average_adaptation_rate\", y=\"average_decoding_accuracy\", hue=\"hemisphere\",\n",
    "               truncate=True, data=summary_df3)\n",
    "plt.xlim(-.007,0.0035)\n",
    "plt.show()"
   ]
  },
  {
   "cell_type": "code",
   "execution_count": null,
   "metadata": {
    "collapsed": true
   },
   "outputs": [],
   "source": [
    "sns.set(font_scale=1.1)\n",
    "g = sns.lmplot(x=\"average_adaptation_rate\", y=\"average_decoding_accuracy\", hue=\"hemisphere\",\n",
    "               truncate=True, data=summary_df2)\n",
    "plt.xlim(-.007,0.0035)\n",
    "plt.show()"
   ]
  },
  {
   "cell_type": "code",
   "execution_count": null,
   "metadata": {
    "collapsed": true
   },
   "outputs": [],
   "source": [
    "sns.set(font_scale=2)\n",
    "sns.swarmplot(x=\"hemisphere\", y=\"average_decoding_accuracy\", size = 14, data = summary_df3)\n",
    "plt.show()"
   ]
  },
  {
   "cell_type": "code",
   "execution_count": null,
   "metadata": {
    "collapsed": true
   },
   "outputs": [],
   "source": [
    "len(summary_df3)"
   ]
  },
  {
   "cell_type": "code",
   "execution_count": null,
   "metadata": {
    "collapsed": true
   },
   "outputs": [],
   "source": [
    "block2 = np.flip(block,0)"
   ]
  },
  {
   "cell_type": "code",
   "execution_count": null,
   "metadata": {
    "collapsed": true
   },
   "outputs": [],
   "source": [
    "np.flip([1,2,3], axis=0)"
   ]
  },
  {
   "cell_type": "code",
   "execution_count": null,
   "metadata": {
    "collapsed": true,
    "scrolled": true
   },
   "outputs": [],
   "source": [
    "sns.set(font_scale=2)\n",
    "compare_all_barplot(data2[0], xlabels = (\"Left, Right\"), clabels = [\"Fast\", \"Slow\"])"
   ]
  },
  {
   "cell_type": "code",
   "execution_count": null,
   "metadata": {
    "collapsed": true
   },
   "outputs": [],
   "source": [
    "sns.set(font_scale=3)\n",
    "compare_two_avg_trial(np.mean(data[0][0], axis=1),np.mean(data[0][2], axis=1), labels =['fast', 'slow'], title= 'left')"
   ]
  },
  {
   "cell_type": "code",
   "execution_count": null,
   "metadata": {
    "collapsed": true
   },
   "outputs": [],
   "source": [
    "sns.set(font_scale=3)\n",
    "compare_two_avg_trial(np.mean(data[0][1], axis=1),np.mean(data[0][3], axis=1), labels =['fast', 'slow'], title='right')"
   ]
  },
  {
   "cell_type": "code",
   "execution_count": null,
   "metadata": {
    "collapsed": true
   },
   "outputs": [],
   "source": [
    "data"
   ]
  },
  {
   "cell_type": "code",
   "execution_count": null,
   "metadata": {
    "collapsed": true
   },
   "outputs": [],
   "source": [
    "aov_table"
   ]
  },
  {
   "cell_type": "code",
   "execution_count": null,
   "metadata": {
    "collapsed": true
   },
   "outputs": [],
   "source": [
    "final_df.to_csv(\"bird_ele_class.csv\")"
   ]
  },
  {
   "cell_type": "code",
   "execution_count": null,
   "metadata": {
    "collapsed": true,
    "scrolled": true
   },
   "outputs": [],
   "source": [
    "aov_table.to_csv(\"continuous_ar_two_factor_anova.csv\")"
   ]
  },
  {
   "cell_type": "code",
   "execution_count": null,
   "metadata": {
    "collapsed": true
   },
   "outputs": [],
   "source": [
    "summary_df.to_csv(\"decoding_accuracy_data_summary.csv\")"
   ]
  },
  {
   "cell_type": "markdown",
   "metadata": {},
   "source": [
    "\tdf\tsum_sq\tmean_sq\tF\tPR(>F)\n",
    "C(adaptation)\t1.0\t2.190085\t2.190085\t3961.620271\t8.595440e-113\n",
    "C(hemisphere)\t1.0\t0.020581\t0.020581\t37.229534\t7.969169e-09\n",
    "C(adaptation):C(hemisphere)\t1.0\t0.923438\t0.923438\t1670.396814\t3.041661e-85\n",
    "Residual\t156.0\t0.086241\t0.000553\tNaN\tNaN"
   ]
  },
  {
   "cell_type": "code",
   "execution_count": null,
   "metadata": {
    "collapsed": true
   },
   "outputs": [],
   "source": [
    "final = []\n",
    "for num, exp in enumerate(pls):\n",
    "    avg = np.mean(exp, axis=1)\n",
    "    y=0\n",
    "    if num == 0:\n",
    "        for ele in avg:\n",
    "            final.append([birdids[num][y], ele, \"fast\", \"left\", sst.sem(ars[x][y])])\n",
    "            y+=1\n",
    "    if num == 1:\n",
    "        for ele in avg:\n",
    "            final.append([birdids[num][y], ele, \"fast\", \"right\", sst.sem(ars[x][y])])\n",
    "            y+=1\n",
    "    if num == 2:\n",
    "        for ele in avg:\n",
    "            final.append([birdids[num][y], ele, \"slow\", \"left\", sst.sem(ars[x][y])])\n",
    "            y+=1\n",
    "    if num == 3:\n",
    "        for ele in avg:\n",
    "            final.append([birdids[num][y], ele, \"slow\", \"right\", sst.sem(ars[x][y])])\n",
    "            y+=1"
   ]
  },
  {
   "cell_type": "code",
   "execution_count": null,
   "metadata": {
    "collapsed": true
   },
   "outputs": [],
   "source": [
    "xl = pd.read_csv(\"C:\\Users\\SpikeSorting\\Documents\\David_Natanov\\david_python_scripts\\\\blocked_adaptation_rate.csv\")\n",
    "res = get_responding_xl (xl)\n",
    "w = categorize_fast_slow(xl)"
   ]
  },
  {
   "cell_type": "code",
   "execution_count": null,
   "metadata": {
    "collapsed": true
   },
   "outputs": [],
   "source": [
    "bec = pd.read_csv(\"C:\\Users\\SpikeSorting\\Documents\\David_Natanov\\david_python_scripts\\master_electrodes.csv\")"
   ]
  },
  {
   "cell_type": "code",
   "execution_count": null,
   "metadata": {
    "collapsed": true
   },
   "outputs": [],
   "source": [
    "raw_blocked = mdl.load_NpzData2SpikeData(\"blocked.npz\", convert_birdid= False)\n",
    "split_blocked = separate_npz_data(raw_blocked)"
   ]
  },
  {
   "cell_type": "code",
   "execution_count": 54,
   "metadata": {
    "collapsed": true
   },
   "outputs": [],
   "source": [
    "block = separate_npz_data(raw_blocked)"
   ]
  },
  {
   "cell_type": "markdown",
   "metadata": {},
   "source": [
    "1.) With passive exposure to variants of the same song, neural responses to different variants in NCM become more similar to each other, losing the ability to discriminate between those variants, and instead forming a variant-independent representation of the song."
   ]
  },
  {
   "cell_type": "code",
   "execution_count": null,
   "metadata": {
    "collapsed": true
   },
   "outputs": [],
   "source": [
    "shuffled = np.asarray(shuffled)"
   ]
  },
  {
   "cell_type": "code",
   "execution_count": null,
   "metadata": {
    "collapsed": true
   },
   "outputs": [],
   "source": []
  },
  {
   "cell_type": "code",
   "execution_count": null,
   "metadata": {
    "collapsed": true
   },
   "outputs": [],
   "source": [
    "b = np.array([np.array(bi) for bi in blocked])\n",
    "block = np.append(b[0], b[1], axis=0)\n",
    "avg_block = np.mean(block, axis=1)"
   ]
  },
  {
   "cell_type": "code",
   "execution_count": null,
   "metadata": {
    "collapsed": true,
    "scrolled": true
   },
   "outputs": [],
   "source": [
    "plot_avg_trial(avg_shuf, title= \"Average Trials of Electrodes in the Shuffled Condition\")\n",
    "# Shuffled Condition\n",
    "\n",
    "plot_avg_trial(avg_block, title= \"Average Trials of Electrodes in the Blocked Condition\")\n",
    "#Blocked Condition"
   ]
  },
  {
   "cell_type": "code",
   "execution_count": null,
   "metadata": {
    "collapsed": true,
    "scrolled": false
   },
   "outputs": [],
   "source": [
    "compare_two_avg_trial(avg_shuf, avg_block, labels = ('Shuffled', 'Blocked'), title = 'Average Trials of Electrodes\\n in the Blocked and Shuffled Conditions')"
   ]
  },
  {
   "cell_type": "code",
   "execution_count": null,
   "metadata": {
    "collapsed": true
   },
   "outputs": [],
   "source": [
    "avg_shuf.shape"
   ]
  },
  {
   "cell_type": "code",
   "execution_count": null,
   "metadata": {
    "collapsed": true
   },
   "outputs": [],
   "source": [
    "plot_all_stim(avg_shuf)"
   ]
  },
  {
   "cell_type": "code",
   "execution_count": null,
   "metadata": {
    "collapsed": true
   },
   "outputs": [],
   "source": [
    "slope1, intercept1, r_value1, p_value1, std_err1 = sst.linregress(np.mean(avg_shuf, axis=0),range(0,np.mean(avg_shuf, axis=0).shape[0]))\n"
   ]
  },
  {
   "cell_type": "code",
   "execution_count": null,
   "metadata": {
    "collapsed": true
   },
   "outputs": [],
   "source": [
    "slope2, intercept2, r_value2, p_value2, std_err2 = sst.linregress(np.mean(avg_block, axis=0),range(0,np.mean(avg_block, axis=0).shape[0]))"
   ]
  },
  {
   "cell_type": "code",
   "execution_count": null,
   "metadata": {
    "collapsed": true
   },
   "outputs": [],
   "source": [
    "r_value1**2"
   ]
  },
  {
   "cell_type": "code",
   "execution_count": null,
   "metadata": {
    "collapsed": true
   },
   "outputs": [],
   "source": [
    "r_value2**2"
   ]
  },
  {
   "cell_type": "code",
   "execution_count": null,
   "metadata": {
    "collapsed": true
   },
   "outputs": [],
   "source": [
    "sst.ttest_rel(np.mean(avg_shuf, axis=1), np.mean(avg_block, axis=1))"
   ]
  },
  {
   "cell_type": "code",
   "execution_count": null,
   "metadata": {
    "collapsed": true
   },
   "outputs": [],
   "source": [
    "np.mean(avg_shuf, axis=1).shape"
   ]
  },
  {
   "cell_type": "code",
   "execution_count": null,
   "metadata": {
    "collapsed": true
   },
   "outputs": [],
   "source": [
    "# calculate avg in blocked vs shuffled\n",
    "# see if they are significantly different"
   ]
  },
  {
   "cell_type": "markdown",
   "metadata": {},
   "source": [
    "2.) This loss of discrimination is uniquely found in fast-adapting neurons in NCM but not other lower auditory processing regions (e.g., field L2) that do not show adaptation."
   ]
  },
  {
   "cell_type": "code",
   "execution_count": null,
   "metadata": {
    "collapsed": true
   },
   "outputs": [],
   "source": [
    "fs_shuffled = fast_slow_decoding_acc(split_shuffled[1:], w)"
   ]
  },
  {
   "cell_type": "code",
   "execution_count": null,
   "metadata": {
    "collapsed": true
   },
   "outputs": [],
   "source": [
    "fs_blocked = fast_slow_decoding_acc(split_blocked[1:], w)"
   ]
  },
  {
   "cell_type": "code",
   "execution_count": null,
   "metadata": {
    "collapsed": true
   },
   "outputs": [],
   "source": [
    "1+1"
   ]
  },
  {
   "cell_type": "code",
   "execution_count": null,
   "metadata": {
    "collapsed": true
   },
   "outputs": [],
   "source": [
    "fb = np.array([np.array(bi) for bi in fs_shuffled])\n",
    "fblock = np.append(fb[0], fb[1], axis=0)\n",
    "avg_fshuf = np.mean(fb[0], axis=1)\n",
    "avg_sshuf = np.mean(fb[1], axis=1)"
   ]
  },
  {
   "cell_type": "code",
   "execution_count": null,
   "metadata": {
    "collapsed": true
   },
   "outputs": [],
   "source": [
    "plot_avg_trial(avg_fshuf, title= \"Average Trials of Fast Adapting Electrodes in the Shuffled Condition\")\n",
    "plot_avg_trial(avg_sshuf, title= \"Average Trials of Slow Adapting Electrodes in the Blocked Condition\")\n",
    "#paired sample t on shuffled and blocked f vs s"
   ]
  },
  {
   "cell_type": "code",
   "execution_count": null,
   "metadata": {
    "collapsed": true
   },
   "outputs": [],
   "source": [
    "compare_two_avg_trial(avg_fshuf, avg_fblock, labels = ('Fast Adapting Shuffled', 'Fast Adapting Blocked'), title = \"Average Trials of Fast Adapting Electrodes\\n in the Blocked and Shuffled Conditions\")"
   ]
  },
  {
   "cell_type": "code",
   "execution_count": null,
   "metadata": {
    "collapsed": true
   },
   "outputs": [],
   "source": [
    "compare_two_avg_trial(avg_sshuf, avg_sblock, labels = ('Slow Adapting Shuffled', 'Slow Adapting Blocked'), title = 'Average Trials of Slow Adapting Electrodes\\n in the Blocked and Shuffled Conditions')"
   ]
  },
  {
   "cell_type": "code",
   "execution_count": null,
   "metadata": {
    "collapsed": true
   },
   "outputs": [],
   "source": [
    "compare_two_avg_trial(avg_fshuf, avg_sshuf, labels = ('Fast Adapting Shuffled', 'Slow Adapting Shuffled'))"
   ]
  },
  {
   "cell_type": "code",
   "execution_count": null,
   "metadata": {
    "collapsed": true
   },
   "outputs": [],
   "source": [
    "compare_two_avg_trial(avg_fblock, avg_sblock, labels = ('Fast Adapting Blocked', 'Slow Adapting Blocked'), loc=5, title = 'Average Trials of Fast and Slow Adapting Electrodes\\n in the Blocked Condition')"
   ]
  },
  {
   "cell_type": "code",
   "execution_count": null,
   "metadata": {
    "collapsed": true
   },
   "outputs": [],
   "source": [
    "# conclusions\n",
    "bfr"
   ]
  },
  {
   "cell_type": "code",
   "execution_count": null,
   "metadata": {
    "collapsed": true
   },
   "outputs": [],
   "source": [
    "sst.ttest_ind(np.mean(avg_fblock, axis=1), np.mean(avg_sblock, axis=1))"
   ]
  },
  {
   "cell_type": "code",
   "execution_count": null,
   "metadata": {
    "collapsed": true
   },
   "outputs": [],
   "source": [
    "sst.ttest_ind(np.mean(bfl, axis=1), np.mean(bsl, axis=1))"
   ]
  },
  {
   "cell_type": "code",
   "execution_count": null,
   "metadata": {
    "collapsed": true
   },
   "outputs": [],
   "source": [
    "sst.ttest_ind(np.mean(bfr, axis=1), np.mean(bsr, axis=1))"
   ]
  },
  {
   "cell_type": "code",
   "execution_count": null,
   "metadata": {
    "collapsed": true
   },
   "outputs": [],
   "source": [
    "np.mean(avg_fblock, axis=0).shape"
   ]
  },
  {
   "cell_type": "code",
   "execution_count": null,
   "metadata": {
    "collapsed": true
   },
   "outputs": [],
   "source": [
    "np.mean(avg_fblock, axis=1).shape"
   ]
  },
  {
   "cell_type": "code",
   "execution_count": null,
   "metadata": {
    "collapsed": true
   },
   "outputs": [],
   "source": [
    "sst.ttest_rel(t,y)"
   ]
  },
  {
   "cell_type": "code",
   "execution_count": null,
   "metadata": {
    "collapsed": true
   },
   "outputs": [],
   "source": [
    "np.mean(avg_fshuf, axis=1)"
   ]
  },
  {
   "cell_type": "code",
   "execution_count": null,
   "metadata": {
    "collapsed": true
   },
   "outputs": [],
   "source": [
    "sst.ttest_ind(np.mean(avg_fshuf, axis=1), np.mean(avg_sshuf, axis=1))\n",
    "#sst.ttest_ind(np.mean(avg_sshuf, axis=1), np.mean(avg_sblock, axis=1))"
   ]
  },
  {
   "cell_type": "code",
   "execution_count": null,
   "metadata": {
    "collapsed": true
   },
   "outputs": [],
   "source": [
    "t=np.mean(avg_fshuf, axis=0)\n",
    "y=np.mean(avg_sshuf, axis=0)"
   ]
  },
  {
   "cell_type": "code",
   "execution_count": null,
   "metadata": {
    "collapsed": true
   },
   "outputs": [],
   "source": [
    "fb = np.array([np.array(bi) for bi in fs_blocked])\n",
    "avg_fblock = np.mean(fb[0], axis=1)\n",
    "avg_sblock = np.mean(fb[1], axis=1)"
   ]
  },
  {
   "cell_type": "code",
   "execution_count": null,
   "metadata": {
    "collapsed": true
   },
   "outputs": [],
   "source": [
    "plot_avg_trial(avg_fblock,title= \"Average Trials of Fast Adapting Electrodes in the Blocked Condition\")\n",
    "plot_avg_trial(avg_sblock, title= \"Average Trials of Slow Adapting Electrodes in the Blocked Condition\")"
   ]
  },
  {
   "cell_type": "code",
   "execution_count": null,
   "metadata": {
    "collapsed": true
   },
   "outputs": [],
   "source": []
  },
  {
   "cell_type": "markdown",
   "metadata": {},
   "source": [
    "3.) Birds that have a greater degree of hemispheric lateralization form variant-independent sound representation more quickly."
   ]
  },
  {
   "cell_type": "code",
   "execution_count": null,
   "metadata": {
    "collapsed": true
   },
   "outputs": [],
   "source": [
    "lr_shuf = np.array([np.array(bi) for bi in shuffled])\n",
    "avg_lshuf = np.mean(lr_shuf[0], axis=1)\n",
    "avg_rshuf = np.mean(lr_shuf[1], axis=1)"
   ]
  },
  {
   "cell_type": "code",
   "execution_count": null,
   "metadata": {
    "collapsed": true
   },
   "outputs": [],
   "source": [
    "lr_block = np.array([np.array(bi) for bi in blocked])\n",
    "avg_lblock = np.mean(lr_block[0], axis=1)\n",
    "avg_rblock = np.mean(lr_block[1], axis=1)"
   ]
  },
  {
   "cell_type": "code",
   "execution_count": null,
   "metadata": {
    "collapsed": true
   },
   "outputs": [],
   "source": [
    "compare_two_avg_trial(avg_lshuf, avg_rshuf, labels = ('Left', 'Right'))"
   ]
  },
  {
   "cell_type": "code",
   "execution_count": null,
   "metadata": {
    "collapsed": true
   },
   "outputs": [],
   "source": [
    "compare_two_avg_trial(avg_lblock, avg_rblock, labels = ('Left', 'Right'))"
   ]
  },
  {
   "cell_type": "code",
   "execution_count": null,
   "metadata": {
    "collapsed": true
   },
   "outputs": [],
   "source": [
    "lr_fshuf = np.array([np.array(bi) for bi in fast_shuffled])\n",
    "avg_lfshuf = np.mean(lr_fshuf[0], axis=1)\n",
    "avg_rfshuf = np.mean(lr_fshuf[1], axis=1)"
   ]
  },
  {
   "cell_type": "code",
   "execution_count": null,
   "metadata": {
    "collapsed": true
   },
   "outputs": [],
   "source": [
    "compare_two_avg_trial(avg_lfshuf, avg_rfshuf, labels = ('Left', 'Right'))"
   ]
  },
  {
   "cell_type": "code",
   "execution_count": null,
   "metadata": {
    "collapsed": true
   },
   "outputs": [],
   "source": [
    "lr_sshuf = np.array([np.array(bi) for bi in slow_shuffled])\n",
    "avg_lsshuf = np.mean(lr_sshuf[0], axis=1)\n",
    "avg_rsshuf = np.mean(lr_sshuf[1], axis=1)"
   ]
  },
  {
   "cell_type": "code",
   "execution_count": null,
   "metadata": {
    "collapsed": true
   },
   "outputs": [],
   "source": [
    "compare_two_avg_trial(avg_lsshuf, avg_rsshuf, labels = ('Left', 'Right'))"
   ]
  },
  {
   "cell_type": "code",
   "execution_count": null,
   "metadata": {
    "collapsed": true
   },
   "outputs": [],
   "source": [
    "lr_fblock = np.array([np.array(bi) for bi in fast_blocked])\n",
    "avg_lfblock = np.mean(lr_fblock[0], axis=1)\n",
    "avg_rfblock = np.mean(lr_fblock[1], axis=1)"
   ]
  },
  {
   "cell_type": "code",
   "execution_count": null,
   "metadata": {
    "collapsed": true
   },
   "outputs": [],
   "source": [
    "compare_two_avg_trial(avg_lfblock, avg_rfblock, labels = ('Left', 'Right'), loc=1)"
   ]
  },
  {
   "cell_type": "code",
   "execution_count": null,
   "metadata": {
    "collapsed": true
   },
   "outputs": [],
   "source": [
    "lr_sblock = np.array([np.array(bi) for bi in slow_blocked])\n",
    "avg_lsblock = np.mean(lr_sblock[0], axis=1)\n",
    "avg_rsblock = np.mean(lr_sblock[1], axis=1)"
   ]
  },
  {
   "cell_type": "code",
   "execution_count": null,
   "metadata": {
    "collapsed": true
   },
   "outputs": [],
   "source": [
    "compare_two_avg_trial(avg_lsblock, avg_rsblock, labels = ('Left', 'Right'), loc=5)"
   ]
  },
  {
   "cell_type": "code",
   "execution_count": null,
   "metadata": {
    "collapsed": true
   },
   "outputs": [],
   "source": [
    "compare_two_avg_trial(avg_lfblock, avg_rfblock, labels = ('Left', 'Right'), loc=1)"
   ]
  },
  {
   "cell_type": "code",
   "execution_count": null,
   "metadata": {
    "collapsed": true
   },
   "outputs": [],
   "source": [
    "compare_two_avg_trial(avg_lfblock, avg_lsblock, labels = ('fast', 'slow'), loc=1)"
   ]
  },
  {
   "cell_type": "code",
   "execution_count": null,
   "metadata": {
    "collapsed": true
   },
   "outputs": [],
   "source": [
    "compare_two_avg_trial(avg_rfblock, avg_rsblock, labels = ('fast', 'slow'), loc=1)"
   ]
  },
  {
   "cell_type": "code",
   "execution_count": null,
   "metadata": {
    "collapsed": true
   },
   "outputs": [],
   "source": [
    "compare_two_avg_trial(avg_lfblock, avg_rfblock, labels = ('Left', 'Right'), loc=4)"
   ]
  },
  {
   "cell_type": "code",
   "execution_count": null,
   "metadata": {
    "collapsed": true,
    "scrolled": true
   },
   "outputs": [],
   "source": [
    "lr_swarmplot(shuffled, title =\"Left vs Right Average Discriminability in the Shuffled Condition\")\n",
    "lr_slope_swarmplot(shuffled, title =\"Left vs Right Delta Discriminability in the Shuffled Condition\")"
   ]
  },
  {
   "cell_type": "code",
   "execution_count": null,
   "metadata": {
    "collapsed": true,
    "scrolled": false
   },
   "outputs": [],
   "source": [
    "lr_swarmplot(blocked, title =\"Left vs Right Average Discriminability in the Blocked Conditon\")\n",
    "lr_slope_swarmplot(blocked, title =\"Left vs Right Delta Discriminability in the Blocked Conditon\")"
   ]
  },
  {
   "cell_type": "code",
   "execution_count": null,
   "metadata": {
    "collapsed": true
   },
   "outputs": [],
   "source": [
    "compare_two_avg_trial(blocked[0], blocked[1], labels = ('Left', 'Right'), title = 'Average Trials of Left and Right Electrodes in the Shuffled Condition')"
   ]
  },
  {
   "cell_type": "code",
   "execution_count": null,
   "metadata": {
    "collapsed": true
   },
   "outputs": [],
   "source": [
    "blocked"
   ]
  },
  {
   "cell_type": "code",
   "execution_count": null,
   "metadata": {
    "collapsed": true
   },
   "outputs": [],
   "source": [
    "np.median(xl.adr)"
   ]
  },
  {
   "cell_type": "code",
   "execution_count": null,
   "metadata": {
    "collapsed": true
   },
   "outputs": [],
   "source": [
    "fast_shuffled = l_r_decoding_acc(split_shuffled[1:], get_responding_xl(xl[xl.adr < np.median(xl.adr)]))\n",
    "fast_blocked = l_r_decoding_acc(split_blocked[1:], get_responding_xl(xl[xl.adr < np.median(xl.adr)]))\n",
    "slow_shuffled = l_r_decoding_acc(split_shuffled[1:], get_responding_xl(xl[xl.adr > np.median(xl.adr)]))\n",
    "slow_blocked = l_r_decoding_acc(split_blocked[1:], get_responding_xl(xl[xl.adr > np.median(xl.adr)]))"
   ]
  },
  {
   "cell_type": "code",
   "execution_count": null,
   "metadata": {
    "collapsed": true
   },
   "outputs": [],
   "source": []
  },
  {
   "cell_type": "code",
   "execution_count": null,
   "metadata": {
    "collapsed": true
   },
   "outputs": [],
   "source": [
    "lr_boxplot(fast_shuffled, title = \"Left vs Right Average Adaptation Rate in Fast Adaptating Electrodes in Shuffled Condition\")\n",
    "lr_boxplot(slow_shuffled, title = \"Left vs Right Average Adaptation Rate in Slow Adaptating Electrodes in Shuffled Condition\")"
   ]
  },
  {
   "cell_type": "code",
   "execution_count": null,
   "metadata": {
    "collapsed": true
   },
   "outputs": [],
   "source": [
    "lr_slope_swarmplot(fast_shuffled, title = \"Left vs Right Delta Adaptation Rate in Fast Adaptating Electrodes in Shuffled Condition\")\n",
    "lr_slope_swarmplot(slow_shuffled, title = \"Left vs Right Delta Adaptation Rate in Slow Adaptating Electrodes in Shuffled Condition\")"
   ]
  },
  {
   "cell_type": "code",
   "execution_count": null,
   "metadata": {
    "collapsed": true
   },
   "outputs": [],
   "source": [
    "sst.ttest_ind(np.mean(np.mean(fast_shuffled[0], axis=1), axis=0),np.mean(np.mean(fast_shuffled[1], axis=1), axis=0), equal_var=False)"
   ]
  },
  {
   "cell_type": "code",
   "execution_count": null,
   "metadata": {
    "collapsed": true
   },
   "outputs": [],
   "source": [
    "np.mean(sst.ttest_ind(fast_shuffled[0], fast_shuffled[1], axis=0)[1])"
   ]
  },
  {
   "cell_type": "code",
   "execution_count": null,
   "metadata": {
    "collapsed": true
   },
   "outputs": [],
   "source": [
    "len(fast_shuffled[0])"
   ]
  },
  {
   "cell_type": "code",
   "execution_count": null,
   "metadata": {
    "collapsed": true
   },
   "outputs": [],
   "source": [
    "lr_boxplot(fast_shuffled, \"Fast Shuffled Average Decoding Accuracy\")\n",
    "lr_boxplot(slow_shuffled, \"Slow Shuffled Average Decoding Accuracy\")"
   ]
  },
  {
   "cell_type": "code",
   "execution_count": null,
   "metadata": {
    "collapsed": true
   },
   "outputs": [],
   "source": []
  },
  {
   "cell_type": "code",
   "execution_count": null,
   "metadata": {
    "collapsed": true,
    "scrolled": true
   },
   "outputs": [],
   "source": [
    "lr_boxplot(fast_blocked, title = \"Fast Blocked Average Decoding Accuracy\")\n",
    "lr_boxplot(slow_blocked, title = \"Slow Blocked Average Decoding Accuracy\")"
   ]
  },
  {
   "cell_type": "code",
   "execution_count": null,
   "metadata": {
    "collapsed": true
   },
   "outputs": [],
   "source": [
    "# Comparing ad rate to decoding acc"
   ]
  },
  {
   "cell_type": "code",
   "execution_count": null,
   "metadata": {
    "collapsed": true
   },
   "outputs": [],
   "source": [
    "lat_pred = np.array([np.asarray(bi) for bi in lat_final])"
   ]
  },
  {
   "cell_type": "code",
   "execution_count": null,
   "metadata": {
    "collapsed": true
   },
   "outputs": [],
   "source": [
    "lat_plot(np.mean(lat_pred, axis=1), lat[1:])"
   ]
  },
  {
   "cell_type": "code",
   "execution_count": null,
   "metadata": {
    "collapsed": true
   },
   "outputs": [],
   "source": [
    "fast_bird = []\n",
    "for bird in lat_pred:\n",
    "    fast_bird.append(np.asarray(bird[1]))\n",
    "fast_bird = np.asarray(fast_bird)"
   ]
  },
  {
   "cell_type": "code",
   "execution_count": null,
   "metadata": {
    "collapsed": true
   },
   "outputs": [],
   "source": [
    "lat_plot(lat_shuf, lat[1:])"
   ]
  },
  {
   "cell_type": "code",
   "execution_count": null,
   "metadata": {
    "collapsed": true
   },
   "outputs": [],
   "source": [
    "np.asarray(lat_pred[0][0]).shape"
   ]
  },
  {
   "cell_type": "code",
   "execution_count": null,
   "metadata": {
    "collapsed": true
   },
   "outputs": [],
   "source": [
    "compare_two_avg_trial(avg_fshuf, avg_fblock, labels = ('Fast Adapting Shuffled Sites', 'Fast Adapting Blocked Sites'), title = \"Fast Adapting Sites in the\\n Blocked and Shuffled Conditions\")"
   ]
  },
  {
   "cell_type": "code",
   "execution_count": null,
   "metadata": {
    "collapsed": true
   },
   "outputs": [],
   "source": [
    "compare_two_avg_trial(avg_fblock, avg_sblock, labels = ('Fast Adapting Blocked Sites (r^2 = 0.714, p = 1.756e-10)', 'Slow Adapting Blocked Sites (r^2 = 0.153, p = 0.020)'), title = \"Fast and Slow Adapting Sites in the\\n Blocked Condition\")"
   ]
  },
  {
   "cell_type": "code",
   "execution_count": null,
   "metadata": {
    "collapsed": true
   },
   "outputs": [],
   "source": [
    "compare_two_avg_trial(avg_fblock, avg_sblock, labels = ('Fast Adapting Blocked Sites (r^2 = 0.714, p = 1.756e-10)', 'Slow Adapting Blocked Sites (r^2 = 0.153, p = 0.020)'), title = \"Fast and Slow Adapting Sites in the\\n Blocked Condition\")"
   ]
  },
  {
   "cell_type": "code",
   "execution_count": null,
   "metadata": {
    "collapsed": true
   },
   "outputs": [],
   "source": []
  }
 ],
 "metadata": {
  "kernelspec": {
   "display_name": "Python 2",
   "language": "python",
   "name": "python2"
  },
  "language_info": {
   "codemirror_mode": {
    "name": "ipython",
    "version": 2
   },
   "file_extension": ".py",
   "mimetype": "text/x-python",
   "name": "python",
   "nbconvert_exporter": "python",
   "pygments_lexer": "ipython2",
   "version": "2.7.15"
  }
 },
 "nbformat": 4,
 "nbformat_minor": 2
}
