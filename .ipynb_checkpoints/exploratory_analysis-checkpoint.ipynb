{
 "cells": [
  {
   "cell_type": "markdown",
   "metadata": {},
   "source": [
    "### Things to do\n",
    "\n",
    "- Filter nonresponding electrodes\n",
    "    - Make sure method works properly\n",
    "- Update adaptation rate method\n",
    "- Analyze blocked and shuffled data in NCM and Field L\n",
    "    - Check if there is a difference between NCM and Field L\n",
    "    - Determine if there is a loss of decoding accuracy accross stimulus repetition\n",
    "    - Hemispheric differences?\n",
    "    - Analyze single unit data in a similar fashion\n",
    "    - Figure out why part of shuffled data appears to be corrupted\n",
    "- Analyze contrast data\n",
    "    - Compare decoding accuracy between first and second half of presentations"
   ]
  },
  {
   "cell_type": "code",
   "execution_count": 15,
   "metadata": {},
   "outputs": [],
   "source": [
    "import mdlab as mdl\n",
    "import dnlab as dnl\n",
    "import numpy as np\n",
    "import matplotlib.pylab as plt\n",
    "import seaborn as sns\n",
    "import scipy.stats as sst\n",
    "import pdb"
   ]
  },
  {
   "cell_type": "code",
   "execution_count": 5,
   "metadata": {},
   "outputs": [],
   "source": [
    "frcc=mdl.FRCC()\n",
    "trailing_type = frcc.trailing_type\n",
    "trailing_param = frcc.get_trailing_param(trailing_type)\n",
    "stats_test = frcc.stats_test"
   ]
  },
  {
   "cell_type": "code",
   "execution_count": 6,
   "metadata": {},
   "outputs": [],
   "source": [
    "header, spikes = mdl.load_npz_data(\"D:\\\\2019_Human_Speech\\\\ncm\\\\blocked\\\\hv_blocked.npz\", False)\n",
    "block = mdl.SpikeData(header, spikes)\n",
    "mua_block=block.mua_or_sua(\"mua\")\n",
    "sep_mua_block = dnl.separate_npz_data(mua_block)"
   ]
  },
  {
   "cell_type": "code",
   "execution_count": 7,
   "metadata": {},
   "outputs": [],
   "source": [
    "def site_check(site_data, frcc=frcc):\n",
    "    trailing_type = frcc.trailing_type\n",
    "    trailing_param = frcc.get_trailing_param(trailing_type)\n",
    "    p_values = []\n",
    "    for stim in site_data.stim:\n",
    "        stim_data = site_data.get_kw_SpikeData(stim = stim)\n",
    "        baseline = stim_data.firing_rates(trailing_type, trailing_param, fr_type = 0)\n",
    "        stimulus = stim_data.firing_rates(trailing_type, trailing_param, fr_type = 1)\n",
    "        #statistics, p_value = sst.wilcoxon(baseline, stimulus)\n",
    "        statistics, p_value = sst.ttest_rel(baseline, stimulus)\n",
    "        #print baseline.shape\n",
    "        p_values.append(p_value)\n",
    "    return np.asarray(p_values)"
   ]
  },
  {
   "cell_type": "code",
   "execution_count": 8,
   "metadata": {},
   "outputs": [],
   "source": [
    "# loop through spike data\n",
    "# loop through electrodes\n",
    "# check if electrode is responding\n",
    "# if responding, add header and spike\n",
    "# combine at the end\n",
    "def res_filter(split_data, p_value= 0.05):\n",
    "    # to prevent enormous amount of warnings\n",
    "    import warnings; warnings.simplefilter('ignore')\n",
    "    res_split_data = []\n",
    "    for spike_data in split_data:\n",
    "        res_ele = []\n",
    "        for ele in spike_data.electrodes:\n",
    "            ele_spike_data = spike_data.get_kw_SpikeData(electrode=ele)\n",
    "            respond = ele_spike_data.res_check()\n",
    "            if respond[\"res\"][0] < p_value:\n",
    "                res_ele.append(ele)\n",
    "        res_data = spike_data.get_kw_SpikeData(electrode = res_ele)\n",
    "        res_split_data.append(res_data)\n",
    "    return res_split_data"
   ]
  },
  {
   "cell_type": "code",
   "execution_count": 208,
   "metadata": {},
   "outputs": [],
   "source": [
    "# loop through spike data\n",
    "# loop through electrodes\n",
    "# check if electrode is responding\n",
    "# if responding, add header and spike\n",
    "# combine at the end\n",
    "def res_filter2(split_data, p_value= 0.05):\n",
    "    # to prevent enormous amount of warnings\n",
    "    import warnings; warnings.simplefilter('ignore')\n",
    "    res_split_data = []\n",
    "    for spike_data in split_data:\n",
    "        res_ele = []\n",
    "        for ele in spike_data.electrodes:\n",
    "            ele_spike_data = spike_data.get_kw_SpikeData(electrode=ele)\n",
    "            respond = ele_spike_data.site_stats()\n",
    "            if len(respond[respond[\"p\"] < 0.05]) != 0:\n",
    "                res_ele.append(ele)\n",
    "        res_data = spike_data.get_kw_SpikeData(electrode = res_ele)\n",
    "        res_split_data.append(res_data)\n",
    "    return res_split_data"
   ]
  },
  {
   "cell_type": "code",
   "execution_count": 245,
   "metadata": {},
   "outputs": [],
   "source": [
    "# loop through spike data\n",
    "# loop through electrodes\n",
    "# check if electrode is responding\n",
    "# if responding, add header and spike\n",
    "# combine at the end\n",
    "def res_filter(split_data, p_value= 0.05):\n",
    "    # to prevent enormous amount of warnings\n",
    "    import warnings; warnings.simplefilter('ignore')\n",
    "    res_split_data = []\n",
    "    for spike_data in split_data:\n",
    "        res_ele = []\n",
    "        for ele in spike_data.electrodes:\n",
    "            ele_spike_data = spike_data.get_kw_SpikeData(electrode=ele)\n",
    "            respond = site_check(ele_spike_data)\n",
    "            r = respond < p_value\n",
    "            if np.any(r) and not np.any(np.isnan((respond))):\n",
    "                res_ele.append(ele)\n",
    "        res_data = spike_data.get_kw_SpikeData(electrode = res_ele)\n",
    "        res_split_data.append(res_data)\n",
    "    return res_split_data"
   ]
  },
  {
   "cell_type": "code",
   "execution_count": null,
   "metadata": {},
   "outputs": [],
   "source": [
    "n =4\n",
    "for ele in sep_mua_block[n].electrodes:\n",
    "    ele_data = sep_mua_block[n].get_kw_SpikeData(electrode = ele)\n",
    "    print mdl.birdid2str(ele_data.birdid[0])\n",
    "    print ele\n",
    "    if ele in pls5[n].electrodes:\n",
    "        print \"Responding\"\n",
    "    else:\n",
    "        print \"Not Responding\"\n",
    "    mdl.raster_plot(ele_data.spikes)\n",
    "    plt.show()"
   ]
  },
  {
   "cell_type": "code",
   "execution_count": null,
   "metadata": {},
   "outputs": [],
   "source": [
    "# loop through spike data\n",
    "# loop through electrodes\n",
    "# check if electrode is responding\n",
    "# if responding, add header and spike\n",
    "# combine at the end\n",
    "def res_filter(split_data, p_value= 0.05):\n",
    "    #res_test = pd.DataFrame(columns=['birdid', 'electrode', 'Z'])\n",
    "    res_header = pd.DataFrame()\n",
    "    res_spikes = []\n",
    "    res_split_data = []\n",
    "    for spike_data in split_data:\n",
    "        for ele in spike_data.electrodes:\n",
    "            ele_spike_data = spike_data.get_kw_SpikeData(electrode=ele)\n",
    "            respond = ele_spike_data.res_check()\n",
    "            if respond[\"res\"][0] < p_value:\n",
    "                res_spikes.append(ele_spike_data.spikes)\n",
    "                res_header = res_header.append(ele_spike_data.header)\n",
    "        #return res_logidx\n",
    "        res_spikes = np.vstack(res_spikes).tolist()\n",
    "        #return res_header\n",
    "        new_spike_data = mdl.SpikeData(res_header, np.asarray(res_spikes))\n",
    "        res_split_data.append(new_spike_data)\n",
    "    return res_split_data"
   ]
  },
  {
   "cell_type": "code",
   "execution_count": 26,
   "metadata": {},
   "outputs": [],
   "source": [
    "# calculates average adaptation rates for each site from trials 5-25 in a SpikeData (or BinnedData)\n",
    "def get_adaptation_rate(SpikeData):\n",
    "    adaptation_rates={}\n",
    "    ele_arr=np.unique(SpikeData.header.electrode)\n",
    "    stim_arr = np.unique(SpikeData.stim)\n",
    "    for i in ele_arr:\n",
    "        ele_data=SpikeData.get_kw_SpikeData(electrode=i)\n",
    "        ele_rates=[]\n",
    "        for j in stim_arr:\n",
    "            stim_data=ele_data.get_kw_SpikeData(stim=j)\n",
    "            fr=stim_data.firing_rates(trailing_type, trailing_param, fr_type = 2)\n",
    "            ar=mdl.adaptation_rate(fr, robust=True)\n",
    "            ele_rates.append(ar)\n",
    "        adaptation_rates[i]=np.mean(ele_rates)\n",
    "    return adaptation_rates"
   ]
  },
  {
   "cell_type": "code",
   "execution_count": 44,
   "metadata": {},
   "outputs": [
    {
     "data": {
      "text/plain": [
       "array([34. , 32.8, 20. , ..., 45.6, 53. , 60.2])"
      ]
     },
     "execution_count": 44,
     "metadata": {},
     "output_type": "execute_result"
    }
   ],
   "source": [
    "x = block_data[0]\n",
    "#x.firing_rates(trailing_type, trailing_param, fr_type = 1).shape[0]*x.resolution\n",
    "mdl.spikes2fr(x.spikes, [1,7])"
   ]
  },
  {
   "cell_type": "code",
   "execution_count": null,
   "metadata": {},
   "outputs": [],
   "source": []
  },
  {
   "cell_type": "code",
   "execution_count": 30,
   "metadata": {},
   "outputs": [
    {
     "data": {
      "text/plain": [
       "0.0005"
      ]
     },
     "execution_count": 30,
     "metadata": {},
     "output_type": "execute_result"
    }
   ],
   "source": [
    "x.resolution"
   ]
  },
  {
   "cell_type": "code",
   "execution_count": 27,
   "metadata": {},
   "outputs": [
    {
     "data": {
      "text/plain": [
       "{100: -0.020602258603770292,\n",
       " 200: 0.0018010981806426572,\n",
       " 300: -0.010472660017883256,\n",
       " 400: -0.013083518334613206,\n",
       " 500: -0.015405299209920037,\n",
       " 600: -0.030506397324437776,\n",
       " 700: -0.011357071038941789,\n",
       " 800: -0.019776646369996584,\n",
       " 900: -0.005979600046881193,\n",
       " 1000: 0.05178547349430644,\n",
       " 1300: -0.041660391096171825,\n",
       " 1400: -0.05030285132942098,\n",
       " 1700: -0.006448092499049577,\n",
       " 1800: -0.0022868425138634573,\n",
       " 1900: -0.0006452682893519819,\n",
       " 2000: -0.0006346779066193215,\n",
       " 2100: -0.004665835857810202,\n",
       " 2200: -0.0024051783959003546,\n",
       " 2300: -0.0018489610394414617,\n",
       " 2400: -0.001056650357243618,\n",
       " 2500: -0.010359513043961599,\n",
       " 2600: -0.0037514942797218283,\n",
       " 2700: -0.0030012877997760666,\n",
       " 2900: 0.04890877098600693,\n",
       " 3000: -0.029058018790990174,\n",
       " 3100: -0.005335917763583881}"
      ]
     },
     "execution_count": 27,
     "metadata": {},
     "output_type": "execute_result"
    }
   ],
   "source": [
    "get_adaptation_rate(block_data[0])"
   ]
  },
  {
   "cell_type": "code",
   "execution_count": 9,
   "metadata": {},
   "outputs": [],
   "source": [
    "block_data = dnl.res_filter(sep_mua_block)"
   ]
  },
  {
   "cell_type": "code",
   "execution_count": 23,
   "metadata": {},
   "outputs": [
    {
     "data": {
      "text/plain": [
       "(8320L,)"
      ]
     },
     "execution_count": 23,
     "metadata": {},
     "output_type": "execute_result"
    }
   ],
   "source": [
    "mdl.spikes2fr(block_data[0].spikes, [2,3])"
   ]
  },
  {
   "cell_type": "code",
   "execution_count": 21,
   "metadata": {},
   "outputs": [
    {
     "data": {
      "text/plain": [
       "(8320L, 12000L)"
      ]
     },
     "execution_count": 21,
     "metadata": {},
     "output_type": "execute_result"
    }
   ],
   "source": [
    "block_data[0].spikes.shape"
   ]
  },
  {
   "cell_type": "code",
   "execution_count": 16,
   "metadata": {},
   "outputs": [
    {
     "ename": "AttributeError",
     "evalue": "'module' object has no attribute 'firing_rate'",
     "output_type": "error",
     "traceback": [
      "\u001b[1;31m\u001b[0m",
      "\u001b[1;31mAttributeError\u001b[0mTraceback (most recent call last)",
      "\u001b[1;32m<ipython-input-16-fe1290b6ca10>\u001b[0m in \u001b[0;36m<module>\u001b[1;34m()\u001b[0m\n\u001b[1;32m----> 1\u001b[1;33m \u001b[0mblock_df\u001b[0m \u001b[1;33m=\u001b[0m \u001b[0mdnl\u001b[0m\u001b[1;33m.\u001b[0m\u001b[0mbatch_decoding_accuracy\u001b[0m\u001b[1;33m(\u001b[0m\u001b[0mblock_data\u001b[0m\u001b[1;33m)\u001b[0m\u001b[1;33m\u001b[0m\u001b[0m\n\u001b[0m",
      "\u001b[1;32mC:\\Users\\Vicario_lab\\Documents\\dnlab-master\\dnlab.py\u001b[0m in \u001b[0;36mbatch_decoding_accuracy\u001b[1;34m(split_data, n_neighbors, reps, training)\u001b[0m\n\u001b[0;32m    262\u001b[0m         \u001b[1;32mfor\u001b[0m \u001b[0mx\u001b[0m\u001b[1;33m,\u001b[0m \u001b[0mele_num\u001b[0m \u001b[1;32min\u001b[0m \u001b[0menumerate\u001b[0m\u001b[1;33m(\u001b[0m\u001b[0mele_num_arr\u001b[0m\u001b[1;33m)\u001b[0m\u001b[1;33m:\u001b[0m\u001b[1;33m\u001b[0m\u001b[0m\n\u001b[0;32m    263\u001b[0m             \u001b[0mele_spike_data\u001b[0m \u001b[1;33m=\u001b[0m \u001b[0mspike_data\u001b[0m\u001b[1;33m.\u001b[0m\u001b[0mget_kw_SpikeData\u001b[0m\u001b[1;33m(\u001b[0m\u001b[0melectrode\u001b[0m \u001b[1;33m=\u001b[0m \u001b[0mele_num\u001b[0m\u001b[1;33m)\u001b[0m\u001b[1;33m\u001b[0m\u001b[0m\n\u001b[1;32m--> 264\u001b[1;33m             \u001b[0mele_binned_data\u001b[0m \u001b[1;33m=\u001b[0m \u001b[0mSpike_to_Binned\u001b[0m\u001b[1;33m(\u001b[0m\u001b[0mele_spike_data\u001b[0m\u001b[1;33m)\u001b[0m\u001b[1;33m\u001b[0m\u001b[0m\n\u001b[0m\u001b[0;32m    265\u001b[0m             \u001b[0mdecoding_acc\u001b[0m \u001b[1;33m=\u001b[0m \u001b[0mdecoding_accuracy\u001b[0m\u001b[1;33m(\u001b[0m\u001b[0mele_binned_data\u001b[0m\u001b[1;33m,\u001b[0m \u001b[0mk\u001b[0m\u001b[1;33m=\u001b[0m\u001b[0mn_neighbors\u001b[0m\u001b[1;33m,\u001b[0m \u001b[0mrep_num\u001b[0m\u001b[1;33m=\u001b[0m\u001b[0mreps\u001b[0m\u001b[1;33m,\u001b[0m \u001b[0mtraining_prop\u001b[0m\u001b[1;33m=\u001b[0m\u001b[0mtraining\u001b[0m\u001b[1;33m)\u001b[0m\u001b[1;33m\u001b[0m\u001b[0m\n\u001b[0;32m    266\u001b[0m             \u001b[0mavg_decoding_acc\u001b[0m \u001b[1;33m=\u001b[0m \u001b[0mnp\u001b[0m\u001b[1;33m.\u001b[0m\u001b[0mmean\u001b[0m\u001b[1;33m(\u001b[0m\u001b[0mdecoding_acc\u001b[0m\u001b[1;33m)\u001b[0m\u001b[1;33m\u001b[0m\u001b[0m\n",
      "\u001b[1;32mC:\\Users\\Vicario_lab\\Documents\\dnlab-master\\dnlab.py\u001b[0m in \u001b[0;36mSpike_to_Binned\u001b[1;34m(SpikeData, step_size)\u001b[0m\n\u001b[0;32m     76\u001b[0m     \u001b[0mresolution\u001b[0m \u001b[1;33m=\u001b[0m \u001b[0mround\u001b[0m\u001b[1;33m(\u001b[0m\u001b[0mSpikeData\u001b[0m\u001b[1;33m.\u001b[0m\u001b[0mheader\u001b[0m\u001b[1;33m.\u001b[0m\u001b[0mresolution\u001b[0m\u001b[1;33m.\u001b[0m\u001b[0mmax\u001b[0m\u001b[1;33m(\u001b[0m\u001b[1;33m)\u001b[0m\u001b[1;33m,\u001b[0m\u001b[1;36m4\u001b[0m\u001b[1;33m)\u001b[0m\u001b[1;33m\u001b[0m\u001b[0m\n\u001b[0;32m     77\u001b[0m     \u001b[0mbins\u001b[0m\u001b[1;33m=\u001b[0m\u001b[0mmake_bins\u001b[0m\u001b[1;33m(\u001b[0m\u001b[0mSpikeData\u001b[0m\u001b[1;33m,\u001b[0m \u001b[0mstep_size\u001b[0m\u001b[1;33m)\u001b[0m\u001b[1;33m\u001b[0m\u001b[0m\n\u001b[1;32m---> 78\u001b[1;33m     \u001b[0madaptation_rate\u001b[0m\u001b[1;33m=\u001b[0m\u001b[0mget_adaptation_rate\u001b[0m\u001b[1;33m(\u001b[0m\u001b[0mSpikeData\u001b[0m\u001b[1;33m)\u001b[0m\u001b[1;33m\u001b[0m\u001b[0m\n\u001b[0m\u001b[0;32m     79\u001b[0m     \u001b[0mstim_adaptation_rate\u001b[0m \u001b[1;33m=\u001b[0m \u001b[0mget_stim_adaptation_rate\u001b[0m\u001b[1;33m(\u001b[0m\u001b[0mSpikeData\u001b[0m\u001b[1;33m)\u001b[0m\u001b[1;33m\u001b[0m\u001b[0m\n\u001b[0;32m     80\u001b[0m     \u001b[0mnewBinnedData\u001b[0m\u001b[1;33m=\u001b[0m\u001b[0mBinnedData\u001b[0m\u001b[1;33m(\u001b[0m\u001b[0mSpikeData\u001b[0m\u001b[1;33m.\u001b[0m\u001b[0mheader\u001b[0m\u001b[1;33m,\u001b[0m \u001b[0mSpikeData\u001b[0m\u001b[1;33m.\u001b[0m\u001b[0mspikes\u001b[0m\u001b[1;33m,\u001b[0m \u001b[0mbins\u001b[0m\u001b[1;33m,\u001b[0m \u001b[0madaptation_rate\u001b[0m\u001b[1;33m,\u001b[0m \u001b[0mstim_adaptation_rate\u001b[0m\u001b[1;33m)\u001b[0m\u001b[1;33m\u001b[0m\u001b[0m\n",
      "\u001b[1;32mC:\\Users\\Vicario_lab\\Documents\\dnlab-master\\dnlab.py\u001b[0m in \u001b[0;36mget_adaptation_rate\u001b[1;34m(SpikeData)\u001b[0m\n\u001b[0;32m    116\u001b[0m         \u001b[1;32mfor\u001b[0m \u001b[0mj\u001b[0m \u001b[1;32min\u001b[0m \u001b[0mstim_arr\u001b[0m\u001b[1;33m:\u001b[0m\u001b[1;33m\u001b[0m\u001b[0m\n\u001b[0;32m    117\u001b[0m             \u001b[0mstim_data\u001b[0m\u001b[1;33m=\u001b[0m\u001b[0mele_data\u001b[0m\u001b[1;33m.\u001b[0m\u001b[0mget_kw_SpikeData\u001b[0m\u001b[1;33m(\u001b[0m\u001b[0mstim\u001b[0m\u001b[1;33m=\u001b[0m\u001b[0mj\u001b[0m\u001b[1;33m)\u001b[0m\u001b[1;33m\u001b[0m\u001b[0m\n\u001b[1;32m--> 118\u001b[1;33m             \u001b[0mfr\u001b[0m\u001b[1;33m=\u001b[0m\u001b[0mstim_data\u001b[0m\u001b[1;33m.\u001b[0m\u001b[0mfiring_rates\u001b[0m\u001b[1;33m(\u001b[0m\u001b[0mtrailing_type\u001b[0m\u001b[1;33m,\u001b[0m \u001b[0mtrailing_param\u001b[0m\u001b[1;33m,\u001b[0m \u001b[0mfr_type\u001b[0m \u001b[1;33m=\u001b[0m \u001b[1;36m2\u001b[0m\u001b[1;33m)\u001b[0m\u001b[1;33m\u001b[0m\u001b[0m\n\u001b[0m\u001b[0;32m    119\u001b[0m             \u001b[0mar\u001b[0m\u001b[1;33m=\u001b[0m\u001b[0mmdl\u001b[0m\u001b[1;33m.\u001b[0m\u001b[0mrobust_adaptation_rate\u001b[0m\u001b[1;33m(\u001b[0m\u001b[0mfr\u001b[0m\u001b[1;33m[\u001b[0m\u001b[1;36m5\u001b[0m\u001b[1;33m:\u001b[0m\u001b[1;36m26\u001b[0m\u001b[1;33m]\u001b[0m\u001b[1;33m)\u001b[0m\u001b[1;33m\u001b[0m\u001b[0m\n\u001b[0;32m    120\u001b[0m             \u001b[0mele_rates\u001b[0m\u001b[1;33m.\u001b[0m\u001b[0mappend\u001b[0m\u001b[1;33m(\u001b[0m\u001b[0mar\u001b[0m\u001b[1;33m)\u001b[0m\u001b[1;33m\u001b[0m\u001b[0m\n",
      "\u001b[1;31mAttributeError\u001b[0m: 'module' object has no attribute 'firing_rate'"
     ]
    }
   ],
   "source": [
    "block_df = dnl.batch_decoding_accuracy(block_data)"
   ]
  },
  {
   "cell_type": "code",
   "execution_count": null,
   "metadata": {},
   "outputs": [],
   "source": []
  }
 ],
 "metadata": {
  "kernelspec": {
   "display_name": "Python 2",
   "language": "python",
   "name": "python2"
  },
  "language_info": {
   "codemirror_mode": {
    "name": "ipython",
    "version": 2
   },
   "file_extension": ".py",
   "mimetype": "text/x-python",
   "name": "python",
   "nbconvert_exporter": "python",
   "pygments_lexer": "ipython2",
   "version": "2.7.16"
  }
 },
 "nbformat": 4,
 "nbformat_minor": 2
}
